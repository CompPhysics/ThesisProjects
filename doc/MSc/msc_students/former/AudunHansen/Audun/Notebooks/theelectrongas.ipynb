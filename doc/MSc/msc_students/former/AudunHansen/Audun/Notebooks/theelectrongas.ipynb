{
 "metadata": {
  "name": "theelectrongas.ipynb"
 },
 "nbformat": 3,
 "nbformat_minor": 0,
 "worksheets": [
  {
   "cells": [
    {
     "cell_type": "markdown",
     "metadata": {},
     "source": [
      "#The electron gas\n",
      "\n",
      "A fermi gas is a system where a large, possibly infinite, number of fermions occupy a space. The interaction between the fermions may range from none, as in the case of the ideal fermi gas, to a fully interacting gas.\n",
      "\n",
      "A special case of the fermi gas is the homogenous electron gas. This will be our first subject of study. In this case we have an infinite number of uniformly distributed electrons, interacting with each other through coulomb repulsion. The system as a whole has a net zero overall charge, since the charge of the electrons is cancelled by a uniformly distributed positive background charge.\n",
      "\n"
     ]
    },
    {
     "cell_type": "markdown",
     "metadata": {},
     "source": [
      "##The hamiltonian\n",
      "\n",
      "The hamiltonian of the system will need to account for the kinetic energy of the electrons, $\\hat{H}_{kin}$, the coulomb repulsion between the electrons, $\\hat{H}_{ee}$, the coulomb attraction between the electrons and the background charge $\\hat{H}_{eb}$, and the interaction between the constituents of the background charge $\\hat{H}_{bb}$:\n",
      "\n",
      "$$ \\hat{H} = \\hat{H}_{kin} +\\hat{H}_{ee} +\\hat{H}_{eb}+\\hat{H}_{bb}$$"
     ]
    },
    {
     "cell_type": "markdown",
     "metadata": {},
     "source": [
      "#Periodicity\n",
      "\n",
      "We will approximate this system by a infinite number of finite cubes. In each cube we have an identical set of wavefunctions (particle-in-box solutions), and by periodically repeating the same cube over the whole space and allowing for interactions between the particle and its repeated representation in all other cubes, we approximate an infinite gas.\n",
      "\n",
      "In this context, we may \n",
      "\n"
     ]
    },
    {
     "cell_type": "code",
     "collapsed": false,
     "input": [],
     "language": "python",
     "metadata": {},
     "outputs": []
    }
   ],
   "metadata": {}
  }
 ]
}