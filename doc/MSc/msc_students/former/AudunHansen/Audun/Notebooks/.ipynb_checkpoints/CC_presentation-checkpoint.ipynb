{
 "metadata": {
  "name": "CC_presentation.ipynb"
 },
 "nbformat": 3,
 "nbformat_minor": 0,
 "worksheets": [
  {
   "cells": [
    {
     "cell_type": "code",
     "collapsed": false,
     "input": [
      "from IPython.display import display, Math, Latex, Image, HTML\n",
      "%matplotlib inline  \n",
      "\n",
      "from numpy import *\n",
      "from itertools import *\n",
      "from matplotlib.pyplot import *\n",
      "from copy import copy\n",
      "\n",
      "class Combiner():\n",
      "    #Normal ordered operator for cluster algebra (diagrammatic)\n",
      "    def __init__(self, H, T):       \n",
      "        self.q_a = H\n",
      "        self.I = []\n",
      "        HN = len(self.q_a)\n",
      "        self.combine(H,T)\n",
      "        \n",
      "    def combine(self, H, ops, excitation = None):\n",
      "        #Assosciate a list of T-operators (ops) to the current operator instance    \n",
      "        #Find all possible ways to combine the operators using self.distinct_combinations() \n",
      "        T = []\n",
      "        for i in ops:\n",
      "            T.append(i)\n",
      "\n",
      "        self.T_operator = T\n",
      "        \n",
      "        #Finding acceptable combinations of internal contractions between the operators\n",
      "        self.I = self.distinct_combinations(self.q_a, T)\n",
      "               \n",
      "    def distinct_combinations(self,H,T):\n",
      "        #Returns all possible combinations of H and T\n",
      "        #I - all q-particle annihilation operators\n",
      "        #T list of list with T operators. ex. [[-1,1],[-1,1]]  = T_1 T_1\n",
      "       lenH  = len(H)\n",
      "       lenT  = len(T)\n",
      "       lenTi = []\n",
      "       for i in range(lenT):\n",
      "           lenTi.append(len(T[i]))\n",
      "       #H+=[0 for i in range(lenT-1)] #adding zeros to denote separations in the cluster-operators\n",
      "\n",
      "       H2 = []\n",
      "       for i in H:\n",
      "           H2.append(i)\n",
      "       H2 += [0 for i in range(lenT-1)] #adding zeros to denote separations in the cluster-operators\n",
      "\n",
      "       #Creating countlist for T-operator to keep track of q-operators in each cluster operator\n",
      "       T_budget = self.itemcount(T)\n",
      "       \n",
      "       \n",
      "       #Create all permutations\n",
      "       H_permuted = permutations(H2)\n",
      "       \n",
      "       #Sort out indistinct diagrams and cancelling terms\n",
      "       excluded = []\n",
      "       excluded_budgets = []\n",
      "       accepted = []\n",
      "       for i in H_permuted:\n",
      "           if self.acceptable(i, T, excluded, excluded_budgets):\n",
      "               #print \"Accepted\"\n",
      "               accepted.append(self.splitlist(i,0))       \n",
      "       self.combined = accepted\n",
      "               \n",
      "           \n",
      "       return accepted\n",
      "       #def evaluate_q_c_total(self):\n",
      "                \n",
      "    def assess_excitation(self):\n",
      "        #Assess current excitation level (also if combined operator)\n",
      "        self.E = self.q_c.count(-1) + self.q_c.count(1) - (self.q_a.count(1) + self.q_a.count(-1))\n",
      "        for i in range(len(self.T_operator)):\n",
      "            self.E += self.T_operator[i].count(1) + self.T_operator[i].count(-1) \n",
      "        #fill in contracted elements\n",
      "        self.E/= 2.0\n",
      "    def scan_extract(L, e):\n",
      "        #Exctract element e from list L\n",
      "        ret = None\n",
      "        for i in range(len(L)):\n",
      "            if L[i] == e:\n",
      "                L = delete(L, i)\n",
      "                ret = e\n",
      "    def nloops(self,x,y):\n",
      "        #returns number of loops in budget\n",
      "        return (x+y - abs(x-y))//2\n",
      "    \n",
      "  \n",
      "    def nozeroedges(self,i):\n",
      "        #Assert that there are no borders in the endpoints of the connection pattern i\n",
      "        ret = True\n",
      "        try:\n",
      "            if i[0] == 0 or i[-1] == 0:\n",
      "                ret = False\n",
      "        except:\n",
      "            ret = False\n",
      "        return ret\n",
      "    \n",
      "    def nozerocontact(self,i):\n",
      "        #Assert that there are no neighbouring borders in the connection pattern i\n",
      "        ret = True\n",
      "        for e in range(len(i) - 1):\n",
      "            if i[e+1] == 0 and i[e] == 0:\n",
      "                ret = False\n",
      "        return ret\n",
      "    \n",
      "    def splitlist(self,L, d):\n",
      "        #Returns a split list HL from a list L into constituents, d denotes barrier\n",
      "        HL = [[]]\n",
      "        n = 0\n",
      "        for i in range(len(L)):\n",
      "            if L[i] != d:\n",
      "                HL[n].append(L[i])        \n",
      "            if L[i] == d:\n",
      "                HL.append([])\n",
      "                n += 1        \n",
      "        return HL\n",
      "    \n",
      "    def itemcount(self,T):\n",
      "        #Count number of particle- and hole lines in each constituent part of T\n",
      "        #Returns a list object of the form [[#particles, #holes], ...]\n",
      "        itemnumber = []\n",
      "        for i in range(len(T)):\n",
      "            itemnumber.append([])\n",
      "            itemnumber[i].append(T[i].count(1))  #number of q-particles\n",
      "            itemnumber[i].append(T[i].count(-1)) #number of q-holes\n",
      "        return itemnumber\n",
      "    \n",
      "    def contractable(self,L,T):\n",
      "        #Asserts that the number of contractions in each p- and hline of L does not superseed # of p-h in T \n",
      "        #input two itemcount items lists, returns bool\n",
      "        ret = True\n",
      "        for i in range(len(T)):\n",
      "            for e in range(len(T[i])):\n",
      "                if T[i][e]<L[i][e]:\n",
      "                    ret = False\n",
      "        return ret\n",
      "        \n",
      "    def find_identical(self,T):\n",
      "        #Find identical operators in the list of operators T\n",
      "        #returns a list of pairs of indices that denotes permutations that does not alter the T operator\n",
      "        identicals = []\n",
      "        for i in range(len(T)):\n",
      "            for e in range(i,len(T)):\n",
      "                if T[i] == T[e] and i!=e:\n",
      "                    identicals.append([i,e])\n",
      "        return identicals\n",
      "                    \n",
      "    def permute_elements(self,e1,e2,L):\n",
      "        #Returns a list where elements at indices e1,e2 in L is permuted\n",
      "        L_ret = []        \n",
      "        for i in L:\n",
      "            L_ret.append(i)\n",
      "        L_ret[e1] = L[e2]\n",
      "        L_ret[e2] = L[e1]\n",
      "        return L_ret\n",
      "    \n",
      "    def acceptable(self,i, T, excluded, excluded_budgets):\n",
      "        #Test if a potential connection pattern is distinct\n",
      "        #Returns bool\n",
      "        ret = False\n",
      "        identicals = self.find_identical(T)\n",
      "        T_budget   = self.itemcount(T)\n",
      "        \n",
      "        if self.nozeroedges(i) and self.nozerocontact(i):\n",
      "            I = self.splitlist(i, 0)\n",
      "            I_budget = self.itemcount(I)\n",
      "            if I_budget not in excluded_budgets:\n",
      "                excluded_budgets.append(I_budget)\n",
      "                for e in identicals:\n",
      "                    excluded_budgets.append(self.permute_elements(e[0], e[1], I_budget))\n",
      "                if self.contractable(I_budget,T_budget):\n",
      "                    if I not in excluded:\n",
      "                        excluded.append(I)\n",
      "                        for e in identicals:\n",
      "                            excluded.append(self.permute_elements(e[0], e[1], I))\n",
      "                        ret = True\n",
      "        return ret\n",
      "\n",
      "class qnode():\n",
      "    #Object for keeping track of vertices\n",
      "    def __init__(self, qa):\n",
      "        #self.pos = pos\n",
      "        self.connected = 0\n",
      "        self.qa = qa #creation or annihilation +1/-1\n",
      "        self.group = []\n",
      "    def connect(i):\n",
      "        self.connected = i\n",
      "\n",
      "class qop():\n",
      "    #a collection of vertices -- in principle an operator\n",
      "    def __init__(self,qnodes):\n",
      "        self.qnodes = qnodes\n",
      "        self.pos = [0,0]\n",
      "        self.setpos(self.pos)\n",
      "    def setpos(self, pos):\n",
      "        self.pos = pos\n",
      "        for i in range(len(self.qnodes)):\n",
      "            self.qnodes[i].qpos = self.pos[0] + i\n",
      "            \n",
      "\n",
      "class qvert():\n",
      "    #A vertex in the operator with input, output\n",
      "    def __init__(self, qin, qout):\n",
      "        self.qin = qin   #qnode in\n",
      "        self.qout = qout #qnode out\n",
      "        self.qpos = 0.0\n",
      "\n",
      "\n",
      "def qlist(o_cop):\n",
      "    O = o_cop\n",
      "    excluded = []\n",
      "    olist = []\n",
      "    for i in range(len(O)):\n",
      "        if O[i] == +1:\n",
      "            #find -1\n",
      "            for e in range(len(O)):\n",
      "                if e!=i:\n",
      "                    if O[e] == -1:\n",
      "                        if e not in excluded:\n",
      "                            if i not in excluded:\n",
      "                                excluded.append(i)\n",
      "                                excluded.append(e)\n",
      "                                olist.append(qvert(qnode(1), qnode(-1)))\n",
      "    return qop(olist)\n",
      "\n",
      "    \n",
      "def connect(H,T,I):\n",
      "    #connect H and T using I as pattern\n",
      "    #Return a mapping of the connections (a list of H-connections to T)\n",
      "    connected_H = []\n",
      "    connected_T = []    \n",
      "    map_T = []\n",
      "    map_H = []\n",
      "    for i in range(len(H)):\n",
      "        map_H.append(None)\n",
      "    for e in range(len(T)):\n",
      "        map_T.append([])\n",
      "        for u in range(len(T[e])):\n",
      "            map_T[e].append(None)\n",
      "    \n",
      "    for i in range(len(I)):\n",
      "        for e in range(len(I[i])):\n",
      "            t = I[i][e] #connect this quantity to H and T\n",
      "            scan = True\n",
      "            for e1 in range(len(T[i])):\n",
      "                if T[i][e1] == t and map_T[i][e1] == None:\n",
      "                    for i1 in range(len(H)):\n",
      "                        if H[i1] == t and map_H[i1] == None:\n",
      "                            if scan:\n",
      "                                #Perform connection\n",
      "                                map_H[i1] = [i,e1]\n",
      "                                map_T[i][e1] = i1\n",
      "                                scan = False\n",
      "    return map_T\n",
      "\n",
      "\n",
      "class Operator():\n",
      "    def __init__(self, q_a, q_c, pos = [0,0]):\n",
      "        self.q_a = q_a\n",
      "        self.q_c = q_c\n",
      "        self.internals = len(q_c)\n",
      "        self.children = []\n",
      "        self.E = self.excitation()\n",
      "        self.pos = pos\n",
      "        self.pair_up_lines()\n",
      "    def excitation(self):\n",
      "        #Evaluate operator excitation level\n",
      "        Ex = (self.q_c.count(-1) + self.q_c.count(1) - (self.q_a.count(1) + self.q_a.count(-1)))/2.0\n",
      "        for i in range(len(self.children)):\n",
      "            Ex += self.children[i].excitation()\n",
      "        return Ex\n",
      "    def adopt(self, O, I):\n",
      "        self.children = O\n",
      "        self.relation = I\n",
      "        for i in self.children:\n",
      "            i.set_pos([self.pos[0], self.pos[1]-1])\n",
      "        #for i in self.relation:\n",
      "        #    if \n",
      "        #append new child operator to this operator, include more outgoing lines, use connection pattern I\n",
      "        #C = Combiner(self.q_c, O.q_a) #This must be done externally\n",
      "        return 0\n",
      "    def get_schematic(self):\n",
      "        schema = []\n",
      "        for i in self.children:\n",
      "            schema.append(i.get_schematic())\n",
      "        #return a list of connected nodes and type of connections\n",
      "        \n",
      "    def set_pos(self, pos):\n",
      "        self.pos = pos\n",
      "        for i in self.children:\n",
      "            i.pos =[pos[0], pos[1]-1]\n",
      "    def get_c_pos(self,ci):\n",
      "        ret = None\n",
      "        if ci<self.internals:\n",
      "            for i in range(len(self.pos_group)):\n",
      "                if ci in self.pos_group[i][0]:\n",
      "                    ret = [self.pos[0]+i, self.pos[1]]\n",
      "                    break\n",
      "        else:\n",
      "            ret = 0\n",
      "            \n",
      "        return ret\n",
      "        \n",
      "    def pair_up_lines(self):\n",
      "        #Pair up ***internal*** vertices\n",
      "        p0 = 0 #Vertical position for iterations\n",
      "        #Set up a mapping\n",
      "        pos_groups = [] #Grouping 2 and 2 nodes together\n",
      "        paired = [[],[]]\n",
      "        #for i in range((len(self.q_a)+len(self.q_c))/2):\n",
      "        #    pos_groups.append([])\n",
      "        \n",
      "        #Use same principle as below (schematic) to pair them up and map them out\n",
      "        self.m_qa = []\n",
      "        self.m_qc = []\n",
      "\n",
      "        self.inout = [[],[]] #keep track of vertices in operator\n",
      "\n",
      "        for i in range(len(self.q_c)):\n",
      "            self.m_qc.append(None)\n",
      "        for i in range(len(self.q_a)):\n",
      "            self.m_qa.append(None)\n",
      "\n",
      "        \n",
      "        #identify pairs passing through the operator\n",
      "        for i in range(self.internals):\n",
      "            for e in range(len(self.q_a)):\n",
      "                if self.q_a[e] == self.q_c[i] and self.m_qc[i] == None and self.m_qa[e] == None:\n",
      "                    #paired[0].append(i)\n",
      "                    #paired[1].append(e)\n",
      "                    #pos_groups.append([[i],[e]])\n",
      "                    self.m_qc[i] = e+1\n",
      "                    self.m_qa[e] = i+1\n",
      "                    break\n",
      "                    \n",
      "        #identify pairs beneath the interaction\n",
      "        for i in range(len(self.q_a)):\n",
      "            for e in range(len(self.q_a)):\n",
      "                if i!=e and self.q_a[e] == -self.q_a[i] and self.m_qa[i] == None and self.m_qa[e] == None:\n",
      "                    self.m_qa[i] = -e-1 #negative index implies index inside self\n",
      "                    self.m_qa[e] = -i-1\n",
      "                    break\n",
      "\n",
      "\n",
      "        #identify pairs above the interaction\n",
      "        for i in range(self.internals):\n",
      "            for e in range(self.internals):\n",
      "                if i!=e and self.q_c[e] == -self.q_c[i] and self.m_qc[i] == None and self.m_qc[e] == None:\n",
      "                    self.m_qc[i] = -e-1\n",
      "                    self.m_qc[e] = -i-1\n",
      "                    break                                   \n",
      "        \n",
      "        \n",
      "\n",
      "    def get_paired_c(self, p):\n",
      "        #return the corresponding index of the line below the vertex\n",
      "        ret = None\n",
      "        for i in range(len(self.pos_group)):\n",
      "            if p in self.pos_group[i][0]:\n",
      "                ret = self.pos_group[i][1][0]\n",
      "        return ret\n",
      "\n",
      "class contracted():\n",
      "    def __init__(self, H, T, pattern):\n",
      "        self.H = H\n",
      "        self.T = T\n",
      "        self.pattern = pattern\n",
      "        \n",
      "        \n",
      "\n",
      "def contract(H,T):\n",
      "    T_q_c = []\n",
      "    for i in T:\n",
      "        i.set_pos([H.pos[0], H.pos[1]-1])\n",
      "        T_q_c.append(i.q_c)\n",
      "    C = Combiner(H.q_a,T_q_c) #Combines annihilators from H (Hqa) and creators from T (Tqc)\n",
      "    diagrams = []\n",
      "    for i in C.I:\n",
      "        diagrams.append([copy(H), copy(T), connect(H.q_a, T_q_c, i), i])\n",
      "    #Pending: optional combinations of operators (T^-1 H T) for property calculations\n",
      "    return diagrams\n",
      "\n",
      "\n",
      "class schematic():\n",
      "    def __init__(self, diagram):\n",
      "        #print \"Connection \" , diagram[2]\n",
      "        #print \"Number \", diagram[3]\n",
      "        self.H = diagram[0]            \n",
      "        self.T = diagram[1] \n",
      "        self.schema = diagram[2]\n",
      "        self.i = diagram[3]\n",
      "        \n",
      "        #later editing, remove this if faulty\n",
      "        self.convert_schema()\n",
      "    def convert_schema(self):\n",
      "        schema = self.schema\n",
      "        for i in schema:\n",
      "            n = len(i)\n",
      "            sc = i[n/2:n]\n",
      "            sc.reverse()\n",
      "            i[n/2:n] = sc\n",
      "            \n",
      "    def scan_extract(self,L, e):\n",
      "        #Exctract element e from list L\n",
      "        ret = None\n",
      "        for i in range(len(L)):\n",
      "            if L[i] == e:\n",
      "                L = delete(L, i)\n",
      "                ret = e\n",
      "    def nloops(self,x,y):\n",
      "        #returns number of loops in budget\n",
      "        return (x+y - abs(x-y))//2\n",
      "    def itemcount(self,T):\n",
      "        #Count number of particle- and hole lines in each constituent part of T\n",
      "        #Returns a list object of the form [[#particles, #holes], ...]\n",
      "        itemnumber = []\n",
      "        for i in range(len(T)):\n",
      "            itemnumber.append([])\n",
      "            itemnumber[i].append(T[i].count(1))  #number of q-particles\n",
      "            itemnumber[i].append(T[i].count(-1)) #number of q-holes\n",
      "        return itemnumber\n",
      "    \n",
      "    def contractable(self,L,T):\n",
      "        #Asserts that the number of contractions in each p- and hline of L does not superseed # of p-h in T \n",
      "        #input two itemcount items lists, returns bool\n",
      "        ret = True\n",
      "        for i in range(len(T)):\n",
      "            for e in range(len(T[i])):\n",
      "                if T[i][e]<L[i][e]:\n",
      "                    #print T[i][e],L[i][e]\n",
      "                    ret = False\n",
      "        return ret\n",
      "        \n",
      "    def find_identical(self,T):\n",
      "        #Find identical operators in the list of operators T\n",
      "        #returns a list of pairs of indices that denotes permutations that does not alter the T operator\n",
      "        identicals = []\n",
      "        for i in range(len(T)):\n",
      "            for e in range(i,len(T)):\n",
      "                if T[i] == T[e] and i!=e:\n",
      "                    identicals.append([i,e])\n",
      "        return identicals\n",
      "                    \n",
      "    def permute_elements(self,e1,e2,L):\n",
      "        #Returns a list where elements at indices e1,e2 in L is permuted\n",
      "        L_ret = []        \n",
      "        for i in L:\n",
      "            L_ret.append(i)\n",
      "        L_ret[e1] = L[e2]\n",
      "        L_ret[e2] = L[e1]\n",
      "        return L_ret\n",
      "    \n",
      "    def acceptable(self,i, T, excluded, excluded_budgets):\n",
      "        #Test if a potential connection pattern is distinct\n",
      "        #Returns bool\n",
      "        ret = False\n",
      "        identicals = self.find_identical(T)\n",
      "        T_budget   = self.itemcount(T)\n",
      "        \n",
      "        if self.nozeroedges(i) and self.nozerocontact(i):\n",
      "            I = self.splitlist(i, 0)\n",
      "            I_budget = self.itemcount(I)\n",
      "            if I_budget not in excluded_budgets:\n",
      "                excluded_budgets.append(I_budget)\n",
      "                for e in identicals:\n",
      "                    excluded_budgets.append(self.permute_elements(e[0], e[1], I_budget))\n",
      "                if self.contractable(I_budget,T_budget):\n",
      "                    if I not in excluded:\n",
      "                        excluded.append(I)\n",
      "                        for e in identicals:\n",
      "                            excluded.append(self.permute_elements(e[0], e[1], I))\n",
      "                        ret = True\n",
      "        return ret\n",
      "    def setup(self):\n",
      "        plabels_t = ['r','s','x','z','b','a'] #Target labels\n",
      "        hlabels_t = ['t','u','q', 'w', 'j','i']\n",
      "\n",
      "        plabels = ['h','g','f','e','d','c']\n",
      "        hlabels = ['p','o','n','m','l','k']\n",
      "\n",
      "                        \n",
      "        #plabels_ex =  ['h','g','f','e','d','c']\n",
      "        #hlabels_ex =  ['p','o','n','m','l','k']\n",
      "        #print \"Schema:\", self.schema\n",
      "        self.T_labels = []\n",
      "        for i in range(len(self.T)):\n",
      "            self.T_labels.append([])\n",
      "            for e in range(len(self.T[i].q_c)):\n",
      "                self.T_labels[i].append(None)\n",
      "\n",
      "        self.H_labels_c = []\n",
      "        self.H_labels_a = []        \n",
      "        for i in range(len(self.H.q_a)):\n",
      "            self.H_labels_a.append(None)\n",
      "        for i in range(len(self.H.q_c)):\n",
      "            self.H_labels_c.append(None)\n",
      "        #label all external and internal lines\n",
      "        for i in range(len(self.schema)):\n",
      "            n = len(self.schema[i])\n",
      "            for e in range(len(self.schema[i])):\n",
      "                ne = n-e-1\n",
      "                de = e\n",
      "                if self.schema[i][de] == None:\n",
      "                    if self.T[i].q_c[de] == 1:\n",
      "                        self.T_labels[i][de] = plabels_t.pop()\n",
      "                    if self.T[i].q_c[de] == -1:\n",
      "                        self.T_labels[i][de] = hlabels_t.pop()\n",
      "                \"\"\"\n",
      "                if self.schema[i][ne] == None:        \n",
      "                    if self.T[i].q_c[ne] == 1:\n",
      "                        self.T_labels[i][ne] = plabels_t.pop()\n",
      "                    if self.T[i].q_c[ne] == -1:\n",
      "                        self.T_labels[i][ne] = hlabels_t.pop()\n",
      "                \"\"\"\n",
      "                if self.schema[i][de] != None:\n",
      "                    h_index = self.schema[i][de]\n",
      "                    if self.T[i].q_c[de] == 1:\n",
      "                        particlelabel = plabels.pop()\n",
      "                        self.T_labels[i][de] = particlelabel\n",
      "                        self.H_labels_a[h_index] = particlelabel\n",
      "                        #print self.H.m_qa\n",
      "                        if self.H.m_qa[h_index] >= 0:\n",
      "                            self.H_labels_c[abs(self.H.m_qa[h_index])-1] = plabels_t.pop()\n",
      "                    if self.T[i].q_c[de] == -1:\n",
      "                        holelabel = hlabels.pop()\n",
      "                        self.T_labels[i][de] = holelabel\n",
      "                        self.H_labels_a[h_index] = holelabel\n",
      "                        if self.H.m_qa[h_index] >= 0:\n",
      "                            self.H_labels_c[abs(self.H.m_qa[h_index])-1] = hlabels_t.pop() \n",
      "                \"\"\" \n",
      "                if self.schema[i][ne] != None:\n",
      "                    h_index = self.schema[i][ne]\n",
      "                    if self.T[i].q_c[ne] == 1:\n",
      "                        particlelabel = plabels.pop()\n",
      "                        self.T_labels[i][ne] = particlelabel\n",
      "                        self.H_labels_a[h_index] = particlelabel\n",
      "                        self.H_labels_c[abs(self.H.m_qa[h_index])-1] = plabels_t.pop()\n",
      "                    if self.T[i].q_c[ne] == -1:\n",
      "                        holelabel = hlabels.pop()\n",
      "                        self.T_labels[i][ne] = holelabel\n",
      "                        self.H_labels_a[h_index] = holelabel\n",
      "                        self.H_labels_c[abs(self.H.m_qa[h_index])-1] = hlabels_t.pop() \n",
      "                \"\"\"\n",
      "                    \n",
      "        \"\"\"    \n",
      "        #label all external and internal lines\n",
      "        for i in range(len(self.schema)):\n",
      "            for e in range(len(self.schema[i])):\n",
      "                if self.schema[i][e] == None:\n",
      "                    if self.T[i].q_c[e] == 1:\n",
      "                        self.T_labels[i][e] = plabels_t.pop()\n",
      "                    if self.T[i].q_c[e] == -1:\n",
      "                        self.T_labels[i][e] = hlabels_t.pop()\n",
      "                if self.schema[i][e] != None:\n",
      "                    h_index = self.schema[i][e]\n",
      "                    if self.T[i].q_c[e] == 1:\n",
      "                        particlelabel = plabels.pop()\n",
      "                        self.T_labels[i][e] = particlelabel\n",
      "                        self.H_labels_a[h_index] = particlelabel\n",
      "                        self.H_labels_c[abs(self.H.m_qa[h_index])-1] = plabels_t.pop()\n",
      "                    if self.T[i].q_c[e] == -1:\n",
      "                        holelabel = hlabels.pop()\n",
      "                        self.T_labels[i][e] = holelabel\n",
      "                        self.H_labels_a[h_index] = holelabel\n",
      "                        self.H_labels_c[abs(self.H.m_qa[h_index])-1] = hlabels_t.pop()                    \n",
      "        \"\"\"\n",
      "        #print \"---\"\n",
      "        #print self.H_labels_c   \n",
      "        #print self.H_labels_a\n",
      "        #print self.T_labels\n",
      "        #print \"---\"\n",
      "        \"\"\"\n",
      "        #Label all external lines exiting the cluster operators (targets)\n",
      "        for i in range(len(self.schema)):\n",
      "            for e in range(len(self.schema[i])):\n",
      "                if self.schema[i][e] == None:\n",
      "                    if self.T[i].q_c[e] == 1:\n",
      "                        self.T_labels[i][e] = plabels_t.pop()\n",
      "                    if self.T[i].q_c[e] == -1:\n",
      "                        self.T_labels[i][e] = hlabels_t.pop()\n",
      "        \"\"\"\n",
      "                \n",
      "        #Ensure all external interaction lines labeled\n",
      "        for i in range(len(self.H_labels_c)):\n",
      "            if self.H_labels_c[i] == None:\n",
      "                if self.H.q_c[i] == 1:\n",
      "                    self.H_labels_c[i] = plabels_t.pop()\n",
      "                if self.H.q_c[i] == -1:\n",
      "                    self.H_labels_c[i] = hlabels_t.pop()\n",
      "                \n",
      "        \"\"\"\n",
      "        #label all internal lines\n",
      "        for i in range(len(self.schema)):\n",
      "            n = len(self.schema[i])\n",
      "            for e in range(n):\n",
      "                if self.schema[i][e] != None:\n",
      "                    #Current index is connected\n",
      "                    if self.T[i].q_c[e]==1:\n",
      "                        self.T_labels[i][e] = plabels.pop()\n",
      "                    if self.T[i].q_c[e]==-1:\n",
      "                        self.T_labels[i][e] = hlabels.pop()\n",
      "                    self.H_labels_a[self.schema[i][e]] = self.T_labels[i][e]\n",
      "        \"\"\"\n",
      "        \n",
      "        #Identify the cluster-operators\n",
      "        self.t_operators()\n",
      "        \n",
      "        #Identify the interaction operator\n",
      "        self.v_operator()\n",
      "        \n",
      "        \n",
      "        #Identify summation indices\n",
      "        self.summation = \"\"\n",
      "        for i in range(len(self.schema)):\n",
      "            for e in range(len(self.schema[i])):\n",
      "                if self.schema[i][e] != None:\n",
      "                    self.summation += self.T_labels[i][e]\n",
      "\n",
      "\n",
      "        #Connect the vertices in H_labels\n",
      "        #Identify vertices in all operators\n",
      "\n",
      "        \n",
      "        \n",
      "        \n",
      "        self.count_loops()\n",
      "        self.count_holes()\n",
      "        self.count_equivalent_l()\n",
      "        self.count_equivalent_t()\n",
      "        self.find_permutations()\n",
      "        self.calc_prefactor()\n",
      "        \n",
      "\n",
      "\n",
      "    def cancel_permutations(self):\n",
      "        return 0\n",
      "        \n",
      "        \n",
      "    def find_permutations(self):\n",
      "        #Identify name, origin and orientation of outgoing lines\n",
      "        orig = []\n",
      "        for i in range(len(self.schema)):\n",
      "            for e in range(len(self.schema[i])):\n",
      "                if self.schema[i][e] == None:\n",
      "                    orig.append([self.T_labels[i][e], self.T[i].q_c[e], \"t\"+str(i)])\n",
      "        for i in range(len(self.H.q_c)):\n",
      "            orig.append([self.H_labels_c[i], self.H.q_c[i], \"v\"])\n",
      "\n",
      "        permutes = []\n",
      "        #compare lines\n",
      "        for i in range(len(orig)):\n",
      "            for e in range(i,len(orig)):\n",
      "                if i!=e and self.ineq_external(orig[i],orig[e]):\n",
      "                    permutes.append(str(orig[i][0])+str(orig[e][0]))\n",
      "        self.permutations = permutes            \n",
      "        return 0\n",
      "    def ineq_external(self, line1, line2):\n",
      "        #compare two external lines, decide wether they are inequivalent (permutations)\n",
      "        ret = False\n",
      "        if line1[1] == line2[1]: #equal orientation\n",
      "            if line1[2] != line2[2]: #inequal origin #AND origins differ \n",
      "                ret = True\n",
      "        return ret\n",
      "        \n",
      "    def calc_prefactor(self):\n",
      "        self.prefactor = (0.5**self.n_equivalent_Ts)*(0.5**self.equiv_lines)*((-1)**(self.holes-self.loops))\n",
      "        self.prefactor *= (-1)**len(self.permutations)\n",
      "    def count_equivalent_t(self):\n",
      "        #count equivalent T-vertices\n",
      "        t_config = []\n",
      "        for i in range(len(self.T)):\n",
      "            eq_h = 0\n",
      "            eq_p = 0            \n",
      "            for e in range(len(self.T[i].q_c)):\n",
      "                if self.schema[i][e] != None:\n",
      "                    if self.T[i].q_c[e] == -1:\n",
      "                        eq_h += 1\n",
      "                    if self.T[i].q_c[e] == 1:\n",
      "                        eq_p += 1\n",
      "\n",
      "            t_config.append([eq_p, eq_h])\n",
      "        ignored = []\n",
      "        t_eqs = 0\n",
      "        for i in range(len(t_config)):\n",
      "            for e in range(len(t_config)):\n",
      "                if i!= e and i not in ignored:\n",
      "\n",
      "                    if t_config[i] == t_config[e] and len(self.T[i].q_c) == len(self.T[e].q_c):\n",
      "                        ignored.append(e)\n",
      "                        t_eqs += 1\n",
      "        self.n_equivalent_Ts = t_eqs \n",
      "        \n",
      "    def count_equivalent_l(self):\n",
      "        #Count equivalent lines\n",
      "        eqs = 0\n",
      "        for i in range(len(self.T)):\n",
      "            eq_h = 0\n",
      "            eq_p = 0            \n",
      "            for e in range(len(self.T[i].q_c)):\n",
      "                if self.schema[i][e] != None:\n",
      "                    if self.T[i].q_c[e] == -1:\n",
      "                        eq_h += 1\n",
      "                    if self.T[i].q_c[e] == 1:\n",
      "                        eq_p += 1\n",
      "            eqs += eq_h/2 + eq_p/2\n",
      "        self.equiv_lines = eqs\n",
      "                \n",
      "                \n",
      "        \n",
      "    def count_loops(self):\n",
      "        lp = 0\n",
      "        for i in range(len(self.T)):\n",
      "            lp += (len(self.T[i].q_c) - sum(self.T[i].q_c))/2\n",
      "            \n",
      "        #count quasi-loops ? #Important bug fix, 2.nov 2014     \n",
      "        #for i in self.schema:\n",
      "        #    lp += i.count(None)/2\n",
      "        \n",
      "        self.loops = lp\n",
      "    def count_holes(self):\n",
      "        nh = 0\n",
      "        for i in range(len(self.T)):\n",
      "            for e in range(len(self.T[i].q_c)):\n",
      "                if self.T[i].q_c[e] == -1:\n",
      "                    nh += 1\n",
      "        for i in range(len(self.H.q_c)):\n",
      "            if self.H.q_c[i] == -1:\n",
      "                nh += 1\n",
      "        self.holes = nh\n",
      "                \n",
      "    def t_operators(self):\n",
      "        tt = []\n",
      "        #print self.T_labels\n",
      "        for i in range(len(self.T_labels)):\n",
      "            #tt.append([])\n",
      "            n = len(self.T_labels[i])/2\n",
      "            a = \"\"\n",
      "            j = \"\"\n",
      "            for e in range(n):\n",
      "                a += self.T_labels[i][e] \n",
      "                #a += self.T_labels[i][n-(e+1)] \n",
      "                #j += self.T_labels[i][n+e]\n",
      "                j += self.T_labels[i][n+e]\n",
      "            tt.append([n,a,j])\n",
      "        self.t_ops = tt\n",
      "    def v_operator(self):\n",
      "        hh = []\n",
      "        out = \"\"\n",
      "        ins = \"\"\n",
      "        for i in range(len(self.H.m_qc)):\n",
      "            l = self.H.m_qc[i]\n",
      "            if  l>0:\n",
      "                l-=1\n",
      "\n",
      "                #found a line passing through the interaction\n",
      "                if self.H.q_a[l] == 1:\n",
      "                    #Found a particle passing through\n",
      "                    ins += self.H_labels_c[i]\n",
      "                    out += self.H_labels_a[l]\n",
      "                if self.H.q_a[l] == -1:\n",
      "                    #Found a hole passing through\n",
      "                    ins += self.H_labels_c[i]\n",
      "                    out += self.H_labels_a[l]\n",
      "                    \n",
      "                    \n",
      "        ######\n",
      "        ######\n",
      "        # This needs to happen in the correct ordeR!\n",
      "        ######\n",
      "        ######\n",
      "                    \n",
      "                    \n",
      "                    \n",
      "                    \n",
      "        a_ignores = []            \n",
      "        for i in range(len(self.H.m_qa)):\n",
      "            l = self.H.m_qa[i]\n",
      "            if  l<0 and l not in a_ignores:\n",
      "                #found a line pair annihilating at the interaction\n",
      "                l = abs(l) - 1\n",
      "                out += self.H_labels_a[i]\n",
      "                ins += self.H_labels_a[l]\n",
      "                a_ignores.append(-(i+1))\n",
      "\n",
      "        c_ignores = []\n",
      "        for i in range(len(self.H.m_qc)):\n",
      "            l = self.H.m_qc[i]\n",
      "            if  l<0 and l not in c_ignores:\n",
      "                #found a line pair created at the interaction\n",
      "                l = abs(l) - 1\n",
      "                out += self.H_labels_c[i]\n",
      "                ins += self.H_labels_c[l]  \n",
      "                c_ignores.append(-(i+1))                  \n",
      "                                    \n",
      "  \n",
      "        self.h_op = [ins, out]\n",
      "        \n",
      "        v_out = []\n",
      "        v_ins = []\n",
      "        for i in range(len(self.schema)):\n",
      "            for e in range(len(self.schema[i])): \n",
      "                if self.schema[i][e] != None:\n",
      "                    h_index = self.schema[i][e]\n",
      "                    if self.T[i].q_c[e] == 1:\n",
      "                        #particle in\n",
      "                        v_ins.append(self.T_labels[i][e])\n",
      "                        coupled = self.H.m_qa[h_index]\n",
      "                        \"\"\"\n",
      "                        if coupled < 0:\n",
      "                            #reflecting at interaction\n",
      "                            nc = abs(coupled) - 1\n",
      "                            v_out.append(self.H_labels_a[nc])\n",
      "                        \"\"\"\n",
      "                            \n",
      "                        if coupled > 0:\n",
      "                            #passing through interaction\n",
      "                            nc = abs(coupled) - 1\n",
      "                            #print coupled, self.H_labels_c, self.H.m_qa\n",
      "                            v_out.append(self.H_labels_c[nc])\n",
      "\n",
      "                    if self.T[i].q_c[e] == -1:\n",
      "                        #hole out\n",
      "                        v_out.append(self.T_labels[i][e])\n",
      "                        coupled = self.H.m_qa[h_index]\n",
      "                        \"\"\"\n",
      "                        if coupled < 0:\n",
      "                            #reflecting at interaction\n",
      "                            nc = abs(coupled) - 1\n",
      "                            v_ins.append(self.H_labels_a[nc])\n",
      "                        \"\"\"\n",
      "                            \n",
      "                        if coupled > 0:\n",
      "                            #passing through interaction\n",
      "                            nc = abs(coupled) - 1\n",
      "                            v_ins.append(self.H_labels_c[nc]) \n",
      "        #print \"New config:\", v_out, v_ins\n",
      "        out = \"\"\n",
      "        ins = \"\"\n",
      "        for i in range(len(v_out)):\n",
      "            out += v_out[i]\n",
      "            ins += v_ins[i]\n",
      "        self.h_op = [out, ins]\n",
      "        \n",
      "        \n",
      "    def report(self):\n",
      "        #print \" Tlabels :\", self.T_labels\n",
      "        #print \" Hlabelsa:\", self.H_labels_a\n",
      "        #print \" Hlabelsc:\", self.H_labels_c \n",
      "        #print \"Equivavlent lines:\", self.equiv_lines\n",
      "        #print \"Loops:\", self.loops\n",
      "        #print \"Holes:\", self.holes\n",
      "        #print \"Equivavlent Ts:\",self.n_equivalent_Ts \n",
      "        #print \"Prefactor   :\", self.prefactor        \n",
      "        #print \"Permutations:\", self.permutations\n",
      "        #print \"Summations  :\", self.summation\n",
      "        #print \"Interaction :\", self.h_op\n",
      "        #print \"Cluster     :\", self.t_ops\n",
      "        s = \"prefactor: %f\" % self.prefactor + \"\\n\"\n",
      "        s += \"permutations: %s\" % self.permutations+ \"\\n\"\n",
      "        s += \"sum: %s\" % self.summation+ \"\\n\"\n",
      "        s += \"h_ops: %s\" % self.h_op+ \"\\n\"\n",
      "        s += \"t_ops: %s\" % self.t_ops+ \"\\n\"\n",
      "        return s\n",
      "\n",
      "                    \n",
      "\n",
      "class cpp_func():\n",
      "    def __init__(self, schema, target):\n",
      "        self.schema = schema\n",
      "        self.build(target)\n",
      "    def permute(self, c, s1, s2):     \n",
      "        c2 = []\n",
      "        for i in c:\n",
      "            c2.append(i)\n",
      "        #print c2\n",
      "        s1_i = None\n",
      "        s2_i = None\n",
      "\n",
      "        for i in range(len(c)):\n",
      "            if c[i] == s1:\n",
      "                s1_i = i\n",
      "                c2[s1_i] = s2\n",
      "            if c[i] == s2:\n",
      "                s2_i = i\n",
      "                c2[s2_i] = s1\n",
      "            \n",
      "        c3 = \"\"\n",
      "        for i in c2:\n",
      "            c3 += i\n",
      "\n",
      "        return c + \"-(\" + c3 +\")\"\n",
      "        \n",
      "    def build(self, target):\n",
      "        prefactor = self.schema.prefactor\n",
      "        permutations = self.schema.permutations\n",
      "        sums = self.schema.summation\n",
      "        interaction = self.schema.h_op\n",
      "        cluster = self.schema.t_ops\n",
      "        \n",
      "        #Begin building the function\n",
      "        s = \"double %s = 0.0\\n\" %target\n",
      "        c = \"\"\n",
      "        #Core function\n",
      "        c1 = interaction[0][0]\n",
      "        c2 = interaction[1][0]\n",
      "        for i in range(len(interaction[0])-1):\n",
      "            c1 += \",\"+interaction[0][i+1]\n",
      "            c2 += \",\"+interaction[1][i+1]     \n",
      "        c += \"%s(%s)(%s)\" % (\"v\"+str(len(interaction[0])),c1, c2) #Two particle interaction\n",
      "        for i in range(len(cluster)):\n",
      "            c1 = cluster[i][1][0]\n",
      "            c2 = cluster[i][2][0]\n",
      "            for e in range(len(cluster[i][1])-1):\n",
      "                c1 += \",\"+cluster[i][1][e+1]\n",
      "                c2 += \",\"+cluster[i][2][e+1]\n",
      "            c += \"*%s(%s)(%s)\" % (\"tf\"+str(cluster[i][0]),c1, c2) #Two particle interaction\n",
      "        \n",
      "        #Permute all possible\n",
      "        for i in range(len(permutations)):\n",
      "                c = self.permute(c, permutations[i][0], permutations[i][1])\n",
      "                \n",
      "            \n",
      "        \n",
      "        c = \"%s += \" %target + c\n",
      "        c+=\";\\n\"\n",
      "        sms = []\n",
      "        for i in range(len(sums)):\n",
      "            indent = 4 * (len(sums)-i-1) * \" \"\n",
      "            s,e = self.for_loop(sums[i])\n",
      "            sms.insert(0,indent + s)\n",
      "            sms.append(indent + e)\n",
      "        indent = 4*(len(sums)) * \" \" \n",
      "        sms.insert(len(sms)/2, indent+c)\n",
      "        \n",
      "        #merge function\n",
      "        C=\"\"\n",
      "        for i in sms:\n",
      "            C+= i\n",
      "            \n",
      "        C = \"double %s = 0.0;\\n\"%target+ C \n",
      "\n",
      "        C +=\"%s *= %f;\\n\" % (target, prefactor)\n",
      "        #Set up summations\n",
      "        #print \"\\n\", C\n",
      "        self.cppfunction = \"\\n\" + C\n",
      "        self.target = target\n",
      "        #print sms\n",
      "            \n",
      "    \n",
      "    def for_loop(self, p):\n",
      "        if p in \"abcdefgh\":\n",
      "            #return \n",
      "            lps = \"for(int %s = nElectrons; %s < nStates; %s ++){\\n\" % (p,p,p)\n",
      "            lpe= \"}\\n\"\n",
      "        if p in \"ijklmnop\":\n",
      "            #return \n",
      "            lps = \"for(int %s = 0; %s < nElectrons; %s ++){\\n\" % (p,p,p)\n",
      "            lpe = \"}\\n\"\n",
      "        return lps, lpe  \n",
      "\n",
      "class symbolic_diag():\n",
      "    def __init__(self, schema, target):\n",
      "        self.schema = schema\n",
      "        self.target = target\n",
      "        self.build(target)\n",
      "    def build(self, target):\n",
      "        prefactor = self.schema.prefactor\n",
      "        permutations = self.schema.permutations\n",
      "        sums = self.schema.summation\n",
      "        interaction = self.schema.h_op\n",
      "        cluster = self.schema.t_ops\n",
      "        \n",
      "        pre_fact, pre_denom = self.factorize(prefactor)\n",
      "        s = \"\"\n",
      "        for i in permutations:\n",
      "            s += \"P(%s)\" % i\n",
      "        s += \"\\\\frac{%i}{%i}\" % (pre_fact, pre_denom)\n",
      "        s += \" \\\\sum_{%s}\" % sums\n",
      "        s += \" \\\\langle %s || %s \\\\rangle\" % (interaction[0],interaction[1])\n",
      "        for i in cluster:\n",
      "            s += \" t_{%s}^{%s}\" % (i[2], i[1])\n",
      "        self.stringform = s\n",
      "    \n",
      "    def factorize(self, prefactor):\n",
      "        ret = prefactor\n",
      "        fract = 1\n",
      "        while not float(ret) == int(ret):\n",
      "            ret*=2\n",
      "            fract*=2\n",
      "            \n",
      "        return ret, fract\n",
      "     \n",
      "class feynman_diag():\n",
      "    #a diagrammatic representation of the operators\n",
      "    def __init__(self, schema, target, pos, vis = True):\n",
      "        self.schema = schema\n",
      "        self.target = target\n",
      "        self.pos = pos\n",
      "        self.vis = vis\n",
      "        \n",
      "        \n",
      "        #Parameters for plotting\n",
      "        self.shift = .2 #horizontal shift of interaction vertices\n",
      "        self.scale = 1.0 #size of diagrams\n",
      "        self.split = .25 #angle of paired leaving vertices\n",
      "        \n",
      "        #building diagrams\n",
      "        self.Build(target)\n",
      "    def Build(self,target):\n",
      "        scale = self.scale\n",
      "        prefactor = self.schema.prefactor\n",
      "        permutations = self.schema.permutations\n",
      "        sums = self.schema.summation\n",
      "        interaction = self.schema.h_op\n",
      "        cluster = self.schema.t_ops\n",
      "        schema = self.schema.schema\n",
      "        px = self.pos[0]\n",
      "        py = self.pos[1]\n",
      "        \n",
      "        #Create all vertices in the cluster operators\n",
      "        #Find total number of vertices:\n",
      "        nt = 0\n",
      "        for i in range(len(cluster)):\n",
      "            nt += cluster[i][0]\n",
      "        #print \"NT:\", nt\n",
      "        self.t_nodes = []\n",
      "        self.exit_nodes = []\n",
      "        t0 = -scale*nt/2 \n",
      "        self.NT_tot = nt\n",
      "       #print cluster\n",
      "        for i in range(len(cluster)):\n",
      "            self.t_nodes.append([])\n",
      "            self.exit_nodes.append([])\n",
      "            for e in range(cluster[i][0]):\n",
      "                self.t_nodes[i].append(hnode([px+t0, py],  [1,-1],[]))\n",
      "                #print px+t0, py\n",
      "                self.exit_nodes[i].append([])\n",
      "                self.exit_nodes[i][-1].append(hnode([px+t0-self.split*scale, py+2*scale],[],[]))\n",
      "                self.exit_nodes[i][-1].append(hnode([px+t0+self.split*scale, py+2*scale],[],[]))\n",
      "                t0 += scale\n",
      "\n",
      "        \n",
      "        #Set up H-vertices\n",
      "        #counting hole lines passing through the interaction\n",
      "        n_h_h = []\n",
      "        for i in range(10):\n",
      "            if i in self.schema.H.m_qc:\n",
      "                n_h_h.append(self.schema.H.q_a[i-1])\n",
      "        n_passing_holes = n_h_h.count(-1)\n",
      "        n_passing_parts = n_h_h.count(1)\n",
      "        #print n_h_h\n",
      "\n",
      "        #count particle lines passing \n",
      "        n_h_h = 0\n",
      "        for i in range(10):\n",
      "            n_h_h += self.schema.H.m_qc.count(i)\n",
      "        \n",
      "                        \n",
      "        #counting the line pairs annihilating at the interaction\n",
      "        n_h_a = 0\n",
      "        for i in range(10):\n",
      "            n_h_a += self.schema.H.m_qa.count(-i)\n",
      "\n",
      "        #counting the line pairs created at the interaction\n",
      "        n_h_c = 0\n",
      "        for i in range(10):\n",
      "            n_h_c += self.schema.H.m_qc.count(-i)\n",
      "        \n",
      "        n_h_a /= 2\n",
      "        n_h_c /= 2\n",
      "        \n",
      "        #print \"Passing holes:\", n_passing_holes\n",
      "        #print \"Passing particles:\" , n_passing_parts\n",
      "        #print \"Annihil:\", n_h_a\n",
      "        #print \"Created:\", n_h_c\n",
      "        \n",
      "        self.h_nodes = []\n",
      "        h0 = - .5*(n_h_a + n_passing_holes +n_passing_parts + n_h_c)*scale +  self.shift\n",
      "        for i in range(n_h_a):\n",
      "            #Add vertices that annihilate a pair of lines\n",
      "            self.h_nodes.append(hnode([px+h0,py+1*scale], [],[1,-1]))\n",
      "            h0 += scale \n",
      "        for i in range(n_h_c):\n",
      "            #Add vertices that create a pair of lines\n",
      "            self.h_nodes.append(hnode([px+h0,py+1*scale], [1,-1],[]))\n",
      "            h0 += scale\n",
      "        for i in range(n_passing_parts):\n",
      "            self.h_nodes.append(hnode([px+h0,py+1*scale], [1],[1]))\n",
      "            h0 += scale            \n",
      "        for i in range(n_passing_holes):\n",
      "            self.h_nodes.append(hnode([px+h0,py+1*scale], [-1],[-1]))\n",
      "            h0 += scale\n",
      "        #Done setting up the H-vertices\n",
      "        \n",
      "        \n",
      "        #Grouping up lines\n",
      "        TL = self.schema.T_labels\n",
      "        HLa = self.schema.H_labels_a\n",
      "        HLc = self.schema.H_labels_c   \n",
      "\n",
      "        lines_t = [] #list of all connections in the diagram, both external and internal\n",
      "        lines_t_internal = [] #list of all connections in the diagram, both external and internal\n",
      "        #for i in range(len(self.schema)):\n",
      "        lines_h_out = []\n",
      "        \n",
      "        \n",
      "        HLc = self.schema.H_labels_c \n",
      "        #import mapping \n",
      "        mqc = self.schema.H.m_qc\n",
      "        mqa = self.schema.H.m_qa\n",
      "        \n",
      "        for i in range(len(schema)):            \n",
      "            lines_t.append([])\n",
      "            lines_t_internal.append([])            \n",
      "            for e in range(len(schema[i])):\n",
      "                if schema[i][e] == None:\n",
      "                    lines_t[i].append([TL[i][e], [i,e], None])\n",
      "                if schema[i][e] != None:\n",
      "                    lines_t[i].append([TL[i][e], [i,e], i])\n",
      "        for i in range(len(HLc)):\n",
      "            lines_h_out.append([HLc[i], i, None])\n",
      "\n",
      "        self.lines_h_out = lines_h_out\n",
      "        self.lines_t = lines_t\n",
      "        self.lines_t_int = lines_t_internal\n",
      "        \n",
      "        \n",
      "        \n",
      "        \n",
      "        \n",
      "        self.Plot(target)\n",
      "    def Plot(self, target):\n",
      "        if self.vis:\n",
      "            figure(figsize = (2, self.NT_tot/1.5), dpi = 80, edgecolor = 'k',facecolor='white')\n",
      "            axis('off')\n",
      "            axes().set_aspect('equal', 'datalim')\n",
      "        hold('on')\n",
      "        t_nodes = self.t_nodes\n",
      "        h_nodes = self.h_nodes\n",
      "        exit_nodes = self.exit_nodes\n",
      "\n",
      "        \n",
      "        #draw all nodes and horizontal lines\n",
      "        pos = self.pos\n",
      "        scale = self.scale\n",
      "        cluster = self.schema.t_ops\n",
      "        lines_t = self.lines_t\n",
      "        msize =5\n",
      "        c = 'black'\n",
      "        plot(self.t_nodes[0][0].x-.01,self.t_nodes[0][0].y-.01,\".\", color =\"White\")\n",
      "        plot(self.t_nodes[0][0].x-.01,self.t_nodes[0][0].y+1.1,\".\", color =\"White\")\n",
      "        for i in range(len(self.t_nodes)):\n",
      "            if len(self.t_nodes[i])==1:\n",
      "                nc = self.t_nodes[i][0] #current node\n",
      "                #Draw \n",
      "                plot( [nc.x - 0.25*scale,nc.x + 0.25*scale],[nc.y, nc.y], color = c)\n",
      "                plot(nc.x, nc.y,\"o\", color = c, markersize = msize)\n",
      "            if len(self.t_nodes[i])>1:\n",
      "                nc_next = self.t_nodes[i][0]                \n",
      "                plot(nc_next.x, nc_next.y,\"o\", color = c, markersize = msize)\n",
      "                for e in range(len(t_nodes[i])-1):\n",
      "                    nc = self.t_nodes[i][e]\n",
      "                    nc_next = self.t_nodes[i][e+1]\n",
      "                    \n",
      "                    plot( [nc.x,nc_next.x],[nc.y, nc_next.y], color = c)\n",
      "                    plot(nc_next.x, nc_next.y,\"o\", color = c, markersize = msize)\n",
      "                    \n",
      "        \n",
      "        #Draw interaction vertices\n",
      "        if len(self.h_nodes)==1:\n",
      "            nc = self.h_nodes[0]\n",
      "            plot(nc.x,nc.y,\"o\", color = c, markersize = msize)\n",
      "            plot( [nc.x,nc.x + 0.5*scale],[nc.y,nc.y], color = c, ls = \"dotted\")\n",
      "        if len(self.h_nodes)>1:\n",
      "            #connect horizontal vertices\n",
      "            nc = self.h_nodes[0]\n",
      "            plot(nc.x,nc.y,\"o\", color = c, markersize = msize)\n",
      "            for e in range(len(self.h_nodes)-1):\n",
      "                nc = self.h_nodes[e]\n",
      "                nc_next = self.h_nodes[e+1]\n",
      "                plot( [nc.x,nc_next.x],[nc.y, nc_next.y], color = c,ls = \"dotted\")\n",
      "                plot(nc_next.x, nc_next.y,\"o\", color = c, markersize = msize)\n",
      "                \n",
      "        #Draw all connected and unconnected lines\n",
      "        for i in range(len(cluster)): \n",
      "            for u in range(cluster[i][0]):\n",
      "                p1_ind = self.get_l_index(lines_t[i],cluster[i][1][u])\n",
      "                h1_ind = self.get_l_index(lines_t[i],cluster[i][2][u])   \n",
      "                \n",
      "                #print lines_t[i][p1_ind] , lines_t[i][h1_ind]                 \n",
      "                if lines_t[i][p1_ind][2] == lines_t[i][h1_ind][2] == None:\n",
      "                    #print \"Two external unconnected lines!\"\n",
      "                    ncon(t_nodes[i][u],exit_nodes[i][u][0],order = 0, p_h = -1)\n",
      "                    ncon(t_nodes[i][u],exit_nodes[i][u][1],order = 0, p_h = 1)\n",
      "                    #print lines_t[i][p1_ind], lines_t[i][h1_ind]           \n",
      "                if lines_t[i][p1_ind][2] == lines_t[i][h1_ind][2] != None:\n",
      "                #if lines_t[i][p1_ind][2] == lines_t[i][h1_ind][2] == 0:\n",
      "                    #print \"Internal loop!\"\n",
      "                    #Scan for available loop\n",
      "                    n = None\n",
      "                    for t in range(len(h_nodes)):\n",
      "                        #print \"t:\",t\n",
      "                        if h_nodes[t].probe_loop_a():\n",
      "                            #print \"Found loop!\"\n",
      "                            #Found loop\n",
      "                            h_nodes[t].connect_loop_a()\n",
      "                            n = t\n",
      "                            break\n",
      "                    try:\n",
      "                        hn = h_nodes[n]\n",
      "                        \n",
      "                            \n",
      "                        ncon(t_nodes[i][u],hn,order = -1, p_h = 1)\n",
      "                        ncon(hn,t_nodes[i][u],order = -1, p_h = 1)\n",
      "                        \n",
      "                    #Remove if causing trouble\n",
      "                    except:\n",
      "                        #connect to separate vertices\n",
      "                        \n",
      "                        #connect particle line\n",
      "                        for t in range(len(h_nodes)):\n",
      "\n",
      "                            if h_nodes[t].probe_line_a(-1):\n",
      "                                #print \"Found particle!\"\n",
      "\n",
      "                                h_nodes[t].connect_loop_a()\n",
      "                                n = t\n",
      "                                break\n",
      "                        hn = h_nodes[n]\n",
      "                        ncon(t_nodes[i][u],hn,order = 0, p_h = -1)\n",
      "                        \n",
      "                        #connect particle line\n",
      "                        for t in range(len(h_nodes)):\n",
      "\n",
      "                            if h_nodes[t].probe_line_a(1):\n",
      "                                #print \"Found particle!\"\n",
      "\n",
      "                                h_nodes[t].connect_loop_a()\n",
      "                                n = t\n",
      "                                break\n",
      "                        hn = h_nodes[n]\n",
      "                        ncon(t_nodes[i][u],hn,order = 0, p_h = 1)\n",
      "                        \n",
      "                            \n",
      "                        #print \"Could not connect loop.\"\n",
      "        for i in range(len(cluster)): \n",
      "            for u in range(cluster[i][0]):\n",
      "                p1_ind = self.get_l_index(lines_t[i],cluster[i][1][u])\n",
      "                h1_ind = self.get_l_index(lines_t[i],cluster[i][2][u])   \n",
      "                \n",
      "                #print lines_t[i][p1_ind] , lines_t[i][h1_ind]          \n",
      "                if lines_t[i][p1_ind][2] != lines_t[i][h1_ind][2]:\n",
      "                    #print \"One line in , one line out\"\n",
      "                    #print lines_t[i][p1_ind], lines_t[i][h1_ind]\n",
      "                    \n",
      "                    #draw line lines_t[i][p1_ind]\n",
      "                    #begin = [self.t_pos[i][u],self.h_pos[hn/2]]\n",
      "                    #print \"HPOS:          \", self.h_pos, hn/2, hn\n",
      "                    #print \"TPOS:          \", self.t_pos,i,u\n",
      "                    #begin = [self.t_pos[i][u],self.h_pos[hn/2]] #X-vector\n",
      "                    #plot(begin, \"o\")\n",
      "                    \n",
      "                    if lines_t[i][p1_ind][2] == None:\n",
      "                        #print \"    Draw external particle\"\n",
      "                        ncon(t_nodes[i][u],exit_nodes[i][u][0],order = 0, p_h = 1)\n",
      "                        #end = [self.pos[1],self.pos[1]+2]\n",
      "                        #begin = [self.t_pos[i][u],self.t_pos[i][u]] #X-vector\n",
      "                        #self.draw_lines(1, begin,end, 1)\n",
      "                        #hn += 1                        \n",
      "                    if lines_t[i][p1_ind][2] != None:\n",
      "                        #print \"    Draw internal particle\"\n",
      "                        #Scan for available particle annihilator\n",
      "                        n = None\n",
      "                        for t in range(len(h_nodes)):\n",
      "                            if h_nodes[t].probe_line_a(1):\n",
      "                                #Found loop\n",
      "                                h_nodes[t].connect_line_a(1)\n",
      "                                n =t\n",
      "                                break\n",
      "                        hn = h_nodes[n]\n",
      "                        \n",
      "                        ncon(t_nodes[i][u],hn,order = 0, p_h = 1)\n",
      "                        \n",
      "                        \n",
      "                        #begin = [self.t_pos[i][u],self.h_pos[hn/2]] #X-vector\n",
      "                        #end = [self.pos[1],self.pos[1]+1]\n",
      "                        #self.draw_lines(1, begin,end, 1)\n",
      "                        #hn += 1\n",
      "                    \n",
      "                    if lines_t[i][h1_ind][2] == None:\n",
      "                        #print \"    Draw external hole\"\n",
      "                        ncon(t_nodes[i][u],exit_nodes[i][u][1],order = 0, p_h =- 1)\n",
      "                        #begin = [self.t_pos[i][u],self.t_pos[i][u]] #X-vector\n",
      "                        #end = [self.pos[1],self.pos[1]+2]\n",
      "                        #self.draw_lines(1, begin,end, -1)\n",
      "                        #hn += 1\n",
      "                    if lines_t[i][h1_ind][2] != None:\n",
      "                        #print \"    Draw internal hole\"\n",
      "                        \n",
      "                        n = None\n",
      "                        for t in range(len(h_nodes)):\n",
      "                            if h_nodes[t].probe_line_a(-1):\n",
      "                                #Found loop\n",
      "                                h_nodes[t].connect_line_a(-1)\n",
      "                                n = t\n",
      "                                break\n",
      "                        hn = h_nodes[n]\n",
      "                        ncon(t_nodes[i][u],hn,order = 0, p_h = -1)\n",
      "                        \n",
      "                        \n",
      "                        #begin = [self.t_pos[i][u],self.h_pos[hn/2]] #X-vector\n",
      "                        #end = [self.pos[1],self.pos[1]+1]\n",
      "                        #self.draw_lines(1, begin,end, -1)\n",
      "                        #hn += 1\n",
      "                    #hn += 1\n",
      "        \n",
      "        #Finally, we need to draw all lines exiting from the interaction\n",
      "        for i in range(len(h_nodes)):\n",
      "            if h_nodes[i].probe_line_c(1):\n",
      "                #create particle leaving the interaction\n",
      "                hn = h_nodes[i]\n",
      "                ncon(hn, hnode([hn.x - scale*0.2, nc.y+1*scale],[],[]), order = 0, p_h = 1)\n",
      "            if h_nodes[i].probe_line_c(-1):\n",
      "                #create particle leaving the interaction\n",
      "                hn = h_nodes[i]\n",
      "                ncon(hn, hnode([hn.x + scale*0.2, nc.y+1*scale],[],[]), order = 0, p_h = -1)\n",
      "        if self.vis:\n",
      "            \n",
      "            hold('off')\n",
      "            show()\n",
      "\n",
      "\n",
      "    def get_centered_pair(self, L, excluded):\n",
      "        #pops centered line pairs from list (particle/hole)\n",
      "        i1,i2 = None, None\n",
      "        for i in range(len(L)-1):\n",
      "            if L[i][0] in \"abcdefgh\" and L[i+1][0] in \"ijklmnop\":\n",
      "                i1 = L[i]\n",
      "                i2 = L[i+1]\n",
      "                del(L[i+1])\n",
      "                del(L[i])\n",
      "                break              \n",
      "        return i1, i2\n",
      "        \n",
      "\n",
      "    def draw_lines(self, order, begin, end, ph = 0):\n",
      "        n1 = position(begin[0],begin[1])\n",
      "        n2 = position(end[0], end[1])\n",
      "        if order == 1:\n",
      "            plot(begin, end, color = \"black\")\n",
      "            half_x = begin[0] + (begin[1]-begin[0])/1.5\n",
      "            half_y = end[0] + (end[1]-end[0])/1.5\n",
      "            \n",
      "            orient_x =  (begin[1]-begin[0])/2.0\n",
      "            orient_y =  (end[1]-end[0])/2.0\n",
      "            if ph == 1:\n",
      "                draw_arrow([half_x, half_y],[orient_x, orient_y])\n",
      "            if ph == -1:\n",
      "                draw_arrow([half_x, half_y],[-orient_x, -orient_y])\n",
      "\n",
      "        if order %2 == 0:\n",
      "            #draw pairs of lines\n",
      "            for i in range(order/2):\n",
      "                ncon(n1,n2,-1,1)\n",
      "                ncon(n2,n1,-1,-1)\n",
      "            #print 0\n",
      "        if order %2 != 0:\n",
      "            #print \"draw straight line and pairs\"\n",
      "            print \"\"\n",
      "            \n",
      "    def get_l_index(self, lines, target):\n",
      "        ret = None\n",
      "        for i in range(len(lines)):\n",
      "            if lines[i][0] == target:\n",
      "                ret = i\n",
      "        return ret\n",
      "    def get_t_index(self, To, target):\n",
      "        ret = None\n",
      "        for i in range(len(To)):\n",
      "            for e in range(len(To[i])):\n",
      "                if To[i][e] == target:\n",
      "                    ret = [i,e]\n",
      "        return ret[0], ret[1]\n",
      "    \n",
      "    def get_h_index(sefl,Ho,target):\n",
      "        ret = None\n",
      "        for i in range(len(Ho)):\n",
      "            if Ho[i] == target:\n",
      "                ret = i\n",
      "        return ret\n",
      "\n",
      "class position():\n",
      "    def __init__(self, x, y):\n",
      "        self.x = x\n",
      "        self.y = y\n",
      "\n",
      "class hnode():\n",
      "    def __init__(self, pos, q_c, q_a):\n",
      "        self.pos = pos\n",
      "        self.x = pos[0]\n",
      "        self.y = pos[1]\n",
      "        self.q_c = q_c\n",
      "        self.q_a = q_a\n",
      "        self.setup()\n",
      "    def setup(self):\n",
      "        self.c_connections = [0,0]\n",
      "        self.a_connections = [0,0]\n",
      "        #particles, holes\n",
      "        for i in self.q_c:\n",
      "            if i == 1:\n",
      "                self.c_connections[0] = None\n",
      "            if i == -1:\n",
      "                self.c_connections[1] = None\n",
      "        for i in self.q_a:\n",
      "            if i == 1:\n",
      "                self.a_connections[0] = None\n",
      "            if i == -1:\n",
      "                self.a_connections[1] = None\n",
      "    def probe_loop_a(self):\n",
      "        #Probe annihilation for available loop connection\n",
      "        ret = False\n",
      "        if self.a_connections[0] == self.a_connections[1] == None:\n",
      "            ret = True #A connection is possible\n",
      "        return ret\n",
      "    def probe_line_a(self, linetype):\n",
      "        #Probe annihilation for \n",
      "        ret = False\n",
      "        if linetype == -1:\n",
      "            #scan for holw\n",
      "            if self.a_connections[1] == None:\n",
      "                ret = True\n",
      "        if linetype == 1:\n",
      "            #scan for particle\n",
      "            if self.a_connections[0] == None:\n",
      "                ret = True\n",
      "        return ret\n",
      "    def probe_line_c(self, linetype):\n",
      "        #Probe annihilation for \n",
      "        ret = False\n",
      "        if linetype == -1:\n",
      "            #scan for holw\n",
      "            if self.c_connections[1] == None:\n",
      "                ret = True\n",
      "        if linetype == 1:\n",
      "            #scan for particle\n",
      "            if self.c_connections[0] == None:\n",
      "                ret = True\n",
      "        return ret               \n",
      "\n",
      "    def connect_loop_a(self):\n",
      "        if self.probe_loop_a():\n",
      "            self.a_connections[0] = 1\n",
      "            self.a_connections[1] = 1\n",
      "    def connect_line_a(self, linetype):\n",
      "        if self.probe_line_a(linetype):\n",
      "            if linetype == 1:\n",
      "                self.a_connections[0] = 1\n",
      "            if linetype == -1:\n",
      "                self.a_connections[1] = 1\n",
      "                \n",
      "        \n",
      "            \n",
      "            \n",
      "        \n",
      "        \n",
      "                \n",
      "        \n",
      "\n",
      "def nconnect(n1,n2,S,order=\"l0\", p_h = None):\n",
      "    N = 60\n",
      "\n",
      "    Phx = (n1.x+n2.x)/2.0\n",
      "    Phy = (n1.y+n2.y)/2.0\n",
      "    \n",
      "    lP = sqrt((n2.x-n1.x)**2 + (n2.y-n1.y)**2)\n",
      "    dPx = (n2.x-n1.x)/lP    \n",
      "    dPy = (n2.y-n1.y)/lP\n",
      "    \n",
      "    Cx = Phx - S*dPy\n",
      "    Cy = Phy + S*dPx  \n",
      "    \n",
      "    \n",
      "    lC = sqrt((S*dPy)**2 + (S*dPx)**2)\n",
      "    #node(Phx,Phy, c=\"blue\")\n",
      "    #node(Cx,Cy, c=\"red\")\n",
      "    R = sqrt((Cx-n1.x)**2 + (Cy-n1.y)**2)\n",
      "\n",
      "    lPC0 = sqrt(((Cx+R)-n1.x)**2 + (Cy - n1.y)**2)\n",
      "    lPC1 = sqrt(((Cx+R)-n2.x)**2 + (Cy - n2.y)**2)\n",
      "\n",
      "    dalpha = arccos((2*R**2 - lP**2)/(2.0*R**2))\n",
      "\n",
      "    \n",
      "    CPx = n1.x - Cx\n",
      "    CPy = n1.y - Cy\n",
      "    X,Y = 0,0\n",
      "    if order == \"0\":\n",
      "        #X = [n1.x, n2.x]\n",
      "        #Y = [n1.y, n2.y]\n",
      "        X = linspace(n1.x, n2.x, 6) #need to do this to get arrows working\n",
      "        Y = linspace(n1.y, n2.y, 6)\n",
      "    if order == \"l0\":\n",
      "        if S<0:\n",
      "            dalpha = 2*pi - dalpha\n",
      "        A = linspace(0,dalpha, N)\n",
      "        X,Y = rotate_v(CPx,CPy,A)\n",
      "        X+=Cx\n",
      "        Y+=Cy\n",
      "    if order == \"r0\":\n",
      "        if S>0:\n",
      "            dalpha = 2*pi - dalpha      \n",
      "        A = linspace(0,-dalpha, N)\n",
      "        X,Y = rotate_v(CPx,CPy,A)\n",
      "        X+=Cx\n",
      "        Y+=Cy\n",
      "        \n",
      "    msize = 10\n",
      "    if p_h == 1:\n",
      "        draw_arrow([X[len(X)/2],Y[len(X)/2]], [-dPx,-dPy])\n",
      "        #X[len(X)/2],Y[len(X)/2]\n",
      "        #plot(X[len(X)/2],Y[len(X)/2], \"^\", color = \"black\", markersize = msize)\n",
      "    if p_h == -1:\n",
      "        draw_arrow([X[len(X)/2],Y[len(X)/2]], [dPx,dPy])\n",
      "        #plot(X[len(X)/2],Y[len(X)/2], \"v\", color = \"black\", markersize = msize)\n",
      "    plot(X,Y, color = \"black\")\n",
      "    \n",
      "def ncon(n1,n2,order = 0, p_h = None):\n",
      "    if order == 0:\n",
      "        nconnect(n1,n2,1,\"0\", p_h)\n",
      "    if order > 0:\n",
      "        nconnect(n1,n2,(-2+order),\"l0\", p_h)\n",
      "    if order < 0:\n",
      "        nconnect(n1,n2,(-2-order),\"r0\", p_h)\n",
      "\n",
      "def draw_arrow(pos, point, s = .2, h = .1):\n",
      "    #Draw an arrow at pos, pointing in the direction of point.\n",
      "    #normalize direction\n",
      "    p2 = sqrt(point[0]**2 + point[1]**2)\n",
      "    point[0] /= p2\n",
      "    point[1] /= p2\n",
      "    \n",
      "    #pi/2 degree rotation\n",
      "    p_rotx, p_roty = point[1], -point[0]\n",
      "\n",
      "    x0, y0 = pos[0], pos[1]\n",
      "    x1, y1 = pos[0] - s*point[0], pos[1] - s*point[1]\n",
      "    \n",
      "    #plot the arrow\n",
      "    plot([x0, x1+h*p_rotx],[y0, y1+h*p_roty], color = \"black\")\n",
      "    plot([x0, x1-h*p_rotx],[y0, y1-h*p_roty], color = \"black\")\n",
      "                \n",
      "def rotate_v(x,y,alpha):\n",
      "    ca = cos(alpha)\n",
      "    sa = sin(alpha)\n",
      "    return ca*x - sa*y, sa*x + ca*y            \n",
      "    \n",
      "        \n",
      "def normal_ordered_hamiltonian():\n",
      "    #Two particle hamiltonian\n",
      "    F1 = Operator([1],[1])\n",
      "    F2 = Operator([-1],[-1])\n",
      "    F3 = Operator([],[1,-1])\n",
      "    F4 = Operator([1,-1],[])\n",
      "    \n",
      "    V1 = Operator([1,1],[1,1])\n",
      "    V2 = Operator([-1,-1],[-1,-1])\n",
      "    V3 = Operator([1,-1],[1,-1])\n",
      "    \n",
      "    V4 = Operator([1],[1,1,-1])\n",
      "    V5 = Operator([1,1,-1],[1])\n",
      "    \n",
      "    V7 = Operator([1,-1,-1],[-1])\n",
      "    V6 = Operator([-1],[1,-1,-1])\n",
      "    V9 = Operator([1,1,-1,-1],[])\n",
      "    V8 = Operator([],[1,1,-1,-1])\n",
      "    return [F1,F2,F3,F4,V1,V2,V3,V4,V5,V6,V7,V8,V9]                     \n",
      "\n",
      "\n",
      "def cluster_operator_old(configuration):\n",
      "    #configuration =[]\n",
      "    T1= Operator([],[1,-1])\n",
      "    T2= Operator([],[1,1,-1,-1])\n",
      "    T3= Operator([],[1,1,1,-1,-1,-1])\n",
      "    T4= Operator([],[1,1,1,1,-1,-1,-1,-1])\n",
      "    T5= Operator([],[1,1,1,1,1,-1,-1,-1,-1,-1])\n",
      "    T_list = [T1, T2, T3, T4, T5]\n",
      "    ret = []\n",
      "    for i in configuration:\n",
      "        ret.append(T_list[i-1])\n",
      "    return ret\n",
      "\n",
      "def cluster_operator(configuration):\n",
      "    #configuration =[]\n",
      "    T1= Operator([],[1,-1])\n",
      "    T2= Operator([],[1,1,-1,-1])\n",
      "    T3= Operator([],[1,1,1,-1,-1,-1])\n",
      "    T4= Operator([],[1,1,1,1,-1,-1,-1,-1])\n",
      "    T5= Operator([],[1,1,1,1,1,-1,-1,-1,-1,-1])\n",
      "    T_list = [T1, T2, T3, T4, T5]\n",
      "    ret = []\n",
      "    for i in configuration:\n",
      "        ret.append([T_list[i-1]])\n",
      "    return ret\n",
      "\n",
      "class O():\n",
      "    def __init__(self, H, T, name = \"CC\"):\n",
      "        self.name = name\n",
      "        self.H = H\n",
      "        self.T = T\n",
      "        self.diagrams = contract(H, T)\n",
      "        self.Ndiag = len(self.diagrams)\n",
      "        self.schematics = []\n",
      "        self.stringforms = []\n",
      "        self.cppcodes = []\n",
      "        self.reports = []\n",
      "        subindex = [\"a\",\"b\",\"c\",\"d\",\"e\",\"f\",\"g\",\"h\",\"i\",\"j\",\"k\",\"l\",\"m\",\"n\",\"o\",\"p\",\"q\",\"r\",\"s\",\"t\",\"u\",\"v\",\"x\",\"y\",\"z\"]\n",
      "        for i in self.diagrams:\n",
      "            self.schematics.append(schematic(i))\n",
      "            self.schematics[-1].setup()\n",
      "        self.N = len(self.schematics)\n",
      "        for e in range(len(self.schematics)):\n",
      "            \n",
      "            c = self.schematics[e]\n",
      "            self.reports.append(c.report())\n",
      "            #name = self.name+\"%i\" %e\n",
      "            sym = symbolic_diag(c,\"%s\" % (self.name+subindex[e]))\n",
      "            self.stringforms.append(sym.stringform)\n",
      "            CPPc = cpp_func(c,\"%s\" % (self.name+subindex[e]))\n",
      "            self.cppcodes.append(CPPc.cppfunction)\n",
      "    def E(self, i = None):\n",
      "        E = self.H.E\n",
      "        for i in range(len(self.T)):\n",
      "            E += self.T[i].E\n",
      "        return E\n",
      "            \n",
      "    def latex(self, i):\n",
      "        ret = None\n",
      "        try:\n",
      "            ret =  self.stringforms[i]\n",
      "        except:\n",
      "            print \"Invalid index given:\", i\n",
      "            print \"There are only %i diagrams in this contraction.\" % self.N\n",
      "        return ret\n",
      "    def code(self, i):\n",
      "        try:\n",
      "            ret = self.cppcodes[i]\n",
      "        except:\n",
      "            print \"Invalid index given:\", i\n",
      "            print \"There are only %i diagrams in this contraction.\" % self.N\n",
      "        return ret\n",
      "    def diagram(self,i, pos = [0,0], vis = True):\n",
      "        try:\n",
      "            dia = feynman_diag(self.schematics[i], \"D9\", pos, vis)\n",
      "        except:\n",
      "            print \"Invalid index given:\", i\n",
      "            print \"There are only %i diagrams in this contraction.\" % self.N\n",
      "    def report(self, i):\n",
      "        ret = None\n",
      "        try:\n",
      "            ret = self.reports[i]\n",
      "        except:\n",
      "            print \"Invalid index given:\", i\n",
      "            print \"There are only %i reports in this contraction.\" % self.N\n",
      "        return ret            \n",
      "\n",
      "def list_mult(A, B):\n",
      "    #multiply two lists\n",
      "    ret = []\n",
      "    for i in A:\n",
      "        for e in B:\n",
      "            ret.append(i+e)\n",
      "    return ret\n",
      "\n",
      "\n",
      "def list_pow(T, n):\n",
      "    #Return list to the power of n\n",
      "    th = T\n",
      "    g = []\n",
      "    for i in range(n-1):\n",
      "        th = list_mult(th,T)\n",
      "        g=th\n",
      "    if n==1:\n",
      "        g = T\n",
      "    return g\n",
      "            \n",
      "def factorial(n):\n",
      "    N = 1\n",
      "    for i in range(1,n+1):\n",
      "        N*=i\n",
      "    return N\n",
      "\n",
      "def expand_ansatz(T, n):\n",
      "    #Taylor expand the exponential ansazt (exp(list(t-operatrs))) to a given truncation (n+1)\n",
      "    expanded_eT = []\n",
      "    prefactors  = []\n",
      "    for i in range(1,n+1): #ignore i=0 -> uncorrelated energy\n",
      "        elem = []\n",
      "        prefactors.append(factorial(n)) # (**-1) inverted\n",
      "        expT = list_pow(T,i)\n",
      "        expanded_eT+=expT\n",
      "    return expanded_eT\n",
      "\n",
      "def combine_to_excitation(H,T,E, config = [1,0,0,0]):\n",
      "    #Find combinations of operator elements in H, T that produce excitation level i\n",
      "    skew = 0\n",
      "    tex = []\n",
      "    for h in range(len(H)):\n",
      "        shift = 0\n",
      "        for i in range(len(T)):\n",
      "            #print h, i\n",
      "            #print H\n",
      "            target_e = H[h].excitation()\n",
      "            for t in T[i]:\n",
      "                target_e += t.excitation()\n",
      "            if target_e == E:\n",
      "                #print h,i\n",
      "                stringname = \"CC%i_%i\" % (h,i)\n",
      "                contr = O(H[h],T[i], name = stringname)\n",
      "                if contr.E() == E:\n",
      "                    for e in range(contr.Ndiag):\n",
      "                        if config[0] == 1:\n",
      "                            tx = contr.latex(e)\n",
      "                            #Math(tx)\n",
      "                            #print tx\n",
      "                            tex.append(tx)\n",
      "                        if config[1] == 1:\n",
      "                            contr.diagram(e, [4*h,shift], True)\n",
      "                        if config[1] == 2:\n",
      "                            contr.diagram(e, [4*h,shift], False)\n",
      "                        if config[3] == 1:\n",
      "                            print contr.code(e)\n",
      "                        if config[2] == 1:\n",
      "                            print contr.reports[i]\n",
      "                            \n",
      "                        shift += 4\n",
      "    if config[1] == 2:\n",
      "        axes().set_aspect('equal', 'datalim')\n",
      "        show()\n",
      "        \n",
      "    return tex\n",
      "       \n",
      "def combine_all(H,T, config = [1,0,0,0]):\n",
      "    #Find combinations of operator elements in H, T that produce excitation level i\n",
      "    tex = []\n",
      "    for h in range(len(H)):\n",
      "        shift = 0\n",
      "        \n",
      "        for i in range(len(expT)):\n",
      "            #print h, i\n",
      "            contr = O(H[h],expT[i])\n",
      "            for e in range(contr.Ndiag):\n",
      "                if config[0] == 1:\n",
      "                    tx = contr.latex(e)\n",
      "                    #print tx\n",
      "                    tex.append(tx)\n",
      "                if config[0] == 2:\n",
      "                    tx = contr.latex(e)\n",
      "                    tex.append(tx)                    \n",
      "                if config[1] == 1:\n",
      "                    contr.diagram(e, [4*h,shift], True)\n",
      "                if config[1] == 2:\n",
      "                    contr.diagram(e, [4*h,shift], False)\n",
      "                if config[3] == 1:\n",
      "                    contr.code(e)\n",
      "            \n",
      "                    \n",
      "                shift+= 4\n",
      "            del(contr)\n",
      "    if config[1] ==2:\n",
      "        axes().set_aspect('equal', 'datalim')\n",
      "        show()\n",
      "    return tex"
     ],
     "language": "python",
     "metadata": {
      "slideshow": {
       "slide_type": "skip"
      }
     },
     "outputs": [],
     "prompt_number": 39
    },
    {
     "cell_type": "markdown",
     "metadata": {},
     "source": [
      "<head>\n",
      "\t<meta charset=\"utf-8\">\n",
      "\t<title>Reveal.js 3 Slide Demo</title>\n",
      "\t<link rel=\"stylesheet\" href=\"css/reveal.min.css\">\n",
      "\t<link rel=\"stylesheet\" href=\"css/theme/beige.css\" id=\"theme\">\t\n",
      "\t<!--Add support for earlier versions of Internet Explorer -->\n",
      "\t<!--[if lt IE 9]>\n",
      "\t<script src=\"lib/js/html5shiv.js\"></script>\n",
      "\t<![endif]-->\n",
      "</head>\n",
      "\n",
      "<script type=\"text/javascript\"\n",
      "  src=\"http://cdn.mathjax.org/mathjax/latest/MathJax.js?config=TeX-AMS-MML_HTMLorMML\">\n",
      "</script>"
     ]
    },
    {
     "cell_type": "markdown",
     "metadata": {
      "slideshow": {
       "slide_type": "slide"
      }
     },
     "source": [
      "#The Coupled Cluster method: \n",
      "##Motivation, derivation and applications\n",
      "Exam presentation | Audun Skau Hansen | UiO |\u00a0 December 18th 2014"
     ]
    },
    {
     "cell_type": "markdown",
     "metadata": {
      "slideshow": {
       "slide_type": "slide"
      }
     },
     "source": [
      "#Motivating the Coupled Cluster method"
     ]
    },
    {
     "cell_type": "markdown",
     "metadata": {
      "slideshow": {
       "slide_type": "slide"
      }
     },
     "source": [
      "## The problem\n",
      "\n",
      "- We have a system of interacting fermions, possibly in a common potential.\n",
      "- We seek a wavefunction that describes and gives us the properties of this system:\n",
      "    - Energy:\n",
      "        - Ground state\n",
      "        - Ionization\n",
      "        - Excited states\n",
      "    - Fermionic density distribution\n",
      "    - Observables\n"
     ]
    },
    {
     "cell_type": "markdown",
     "metadata": {
      "slideshow": {
       "slide_type": "fragment"
      }
     },
     "source": [
      "![interaction](interact.png)"
     ]
    },
    {
     "cell_type": "markdown",
     "metadata": {
      "slideshow": {
       "slide_type": "slide"
      }
     },
     "source": [
      "## The strategy\n",
      "\n",
      "- We formulate a strategy for solving this problem:\n",
      "    - We seek a general wavefunction that is a solution to the time-independent nonrelativistic Schr\u00f6dinger equation.\n",
      "    - The wavefunction must then\n",
      "        - behave according to experiment.\n",
      "        - behave according to the postulates of QM\n",
      "    - We will employ the variational principle to optimize this general wavefunction.\n",
      "    - We will then seek methods that improve upon this first approximation.\n",
      "- In the process, a number of assumptions about the problem will be made.\n",
      "\n"
     ]
    },
    {
     "cell_type": "markdown",
     "metadata": {
      "slideshow": {
       "slide_type": "slide"
      }
     },
     "source": [
      "##Many particle wavefunctions\n",
      "\n",
      "- We have a wavefunction assosciated with the system:\n",
      "$$ |\\Psi \\rangle $$\n",
      "- We also have wavefunctions assosciated with each fermion\n",
      "$$ |\\psi_i(x_i) \\rangle $$\n",
      "for the $i$th fermion, centered at $x_i$.\n",
      "\n",
      "---\n",
      "It is reasonable to assume that the systems wavefunction will be a function of each fermionic function:\n",
      "$$ |\\Psi \\rangle = |\\Psi(\\psi_0(x_0), \\psi_1(x_1), ..., \\psi_N(x_N))\\rangle $$\n",
      "\n",
      "\n",
      "---\n"
     ]
    },
    {
     "cell_type": "markdown",
     "metadata": {
      "slideshow": {
       "slide_type": "slide"
      }
     },
     "source": [
      "## Composite systems I\n",
      "\n",
      "- Each constituent fermionic wavefunction exists in Hilbert space.\n",
      "- Each constituent fermionic wavefunction is a solution to the corresponding one-body problem (where all other fermions are removed).\n",
      "- The composite system will have a state space existing in the space spanned by the tensor product of each constituent space\n",
      "\n",
      "$$\\mathcal{H}_1 \\otimes \\mathcal{H}_2 \\otimes \\mathcal{H}_3 \\otimes ... $$\n",
      "\n",
      "- A subspace of the above tensor product might also suffice for the composite system. "
     ]
    },
    {
     "cell_type": "markdown",
     "metadata": {
      "slideshow": {
       "slide_type": "slide"
      }
     },
     "source": [
      "##Composite systems II\n",
      "\n",
      "When setting up a composite system for a number of subsystems, we then naturally assume\n",
      "\n",
      "$$\\Psi_h  = \\psi_0 \\otimes \\psi_1 \\otimes ... = \\psi_0(x_0) \\psi_1(x_1) ... $$\n",
      "  This is called the *Hartree function* or *-product*. (All individual quantum numbers are contained in $x_n$)\n",
      "  \n",
      "The Hartree product is completely *uncorrelated*, meaning that the probability of finding fermions simultaneously at locations $x_0,x_1,...$ is simply\n",
      "\n",
      "$$|\\psi_i(x_0)\\psi_j(x_1)...|^2 dx_0 dx_1 ... = |\\psi_i(x_0)|^2 dx_0 |\\psi_j(x_1)|^2 dx_2 ...$$\n",
      "\n",
      "i.e. the product of each constituent particle wavefunction squared. The motion of these particles is independent of each other."
     ]
    },
    {
     "cell_type": "markdown",
     "metadata": {
      "slideshow": {
       "slide_type": "slide"
      }
     },
     "source": [
      "##Indistinguishability\n",
      "\n",
      "- Fermions are experimentally known to be identical particles with half integer spin.\n",
      "- Being *identical* is equivalent to being experimentally *indistinguishable*. [1]\n",
      "- To take this into account, we must assume that the composite wavefunction is the same for all possible permutations of particles\n",
      "\n",
      "$$ \\Psi_p = \\frac{1}{N} \\sum_{i<j} P_{ij} \\Psi_h   $$\n",
      "\n",
      "Where P is the permutation operator and N is some normalizing factor.\n",
      "\n",
      "(If we consider identical particle wavefunctions with identical quantum numbers, this property is already inherent in the Hartree function, since any permutation will just yield an equivalent expression of the Hartree function.)\n",
      "\n",
      "**Consequence:**\n",
      "\n",
      "- The systems wavefunction may be considered a linear combination of spatially permuted states; measurement will be unaffected by permutations.\n",
      "\n",
      "*[1] An exception is when fermions are being prepared prior to experiment, for example by being given opposite momentum.*"
     ]
    },
    {
     "cell_type": "markdown",
     "metadata": {
      "slideshow": {
       "slide_type": "slide"
      }
     },
     "source": [
      "##The Pauli Exclusion Principle\n",
      "\n",
      "We know from experiment that identical fermions obey the Pauli principle:\n",
      "\n",
      "- **Assumtion: No two identical fermions may occupy the same QM state.**\n",
      "\n",
      "At least no exception for this principle has been found. [Citation]"
     ]
    },
    {
     "cell_type": "markdown",
     "metadata": {
      "slideshow": {
       "slide_type": "slide"
      }
     },
     "source": [
      "##Taking the Pauli Principle into account I\n",
      "\n",
      "The composite function should fulfill\n",
      "\n",
      "$$ \\langle \\Psi | \\Psi \\rangle = 0$$\n",
      "\n",
      "when constituent particles have identical quantum numbers. The permuted Hartree function does not fulfill this condition, as can be seen by considering two particles with the same quantum numbers:\n",
      "\n",
      "$$ \\Psi(a,b) = \\frac{1}{\\sqrt{2}} (\\psi_a(a) \\psi_b(b) + \\psi_a(b)\\psi_b(a)) $$\n",
      "\n",
      "$$ \\rightarrow \\langle \\Psi(a,a) |\u00a0\\Psi(a,a) \\rangle \\neq 0 $$"
     ]
    },
    {
     "cell_type": "markdown",
     "metadata": {
      "slideshow": {
       "slide_type": "slide"
      }
     },
     "source": [
      "##Taking the Pauli Principle into account II\n",
      "\n",
      "If we instead consider the *antisymmetric* linear combination of permuted states:\n",
      "\n",
      "$$ \\Psi(a, b) = \\frac{1}{\\sqrt{2}}(\\psi_a(a)\\psi_b(b) - \\psi_a(b)\\psi_b(a)) $$\n",
      "\n",
      "we will find that the wavefunction behaves as we want it to:\n",
      "\n",
      "$$ \\langle \\Psi(a,a) | \\Psi(a,a) \\rangle = 0$$\n",
      "\n",
      "$$ |\\Psi(a,b)|^2 dx_a dx_b = |-\\Psi(b,a)|^2 dx_a dx_b $$\n"
     ]
    },
    {
     "cell_type": "markdown",
     "metadata": {
      "slideshow": {
       "slide_type": "slide"
      }
     },
     "source": [
      "##The Slater Determinant (SD)\n",
      "\n",
      "The results so far is generalized in the Slater determinant:\n",
      "\n",
      "$$\\Psi_{SD} (\\mathbf{x_1},\\mathbf{x_2},...,\\mathbf{x_N}) =  \\\n",
      "\\frac{1}{\\sqrt{N!}}\n",
      " \\begin{vmatrix}\n",
      "  \\psi_1(\\mathbf{x_1}) & \\psi_2(\\mathbf{x_1}) & \\cdots & \\psi_N(\\mathbf{x_1}) \\\\\n",
      "  \\psi_1(\\mathbf{x_2}) & \\psi_2(\\mathbf{x_2}) & \\cdots & \\psi_N(\\mathbf{x_2}) \\\\\n",
      "  \\vdots               & \\vdots               & \\ddots & \\vdots               \\\\\n",
      "  \\psi_1(\\mathbf{x_N}) & \\psi_2(\\mathbf{x_N}) & \\cdots & \\psi_N(\\mathbf{x_N}) \\\\\n",
      " \\end{vmatrix} \n",
      "$$\n",
      "\n",
      "Another equivalent notation for the SD is to use the antisymmetrizer\n",
      "\n",
      "$$ \\Psi_{SD} = \\frac{1}{\\sqrt{N!}}(-)^p \\hat{P} \\prod_{i=1}^N \\psi_i(x_i) \\equiv \\sqrt{N!} \\mathcal{A} \\Psi_h $$\n",
      "\n",
      "This notation makes it easier to manipulate the expressions involved.\n",
      "\n",
      "**Some observations:**\n",
      "\n",
      "- Given that the constituent wavefunctions fulfills the Scr\u00f6dinger equation for the system, so will the SD built by these functions.\n",
      "- For an infinite single-particle basis, we may construct an infinite number of SD's.\n",
      "- In the limit of an infinite number of SD's, any N-fermion function can be represented exactly.\n"
     ]
    },
    {
     "cell_type": "markdown",
     "metadata": {
      "slideshow": {
       "slide_type": "slide"
      }
     },
     "source": [
      "##The Fermi Vacuum\n",
      "\n",
      "Each single particle wavefunction will typically have a groundstate, and a possibly infinite number of excited states. \n",
      "\n",
      "The system as a whole will also have energy levels (\"orbitals\") that may be occupied by particles.\n",
      "\n",
      "In the case where the N particle SD is built from the N lowest wavefunctions in the many body problem, we may define the Fermi level to be the energy level above the highest energy state in the SD.\n",
      "\n",
      "In this context, we often refer to the SD as the *reference state*, and denote it by $ |\\Psi_0 \\rangle   $\n",
      "\n",
      "An excited SD may then be constructed by replacing one of the states below the Fermi level with one above. In the particle-hole formalism, this means to create particle-hole state. \n",
      "\n",
      "A notation that is often used for such excitations is\n",
      "\n",
      "$$ a^{\\dagger}_a a_i |\\Psi_0\\rangle = |\\Psi_i^a \\rangle   $$\n",
      "\n",
      "Where a fermion is removed from state $i$ (below F) and placed in state $a$ (above F). \n",
      "\n",
      "For states above the Fermi level; abcd...\n",
      "\n",
      "For states below the Fermi level; ijkl...\n",
      "\n",
      "For all states; pqrs..."
     ]
    },
    {
     "cell_type": "markdown",
     "metadata": {
      "slideshow": {
       "slide_type": "slide"
      }
     },
     "source": [
      "##The exact wavefunction\n",
      "\n",
      "We may assume that there exists some operator that transforms one single SD built of an infinite single particle basis into the exact wavefunction:\n",
      "\n",
      "$$ \\Phi = \\hat{\\Omega} \\Psi_{SD} $$\n",
      "\n",
      "One possibility for an infinite basis set, is to find and expansion of excited SD's that exactly represents the system\n",
      "\n",
      "$$ \\Phi =  |\\Psi_0\\rangle + \\sum_{ai} c_{i}^a | \\Psi_i^a \\rangle +  \\sum_{abij} c_{ij}^{ab} | \\Psi_{ij}^{ab} \\rangle + ...$$\n",
      "\n",
      "In this case\n",
      "\n",
      "$$ \\Omega = (1+ \\hat{C} + \\hat{C}_2 + ...) $$\n",
      "\n",
      "This approach is called Full CI, and is unattainable whitout any truncation in the basis set or number of excitations."
     ]
    },
    {
     "cell_type": "markdown",
     "metadata": {
      "slideshow": {
       "slide_type": "slide"
      }
     },
     "source": [
      "##The Schr\u00f6dinger Equation\n",
      "\n",
      "The nonrelativistic time-independent Schr\u00f6dinger equation is:\n",
      "\n",
      "$$ H|\\Psi_{SD} \\rangle = E |\\Psi_{SD} \\rangle$$\n",
      "\n",
      "- We may have a number of contributions to the hamiltonian:\n",
      "    - Fermion-fermion interaction\n",
      "    - Fermion-potential interaction\n",
      "    - Internal contributions from the common potential\n",
      "    - Kinetic energy"
     ]
    },
    {
     "cell_type": "markdown",
     "metadata": {
      "slideshow": {
       "slide_type": "slide"
      }
     },
     "source": [
      "##The Variational Principle\n",
      "\n",
      "The standard procedure when evaluating the energy of a solution to the Schr\u00f6dinger equation is to multiply by $\\langle \\Psi_{0}|$ from the left:\n",
      "\n",
      "$$E_0 \\leq \\langle \\Psi_{0} |H|\\Psi_{0} \\rangle $$\n",
      "\n",
      "Note that because the single SD is only an approximation to the solution, we only find an upper limit to the ground state energy. \n",
      "\n",
      "The *variational principle* states that any function will be an upper limit to the ground state energy."
     ]
    },
    {
     "cell_type": "markdown",
     "metadata": {
      "slideshow": {
       "slide_type": "slide"
      }
     },
     "source": [
      "##Considering Spin\n",
      "\n",
      "We have previously mentioned that fermions in general have half-integer spin. This will affect our system:\n",
      "\n",
      "- It doubles the number of states accessible to the fermions.\n",
      "- Opposite-spin states are orthogonal to each other.\n",
      "\n",
      "\n"
     ]
    },
    {
     "cell_type": "markdown",
     "metadata": {
      "slideshow": {
       "slide_type": "slide"
      }
     },
     "source": [
      "##Interactions\n",
      "\n",
      "The particles in the system might be subject to a number of interactions that must be included in the energy expression.\n",
      "\n",
      "These are generally referred to as N-body operators, where N relate to the number of particles involved in the interaction.\n",
      "\n",
      "We may formulate these as operators acting on only certain particles in the product states:\n",
      "\n",
      "**One-body operator**\n",
      "\n",
      "$$ \\hat{F} = \\sum_p \\hat{f}(x_p) $$\n",
      "\n",
      "Meaning that it only affects particle with quantum numbers $x_p$.\n",
      "\n",
      "**Two-body operator**\n",
      "\n",
      "$$ \\hat{V} = \\sum_{pq} \\hat{v}(x_p,x_q) $$\n",
      "\n",
      "And so on.\n",
      "\n",
      "The interaction with a external potential field[3] is an example of a one-body operator, while an interaction between the fermions is an example of a two-body operator. "
     ]
    },
    {
     "cell_type": "markdown",
     "metadata": {},
     "source": [
      "##Interactions\n",
      "\n",
      "The particles in the system might be subject to a number of interactions that must be included in the energy expression.\n",
      "\n",
      "These are generally referred to as N-body operators, where N relate to the number of particles involved in the interaction.\n",
      "\n",
      "We may formulate these as operators acting on only certain particles in the product:\n",
      "\n",
      "**One-body operator**\n",
      "\n",
      "On second quantized form, a general one body operator is written\n",
      "\n",
      "$$ \\sum_{pq} f^p_q \\hat{a}_p^\\dagger \\hat{a}_q $$\n",
      "\n",
      "**Two-body operator**\n",
      "\n",
      "On second quantized form, a general two body operator is\n",
      "\n",
      "$$ \\hat{V} = \\sum_{pqrs} v^{pq}_{rs} \\hat{a}_p^\\dagger \\hat{a}_q^\\dagger \\hat{a}_r \\hat{a}_s $$\n",
      "\n",
      "And so on.\n",
      "\n",
      "The interaction with a external potential field[3] is an example of a one-body operator, while an interaction between the fermions is an example of a two-body operator. "
     ]
    },
    {
     "cell_type": "markdown",
     "metadata": {
      "slideshow": {
       "slide_type": "slide"
      }
     },
     "source": [
      "##Calculating the ground state energy I\n",
      "\n",
      "Using properties of the antisymmetrizer, we find that\n",
      "\n",
      "$$ E_0 = \\langle \\sqrt{N!} \\mathcal{A} \\Psi_h |\\hat{H}\u00a0| \\sqrt{N!} \\mathcal{A} \\Psi_h \\rangle = N! \\langle \\Psi_h | \\hat{H}|\\mathcal{A}^2 \\Psi_h \\rangle = N! \\langle \\Psi_h | \\hat{H}|\\mathcal{A} \\Psi_h \\rangle = \\langle \\Psi_h | \\hat{H}| \\Psi_{0} \\rangle$$\n",
      "\n",
      "When evaluating the one-body part of the energy of the slater determinant, we therefore must evaluate expressions of the form\n",
      "\n",
      "$$ \\langle \\Psi_h|\\hat{F} |\u00a0\\Psi_{0}\\rangle = \\sum_{p} \\langle \\Psi_h| f^p_p f(x_p) | \\Psi_{0}\\rangle = \\sum_i f^i_i = \\sum_i^N \\epsilon_i $$\n",
      "\n",
      "This is just the sum over each single particle energy, and follows from the orthogonality of the products in the reference state."
     ]
    },
    {
     "cell_type": "markdown",
     "metadata": {
      "slideshow": {
       "slide_type": "slide"
      }
     },
     "source": [
      "##Calculating the ground state energy II\n",
      "\n",
      "In the case of two-body interactions, we must also consider cases of one permutation in the reference state:\n",
      "\n",
      "$$ \\langle \\Psi_h|\\hat{V} | \\Psi_{0} \\rangle = \\sum_{pq} \\langle \\Psi_h  | v^{pq}_{rs} \\hat{v}(x_p,x_q) | \\Psi_0 \\rangle = \\langle i j |\u00a0( 1 - P_{ij}) |\u00a0i j \\rangle = v^{ij}_{ij} -  v^{ij}_{ji} \\equiv \\langle ij |\u00a0ij \\rangle_{AS} $$\n",
      "\n",
      "This is caused by the two-body operator's ability to act on terms in the SD that differ from the hartree product by only one permutation, making it identical to the hartree product.\n",
      "\n",
      "The two terms arising from the two particle interaction have been given the names *direct* and *exchange* term, respectively.\n",
      "\n",
      "When we work with electronic systems, the first term is often refered to as the *coulomb* term. "
     ]
    },
    {
     "cell_type": "markdown",
     "metadata": {
      "slideshow": {
       "slide_type": "slide"
      }
     },
     "source": [
      "##Fermionic correlation\n",
      "\n",
      "- The fact that the motion of each fermion should be dependent upon the other fermions in the system is commonly referred to as *correlation*.\n",
      "\n",
      "- Some of this correlation is attributed to the Pauli exlusion principle, and is inherent in the SD.\n",
      "\n",
      "- Other correlations will be caused by forces acting amongst the fermions, such as coulomb repulsion between electrons or nuclear forces between nucleons.\n",
      "\n",
      "- The *correlation energy* is a quantity commonly used in quantum chemistry to describe the difference in energy between the Hartree Fock energy and the exact solution of the nonrelativistic Schr\u00f6dinger equation. [S-B, p.8]\n",
      "\n",
      "\n",
      "![Correlation](correlation.png)"
     ]
    },
    {
     "cell_type": "markdown",
     "metadata": {
      "slideshow": {
       "slide_type": "slide"
      }
     },
     "source": [
      "##The Hartree Fock method\n",
      "\n",
      "In many-fermion systems, it is the dependence\n",
      "\n",
      "$$ \\frac{1}{|r_i - r_j|}$$\n",
      "\n",
      "in $\\hat{v}(x_i, x_j)$ that poses the difficulty in solving the equations.\n",
      "\n",
      "In the Hartree Fock method for electron systems, this problem is solved by two equivalent assumptions:\n",
      "\n",
      "- The system can be represented by a single Slater determinant.\n",
      "- Each electron interacts with a mean field set up by the other electrons.\n",
      "\n",
      "Both of these assumtions is wrong [citation needed], but it turns out that this will give us an initial approximative solution that often accounts for more than 99% of the energy and 95% of the wavefunction. [S-B, p6]. \n",
      "\n",
      "This approximation may also serve as a starting point for post Hartree Fock calculations."
     ]
    },
    {
     "cell_type": "markdown",
     "metadata": {
      "slideshow": {
       "slide_type": "slide"
      }
     },
     "source": [
      "##The Fock matrix\n",
      "\n",
      "To obtain the HF reference, the Fock matrix may be derived by first expanding each constituent function in the SD in a single particle basis. \n",
      "\n",
      "We then find the expression for the energy\n",
      "\n",
      "$$E[{C}] = \\sum_{\\alpha \\beta}^A \\sum_i^N C_{\\alpha i}^* C_{\\beta i} \\langle \\phi_{\\alpha i} | \\hat{f}(x_i) | \\phi_{\\beta i} + \\frac{1}{2} \\sum_{\\alpha \\beta \\gamma \\delta}^A \\sum_{ij, i \\neq j} \\langle \\phi_{\\alpha i} \\phi_{\\beta j} |\\hat{v}(x_i, x_j) | \\phi_{\\gamma, i} \\phi_{\\delta j} \\rangle_{AS} $$\n",
      "\n",
      "We want to minimize the energy as a function of the coefficients, while constraining the orthogonality of the basis functions. This means we have to minimize the functional\n",
      "\n",
      "$$ F[C, \\lambda] = E[C]\u00a0- \\sum_i \\lambda_i \\sum_{\\alpha}^A C_{i \\alpha}^* C_{i \\alpha} $$\n",
      "\n",
      "So that\n",
      "\n",
      "$$ \\frac{\\partial}{\\partial C_{i \\alpha}} F[C, \\lambda] = 0$$\n",
      "\n",
      "By performing the differentiation, we find the Fock matrix\n",
      "\n",
      "$$h^{HF}_{\\alpha \\beta} = \\langle \\alpha | f |\u00a0\\beta \\rangle + \\sum_{\\gamma \\delta}^A \\sum_j^N C_{\\beta j}^* C_{\\gamma i} C_{\\delta j} \\langle \\alpha \\beta |\\hat{v} | \\gamma \\delta \\rangle_{AS} $$\n",
      "\n"
     ]
    },
    {
     "cell_type": "markdown",
     "metadata": {
      "slideshow": {
       "slide_type": "slide"
      }
     },
     "source": [
      "## Hartree Fock - the Mean Field approximation\n",
      "\n",
      "Hartree Fock has also been called the Self-Consistent Field method, and the Mean Field approximation.\n",
      "\n",
      "When minimizing the energy, we basically replace the interaction between each fermion with a *mean field*, so that each fermion interacts with this field. We may interpret the Fock matrix as\n",
      "\n",
      "$$ h^{HF} = \\hat{t}_{kin} + \\hat{u}_{ext} + \\hat{u}_{hf} $$\n",
      "\n",
      "Where $\\hat{u}_{hf}$ is the mean field.\n",
      "\n",
      "[Slides, FYS-KJM4480]\n",
      "\n",
      "---\n",
      "\n",
      "**Consequence**\n",
      "\n",
      "- Even for a complete basis, Hartree Fock will only provide an approximation.\n",
      "\n",
      "By neglecting instantaneous interactions between the fermions, the Hartree Fock method will fail to account for parts of the correlation energy."
     ]
    },
    {
     "cell_type": "markdown",
     "metadata": {
      "slideshow": {
       "slide_type": "slide"
      }
     },
     "source": [
      "##The HF solution process\n",
      "\n",
      "The typical solution procedure is to\n",
      "\n",
      "1. Guess som initial coefficients.\n",
      "2. Set up the Fock matrix.\n",
      "3. Diagonalize the Fock matrix to obtain new coefficients.\n",
      "4. Check for convergence, if not: calculate new Fock matrix, repeat 3.\n",
      "\n",
      "When it converges, we will have obtained a set of eigenvectors of the Fock matrix, representing the single particle states entering the SD. "
     ]
    },
    {
     "cell_type": "markdown",
     "metadata": {
      "slideshow": {
       "slide_type": "slide"
      }
     },
     "source": [
      "##Correlations in the HF method\n",
      "\n",
      "Only part of the correlations occuring in the exact system will be accounted for in the HF approximation:\n",
      "\n",
      "- The Fermi Correlation (from the Pauli principle).\n",
      "- To some extent the coulomb interaction. (Mean field)"
     ]
    },
    {
     "cell_type": "markdown",
     "metadata": {
      "slideshow": {
       "slide_type": "slide"
      }
     },
     "source": [
      "##Restricted Hartree Fock\n",
      "\n",
      "For closed shell atoms and molecules, such as He, $H_2$ and Be, the fermions (in this case electrons), may be assumed to be paired with opposite spin particles. \n",
      "\n",
      "In the restricted Hartree Fock method, we consider only systems where all fermions are paired with opposite spin particles."
     ]
    },
    {
     "cell_type": "markdown",
     "metadata": {
      "slideshow": {
       "slide_type": "slide"
      }
     },
     "source": [
      "##Unrestricted Hartree Fock\n",
      "\n",
      "For systems with singly oocupied states (unpaired fermions, typically odd numbered) the restriction of spin-pairing is no longer valid. \n",
      "\n",
      "To take this into account, we set up two Fock matrices; one for each spin orientation. The resulting system is\n",
      "\n",
      "$$ F^{\\alpha}(C^{\\alpha}, C^{\\beta}) C^{\\alpha} = S C^{\\alpha} \\epsilon_{\\alpha} $$\n",
      "$$ F^{\\beta}(C^{\\alpha}, C^{\\beta}) C^{\\beta} = S C^{\\beta} \\epsilon_{\\beta} $$\n",
      "\n",
      "The ground state energy will be a function of the eigenvectors of these two matrices.\n",
      "\n",
      "(The dependencie of opposite spin coefficients in the Fock matrices is due to the direct- or coulomb term from the two particle integrals)\n",
      "\n",
      "[Modern Quantum Chemistry, Szabo, p214]"
     ]
    },
    {
     "cell_type": "markdown",
     "metadata": {
      "slideshow": {
       "slide_type": "slide"
      }
     },
     "source": [
      "##Spin contamination\n",
      "\n",
      "The $\\hat{S}^2$ operator commutes with the hamiltonian $\\hat{H}$, meaning that they have a common set of eigenfunctions. \n",
      "\n",
      "When performing UHF this might not always be the case, since we treat fermions that might otherwise occupy the same orbital differently.\n",
      "\n",
      "[Modern Quantum Chemistry, Szabo]"
     ]
    },
    {
     "cell_type": "markdown",
     "metadata": {
      "slideshow": {
       "slide_type": "skip"
      }
     },
     "source": [
      "- Thouless theorem\n",
      "- Brillouins theorem\n",
      "\n",
      "- The disassosciation problem\n",
      "\n",
      "\n",
      "Advantages of coupled cluster\n",
      "\n",
      "- Avoids spin contamination\n",
      "- Is size extensive\n",
      "- Takes into account instantaneous interactions\n"
     ]
    },
    {
     "cell_type": "markdown",
     "metadata": {
      "slideshow": {
       "slide_type": "slide"
      }
     },
     "source": [
      "##Motivation for post HF methods, Summary\n",
      "\n",
      "- A single determinant is not necessarily a good approximation to the true wavefunction.\n",
      "\n",
      "- The lack of instantaneous coulumb repulsion in HF\n",
      "\n",
      "- Spin contamination might occur in UHF and needs correction."
     ]
    },
    {
     "cell_type": "markdown",
     "metadata": {
      "slideshow": {
       "slide_type": "slide"
      }
     },
     "source": [
      "#Deriving The Coupled Cluster method\n",
      "\n"
     ]
    },
    {
     "cell_type": "markdown",
     "metadata": {
      "slideshow": {
       "slide_type": "slide"
      }
     },
     "source": [
      "##The exponential ansatz\n",
      "\n",
      "The exponential ansatz is an operator acting on the reference state:\n",
      "\n",
      "$$ e^{\\hat{T}} |\\Psi_o \\rangle $$\n",
      "\n",
      "Where the cluster operators\n",
      "\n",
      "$$ \\hat{T} = 1 + \\hat{T}_1 + \\hat{T_2} + ... = 1 + \\sum_{ai} t_i^a a_{a}^\\dagger a_i + \\sum_{ai} t_{ij}^{ab} a_{a}^\\dagger a_{b}^\\dagger a_i a_j + ...$$\n",
      "\n",
      "The coefficients $t_i^a$ are called *amplitudes*, and will need to be solved for. As for any exponential function, we may expand it as\n",
      "\n",
      "$$ e^{\\hat{T}} = 1 + \\hat{T} + \\frac{1}{2!} \\hat{T}^2 + \\frac{1}{3!} \\hat{T}^3 + ...$$\n",
      "\n",
      "So that \n",
      "\n",
      "$$ e^{\\hat{T}} |\\Psi_0 \\rangle = (1 + \\hat{T} + \\frac{1}{2!} \\hat{T}^2 + \\frac{1}{3!} \\hat{T}^3 + ...)|\\Psi_0 \\rangle $$ "
     ]
    },
    {
     "cell_type": "markdown",
     "metadata": {
      "slideshow": {
       "slide_type": "slide"
      }
     },
     "source": [
      "##The cluster operator\n",
      "\n",
      "As can be seen from the second quantized form of the cluster operators, when acting on the reference they will cause an excitation to n-particle n-hole state according to their order.\n",
      "\n",
      "$$\\hat{T}_1|\\Psi_0\\rangle = \\sum_{ai} t_i^a a_{a}^\\dagger a_i|\\Psi_0\\rangle = \\sum_{ai} t_i^a|\\Psi_i^a\\rangle$$\n",
      "$$\\hat{T}_2|\\Psi_0\\rangle = \\sum_{abij} t_{ij}^{ab} a_{a}^\\dagger a_{b}^\\dagger a_i a_j|\\Psi_0\\rangle = \\sum_{abij} t_{ij}^{ab}|\\Psi_{ij}^{ab}\\rangle$$"
     ]
    },
    {
     "cell_type": "markdown",
     "metadata": {
      "slideshow": {
       "slide_type": "slide"
      }
     },
     "source": [
      "## Extensivity and consistency\n",
      "\n",
      "A quantum mechanical model may be called *extensive* if the energy of this model scales correctly with the size of the system. [S-B, p11]\n",
      "\n",
      "Size consistency means that the energy of two subsystems combined or apart should, for large separations, fulfill\n",
      "\n",
      "$$E(AB) = E(A) + E(B)$$\n",
      "\n",
      "[S-B, p12]\n",
      "\n"
     ]
    },
    {
     "cell_type": "markdown",
     "metadata": {
      "slideshow": {
       "slide_type": "slide"
      }
     },
     "source": [
      "##Extensivity\n",
      "\n",
      "The extensivity property is built into the exponential ansatz.\n",
      "\n",
      "IN S-B, p255, it is shown that if the zero-order wavefunction of a noninteracting system is separable\n",
      "\n",
      "$$ \\phi_0(A,B) = \\phi_0(A)\\psi_0(B) $$\n",
      "\n",
      "And $\\hat{T}$ for the system is additive\n",
      "\n",
      "$$ \\hat{T}(A,B) = \\hat{T}(A) + \\hat{T}(B) $$\n",
      "\n",
      "It follows that the total wavefunction is multiplicatively separable:\n",
      "\n",
      "$$\\Psi(A,B) = e^{T(A) + T(B)}\\phi_0(A,B) = e^{T(A)}\\phi_0(A)e^{T(B)}\\phi_0(B)  $$\n",
      "\n",
      "And so the energy is additive\n",
      "\n",
      "$$ \\hat{H}(A,B)\\Psi(A,B) = [E(A) + E(B)]\\Psi(A,B) $$"
     ]
    },
    {
     "cell_type": "markdown",
     "metadata": {
      "slideshow": {
       "slide_type": "slide"
      }
     },
     "source": [
      "##Size consistency\n",
      "\n",
      "When comparing CC to CI, we see that the cluster operator corresponding to the 2p2h SD's in CI is\n",
      "\n",
      "$$ \\hat{C}_2 = \\hat{T}_2 + \\frac{1}{2}(\\hat{T}_1)^2$$\n",
      "\n",
      "The last term is commonly referred to as a *disconnected* cluster.\n",
      "\n",
      "In a system for two particles A and B, but separated so that practically no interaction occurs, the coupled cluster energies for this system will yield\n",
      "\n",
      "$$ E_{CC} = E_{A,CC} + E_{B,CC} $$\n",
      "\n",
      "This is not the case for CI\n",
      "\n",
      "$$ E_{CI} \\neq E_{A,CI} + E_{B,CI} $$\n",
      "\n",
      "[Crawford and Schaefer, p18]"
     ]
    },
    {
     "cell_type": "markdown",
     "metadata": {
      "slideshow": {
       "slide_type": "skip"
      }
     },
     "source": [
      "- Comparison with CI\n",
      "- Disconnected vs. connected cluster\n"
     ]
    },
    {
     "cell_type": "markdown",
     "metadata": {
      "slideshow": {
       "slide_type": "slide"
      }
     },
     "source": [
      "##The CC equations I\n",
      "\n",
      "We now want to derive the equations that lets us find the amplitudes and the energy resulting from the exponential ansatz.\n",
      "\n",
      "We begin by observing that the normal product form of the Schr\u00f6dinger equation for the exponential ansatz can be written\n",
      "\n",
      "$$(\\hat{H}_N - \\Delta e) e^{\\hat{T}} |\\Psi_0 \\rangle = 0$$\n",
      "\n",
      "We multiply by the inverse exponential to find\n",
      "\n",
      "$$(e^{\\hat{-T}} \\hat{H}_N e^{\\hat{T}} - \\Delta e)  |\\Psi_0 \\rangle = 0$$\n",
      "\n",
      "The non-Hermitian operator\n",
      "\n",
      "$$e^{\\hat{-T}} \\hat{H}_N e^{\\hat{T}}  \\equiv \\mathcal{H}$$\n",
      "\n",
      "is a similarity transformed Hamiltonian, often called the *CC effective Hamiltonian*."
     ]
    },
    {
     "cell_type": "markdown",
     "metadata": {
      "slideshow": {
       "slide_type": "slide"
      }
     },
     "source": [
      "##The CC equations II\n",
      "\n",
      "If we apply the Baker-Campbell-Hausdorff expansion [S-B, p293] to the CC effective hamiltionian, we may rewrite it as\n",
      "\n",
      "$$\\mathcal{H} = \\hat{H}_N + [\\hat{H}_N, \\hat{T}] + \\frac{1}{2} [[\\hat{H}_N, \\hat{T}], \\hat{T}] +  \\frac{1}{3!} [[[\\hat{H}_N, \\hat{T}], \\hat{T}], \\hat{T}] + \\frac{1}{4!} [[[[\\hat{H}_N, \\hat{T}], \\hat{T}], \\hat{T}], \\hat{T}].$$\n",
      "\n",
      "The reason that this sum of nested operators truncates at the four-fold commutator, becomes apparent if we use Wicks generalized theorem to evaluate the expansion. \n",
      "\n",
      "Following Shavitt and Bartlett (p.294) we have for the commutator of two operators with even number of creation and annihilation operators;\n",
      "\n",
      "$$ [A,B] = AB - BA = np(A,B) + (\\dot{A}\\dot{B}) - np(B,A) - (\\dot{B}\\dot{A})  $$\n",
      "\n",
      "Where $np$ indicates a normal ordered product of operators and dotted operators indicate a sum of all possible contractions between the normal ordered operators A and B.\n",
      "\n",
      "This is simplified further since both A and B (H and T) contain an even number of creation and annihilation operators:\n",
      "\n",
      "$$ np(A,B) = np(B,a)$$"
     ]
    },
    {
     "cell_type": "markdown",
     "metadata": {
      "slideshow": {
       "slide_type": "slide"
      }
     },
     "source": [
      "##The CC equations III\n",
      "\n",
      "We end up with\n",
      "\n",
      "$$ [A,B] = (\\dot{A}\\dot{B}) - (\\dot{B}\\dot{A})$$\n",
      "\n",
      "Since the cluster operators $T_m$ commute, the nested operators will only have surviving terms where $\\hat{H}_N$ contracts with one or more cluster operators.\n",
      "\n",
      "The reason for the truncation of the Hausdorff expansion is then apparent; $\\hat{H}_N$ is a sum of operators which at most contains four creation or annihilation operators. It is therefore not possible to contract any term in $\\hat{H}_N$ to more than 4 cluster operators.\n"
     ]
    },
    {
     "cell_type": "markdown",
     "metadata": {
      "slideshow": {
       "slide_type": "slide"
      }
     },
     "source": [
      "##The CC equations IV\n",
      "\n",
      "We also have to take into account that particle creation operators can only produce a nonzero contraction with a particle annihilation operator to its left, and a hole annihilation operator may only produce a nonzero contraction with a hole creation operator to its left, so that the only contributing terms when unraveling the nested operator is terms that begin with the normal ordered hamiltonian:\n",
      "\n",
      "$$ \\mathcal{H} = e^{\\hat{-T}} \\hat{H}_N e^{\\hat{T}} = \\hat{H}_N + (\\dot{\\hat{H}_N}\\dot{\\hat{T}}) + \\frac{1}{2}(\\dot{\\hat{H}_N}\\dot{\\hat{T}}\\dot{\\hat{T}}) + \\frac{1}{3!}(\\dot{\\hat{H}_N}\\dot{\\hat{T}}\\dot{\\hat{T}}\\dot{\\hat{T}}) + \\frac{1}{4!}(\\dot{\\hat{H}_N}\\dot{\\hat{T}}\\dot{\\hat{T}}\\dot{\\hat{T}}\\dot{\\hat{T}})\\equiv (\\hat{H}_Ne^{\\hat{T}})_C $$\n",
      "\n",
      "The dots indicate a sum over all terms in which the hamiltonian connect by at least one contraction to each of the cluster operators to its right. The subscript C indicates connected terms."
     ]
    },
    {
     "cell_type": "markdown",
     "metadata": {
      "slideshow": {
       "slide_type": "slide"
      }
     },
     "source": [
      "##The CC equations V\n",
      "\n",
      "We are finally in a position to derive explicit expressions for the energy and amplitudes.\n",
      "\n",
      "We have the general equation \n",
      "\n",
      "$$ (\\hat{H}_Ne^{\\hat{T}})_C |\\Phi_0 \\rangle = \\Delta e |\\Phi_0 \\rangle $$\n",
      "\n",
      "Finding the energy is now simply\n",
      "\n",
      "$$ \\langle \\Phi_0 |(\\hat{H}_Ne^{\\hat{T}})_C |\\Phi_0 \\rangle = \\Delta e  $$\n",
      "\n",
      "The amplitudes may be found from the equations \n",
      "\n",
      "$$ \\langle \\Phi_i^a |(\\hat{H}_Ne^{\\hat{T}})_C |\\Phi_0 \\rangle = 0  $$\n",
      "\n",
      "$$ \\langle \\Phi_{ij}^{ab} |(\\hat{H}_Ne^{\\hat{T}})_C |\\Phi_0 \\rangle = 0  $$\n",
      "\n",
      "...\n",
      "\n",
      "What remains now is the tedious process of working out the explicit equations for a give truncation in the exponential ansatz."
     ]
    },
    {
     "cell_type": "markdown",
     "metadata": {
      "slideshow": {
       "slide_type": "slide"
      }
     },
     "source": [
      "##Truncating the ansatz\n",
      "\n",
      "As previously stated, we have\n",
      "\n",
      "$$ \\hat{T} = \\hat{T}_1 + \\hat{T}_2 + \\hat{T}_3 + ...$$\n",
      "\n",
      "We truncate this ansatz by limiting the number of cluster operators entering the exponent. The standard truncations is\n",
      "\n",
      "CCD: $\\hat{T} = \\hat{T}_2$ (doubles)\n",
      "\n",
      "CCSD: $\\hat{T} = \\hat{T}_1 + \\hat{T}_2$ (singles, doubles)\n",
      "\n",
      "CCSDT: $\\hat{T} = \\hat{T}_1+ \\hat{T}_2 + \\hat{T}_3$ (singles, doubles, triples)\n",
      "\n",
      "Thouless Theorem states that a CCS approach would only transform a single determinant into another single determinant, so this truncation does not occur. (In analogy to Brillouin's theorem in CI).\n"
     ]
    },
    {
     "cell_type": "markdown",
     "metadata": {
      "slideshow": {
       "slide_type": "slide"
      }
     },
     "source": [
      "##The explicit form of the equation\n",
      "\n",
      "We could now proceed by working out the explicit equations for amplitudes and energy using Wick's theorem.\n",
      "\n",
      "Another approach is however outlined in S-B (p.297) that makes the process much simpler and interesting, and it is based on the application of diagrams.\n",
      "\n",
      "\n",
      "\n"
     ]
    },
    {
     "cell_type": "markdown",
     "metadata": {
      "slideshow": {
       "slide_type": "slide"
      }
     },
     "source": [
      "##The diagrammatic normal ordered hamiltonian\n",
      "\n",
      "![Hamiltonian](HParts.png)\n",
      "\n",
      "(Illustration from S-B, p. 297)\n",
      "\n",
      "The normal ordered hamiltonian is a sum of \"filaments\" that may be contracted with cluster operators to form diagrams.\n",
      "\n",
      "The + and - signs below the interaction line indicates virtual particle annihilation operators. They will be helpful when we evaluate the different ways of contracting each diagrams."
     ]
    },
    {
     "cell_type": "markdown",
     "metadata": {
      "slideshow": {
       "slide_type": "slide"
      }
     },
     "source": [
      "##The diagrammatic cluster operators\n",
      "\n",
      "![Tparts](TParts.png)\n",
      "\n",
      "(Illustration from S-B, p. 298)\n",
      "\n",
      "The diagrammatic cluster operators of different excitation levels.\n",
      "\n",
      "Vertical lines between the + and - symbols may be used to denote repeated operators."
     ]
    },
    {
     "cell_type": "markdown",
     "metadata": {
      "slideshow": {
       "slide_type": "slide"
      }
     },
     "source": [
      "##Connecting operators \n",
      "\n",
      "![](example.png)\n",
      "\n",
      "(Illustration from S-B, p.299)\n",
      "\n",
      "In the example above, the contraction \n",
      "\n",
      "$$ \\langle \\Phi_0 | \\hat{H} \\hat{T_2} \\hat{T_2} | \\Phi_0 \\rangle $$\n",
      "\n",
      "is evaluated."
     ]
    },
    {
     "cell_type": "markdown",
     "metadata": {
      "slideshow": {
       "slide_type": "slide"
      }
     },
     "source": [
      "##Interpreting diagrams\n",
      "\n",
      "In Shavitt Bartlett, 10 rules for intepreting coupled-cluster diagrams are given:\n",
      "\n",
      "    (1)  Label internal and external lines with particle and hole labels\n",
      "    (2)  Assosciate f(i,a) with every 1-p operator vertex\n",
      "    (3)  Assosciate <lout rout || lin rin> with every 2-p operator ver\n",
      "    (4)  Assosciate t(ab,ij) for every amplitude\n",
      "    (5)  Sum over all internal lines\n",
      "    (6)  Multiply by 1/2 for each pair of equivalent internal lines\n",
      "    (7)  Multiply by 1/2 for each pair of equivalent T-vertices\n",
      "    (8)  Include a phase factor (-)**(holes-loops)\n",
      "    (9)  Sum over all distinct permutations of inequivalent external pairs\n",
      "    (10) Cancel each factor .5 in open diagrams with equivalent vertives arising from rule 7 with a permutation of the labels of a pair of external lines connected to the equivalent vertices.\n",
      "            \n"
     ]
    },
    {
     "cell_type": "markdown",
     "metadata": {
      "slideshow": {
       "slide_type": "slide"
      }
     },
     "source": [
      "##Implementing diagrams\n",
      "\n",
      "Although the diagrammatic rules greatly simplifies the process of deriving the equations, there is still a high possibility for errors due to human inaccuracy.\n",
      "\n",
      "The CCSD T1 amplitude have for example 14 terms, making even the diagrammatic process quite tedious."
     ]
    },
    {
     "cell_type": "markdown",
     "metadata": {
      "slideshow": {
       "slide_type": "slide"
      }
     },
     "source": [
      "##In the words of H.G.K\u00fcmmel\n",
      "\n",
      "*\"Because of the often large number of terms in all versions of the CCM it is rather hard work to obtain the explicit equations by hand. And after this is done one has to write a program to put them into the computer.\"* - H. G. K\u00fcmmel\n",
      "\n",
      "[A biography of the coupled cluster method, June 2001]"
     ]
    },
    {
     "cell_type": "markdown",
     "metadata": {
      "slideshow": {
       "slide_type": "slide"
      }
     },
     "source": [
      "##One more simplification\n",
      "\n",
      "To simplify the process of deriving explicit CC equations, I have developed a python script called CCAlgebra (Coupled Cluster Algebra).\n",
      "\n",
      "The intention is to use the diagrammatical approach in an object oriented context to automate the derivation of the equations involved. It is basically an attempt to teach the computer to derive and interpret diagrams, circumventing the use of wicks theorem or second quantization manipulations.\n",
      "\n",
      "In the remaining slides I will give an overview of this script, and show how to use it in code developement."
     ]
    },
    {
     "cell_type": "markdown",
     "metadata": {
      "slideshow": {
       "slide_type": "slide"
      }
     },
     "source": [
      "##Defining operators"
     ]
    },
    {
     "cell_type": "code",
     "collapsed": false,
     "input": [
      "H   = Operator([1,-1],[])      # The first list defines q-particle annihilations (below interaction),\n",
      "                               # while the second is creations. Particles and holes are indicated by 1 and -1 respectively.\n",
      "T_1 = Operator([],[1,-1])      #The T_1 cluster operator\n",
      "T_2 = Operator([],[1,1,-1,-1]) #The T_2 operator; all lists must be normal ordered"
     ],
     "language": "python",
     "metadata": {},
     "outputs": [],
     "prompt_number": 40
    },
    {
     "cell_type": "markdown",
     "metadata": {},
     "source": [
      "The following operators are defined above:\n",
      "\n",
      "![](h2.png)\n",
      "![](t1t2.png)"
     ]
    },
    {
     "cell_type": "markdown",
     "metadata": {
      "slideshow": {
       "slide_type": "slide"
      }
     },
     "source": [
      "##Find all possible contractions"
     ]
    },
    {
     "cell_type": "code",
     "collapsed": false,
     "input": [
      "contraction = O(H,[T_1]) #The second argument must be a list of operators (T_1 * T_1 = [T_1, T_1])"
     ],
     "language": "python",
     "metadata": {},
     "outputs": [],
     "prompt_number": 41
    },
    {
     "cell_type": "markdown",
     "metadata": {
      "slideshow": {
       "slide_type": "slide"
      }
     },
     "source": [
      "##Show excitation and number of resulting diagrams"
     ]
    },
    {
     "cell_type": "code",
     "collapsed": false,
     "input": [
      "print \"Excitation:\", contraction.E() #Excitation energy of connected operators\n",
      "print \"Number of distinct diagrams:\", contraction.N"
     ],
     "language": "python",
     "metadata": {},
     "outputs": [
      {
       "output_type": "stream",
       "stream": "stdout",
       "text": [
        "Excitation: 0.0\n",
        "Number of distinct diagrams: 1\n"
       ]
      }
     ],
     "prompt_number": 42
    },
    {
     "cell_type": "markdown",
     "metadata": {
      "slideshow": {
       "slide_type": "slide"
      }
     },
     "source": [
      "##Show a mathematical representation (latex)"
     ]
    },
    {
     "cell_type": "code",
     "collapsed": false,
     "input": [
      "c_tex = contraction.latex(0) #The first of possibly multiple distinct diagrams in latex format.\n",
      "Math(c_tex)"
     ],
     "language": "python",
     "metadata": {},
     "outputs": [
      {
       "latex": [
        "$$\\frac{1}{1} \\sum_{ck} \\langle k || c \\rangle t_{k}^{c}$$"
       ],
       "metadata": {},
       "output_type": "pyout",
       "prompt_number": 43,
       "text": [
        "<IPython.core.display.Math at 0x10bd4b990>"
       ]
      }
     ],
     "prompt_number": 43
    },
    {
     "cell_type": "markdown",
     "metadata": {
      "slideshow": {
       "slide_type": "slide"
      }
     },
     "source": [
      "##Display a diagrammatic representation"
     ]
    },
    {
     "cell_type": "code",
     "collapsed": false,
     "input": [
      "contraction.diagram(0, [0,0], True) #Display diagram 0 at position x/y = [0,0] using internal show() function (matplotlib)"
     ],
     "language": "python",
     "metadata": {},
     "outputs": [
      {
       "metadata": {},
       "output_type": "display_data",
       "png": "[encoded data removed]",
       "text": [
        "<matplotlib.figure.Figure at 0x10bd4be10>"
       ]
      }
     ],
     "prompt_number": 44
    },
    {
     "cell_type": "markdown",
     "metadata": {
      "slideshow": {
       "slide_type": "slide"
      }
     },
     "source": [
      "##A more complex example"
     ]
    },
    {
     "cell_type": "code",
     "collapsed": false,
     "input": [
      "H = Operator([1,1,-1],[1])\n",
      "contraction = O(H,[T_1, T_2]) #The second argument must be a list of operators (T_1 * T_1 = [T_1, T_1])c_tex = contraction.latex(0) #The first of possibly multiple distinct diagrams in latex format.\n",
      "c_tex = contraction.latex(0) #The first of possibly multiple distinct diagrams in latex format.\n",
      "Math(c_tex)"
     ],
     "language": "python",
     "metadata": {},
     "outputs": [
      {
       "latex": [
        "$$P(ba)\\frac{-1}{1} \\sum_{ckd} \\langle ak || cd \\rangle t_{k}^{c} t_{ij}^{db}$$"
       ],
       "metadata": {},
       "output_type": "pyout",
       "prompt_number": 45,
       "text": [
        "<IPython.core.display.Math at 0x10bef1810>"
       ]
      }
     ],
     "prompt_number": 45
    },
    {
     "cell_type": "code",
     "collapsed": false,
     "input": [
      "plot([-2,7],[-2,4.5], color = \"white\") #just making the diagrams scale correctly\n",
      "contraction.diagram(0, [0,0], False)\n",
      "contraction.diagram(1, [3,0], False)\n",
      "contraction.diagram(2, [6,0], False)\n",
      "axis(\"off\")\n",
      "show()"
     ],
     "language": "python",
     "metadata": {},
     "outputs": [
      {
       "metadata": {},
       "output_type": "display_data",
       "png": "[encoded data removed]",
       "text": [
        "<matplotlib.figure.Figure at 0x10bef1250>"
       ]
      }
     ],
     "prompt_number": 46
    },
    {
     "cell_type": "markdown",
     "metadata": {
      "slideshow": {
       "slide_type": "slide"
      }
     },
     "source": [
      "##Higher level functions\n",
      "\n",
      "It is easy to develop higher level operations on top of this framework.\n",
      "\n",
      "Considering that the exponent in the ansatz will typically be a sum of cluster operators, a neat function is to expand a list of operator objects:"
     ]
    },
    {
     "cell_type": "code",
     "collapsed": false,
     "input": [
      "print expand_ansatz([[\"a\"],[\"b\"]], 3)"
     ],
     "language": "python",
     "metadata": {},
     "outputs": [
      {
       "output_type": "stream",
       "stream": "stdout",
       "text": [
        "[['a'], ['b'], ['a', 'a'], ['a', 'b'], ['b', 'a'], ['b', 'b'], ['a', 'a', 'a'], ['a', 'a', 'b'], ['a', 'b', 'a'], ['a', 'b', 'b'], ['b', 'a', 'a'], ['b', 'a', 'b'], ['b', 'b', 'a'], ['b', 'b', 'b']]\n"
       ]
      }
     ],
     "prompt_number": 47
    },
    {
     "cell_type": "markdown",
     "metadata": {
      "slideshow": {
       "slide_type": "slide"
      }
     },
     "source": [
      "A predefined normal ordered hamiltonian will also come in handy"
     ]
    },
    {
     "cell_type": "code",
     "collapsed": false,
     "input": [
      "def normal_ordered_hamiltonian():\n",
      "    #These elements corresponds to (9.105) in S-B:\n",
      "    F1 = Operator([1],[1])     #Excitation level: 0\n",
      "    F2 = Operator([-1],[-1])   #E:0\n",
      "    F3 = Operator([],[1,-1])   #E:+1\n",
      "    F4 = Operator([1,-1],[])   #E:-1\n",
      "    \n",
      "    #These elements correspond to (9.107) in S-B:\n",
      "    V1 = Operator([1,1],[1,1])     #E:0\n",
      "    V2 = Operator([-1,-1],[-1,-1]) #E:0\n",
      "    V3 = Operator([1,-1],[1,-1])   #E:0\n",
      "    \n",
      "    V4 = Operator([1],[1,1,-1])    #E:+1\n",
      "    V5 = Operator([1,1,-1],[1])    #E:-1\n",
      "    V7 = Operator([1,-1,-1],[-1])  #E:-1\n",
      "    V6 = Operator([-1],[1,-1,-1])  #E:+1\n",
      "    \n",
      "    V9 = Operator([1,1,-1,-1],[])  #E:-2\n",
      "    V8 = Operator([],[1,1,-1,-1])  #E:+2\n",
      "    \n",
      "    return [F1,F2,F3,F4,V1,V2,V3,V4,V5,V6,V7,V8,V9]   "
     ],
     "language": "python",
     "metadata": {},
     "outputs": [],
     "prompt_number": 48
    },
    {
     "cell_type": "markdown",
     "metadata": {
      "slideshow": {
       "slide_type": "slide"
      }
     },
     "source": [
      "## Cluster operators\n",
      "\n",
      "A cluster operator is also predefined"
     ]
    },
    {
     "cell_type": "code",
     "collapsed": false,
     "input": [
      "print cluster_operator([1,2,3]) # returns [T_1, T_2, T_3]"
     ],
     "language": "python",
     "metadata": {},
     "outputs": [
      {
       "output_type": "stream",
       "stream": "stdout",
       "text": [
        "[[<__main__.Operator instance at 0x10c015e60>], [<__main__.Operator instance at 0x10c015440>], [<__main__.Operator instance at 0x10bd9b8c0>]]\n"
       ]
      }
     ],
     "prompt_number": 49
    },
    {
     "cell_type": "markdown",
     "metadata": {
      "slideshow": {
       "slide_type": "slide"
      }
     },
     "source": [
      "##Evaluating sums of operators\n",
      "\n",
      "The normal ordered hamiltonian and the cluster expansion is both sums of operators. We will need to combine these in all possible ways, at least find all combinations that correspond to a given energy level.\n",
      "\n",
      "Below we derive the CC energy"
     ]
    },
    {
     "cell_type": "code",
     "collapsed": false,
     "input": [
      "H = normal_ordered_hamiltonian()\n",
      "T_1 = Operator([],[1,-1])      #The T_1 cluster operator\n",
      "T_2 = Operator([],[1,1,-1,-1]) #The T_2 operator; all lists must be normal ordered\n",
      "expT = expand_ansatz([[T_1],[T_2]], 4)\n",
      "\n",
      "tx = combine_to_excitation(H,expT,0, [1,0,0,0]) #All combinations that produce excitation level 1\n",
      "S = \"0 =\"\n",
      "for i in tx:\n",
      "    S+= \"+\"+ i\n",
      "Math(S)"
     ],
     "language": "python",
     "metadata": {},
     "outputs": [
      {
       "latex": [
        "$$0 =+\\frac{1}{1} \\sum_{ck} \\langle k || c \\rangle t_{k}^{c}+\\frac{1}{4} \\sum_{cdkl} \\langle kl || cd \\rangle t_{kl}^{cd}+\\frac{1}{2} \\sum_{ckdl} \\langle kl || cd \\rangle t_{k}^{c} t_{l}^{d}$$"
       ],
       "metadata": {},
       "output_type": "pyout",
       "prompt_number": 50,
       "text": [
        "<IPython.core.display.Math at 0x10c00add0>"
       ]
      }
     ],
     "prompt_number": 50
    },
    {
     "cell_type": "markdown",
     "metadata": {
      "slideshow": {
       "slide_type": "slide"
      }
     },
     "source": [
      "##Evaluating the energy\n",
      "\n",
      "It is easy to recognize the energy when viewed as diagrams"
     ]
    },
    {
     "cell_type": "code",
     "collapsed": false,
     "input": [
      "H = normal_ordered_hamiltonian()\n",
      "T_1 = Operator([],[1,-1])      #The T_1 cluster operator\n",
      "T_2 = Operator([],[1,1,-1,-1]) #The T_2 operator; all lists must be normal ordered\n",
      "expT = expand_ansatz([[T_1],[T_2]], 4)\n",
      "\n",
      "tx = combine_to_excitation(H,expT,0, [0,1,0,0]) #All combinations that produce excitation level 0\n"
     ],
     "language": "python",
     "metadata": {},
     "outputs": [
      {
       "metadata": {},
       "output_type": "display_data",
       "png": "[encoded data removed]",
       "text": [
        "<matplotlib.figure.Figure at 0x10bec5d10>"
       ]
      },
      {
       "metadata": {},
       "output_type": "display_data",
       "png": "[encoded data removed]",
       "text": [
        "<matplotlib.figure.Figure at 0x10becc610>"
       ]
      },
      {
       "metadata": {},
       "output_type": "display_data",
       "png": "[encoded data removed]",
       "text": [
        "<matplotlib.figure.Figure at 0x10bda7590>"
       ]
      }
     ],
     "prompt_number": 51
    },
    {
     "cell_type": "markdown",
     "metadata": {
      "slideshow": {
       "slide_type": "slide"
      }
     },
     "source": [
      "##The CCD equations\n",
      "\n",
      "To show some of the potential in such a code, we will now develop the full CCD equation."
     ]
    },
    {
     "cell_type": "code",
     "collapsed": false,
     "input": [
      "H = normal_ordered_hamiltonian()\n",
      "T_2 = Operator([],[1,1,-1,-1]) \n",
      "expT = expand_ansatz([[T_2]], 4) #Natural truncation\n",
      "tx = combine_to_excitation(H,expT, 0, [1,1,0,0]) #The list is explained below\n",
      "S = \"0 = \"\n",
      "for i in tx:\n",
      "    S+= \"+\" + i\n",
      "Math(S)"
     ],
     "language": "python",
     "metadata": {
      "slideshow": {
       "slide_type": "-"
      }
     },
     "outputs": [
      {
       "metadata": {},
       "output_type": "display_data",
       "png": "[encoded data removed]",
       "text": [
        "<matplotlib.figure.Figure at 0x10bd43850>"
       ]
      },
      {
       "latex": [
        "$$0 = +\\frac{1}{4} \\sum_{cdkl} \\langle kl || cd \\rangle t_{kl}^{cd}$$"
       ],
       "metadata": {},
       "output_type": "pyout",
       "prompt_number": 52,
       "text": [
        "<IPython.core.display.Math at 0x10bd69710>"
       ]
      }
     ],
     "prompt_number": 52
    },
    {
     "cell_type": "code",
     "collapsed": false,
     "input": [
      "H = normal_ordered_hamiltonian()\n",
      "T_2 = Operator([],[1,1,-1,-1]) \n",
      "expT = expand_ansatz([[T_2]], 4) #Natural truncation\n",
      "tx = combine_to_excitation(H,expT, 2, [1,1,0,0]) #The list is explained below\n",
      "S = \"0 = \"\n",
      "for i in tx:\n",
      "    S+= \"+\" + i + \"\\n\"\n",
      "Math(S)"
     ],
     "language": "python",
     "metadata": {},
     "outputs": [
      {
       "metadata": {},
       "output_type": "display_data",
       "png": "[encoded data removed]",
       "text": [
        "<matplotlib.figure.Figure at 0x10c075850>"
       ]
      },
      {
       "metadata": {},
       "output_type": "display_data",
       "png": "[encoded data removed]",
       "text": [
        "<matplotlib.figure.Figure at 0x10bdebb50>"
       ]
      },
      {
       "metadata": {},
       "output_type": "display_data",
       "png": "[encoded data removed]",
       "text": [
        "<matplotlib.figure.Figure at 0x10bef5990>"
       ]
      },
      {
       "metadata": {},
       "output_type": "display_data",
       "png": "[encoded data removed]",
       "text": [
        "<matplotlib.figure.Figure at 0x10c0e13d0>"
       ]
      },
      {
       "metadata": {},
       "output_type": "display_data",
       "png": "[encoded data removed]",
       "text": [
        "<matplotlib.figure.Figure at 0x10bef12d0>"
       ]
      },
      {
       "metadata": {},
       "output_type": "display_data",
       "png": "[encoded data removed]",
       "text": [
        "<matplotlib.figure.Figure at 0x10c01b450>"
       ]
      },
      {
       "metadata": {},
       "output_type": "display_data",
       "png": "[encoded data removed]",
       "text": [
        "<matplotlib.figure.Figure at 0x10c0e3550>"
       ]
      },
      {
       "metadata": {},
       "output_type": "display_data",
       "png": "[encoded data removed]",
       "text": [
        "<matplotlib.figure.Figure at 0x10c66bed0>"
       ]
      },
      {
       "metadata": {},
       "output_type": "display_data",
       "png": "[encoded data removed]",
       "text": [
        "<matplotlib.figure.Figure at 0x10c066d90>"
       ]
      },
      {
       "latex": [
        "$$0 = +P(ba)\\frac{-1}{1} \\sum_{c} \\langle a || c \\rangle t_{ij}^{cb}\n",
        "+P(ij)\\frac{1}{1} \\sum_{k} \\langle k || j \\rangle t_{ik}^{ab}\n",
        "+\\frac{1}{2} \\sum_{cd} \\langle ab || cd \\rangle t_{ij}^{cd}\n",
        "+\\frac{1}{2} \\sum_{kl} \\langle kl || ij \\rangle t_{kl}^{ab}\n",
        "+P(ba)P(ij)\\frac{-1}{1} \\sum_{ck} \\langle ak || cj \\rangle t_{ik}^{cb}\n",
        "+P(ij)\\frac{-1}{2} \\sum_{cdkl} \\langle kl || cd \\rangle t_{ik}^{cd} t_{jl}^{ab}\n",
        "+\\frac{1}{4} \\sum_{cdkl} \\langle kl || cd \\rangle t_{ij}^{cd} t_{kl}^{ab}\n",
        "+P(ab)\\frac{-1}{2} \\sum_{ckld} \\langle kl || cd \\rangle t_{kl}^{ca} t_{ij}^{db}\n",
        "+P(ab)P(ij)\\frac{1}{2} \\sum_{ckdl} \\langle kl || cd \\rangle t_{ik}^{ca} t_{jl}^{db}\n",
        "$$"
       ],
       "metadata": {},
       "output_type": "pyout",
       "prompt_number": 53,
       "text": [
        "<IPython.core.display.Math at 0x10bd5a850>"
       ]
      }
     ],
     "prompt_number": 53
    },
    {
     "cell_type": "markdown",
     "metadata": {
      "slideshow": {
       "slide_type": "slide"
      }
     },
     "source": [
      "##Generating code\n",
      "\n",
      "When the diagrammatic representation is understood by the computer, it is easy to translate it to latex, diagrams, text or even code.\n",
      "\n",
      "In the example below, we generate a C++ code directly for the T2 CCD amplitude instead of diagrams or latex:"
     ]
    },
    {
     "cell_type": "code",
     "collapsed": false,
     "input": [
      "H = normal_ordered_hamiltonian()\n",
      "T_2 = Operator([],[1,1,-1,-1]) \n",
      "expT = expand_ansatz([[T_2]], 4) #Natural truncation\n",
      "tx = combine_to_excitation(H,expT, 2, [1,0,0,1]) #The list is explained below\n"
     ],
     "language": "python",
     "metadata": {},
     "outputs": [
      {
       "output_type": "stream",
       "stream": "stdout",
       "text": [
        "\n",
        "double CC0_0a = 0.0;\n",
        "for(int c = nElectrons; c < nStates; c ++){\n",
        "    CC0_0a += v1(a)(c)*tf2(c,b)(i,j)-(v1(b)(c)*tf2(c,a)(i,j));\n",
        "}\n",
        "CC0_0a *= -1.000000;\n",
        "\n",
        "\n",
        "double CC1_0a = 0.0;\n",
        "for(int k = 0; k < nElectrons; k ++){\n",
        "    CC1_0a += v1(k)(j)*tf2(a,b)(i,k)-(v1(k)(i)*tf2(a,b)(j,k));\n",
        "}\n",
        "CC1_0a *= 1.000000;\n",
        "\n",
        "\n",
        "double CC4_0a = 0.0;\n",
        "for(int d = nElectrons; d < nStates; d ++){\n",
        "    for(int c = nElectrons; c < nStates; c ++){\n",
        "        CC4_0a += v2(a,b)(c,d)*tf2(c,d)(i,j);\n",
        "    }\n",
        "}\n",
        "CC4_0a *= 0.500000;\n",
        "\n",
        "\n",
        "double CC5_0a = 0.0;\n",
        "for(int l = 0; l < nElectrons; l ++){\n",
        "    for(int k = 0; k < nElectrons; k ++){\n",
        "        CC5_0a += v2(k,l)(i,j)*tf2(a,b)(k,l);\n",
        "    }\n",
        "}\n",
        "CC5_0a *= 0.500000;\n",
        "\n",
        "\n",
        "double CC6_0a = 0.0;\n",
        "for(int k = 0; k < nElectrons; k ++){\n",
        "    for(int c = nElectrons; c < nStates; c ++){\n",
        "        CC6_0a += v2(a,k)(c,j)*tf2(c,b)(i,k)-(v2(b,k)(c,j)*tf2(c,a)(i,k))-(v2(a,k)(c,i)*tf2(c,b)(j,k)-(v2(b,k)(c,i)*tf2(c,a)(j,k)));\n",
        "    }\n",
        "}\n",
        "CC6_0a *= -1.000000;\n",
        "\n",
        "\n",
        "double CC12_1a = 0.0;\n",
        "for(int l = 0; l < nElectrons; l ++){\n",
        "    for(int k = 0; k < nElectrons; k ++){\n",
        "        for(int d = nElectrons; d < nStates; d ++){\n",
        "            for(int c = nElectrons; c < nStates; c ++){\n",
        "                CC12_1a += v2(k,l)(c,d)*tf2(c,d)(i,k)*tf2(a,b)(j,l)-(v2(k,l)(c,d)*tf2(c,d)(j,k)*tf2(a,b)(i,l));\n",
        "            }\n",
        "        }\n",
        "    }\n",
        "}\n",
        "CC12_1a *= -0.500000;\n",
        "\n",
        "\n",
        "double CC12_1b = 0.0;\n",
        "for(int l = 0; l < nElectrons; l ++){\n",
        "    for(int k = 0; k < nElectrons; k ++){\n",
        "        for(int d = nElectrons; d < nStates; d ++){\n",
        "            for(int c = nElectrons; c < nStates; c ++){\n",
        "                CC12_1b += v2(k,l)(c,d)*tf2(c,d)(i,j)*tf2(a,b)(k,l);\n",
        "            }\n",
        "        }\n",
        "    }\n",
        "}\n",
        "CC12_1b *= 0.250000;\n",
        "\n",
        "\n",
        "double CC12_1c = 0.0;\n",
        "for(int d = nElectrons; d < nStates; d ++){\n",
        "    for(int l = 0; l < nElectrons; l ++){\n",
        "        for(int k = 0; k < nElectrons; k ++){\n",
        "            for(int c = nElectrons; c < nStates; c ++){\n",
        "                CC12_1c += v2(k,l)(c,d)*tf2(c,a)(k,l)*tf2(d,b)(i,j)-(v2(k,l)(c,d)*tf2(c,b)(k,l)*tf2(d,a)(i,j));\n",
        "            }\n",
        "        }\n",
        "    }\n",
        "}\n",
        "CC12_1c *= -0.500000;\n",
        "\n",
        "\n",
        "double CC12_1d = 0.0;\n",
        "for(int l = 0; l < nElectrons; l ++){\n",
        "    for(int d = nElectrons; d < nStates; d ++){\n",
        "        for(int k = 0; k < nElectrons; k ++){\n",
        "            for(int c = nElectrons; c < nStates; c ++){\n",
        "                CC12_1d += v2(k,l)(c,d)*tf2(c,a)(i,k)*tf2(d,b)(j,l)-(v2(k,l)(c,d)*tf2(c,b)(i,k)*tf2(d,a)(j,l))-(v2(k,l)(c,d)*tf2(c,a)(j,k)*tf2(d,b)(i,l)-(v2(k,l)(c,d)*tf2(c,b)(j,k)*tf2(d,a)(i,l)));\n",
        "            }\n",
        "        }\n",
        "    }\n",
        "}\n",
        "CC12_1d *= 0.500000;\n",
        "\n"
       ]
      }
     ],
     "prompt_number": 54
    },
    {
     "cell_type": "markdown",
     "metadata": {
      "slideshow": {
       "slide_type": "slide"
      }
     },
     "source": [
      "##Three body interactions?\n",
      "\n",
      "In principle, extending the code to include three body interactions is trivial.\n",
      "\n",
      "This functionality is however not yet implemented."
     ]
    },
    {
     "cell_type": "code",
     "collapsed": false,
     "input": [
      "H   = Operator([1,1,1,-1,-1,-1],[])      # The first list defines q-particle annihilations (below interaction),\n",
      "                               # while the second is creations. Particles and holes are indicated by 1 and -1 respectively.\n",
      "T_1 = Operator([],[1,-1])      #The T_1 cluster operator\n",
      "T_2 = Operator([],[1,1,-1,-1]) #The T_2 operator; all lists must be normal ordered\n",
      "expT = expand_ansatz([[T_2]], 4) #Natural truncation\n",
      "tx = combine_to_excitation([H],expT,0, [0,1,0,1]) #All combinations that produce excitation level 1\n",
      "S = \"0 =\"\n",
      "for i in tx:\n",
      "    S+= \"+\"+ i\n",
      "Math(S)"
     ],
     "language": "python",
     "metadata": {},
     "outputs": [
      {
       "latex": [
        "$$0 =$$"
       ],
       "metadata": {},
       "output_type": "pyout",
       "prompt_number": 60,
       "text": [
        "<IPython.core.display.Math at 0x10bd667d0>"
       ]
      }
     ],
     "prompt_number": 60
    },
    {
     "cell_type": "markdown",
     "metadata": {
      "slideshow": {
       "slide_type": "slide"
      }
     },
     "source": [
      "##How CCAlgebra works\n",
      "\n",
      "- Operators are created as classes\n",
      "- The O() class will create a combined operator form two ore more operators.\n",
      "- Generating all distinct combinations is done by implementing *itertools*:\n",
      "    - Set up strings of symbols representing the cluster operators:\n",
      "      + - |\u00a0+ + - - \n",
      "    - Create all permutations of this string\n",
      "    - Sort out all non-contributing terms\n",
      "        - Cases where no contractions happen with certain clusters\n",
      "          |\u00a0+ - + + - - \n",
      "          + |\u00a0|\u00a0+ + - - - \n",
      "        - Cases that do not connect to the hamiltonian\n",
      "        - Indistinct permutations\n",
      "        - And so on\n",
      "    - When only distinct diagrams remain, these are returned as a list of \"schemas\" (or blueprints).\n",
      "    - These schemas may be passed to different classes, that sets up the desired representation:\n",
      "        - Diagrams\n",
      "        - Latex\n",
      "        - Code\n",
      "        - ... Other possibilities?\n"
     ]
    },
    {
     "cell_type": "markdown",
     "metadata": {
      "slideshow": {
       "slide_type": "slide"
      }
     },
     "source": [
      "#Applying the Coupled Cluster method"
     ]
    },
    {
     "cell_type": "markdown",
     "metadata": {
      "slideshow": {
       "slide_type": "slide"
      }
     },
     "source": [
      "# Fermion Mingle\n",
      "www.github.com/audunsh/FermionMingle\n",
      "\n",
      "During this semester I have also written an CC extension to a Hartree Fock solver I wrote as part of the course FYS4411.\n",
      "\n",
      "The solver is named \"Fermion Mingle\", and currently supports\n",
      "\n",
      "- Gaussian basis sets and integral calculations\n",
      "- Restricted Hartree-Fock\n",
      "- Unrestricted Hartree-Fock\n",
      "- Coupled Cluster (CCD, CCSD)\n",
      "- Electron density evaluation\n",
      "\n",
      "Some functions are implemented in python:\n",
      "\n",
      "- CCalgebra - An environment for coupled cluster calculations and code generation\n",
      "- TurbomoleConverter - A script for generating C++ code from turbomole files\n",
      "\n",
      "While the solver in its current state is designed to do calculations on atoms and molecules, the intention is to make it more general and to include fermionic gas caluclations. (electron and neutron).\n",
      "\n",
      "---\n",
      "\n",
      "**The code generated for CCD above was successfully copy-pasted into a function in this solver and reproduced exactly the handwritten code, which in turn have been benchmarked against the literature.**\n",
      "\n",
      "---"
     ]
    },
    {
     "cell_type": "markdown",
     "metadata": {
      "slideshow": {
       "slide_type": "slide"
      }
     },
     "source": [
      "##Fermion Mingle environment\n",
      "\n",
      "A number of classes is written for flexible calculations on a variety of atomic and molecular systems:\n",
      "\n",
      "        cout << \"Performing UHF on H2 using STO-6G set\" << endl;\n",
      "        vec3 corePos1 = {0,0,0};                       //setting up some position vectors for the cores\n",
      "        vec3 corePos2 = {0,0,6.0};\n",
      "        fmingle myparty;                               //creating the system\n",
      "        myparty.add_nucleus(corePos1, 1);              //creating a nucleus with charge 1\n",
      "        myparty.add_nucleus(corePos2, 1);               //creating a nucleus with charge 1\n",
      "        myparty.fminglebasisbank.add_STO_3G_h(corePos1);//creating an electron at core 1 using STO-3G basis set\n",
      "        myparty.fminglebasisbank.add_STO_6G_h(corePos2);//creating an electron at core 2 using STO-6G basis set\n",
      "        //myparty.rhf_solve(2);                         //perform a rhf procedure for 2 electrons\n",
      "\n",
      "        myparty.uhf_solve(1,1);                         //perform a uhf procedure for config 1 up, 1 down\n",
      "        //myparty.ccsd_solve(2);                        //perform a CCSD procedure on the obtained reference state\n",
      "        cout << \"UHF energy:\" << myparty.uhf_energy << endl;\n",
      "        cout << \"Correlation energy:\" << myparty.correlation_energy << endl;"
     ]
    },
    {
     "cell_type": "markdown",
     "metadata": {
      "slideshow": {
       "slide_type": "slide"
      }
     },
     "source": [
      "#A model experiment: H2"
     ]
    },
    {
     "cell_type": "markdown",
     "metadata": {
      "slideshow": {
       "slide_type": "slide"
      }
     },
     "source": [
      "##Dissosciation energy\n",
      "\n",
      "Studying the behaviour of the $H_2$ ground state energy with increasing bond lengths, will reveal some features of the methods discussed.\n",
      "\n",
      "When the atoms (and electrons) are close together this system may be accurately described by RHF, since the two electrons will pair up with opposite spin in a single orbital.\n",
      "\n",
      "Increasing the distance between the nucleuses will however make this description less accurate. For large distances, the artifical constraint of spin pairing will no longer be a good representation of the system, and we should expect the energy to diverge above the expected energy.\n",
      "\n",
      "In reality the bond is expected to be broken for large distances, so that the energy should just be the sum of to separate systems.\n",
      "\n",
      "I have done some calculations on this system using Fermion Mingle.\n",
      "\n",
      "[Szabo, Modern Quantum Chemistry, p165]"
     ]
    },
    {
     "cell_type": "markdown",
     "metadata": {
      "slideshow": {
       "slide_type": "slide"
      }
     },
     "source": [
      "##Method comparison\n",
      "\n",
      "![STO-6G](uhf_rhf_ccsd_h2.png)"
     ]
    },
    {
     "cell_type": "markdown",
     "metadata": {
      "slideshow": {
       "slide_type": "slide"
      }
     },
     "source": [
      "##The amplitude coefficients\n",
      "\n",
      "![H2T2](H2T2.png)\n",
      "\n",
      "(Observation, 18.12.14: In regions with no T2 contribution, T1 amplitudes peaks to an order of $10^{-5}$ (from $10^{-15}$.)"
     ]
    },
    {
     "cell_type": "markdown",
     "metadata": {
      "slideshow": {
       "slide_type": "slide"
      }
     },
     "source": [
      "##General result comparison\n",
      "\n",
      "\n",
      " System | Total energy (a.u.) | Correlation (a.u.) | Parameters | Comparison\n",
      "----|----|----|----|----\n",
      "H2|-1.13728|-0.0205616|Bond length: 1.4, STO-3G, RHF+CCSD|HF-limit: -1.132 (2), Exact correlation -0.03969 (1)\n",
      "H2|-1.14593|-0.0206048|Bond length: 1.4, STO-6G, RHF+CCSD|HF-limit: -1.132 (2), Exact correlation -0.03969 (1)\n",
      "O2|-147.696|-0.145003 |Bond lenght: 2.287, STO-3G, RHF+CCSD|HF-limit: -, Exact correlation -0.37 (1)\n",
      "O|-73.7092|-0.047385|STO-3G, RHF+CCSD|HF-limit-74.729 (2), Correlation: -0.262 (2)\n",
      "Be|-14.4037|-0.0517703|STO-3G, RHF+CCSD|General HF: -14.67 (3)\n",
      "Be|-14.5199|-0.00484722|Hydrogenlike (4 functions), RHF+CCSD|General HF: -14.67 (3)\n",
      "He|-2.84228|-0.00868762|Hydrogenlike (4 functions), RHF+CCSD|General HF: -2.904 (3)\n",
      "\n",
      "\n",
      "(1) Results from Thijssen, p84, obtained from variational calculus\n",
      "\n",
      "(2) results from 460performance.pdf (see text above)\n",
      "\n",
      "(3) Source given in \"Report from FYS4411 - G\u00f8ran Brekke Svaland and Audun Skau Hansen\"\n"
     ]
    },
    {
     "cell_type": "markdown",
     "metadata": {
      "slideshow": {
       "slide_type": "slide"
      }
     },
     "source": [
      "##Future Prospects\n",
      "\n",
      "A number of future prospects for Fermion Mingle:\n",
      "\n",
      "- Improving convergence, possibly using relaxation.\n",
      "- Full integration of CCAlgebra into Fermion Mingle (or the other way around)\n",
      "- Periodic fermion gas calculations (following the work of G.Baardsen)\n",
      "- Make calculation of properties using CC possible.\n",
      "- Support for parallellized calculations\n",
      "- Optimizing atomic-to-molecular transformation (following the work of O.T.Norli)\n",
      "- Support for UHF-CCSD\n",
      "- Optimizing the CC method using intermediates\n",
      "\n"
     ]
    },
    {
     "cell_type": "markdown",
     "metadata": {
      "slideshow": {
       "slide_type": "slide"
      }
     },
     "source": [
      "#End of presentation"
     ]
    },
    {
     "cell_type": "markdown",
     "metadata": {
      "slideshow": {
       "slide_type": "slide"
      }
     },
     "source": [
      "##The water molecule\n",
      "\n",
      "We have previously done some calculations on H2O using RHF and STO-3G to determine geometry and ground state energy. The results corresponded rather nice to the ones presented in the literature (see Report from FYS4411 - G\u00f8ran Brekke Svaland and Audun Skau Hansen). \n",
      "\n",
      "We now use the geometry and energy presented in the following document to compare our Coupled Cluster Singles Doubles (CCSD) solver to the corresponding calculations performed by NWChem: <url>http://institute.loni.org/NWChem2012/documents/tce-session.pdf</url>. \n",
      "\n",
      "Prior to the CCSD calculation the different algorithms starts out with the following parameters:\n",
      "\n",
      "HF-energy (NWChem) : -74.962663062148\n",
      "\n",
      "HF-energy (CCSolve): -74.962677575226\n",
      "\n",
      "HF-limit           : -76.067 (<url>http://chemistry.illinoisstate.edu/standard/che460/handouts/460performance.pdf</url>)\n",
      "\n",
      "The results from each iteration is presented in the table below. The rightmost coulomn contains the results obtained by CCSolve.\n",
      "\n",
      "\n",
      "Iter | Correlation(NWChem) | Correlation (CCsolve) | Rel.Error\n",
      "----|----|----|----\n",
      " 1|-0.0358672469179 |  -0.035897626185118| 0.0008469919\n",
      " 2| -0.0454068882657 |-0.04544804888198|0.000906484\n",
      " 3| -0.0483870059027 |-0.048432634274069|0.0009429881\n",
      " 4| -0.0494370597647 | -0.049484831256215|0.0009663093\n",
      " 5| -0.0498391184890 |  -0.049888079084351|0.0009823728\n",
      " 6| -0.0500021724029 |  -0.050051825093841|0.0009930107\n",
      " 7| -0.0500711904756 | -0.050121251581979|0.0009997986\n",
      " 8|  -0.0501014381364 |-0.050151741527804|0.0010040309\n",
      " 9| -0.0501150974135 | -0.05016554465157|0.0010066276\n",
      " 10| -0.0501214303300 |  -0.050171962746426|0.0010081998\n",
      " 11| -0.0501244348663 |   -0.050175017473014|0.0010091407\n",
      " 12|  -0.0501258887096 |  -0.050176500709333|0.0010096978\n",
      " 13|  -0.0501266039080 | -0.050177233008851|0.0010100246\n",
      " 14|  -0.0501269605251 |  -0.050177599511074|0.0010102146\n",
      " 15|  -0.0501271402835 |  -0.050177784948453|0.0010103242\n",
      " 16|  -0.0501272316751 | -0.050177879584002|0.0010103871\n",
      "17|  -0.0501272784536 | -0.05017792820593|0.0010104229\n",
      " 18|  -0.0501273025229 | -0.050177953317881|0.0010104433\n",
      " 19| -0.0501273149581 | -0.050177966340254|0.0010104547\n",
      " 20| -0.0501273214031 | (converged)| (none)\n",
      " \n"
     ]
    },
    {
     "cell_type": "code",
     "collapsed": false,
     "input": [],
     "language": "python",
     "metadata": {},
     "outputs": []
    }
   ],
   "metadata": {}
  }
 ]
}