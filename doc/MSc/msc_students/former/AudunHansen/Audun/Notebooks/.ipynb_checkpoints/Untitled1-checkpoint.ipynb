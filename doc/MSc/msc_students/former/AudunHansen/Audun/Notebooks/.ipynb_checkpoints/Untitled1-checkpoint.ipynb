{
 "metadata": {
  "name": "",
  "signature": "sha256:2eaa1b2209033724295b7622f6edbaae061e20b7889de27fbac2213a40e9e900"
 },
 "nbformat": 3,
 "nbformat_minor": 0,
 "worksheets": []
}