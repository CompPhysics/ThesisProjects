{
 "metadata": {
  "name": "",
  "signature": "sha256:7dc34003c1b24ff2ed56fa4041cf9a4df9b70dfeb2e68a7e9e190fc7427f9a46"
 },
 "nbformat": 3,
 "nbformat_minor": 0,
 "worksheets": [
  {
   "cells": [
    {
     "cell_type": "code",
     "collapsed": false,
     "input": [
      "from IPython.html.widgets import interact\n",
      "from IPython.display import display, Math, Latex \n",
      "from matplotlib.pyplot import *\n",
      "from numpy import *\n",
      "from numpy.random import *\n",
      "%matplotlib inline  "
     ],
     "language": "python",
     "metadata": {},
     "outputs": [],
     "prompt_number": 122
    },
    {
     "cell_type": "code",
     "collapsed": false,
     "input": [
      "def bitreduce(f,N):\n",
      "    fret = zeros(len(f))\n",
      "    for i in range(len(f)):\n",
      "        fret[i] = int((N+1)*f[i])/float(N+1) \n",
      "    return fret\n",
      "\n",
      "\n",
      "def f(f,samples, phase, bitdepth, dithering):\n",
      "    N = bitdepth #int(2**bitdepth) \n",
      "    t = samples+1\n",
      "    d = uniform(-dithering,dithering,1000)\n",
      "    d = dithering*sin(linspace(0,400000,1000))\n",
      "    \n",
      "    signal1000 = d + sin(phase + 2*pi*f*linspace(0,1,1000))\n",
      "    signal_N = bitreduce(signal1000[list(linspace(0,999,t))], N)\n",
      "    #signal_N = bitreduce(sin(phase + 2*pi*f*linspace(0,1,t)), N)\n",
      "    figure(1)\n",
      "    plot(linspace(0,1,1000), signal1000, \"-\", color = (.8,.8,.8))    \n",
      "    hold(\"on\")\n",
      "    plot(linspace(0,1,t), signal_N, \".\")\n",
      "    plot(linspace(0,1,t), signal_N, color = (.8,.3,.3))\n",
      "    hold(\"off\")\n",
      "\n",
      "\n",
      "interact(f, f=(1,10,1), samples=(2,100,1), phase = (0,pi, .1), bitdepth = (2,16,1), dithering = (0,1,.01))"
     ],
     "language": "python",
     "metadata": {},
     "outputs": [
      {
       "metadata": {},
       "output_type": "display_data",
       "png": "[encoded data removed]",
       "text": [
        "<matplotlib.figure.Figure at 0x10e582750>"
       ]
      }
     ],
     "prompt_number": 149
    },
    {
     "cell_type": "code",
     "collapsed": false,
     "input": [
      "from IPython.core.display import HTML\n",
      "from scipy.io import wavfile\n",
      "\n",
      "def wavPlayer(filepath):\n",
      "    \"\"\" will display html 5 player for compatible browser\n",
      "\n",
      "    Parameters :\n",
      "    ------------\n",
      "    filepath : relative filepath with respect to the notebook directory ( where the .ipynb are not cwd)\n",
      "               of the file to play\n",
      "\n",
      "    The browser need to know how to play wav through html5.\n",
      "\n",
      "    there is no autoplay to prevent file playing when the browser opens\n",
      "    \"\"\"\n",
      "    \n",
      "    src = \"\"\"\n",
      "    <head>\n",
      "    <meta http-equiv=\"Content-Type\" content=\"text/html; charset=utf-8\">\n",
      "    <title>Simple Test</title>\n",
      "    </head>\n",
      "    \n",
      "    <body>\n",
      "    <audio controls=\"controls\" style=\"width:600px\" >\n",
      "      <source src=\"files/%s\" type=\"audio/mp3\" />\n",
      "      Your browser does not support the audio element.\n",
      "    </audio>\n",
      "    </body>\n",
      "    \"\"\"%(filepath)\n",
      "    display(HTML(src))"
     ],
     "language": "python",
     "metadata": {},
     "outputs": [],
     "prompt_number": 116
    },
    {
     "cell_type": "code",
     "collapsed": false,
     "input": [
      "pwd()"
     ],
     "language": "python",
     "metadata": {},
     "outputs": [
      {
       "metadata": {},
       "output_type": "pyout",
       "prompt_number": 117,
       "text": [
        "u'/Users/kinealicegulbrandsen/Dropbox/Master Thesis Audun Skau Hansen/Notebooks'"
       ]
      }
     ],
     "prompt_number": 117
    },
    {
     "cell_type": "code",
     "collapsed": false,
     "input": [
      "wavPlayer(\"/../../Privat/Media/\")"
     ],
     "language": "python",
     "metadata": {},
     "outputs": [
      {
       "html": [
        "\n",
        "    <head>\n",
        "    <meta http-equiv=\"Content-Type\" content=\"text/html; charset=utf-8\">\n",
        "    <title>Simple Test</title>\n",
        "    </head>\n",
        "    \n",
        "    <body>\n",
        "    <audio controls=\"controls\" style=\"width:600px\" >\n",
        "      <source src=\"files//../../Privat/Media/\" type=\"audio/mp3\" />\n",
        "      Your browser does not support the audio element.\n",
        "    </audio>\n",
        "    </body>\n",
        "    "
       ],
       "metadata": {},
       "output_type": "display_data",
       "text": [
        "<IPython.core.display.HTML at 0x10e572d50>"
       ]
      }
     ],
     "prompt_number": 118
    },
    {
     "cell_type": "code",
     "collapsed": false,
     "input": [
      "wavPlayer(u\"/Users/kinealicegulbrandsen/Dropbox/Privat/Media/\")"
     ],
     "language": "python",
     "metadata": {},
     "outputs": [
      {
       "html": [
        "\n",
        "    <head>\n",
        "    <meta http-equiv=\"Content-Type\" content=\"text/html; charset=utf-8\">\n",
        "    <title>Simple Test</title>\n",
        "    </head>\n",
        "    \n",
        "    <body>\n",
        "    <audio controls=\"controls\" style=\"width:600px\" >\n",
        "      <source src=\"files//Users/kinealicegulbrandsen/Dropbox/Privat/Media/\" type=\"audio/mp3\" />\n",
        "      Your browser does not support the audio element.\n",
        "    </audio>\n",
        "    </body>\n",
        "    "
       ],
       "metadata": {},
       "output_type": "display_data",
       "text": [
        "<IPython.core.display.HTML at 0x10f792910>"
       ]
      }
     ],
     "prompt_number": 145
    },
    {
     "cell_type": "code",
     "collapsed": false,
     "input": [
      "x = linspace(0,10,10+1)\n",
      "print list(x)"
     ],
     "language": "python",
     "metadata": {},
     "outputs": [
      {
       "output_type": "stream",
       "stream": "stdout",
       "text": [
        "[0.0, 1.0, 2.0, 3.0, 4.0, 5.0, 6.0, 7.0, 8.0, 9.0, 10.0]\n"
       ]
      }
     ],
     "prompt_number": 130
    },
    {
     "cell_type": "code",
     "collapsed": false,
     "input": [
      "import cv2"
     ],
     "language": "python",
     "metadata": {},
     "outputs": [
      {
       "ename": "ImportError",
       "evalue": "No module named cv2",
       "output_type": "pyerr",
       "traceback": [
        "\u001b[0;31m---------------------------------------------------------------------------\u001b[0m\n\u001b[0;31mImportError\u001b[0m                               Traceback (most recent call last)",
        "\u001b[0;32m<ipython-input-143-72fbbcfe2587>\u001b[0m in \u001b[0;36m<module>\u001b[0;34m()\u001b[0m\n\u001b[0;32m----> 1\u001b[0;31m \u001b[0;32mimport\u001b[0m \u001b[0mcv2\u001b[0m\u001b[0;34m\u001b[0m\u001b[0m\n\u001b[0m",
        "\u001b[0;31mImportError\u001b[0m: No module named cv2"
       ]
      }
     ],
     "prompt_number": 143
    },
    {
     "cell_type": "code",
     "collapsed": false,
     "input": [],
     "language": "python",
     "metadata": {},
     "outputs": []
    }
   ],
   "metadata": {}
  }
 ]
}