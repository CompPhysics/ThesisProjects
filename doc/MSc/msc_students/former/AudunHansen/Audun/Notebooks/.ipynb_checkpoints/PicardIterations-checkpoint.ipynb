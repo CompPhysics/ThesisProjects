{
 "metadata": {
  "name": "",
  "signature": "sha256:48cf407877090f967ce667be0ee88c21e277d10a3968dcbfb73b11e06e9cfbfc"
 },
 "nbformat": 3,
 "nbformat_minor": 0,
 "worksheets": [
  {
   "cells": [
    {
     "cell_type": "markdown",
     "metadata": {},
     "source": [
      "#PicardIterations"
     ]
    },
    {
     "cell_type": "code",
     "collapsed": false,
     "input": [
      "from IPython.display import display, Math, Latex \n",
      "from IPython.html.widgets import interact\n",
      "%matplotlib inline  "
     ],
     "language": "python",
     "metadata": {},
     "outputs": [],
     "prompt_number": 10
    },
    {
     "cell_type": "code",
     "collapsed": false,
     "input": [
      "import sympy as sp\n",
      "import numpy as np\n",
      "\n",
      "\n",
      "def piterate(RHS, x0, y0, N):\n",
      "    #PicardIterations for initial value problems\n",
      "    #Solve y' = f(x,y(x)), y(x0) = y0 using sympy\n",
      "    yp = y0\n",
      "    for i in range(N):\n",
      "        yp = y0+sp.integrate(RHS.subs(y,yp), (x,x0,x))\n",
      "    Math(sp.latex(yp))\n",
      "    return yp\n",
      "\n",
      "def testinteract(x):\n",
      "    print x\n",
      "\n",
      "\n",
      "x = sp.symbols(\"x\")\n",
      "y = sp.symbols(\"y\")\n",
      "\n",
      "#Define RHS: f(x, y(x)) = ...\n",
      "rhs = x-y*y #RHS of 1.order ODE\n",
      "#c = piterate(RHS, 0,0, 3) #Solve nonlinear problem y'(x) = x-y*y to 3 order.\n",
      "#interact(piterate, RHS = rhs, x0 = (0,1,1), y0 = (0,1,1), N = (0,10,1))\n",
      "#Math(sp.latex(c))\n",
      "interact(testinteract,x = (1.0,10.0,1.0))"
     ],
     "language": "python",
     "metadata": {},
     "outputs": [
      {
       "output_type": "stream",
       "stream": "stdout",
       "text": [
        "2.0\n"
       ]
      }
     ],
     "prompt_number": 20
    },
    {
     "cell_type": "markdown",
     "metadata": {},
     "source": [
      "#Testcase: Picard iterations\n",
      "\n",
      "\n",
      "\n"
     ]
    },
    {
     "cell_type": "code",
     "collapsed": false,
     "input": [
      "x,x_m,h,X = sp.symbols(\"x x_m h X\")\n",
      "sp.integrate(h/8*(1-X)**2, (X, -1, 1))\n",
      "sp.integrate(h/8*(1+X)*(1-X), (X, -1, 1))\n",
      "x = x_m + h/2*X\n",
      "b_0 = sp.integrate(h/4*x*(1-x)*(1-X), (X, 0, sp.symbols(\"t\")))\n",
      "Math(sp.latex(b_0))\n",
      "#Math(b_0)"
     ],
     "language": "python",
     "metadata": {},
     "outputs": []
    },
    {
     "cell_type": "code",
     "collapsed": false,
     "input": [],
     "language": "python",
     "metadata": {},
     "outputs": []
    }
   ],
   "metadata": {}
  }
 ]
}