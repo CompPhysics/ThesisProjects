{
 "metadata": {
  "name": "",
  "signature": "sha256:c6c3c3631ffa18502f8a75d8009707009b270e609038b60775738114713dffde"
 },
 "nbformat": 3,
 "nbformat_minor": 0,
 "worksheets": [
  {
   "cells": [
    {
     "cell_type": "markdown",
     "metadata": {},
     "source": [
      "##CCDT t3 contributions from CCAlgebra\n",
      "\n",
      "###The $(t_2t_3)$ terms\n",
      "\n",
      "$$+P(ij)P(iw)\\frac{1}{2} \\sum_{cdkl} \\langle kl || cd \\rangle t_{ik}^{cd} t_{jwl}^{abz}$$\n",
      "$$+P(iw)P(jw)\\frac{1}{4} \\sum_{cdkl} \\langle kl || cd \\rangle t_{ij}^{cd} t_{wkl}^{abz}$$\n",
      "$$+P(ab)P(az)\\frac{1}{2} \\sum_{ckld} \\langle kl || cd \\rangle t_{kl}^{ca} t_{ijw}^{dbz}$$\n",
      "$$+P(ab)P(az)P(ij)P(iw)\\frac{1}{1} \\sum_{ckdl} \\langle kl || cd \\rangle t_{ik}^{ca} t_{jwl}^{dbz}$$\n",
      "$$+P(ab)P(az)P(iw)P(jw)\\frac{1}{2} \\sum_{cdkl} \\langle kl || cd \\rangle t_{ij}^{ca} t_{wkl}^{dbz}$$\n",
      "$$+P(az)P(bz)\\frac{1}{4} \\sum_{klcd} \\langle kl || cd \\rangle t_{kl}^{ab} t_{ijw}^{cdz}$$\n",
      "$$+P(az)P(bz)P(ij)P(iw)\\frac{1}{2} \\sum_{kcdl} \\langle kl || cd \\rangle t_{ik}^{ab} t_{jwl}^{cdz}$$\n",
      "$$+P(ab)P(az)P(iw)P(jw)\\frac{1}{2} \\sum_{cdkl} \\langle kl || cd \\rangle t_{ijk}^{cda} t_{wl}^{bz}$$\n",
      "$$+P(ab)P(az)\\frac{1}{4} \\sum_{cdkl} \\langle kl || cd \\rangle t_{ijw}^{cda} t_{kl}^{bz}$$\n",
      "$$+P(az)P(bz)P(ij)P(iw)\\frac{1}{2} \\sum_{ckld} \\langle kl || cd \\rangle t_{ikl}^{cab} t_{jw}^{dz}$$\n",
      "$$+P(az)P(bz)P(iw)P(jw)\\frac{1}{1} \\sum_{ckdl} \\langle kl || cd \\rangle t_{ijk}^{cab} t_{wl}^{dz}$$\n",
      "$$+P(az)P(bz)\\frac{1}{2} \\sum_{cdkl} \\langle kl || cd \\rangle t_{ijw}^{cab} t_{kl}^{dz}$$\n",
      "$$+P(ij)P(iw)\\frac{1}{4} \\sum_{klcd} \\langle kl || cd \\rangle t_{ikl}^{abz} t_{jw}^{cd}$$\n",
      "$$+P(iw)P(jw)\\frac{1}{2} \\sum_{kcdl} \\langle kl || cd \\rangle t_{ijk}^{abz} t_{wl}^{cd}$$\n",
      "\n",
      "###The linear $(t_3)$ terms\n",
      "\n",
      "$$+P(ba)P(za)\\frac{1}{1} \\sum_{c} \\langle a || c \\rangle t_{ijw}^{cbz}=0$$\n",
      "$$+P(iw)P(jw)\\frac{-1}{1} \\sum_{k} \\langle k || w \\rangle t_{ijk}^{abz}=0$$\n",
      "\n",
      "$$+P(za)P(zb)\\frac{1}{2} \\sum_{cd} \\langle ab || cd \\rangle t_{ijw}^{cdz}$$\n",
      "$$+P(iw)P(ij)\\frac{1}{2} \\sum_{kl} \\langle kl || jw \\rangle t_{ikl}^{abz}$$\n",
      "$$+P(ba)P(za)P(iw)P(jw)\\frac{-1}{1} \\sum_{ck} \\langle ak || cw \\rangle t_{ijk}^{cbz}$$\n",
      "\n",
      "###The linear $(t_2)$ terms\n",
      "\n",
      "A bug in the code misrepresented the two body interaction\n",
      "\n",
      "$$+P(ba)P(bz)P(iw)P(jw)\\frac{-1}{1} \\sum_{c} \\langle ax || cx \\rangle t_{ij}^{cb}$$\n",
      "$$+P(az)P(bz)P(ij)P(iw)\\frac{1}{1} \\sum_{k} \\langle kx || j x\\rangle t_{ik}^{ab}$$\n",
      "\n",
      "###The quadratic $(t_2)$ terms\n",
      "\n",
      "$$+P(ab)P(az)P(iw)P(jw)\\frac{1}{1} \\sum_{ck} \\langle k || c \\rangle t_{ij}^{ca} t_{wk}^{bz}$$\n",
      "$$+P(iw)P(jw)P(ba)P(za)\\frac{1}{2} \\sum_{cdk} \\langle ak || cd \\rangle t_{ij}^{cd} t_{wk}^{bz}$$\n",
      "$$+P(bz)P(ba)P(ij)P(iw)P(za)\\frac{-1}{1} \\sum_{ckd} \\langle ak || cd \\rangle t_{ik}^{cb} t_{jw}^{dz}$$\n",
      "$$+P(ab)P(az)P(iw)P(ij)P(wj)\\frac{1}{1} \\sum_{ckl} \\langle kl || cj \\rangle t_{ik}^{ca} t_{wl}^{bz}$$\n",
      "$$+P(ab)P(az)P(iw)P(jw)\\frac{-1}{2} \\sum_{ckl} \\langle kl || cw \\rangle t_{ij}^{ca} t_{kl}^{bz}$$\n",
      "\n"
     ]
    },
    {
     "cell_type": "code",
     "collapsed": false,
     "input": [],
     "language": "python",
     "metadata": {},
     "outputs": []
    }
   ],
   "metadata": {}
  }
 ]
}