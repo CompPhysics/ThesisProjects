{
 "cells": [
  {
   "cell_type": "markdown",
   "metadata": {},
   "source": [
    "#Instructions on using this notebook\n",
    "\n",
    "Replace the working directory below with the one you have CCAlgebra_mk4.py located."
   ]
  },
  {
   "cell_type": "code",
   "execution_count": 2,
   "metadata": {
    "collapsed": false
   },
   "outputs": [],
   "source": [
    "from IPython.display import display, Math, Latex \n",
    "%matplotlib inline  \n",
    "#%cd '' #insert full path here\n",
    "%run CCAlgebra_mk4.py\n"
   ]
  },
  {
   "cell_type": "markdown",
   "metadata": {},
   "source": [
    "##Coupled Cluster Diagrammatic Algebra \n",
    "####A python script for learning and developing code for CC calculations \n",
    "####Audun Skau Hansen | Comp-Phys | UiO | 2015\n",
    "\n",
    "*\"Because of the often large number of terms in all versions of the CCM it is rather hard work to obtain the explicit equations by hand. And after this is done one has to write a program to put them into the computer.\"* - H. G. Kümmel\n",
    "\n",
    "The code imported in this notebook is intended to provide an environment for deriving CC equations, complementary code and diagrams using the diagrammatic approach outlined in Shavitt and Bartlett (S-B) (p. 292). The code is mainly written for educational purposes, and has not been extensively tested, optimized or cleaned.\n",
    "\n",
    "The core operation in CCAlgebra is to extract diagrams from contractions of operators. A lot of physicists in the field of many body quantum mechanics appreciate the simplicity and richness of working with diagrammatic rules alongside second quantization. This code is an attempt to translate these diagrammatic rules into operations understandable by the computer, so we may utilize these rules to generate the full complexity of CC equations of any truncation, for very general normal ordered hamiltonians. (All operators defined in this code is assumed to be normal ordered - this is explained in more detail below. )\n",
    "\n",
    "The following series of examples is meant to illustrate some of the potential of the code, and at the same time function as a tutorial for anyone who wish to use it to derive other equations or diagrams. A fundamental understanding of second quantization, diagrams and the CC method is a prerequisite.\n",
    "\n",
    "I hope to continue the developement of this code after I hand in my thesis this summer."
   ]
  },
  {
   "cell_type": "markdown",
   "metadata": {},
   "source": [
    "### 1. Defining operators - Operator()\n",
    "\n",
    "The operators we work with here are the cluster operators (T_1, T_2 ...) and the hamiltonian operators. Normal ordering of the hamiltonian for a system of interacting particles will typically produce a number of parts, each corresponding to a diagrammatic filament. This is discussed in more detail in S-B (p. 112, 4.29). *(By filament, I mean a single, unconnected operator, that in itself would not produce any contribution when evaluated on the vacuum state.)*\n",
    "\n",
    "In CCalgebra operators are defined as shown below. The hamiltonian filament given here corresponds to the last diagram on page 180 in S-B, (9.105)."
   ]
  },
  {
   "cell_type": "code",
   "execution_count": 4,
   "metadata": {
    "collapsed": false
   },
   "outputs": [],
   "source": [
    "#How to define operators\n",
    "H   = Operator([1,-1],[])      # The first list defines q-particle annihilations (below interaction),\n",
    "                               # while the second is creations. Particles and holes are indicated by 1 and -1 respectively.\n",
    "    \n",
    "T_1 = Operator([],[1,-1])      #The T_1 cluster operator\n",
    "T_2 = Operator([],[1,1,-1,-1]) #The T_2 operator; all lists must be normal ordered"
   ]
  },
  {
   "cell_type": "markdown",
   "metadata": {},
   "source": [
    "Note that the q-particle operators are given in normal order - q-particle creation operators to the left."
   ]
  },
  {
   "cell_type": "markdown",
   "metadata": {},
   "source": [
    "### 2. Connecting operators - O()\n",
    "\n",
    "Operators may be diagrammatically connected by applying the rules laid out in S-B (p.298-299). The implementation in CCAlgebra uses the permutations library of python to produce all possible ways of connecting the diagrams, whereby it sorts out the distinct diagrams. \n",
    "\n",
    "The basic rules are that all lines below the hamiltonian filament must connect to the one of the cluster operators, and all cluster operators must be connected to the hamiltonian filament. When this connection of operators acts on the vacuum state, it may produce an excitation or it may leave the vacuum state at the same energy level. \n",
    "\n",
    "A class object O(O1, [O2, O3, ...]) is defined and will contain all distinct ways of connecting the operators. (The name should probably be changed to something more explanatory such as \"connections()\". An example is given by connecting the previously defined operators:"
   ]
  },
  {
   "cell_type": "code",
   "execution_count": 5,
   "metadata": {
    "collapsed": false
   },
   "outputs": [],
   "source": [
    "contraction = O(H,[T_1]) #The second argument must be a list of operators (T_1 * T_1 = [T_1, T_1])"
   ]
  },
  {
   "cell_type": "markdown",
   "metadata": {},
   "source": [
    "### 3. Display and interpret results\n",
    "\n",
    "All results may be displayed as (1) latex, (2) diagrams (3) a piece of (\"naïve\") C++ code, or simply (4) a report of how the contraction was interpreted by O(). This last functionality is meant to assist in the debugging process.\n",
    "\n"
   ]
  },
  {
   "cell_type": "markdown",
   "metadata": {},
   "source": [
    "### 3.1 Excitation level and number of diagrams\n",
    "\n",
    "A connection of operators will in principle produce a new set of operators, which share a common property understood as the excitation level of the operators. Any operator in second quantization have this property, and it is easily evaluated by counting the number of lines exiting the operator and subtracting the the number of lines entering the operator. The excitation level is this number divided by 2, as the interaction should leave the number of particles constant. \n",
    "\n",
    "Considering the connection made above, we may evaluate the excitation level as well as the number of distinct diagrams produced in the connection: "
   ]
  },
  {
   "cell_type": "code",
   "execution_count": 6,
   "metadata": {
    "collapsed": false
   },
   "outputs": [
    {
     "name": "stdout",
     "output_type": "stream",
     "text": [
      "Excitation: 0.0\n",
      "Number of distinct diagrams: 1\n"
     ]
    }
   ],
   "source": [
    "print \"Excitation:\", contraction.E() #Excitation energy of connected operators\n",
    "print \"Number of distinct diagrams:\", contraction.N"
   ]
  },
  {
   "cell_type": "markdown",
   "metadata": {},
   "source": [
    "### 3.2 Mathematical representation\n",
    "\n",
    "We may then interpret the 0th (the only) connection produced as a latex formatted string:"
   ]
  },
  {
   "cell_type": "code",
   "execution_count": 7,
   "metadata": {
    "collapsed": false
   },
   "outputs": [
    {
     "data": {
      "text/latex": [
       "$$\\frac{1}{1} \\sum_{ck} \\langle k || c \\rangle t_{k}^{c}$$"
      ],
      "text/plain": [
       "<IPython.core.display.Math object>"
      ]
     },
     "execution_count": 7,
     "metadata": {},
     "output_type": "execute_result"
    }
   ],
   "source": [
    "c_tex = contraction.latex(0) #The first of possibly multiple distinct diagrams in latex format.\n",
    "Math(c_tex)"
   ]
  },
  {
   "cell_type": "markdown",
   "metadata": {},
   "source": [
    "Compare this sum to the middle upper diagram on page 297 in S-B. As the final excitation of this diagram is 0, it will contribute to the energy equation. Note that while S-B makes an exception in the labelling of internal lines in the energy diagrams, CCAlgebra does not make this distinction. (S-B reserves the labels *a,b,i,j* for target indices in general, except for the energy contribution.)\n",
    "\n",
    "**Note:** It is unfortunate to use the \"double vertical bar\" (antisymmetric) notation for the single particle energy as in the case above. This is one of many minor details that will be corrected in later versions of the code."
   ]
  },
  {
   "cell_type": "markdown",
   "metadata": {},
   "source": [
    "### 3.3 Diagrammatic representation\n",
    "\n",
    "To compare the sum to its diagrammatic counterpart, we write:"
   ]
  },
  {
   "cell_type": "code",
   "execution_count": 8,
   "metadata": {
    "collapsed": false
   },
   "outputs": [
    {
     "data": {
      "image/png": "[encoded data removed]",
      "text/plain": [
       "<matplotlib.figure.Figure at 0x10e286350>"
      ]
     },
     "metadata": {},
     "output_type": "display_data"
    }
   ],
   "source": [
    "contraction.diagram(0, [0,0], True) #Display diagram 0 at position x/y = [0,0] using internal show() function (matplotlib)"
   ]
  },
  {
   "cell_type": "markdown",
   "metadata": {},
   "source": [
    "The diagram above is identical to the one in S-B, page 297. The dotted line represents the the interaction (H), while the horizontal straight line denotes the $T_1$ cluster operator. All lines are connected in the diagram above.\n",
    "\n",
    "In general, CCAlgebra should produce diagrams *indistinct* to those found in S-B. In other words, some discrepancies in features might occur when comparing, but these discrepancies will not affect the outcome of any CC calculation.\n",
    "\n",
    "There are two different options for displaying diagrams. The last parameter in the function call above is set to \"True\" to indicate that the diagram is to be both plotted and \"show()\"n by the O() class. The list containing two zeros is the position of the diagram in the x,y plane. The code is written this way to enable plotting of multiple diagrams in the same figure. (See the example in section 3.5 on how to use this in other ways)."
   ]
  },
  {
   "cell_type": "markdown",
   "metadata": {},
   "source": [
    "### 3.4 Computational representation\n",
    "\n",
    "We may now retrieve the C++ code for this diagram, by writing:"
   ]
  },
  {
   "cell_type": "code",
   "execution_count": 9,
   "metadata": {
    "collapsed": false
   },
   "outputs": [
    {
     "name": "stdout",
     "output_type": "stream",
     "text": [
      "\n",
      "double CCa = 0.0;\n",
      "for(int k = 0; k < nElectrons; k ++){\n",
      "    for(int c = nElectrons; c < nStates; c ++){\n",
      "        CCa += vmin1(k)(c)*tf1(c)(k);\n",
      "    }\n",
      "}\n",
      "CCa *= 1.000000;\n",
      "\n"
     ]
    }
   ],
   "source": [
    "print contraction.code(0)"
   ]
  },
  {
   "cell_type": "markdown",
   "metadata": {},
   "source": [
    "This code may be implemented in a class in any CC-implementation in C++, but note that it is in itself not a complete class. This functionality is under developement, and will be implemented later on.\n"
   ]
  },
  {
   "cell_type": "markdown",
   "metadata": {},
   "source": [
    "### 3.5 Summary of representations.\n",
    "\n",
    "To summarize the different representations, we may do the same process once more for a more complex set of operators:"
   ]
  },
  {
   "cell_type": "code",
   "execution_count": 10,
   "metadata": {
    "collapsed": false
   },
   "outputs": [
    {
     "data": {
      "text/latex": [
       "$$P(ba)\\frac{-1}{1} \\sum_{ckd} \\langle ak || cd \\rangle t_{k}^{c} t_{ij}^{db}$$"
      ],
      "text/plain": [
       "<IPython.core.display.Math object>"
      ]
     },
     "execution_count": 10,
     "metadata": {},
     "output_type": "execute_result"
    }
   ],
   "source": [
    "H = Operator([1,1,-1],[1])\n",
    "contraction = O(H,[T_1, T_2]) #The second argument must be a list of operators (T_1 * T_1 = [T_1, T_1])c_tex = contraction.latex(0) #The first of possibly multiple distinct diagrams in latex format.\n",
    "c_tex = contraction.latex(0) #The first of possibly multiple distinct diagrams in latex format.\n",
    "Math(c_tex)"
   ]
  },
  {
   "cell_type": "code",
   "execution_count": 11,
   "metadata": {
    "collapsed": false
   },
   "outputs": [
    {
     "data": {
      "image/png": "[encoded data removed]",
      "text/plain": [
       "<matplotlib.figure.Figure at 0x10e42b850>"
      ]
     },
     "metadata": {},
     "output_type": "display_data"
    }
   ],
   "source": [
    "plot([-2,7],[-2,4.5], color = \"white\") #just making the diagrams scale correctly\n",
    "contraction.diagram(0, [0,0], False)\n",
    "contraction.diagram(1, [3,0], False)\n",
    "contraction.diagram(2, [6,0], False)\n",
    "axis(\"off\")\n",
    "show()"
   ]
  },
  {
   "cell_type": "code",
   "execution_count": 16,
   "metadata": {
    "collapsed": false
   },
   "outputs": [
    {
     "name": "stdout",
     "output_type": "stream",
     "text": [
      "\n",
      "double CCa = 0.0;\n",
      "for(int d = nElectrons; d < nStates; d ++){\n",
      "    for(int k = 0; k < nElectrons; k ++){\n",
      "        for(int c = nElectrons; c < nStates; c ++){\n",
      "            CCa += vmin2(a,k)(c,d)*tf1(c)(k)*tf2(d,b)(i,j)-(vmin2(b,k)(c,d)*tf1(c)(k)*tf2(d,a)(i,j));\n",
      "        }\n",
      "    }\n",
      "}\n",
      "CCa *= -1.000000;\n",
      "\n"
     ]
    }
   ],
   "source": [
    "print contraction.code(0)"
   ]
  },
  {
   "cell_type": "markdown",
   "metadata": {},
   "source": [
    "### 4. Higher level functions.\n",
    "\n",
    "While the examples above deal with single filaments of the hamiltionian, the full normal ordered hamiltionian will be a sum of more than one such filaments. When setting up the CC equations we will need to consider the connection between all this filaments and all terms in the expansion of the exponential ansatz.\n",
    "\n",
    "To handle this, we will employ some complementary functions below."
   ]
  },
  {
   "cell_type": "markdown",
   "metadata": {},
   "source": [
    "### 4.1 Complementary functions - expand_ansatz()\n",
    "\n",
    "The function expand_ansatz(list, int) takes as input a list with each element a list-embraced operator - typically cluster operators in the cluster expansion. The integer value indicates at what order the expansion should be truncated. Note that (1) very high values of int will most likely cause a system overload, and (2) when using a hamiltonian with at most two-body interactions, no higher orders than 4 is needed due to the fact that the hamiltionian needs to connect to all cluster-operators to its right.\n",
    "\n",
    "In the example below it is shown that any list of lists may be used as input for the expand_ansatz() function:"
   ]
  },
  {
   "cell_type": "code",
   "execution_count": 17,
   "metadata": {
    "collapsed": false
   },
   "outputs": [
    {
     "name": "stdout",
     "output_type": "stream",
     "text": [
      "[[['a'], ['a'], ['a']], [['a'], ['a'], ['b']], [['a'], ['a']], [['a'], ['b'], ['b']], [['a'], ['b']], [['a']], [['b'], ['b'], ['b']], [['b'], ['b']], [['b']]]\n"
     ]
    }
   ],
   "source": [
    "print expand_ansatz([[\"a\"],[\"b\"]], 3)"
   ]
  },
  {
   "cell_type": "markdown",
   "metadata": {},
   "source": [
    "### 4.2 Complementary functions - normal_ordered_hamiltonian()\n",
    "\n",
    "This function is called without any arguments and returns a prewritten list of operators corresponding to the normal ordered hamiltonian in S-B. (p.280-281). It may be illustrative to see how it is set up while comparing each element to its diagrammatic counterpart:"
   ]
  },
  {
   "cell_type": "code",
   "execution_count": 18,
   "metadata": {
    "collapsed": false
   },
   "outputs": [],
   "source": [
    "def normal_ordered_hamiltonian():\n",
    "    #These elements corresponds to (9.105) in S-B:\n",
    "    F1 = Operator([1],[1])     #Excitation level: 0\n",
    "    F2 = Operator([-1],[-1])   #E:0\n",
    "    F3 = Operator([],[1,-1])   #E:+1\n",
    "    F4 = Operator([1,-1],[])   #E:-1\n",
    "    \n",
    "    #These elements correspond to (9.107) in S-B:\n",
    "    V1 = Operator([1,1],[1,1])     #E:0\n",
    "    V2 = Operator([-1,-1],[-1,-1]) #E:0\n",
    "    V3 = Operator([1,-1],[1,-1])   #E:0\n",
    "    \n",
    "    V4 = Operator([1],[1,1,-1])    #E:+1\n",
    "    V5 = Operator([1,1,-1],[1])    #E:-1\n",
    "    V7 = Operator([1,-1,-1],[-1])  #E:-1\n",
    "    V6 = Operator([-1],[1,-1,-1])  #E:+1\n",
    "    \n",
    "    V9 = Operator([1,1,-1,-1],[])  #E:-2\n",
    "    V8 = Operator([],[1,1,-1,-1])  #E:+2\n",
    "    \n",
    "    return [F1,F2,F3,F4,V1,V2,V3,V4,V5,V6,V7,V8,V9]   "
   ]
  },
  {
   "cell_type": "markdown",
   "metadata": {},
   "source": [
    "### 4.3 Complementary functions - cluster_operator()\n",
    "\n",
    "To quickly set up the $T = T_1 + T_2 + ...$ cluster operator, one may call the cluster_operator() function. This function will return a list of cluster operators, each in the order specified in the function arguments. Some examples are given below:"
   ]
  },
  {
   "cell_type": "code",
   "execution_count": 19,
   "metadata": {
    "collapsed": false
   },
   "outputs": [
    {
     "name": "stdout",
     "output_type": "stream",
     "text": [
      "[[<__main__.Operator instance at 0x105c7c488>], [<__main__.Operator instance at 0x10e5cdcf8>], [<__main__.Operator instance at 0x10e5cd320>]]\n"
     ]
    }
   ],
   "source": [
    "print cluster_operator([1,2,3]) # returns [T_1, T_2, T_3]"
   ]
  },
  {
   "cell_type": "markdown",
   "metadata": {},
   "source": [
    "### 5. Functions for deriving the CC equations.\n",
    "\n",
    "So far we have introduced all the functionality needed to set up the elements in the equations, but we have not set up the equations themselves. To do this, we need yet another pair of functions.\n",
    "\n",
    "When deriving the equations we need to consider all possible connections between hamiltonian filaments and combinations of cluster operators in the cluster expansion. Currently there are two such higher level functions available."
   ]
  },
  {
   "cell_type": "markdown",
   "metadata": {},
   "source": [
    "### 5.1 The combine_all() function\n",
    "\n",
    "Combining all elements in the normal ordered hamiltonian with all elements in the cluster expansion will produce a high number of excited slater determinants. To see all of these we may use the combine_all() function. In the following example we set up a normal ordered hamiltonian and a list of list of cluster operators, and then we find all combinations between these operators, representing them mathematically."
   ]
  },
  {
   "cell_type": "code",
   "execution_count": 25,
   "metadata": {
    "collapsed": false
   },
   "outputs": [
    {
     "ename": "NameError",
     "evalue": "global name 'expT' is not defined",
     "output_type": "error",
     "traceback": [
      "\u001b[0;31m---------------------------------------------------------------------------\u001b[0m",
      "\u001b[0;31mNameError\u001b[0m                                 Traceback (most recent call last)",
      "\u001b[0;32m<ipython-input-25-7fae927ea0cb>\u001b[0m in \u001b[0;36m<module>\u001b[0;34m()\u001b[0m\n\u001b[1;32m      4\u001b[0m \u001b[0mexpT\u001b[0m \u001b[0;34m=\u001b[0m \u001b[0mexpand_ansatz\u001b[0m\u001b[0;34m(\u001b[0m\u001b[0;34m[\u001b[0m\u001b[0;34m[\u001b[0m\u001b[0mT_1\u001b[0m\u001b[0;34m]\u001b[0m\u001b[0;34m,\u001b[0m\u001b[0;34m[\u001b[0m\u001b[0mT_2\u001b[0m\u001b[0;34m]\u001b[0m\u001b[0;34m]\u001b[0m\u001b[0;34m,\u001b[0m \u001b[0;36m1\u001b[0m\u001b[0;34m)\u001b[0m\u001b[0;34m\u001b[0m\u001b[0m\n\u001b[1;32m      5\u001b[0m \u001b[0;34m\u001b[0m\u001b[0m\n\u001b[0;32m----> 6\u001b[0;31m \u001b[0mtx\u001b[0m \u001b[0;34m=\u001b[0m \u001b[0mcombine_all\u001b[0m\u001b[0;34m(\u001b[0m\u001b[0mH\u001b[0m\u001b[0;34m,\u001b[0m\u001b[0mexpT\u001b[0m\u001b[0;34m,\u001b[0m \u001b[0;34m[\u001b[0m\u001b[0;36m1\u001b[0m\u001b[0;34m,\u001b[0m\u001b[0;36m0\u001b[0m\u001b[0;34m,\u001b[0m\u001b[0;36m0\u001b[0m\u001b[0;34m,\u001b[0m\u001b[0;36m0\u001b[0m\u001b[0;34m]\u001b[0m\u001b[0;34m)\u001b[0m \u001b[0;31m#The list is explained below\u001b[0m\u001b[0;34m\u001b[0m\u001b[0m\n\u001b[0m\u001b[1;32m      7\u001b[0m \u001b[0mS\u001b[0m \u001b[0;34m=\u001b[0m \u001b[0;34m\"0 = \"\u001b[0m\u001b[0;34m\u001b[0m\u001b[0m\n\u001b[1;32m      8\u001b[0m \u001b[0;32mfor\u001b[0m \u001b[0mi\u001b[0m \u001b[0;32min\u001b[0m \u001b[0mtx\u001b[0m\u001b[0;34m:\u001b[0m\u001b[0;34m\u001b[0m\u001b[0m\n",
      "\u001b[0;32m/Users/audunhansen/Dropbox/Master Thesis Audun Skau Hansen/Notebooks/CCAlgebra_mk4.py\u001b[0m in \u001b[0;36mcombine_all\u001b[0;34m(H, T, config)\u001b[0m\n\u001b[1;32m   1747\u001b[0m         \u001b[0mshift\u001b[0m \u001b[0;34m=\u001b[0m \u001b[0;36m0\u001b[0m\u001b[0;34m\u001b[0m\u001b[0m\n\u001b[1;32m   1748\u001b[0m \u001b[0;34m\u001b[0m\u001b[0m\n\u001b[0;32m-> 1749\u001b[0;31m         \u001b[0;32mfor\u001b[0m \u001b[0mi\u001b[0m \u001b[0;32min\u001b[0m \u001b[0mrange\u001b[0m\u001b[0;34m(\u001b[0m\u001b[0mlen\u001b[0m\u001b[0;34m(\u001b[0m\u001b[0mexpT\u001b[0m\u001b[0;34m)\u001b[0m\u001b[0;34m)\u001b[0m\u001b[0;34m:\u001b[0m\u001b[0;34m\u001b[0m\u001b[0m\n\u001b[0m\u001b[1;32m   1750\u001b[0m             \u001b[0;31m#print h, i\u001b[0m\u001b[0;34m\u001b[0m\u001b[0;34m\u001b[0m\u001b[0m\n\u001b[1;32m   1751\u001b[0m             \u001b[0mcontr\u001b[0m \u001b[0;34m=\u001b[0m \u001b[0mO\u001b[0m\u001b[0;34m(\u001b[0m\u001b[0mH\u001b[0m\u001b[0;34m[\u001b[0m\u001b[0mh\u001b[0m\u001b[0;34m]\u001b[0m\u001b[0;34m,\u001b[0m\u001b[0mexpT\u001b[0m\u001b[0;34m[\u001b[0m\u001b[0mi\u001b[0m\u001b[0;34m]\u001b[0m\u001b[0;34m)\u001b[0m\u001b[0;34m\u001b[0m\u001b[0m\n",
      "\u001b[0;31mNameError\u001b[0m: global name 'expT' is not defined"
     ]
    }
   ],
   "source": [
    "H = normal_ordered_hamiltonian()\n",
    "T_1 = Operator([],[1,-1])      #The T_1 cluster operator\n",
    "T_2 = Operator([],[1,1,-1,-1]) #The T_2 operator; all lists must be normal ordered\n",
    "expT = expand_ansatz([[T_1],[T_2]], 1)\n",
    "\n",
    "tx = combine_all(H,expT, [1,0,0,0]) #The list is explained below\n",
    "S = \"0 = \"\n",
    "for i in tx:\n",
    "    S+= i\n",
    "Math(S)"
   ]
  },
  {
   "cell_type": "markdown",
   "metadata": {},
   "source": [
    "The combine_all() function is called with the two listst of operators as parameters and a maybe cryptic list with instructions on how to represent the combinations. The list of instructions works as follows: \n",
    "\n",
    "[0,0,0,0] - Produce no representations, only iterate through all connections \n",
    "\n",
    "[1,0,0,0] - Return a string of latex-formatted expression for each connection.\n",
    "\n",
    "[0,1,0,0] - Plot all diagrams in same figure.\n",
    "\n",
    "[0,2,0,0] - Plot each diagram in a separate figure. (May produce a lot of diagrams.)\n",
    "\n",
    "[0,0,1,0] - Display the report for each diagram. (Explained in section 3 above)\n",
    "\n",
    "[0,0,0,1] - Print out the code for all diagrams.\n",
    "\n",
    "The arguments may of course be combined if more than one index is set to non-zero values:\n",
    "\n",
    "[1,2,1,1] - Return string, plot separate diagrams, show report and print code.\n",
    "\n",
    "**Important:** This function is not very practical, and will most likely cause a memory overload if applied to diagrams with many permutations in the sums (due to the length of the C++ string.). For all practical purposes, the combine_to_excitation() function should be utilized in its place."
   ]
  },
  {
   "cell_type": "markdown",
   "metadata": {},
   "source": [
    "###5.2 The combine_to_excitation() function\n",
    "\n",
    "While the combine_all() function might have som educational value, it will show a lot more diagrams than what we in reality seek. When setting up the energy- and amplitide equations, we seek only contributions that correspond to certain excitation levels. This is beause the application of the exponential ansatz connected to the hamiltonian will produce a variety of excited states using the virtual orbitals in the SD, and when solving for the amplitudes we need to project these states down on a bra SD of the target excited state. (please forgive my messy formulation)\n",
    "\n",
    "To find only the excitation levels of interest, i.e. the contributions to each equation, we may write (using the same functions as above):"
   ]
  },
  {
   "cell_type": "code",
   "execution_count": 13,
   "metadata": {
    "collapsed": false
   },
   "outputs": [
    {
     "ename": "AttributeError",
     "evalue": "'list' object has no attribute 'excitation'",
     "output_type": "error",
     "traceback": [
      "\u001b[0;31m---------------------------------------------------------------------------\u001b[0m",
      "\u001b[0;31mAttributeError\u001b[0m                            Traceback (most recent call last)",
      "\u001b[0;32m<ipython-input-13-667938601b16>\u001b[0m in \u001b[0;36m<module>\u001b[0;34m()\u001b[0m\n\u001b[0;32m----> 1\u001b[0;31m \u001b[0mtx\u001b[0m \u001b[0;34m=\u001b[0m \u001b[0mcombine_to_excitation\u001b[0m\u001b[0;34m(\u001b[0m\u001b[0mH\u001b[0m\u001b[0;34m,\u001b[0m\u001b[0mexpT\u001b[0m\u001b[0;34m,\u001b[0m\u001b[0;36m1\u001b[0m\u001b[0;34m,\u001b[0m \u001b[0;34m[\u001b[0m\u001b[0;36m1\u001b[0m\u001b[0;34m,\u001b[0m\u001b[0;36m0\u001b[0m\u001b[0;34m,\u001b[0m\u001b[0;36m0\u001b[0m\u001b[0;34m,\u001b[0m\u001b[0;36m0\u001b[0m\u001b[0;34m]\u001b[0m\u001b[0;34m)\u001b[0m \u001b[0;31m#All combinations that produce excitation level 1\u001b[0m\u001b[0;34m\u001b[0m\u001b[0m\n\u001b[0m\u001b[1;32m      2\u001b[0m \u001b[0mS\u001b[0m \u001b[0;34m=\u001b[0m \u001b[0;34m\"0 =\"\u001b[0m\u001b[0;34m\u001b[0m\u001b[0m\n\u001b[1;32m      3\u001b[0m \u001b[0;32mfor\u001b[0m \u001b[0mi\u001b[0m \u001b[0;32min\u001b[0m \u001b[0mtx\u001b[0m\u001b[0;34m:\u001b[0m\u001b[0;34m\u001b[0m\u001b[0m\n\u001b[1;32m      4\u001b[0m     \u001b[0mS\u001b[0m\u001b[0;34m+=\u001b[0m \u001b[0;34m\"+\"\u001b[0m\u001b[0;34m+\u001b[0m \u001b[0mi\u001b[0m\u001b[0;34m\u001b[0m\u001b[0m\n\u001b[1;32m      5\u001b[0m \u001b[0mMath\u001b[0m\u001b[0;34m(\u001b[0m\u001b[0mS\u001b[0m\u001b[0;34m)\u001b[0m\u001b[0;34m\u001b[0m\u001b[0m\n",
      "\u001b[0;32m/Users/audunhansen/Dropbox/Master Thesis Audun Skau Hansen/Notebooks/CCAlgebra_mk4.py\u001b[0m in \u001b[0;36mcombine_to_excitation\u001b[0;34m(H, T, E, config)\u001b[0m\n\u001b[1;32m   1713\u001b[0m             \u001b[0mtarget_e\u001b[0m \u001b[0;34m=\u001b[0m \u001b[0mH\u001b[0m\u001b[0;34m[\u001b[0m\u001b[0mh\u001b[0m\u001b[0;34m]\u001b[0m\u001b[0;34m.\u001b[0m\u001b[0mexcitation\u001b[0m\u001b[0;34m(\u001b[0m\u001b[0;34m)\u001b[0m\u001b[0;34m\u001b[0m\u001b[0m\n\u001b[1;32m   1714\u001b[0m             \u001b[0;32mfor\u001b[0m \u001b[0mt\u001b[0m \u001b[0;32min\u001b[0m \u001b[0mT\u001b[0m\u001b[0;34m[\u001b[0m\u001b[0mi\u001b[0m\u001b[0;34m]\u001b[0m\u001b[0;34m:\u001b[0m\u001b[0;34m\u001b[0m\u001b[0m\n\u001b[0;32m-> 1715\u001b[0;31m                 \u001b[0mtarget_e\u001b[0m \u001b[0;34m+=\u001b[0m \u001b[0mt\u001b[0m\u001b[0;34m.\u001b[0m\u001b[0mexcitation\u001b[0m\u001b[0;34m(\u001b[0m\u001b[0;34m)\u001b[0m\u001b[0;34m\u001b[0m\u001b[0m\n\u001b[0m\u001b[1;32m   1716\u001b[0m             \u001b[0;32mif\u001b[0m \u001b[0mtarget_e\u001b[0m \u001b[0;34m==\u001b[0m \u001b[0mE\u001b[0m\u001b[0;34m:\u001b[0m\u001b[0;34m\u001b[0m\u001b[0m\n\u001b[1;32m   1717\u001b[0m                 \u001b[0;31m#print h,i\u001b[0m\u001b[0;34m\u001b[0m\u001b[0;34m\u001b[0m\u001b[0m\n",
      "\u001b[0;31mAttributeError\u001b[0m: 'list' object has no attribute 'excitation'"
     ]
    }
   ],
   "source": [
    "tx = combine_to_excitation(H,expT,1, [1,0,0,0]) #All combinations that produce excitation level 1\n",
    "S = \"0 =\"\n",
    "for i in tx:\n",
    "    S+= \"+\"+ i\n",
    "Math(S)"
   ]
  },
  {
   "cell_type": "markdown",
   "metadata": {},
   "source": [
    "And voila! This is basically the T1 amplitude equation in the CCSD truncation. \n",
    "\n",
    "Note the third argument, setting the excitation level of interest to 1. All the sums above have this excitation level. We may also display these 6 contributions to the $t_1$ amplitude equation as diagrams:"
   ]
  },
  {
   "cell_type": "code",
   "execution_count": 16,
   "metadata": {
    "collapsed": false
   },
   "outputs": [
    {
     "data": {
      "image/png": "[encoded data removed]",
      "text/plain": [
       "<matplotlib.figure.Figure at 0x5060828>"
      ]
     },
     "metadata": {},
     "output_type": "display_data"
    },
    {
     "data": {
      "image/png": "[encoded data removed]",
      "text/plain": [
       "<matplotlib.figure.Figure at 0x82c7940>"
      ]
     },
     "metadata": {},
     "output_type": "display_data"
    },
    {
     "data": {
      "image/png": "[encoded data removed]",
      "text/plain": [
       "<matplotlib.figure.Figure at 0x7844978>"
      ]
     },
     "metadata": {},
     "output_type": "display_data"
    },
    {
     "data": {
      "image/png": "[encoded data removed]",
      "text/plain": [
       "<matplotlib.figure.Figure at 0x5024710>"
      ]
     },
     "metadata": {},
     "output_type": "display_data"
    },
    {
     "data": {
      "image/png": "[encoded data removed]",
      "text/plain": [
       "<matplotlib.figure.Figure at 0x4d5bc50>"
      ]
     },
     "metadata": {},
     "output_type": "display_data"
    },
    {
     "data": {
      "image/png": "[encoded data removed]",
      "text/plain": [
       "<matplotlib.figure.Figure at 0x50084a8>"
      ]
     },
     "metadata": {},
     "output_type": "display_data"
    }
   ],
   "source": [
    "tx = combine_to_excitation(H,expT,1, [0,1,0,0]) #All combinations that produce excitation level 1"
   ]
  },
  {
   "cell_type": "markdown",
   "metadata": {},
   "source": [
    "### 6. Deriving the CCD equations\n",
    "\n",
    "We are now ready to derive the full CCD equations. We perform the operations in two separate cells, one for the energy and another for the $t_2$ amplitude equation. This example might be considered typical for a session where we want to produce some code for a C++ implementation for CCD. "
   ]
  },
  {
   "cell_type": "code",
   "execution_count": 12,
   "metadata": {
    "collapsed": false
   },
   "outputs": [
    {
     "ename": "AttributeError",
     "evalue": "'list' object has no attribute 'excitation'",
     "output_type": "error",
     "traceback": [
      "\u001b[0;31m---------------------------------------------------------------------------\u001b[0m",
      "\u001b[0;31mAttributeError\u001b[0m                            Traceback (most recent call last)",
      "\u001b[0;32m<ipython-input-12-8f902d1c92f8>\u001b[0m in \u001b[0;36m<module>\u001b[0;34m()\u001b[0m\n\u001b[1;32m      2\u001b[0m \u001b[0mT_2\u001b[0m \u001b[0;34m=\u001b[0m \u001b[0mOperator\u001b[0m\u001b[0;34m(\u001b[0m\u001b[0;34m[\u001b[0m\u001b[0;34m]\u001b[0m\u001b[0;34m,\u001b[0m\u001b[0;34m[\u001b[0m\u001b[0;36m1\u001b[0m\u001b[0;34m,\u001b[0m\u001b[0;36m1\u001b[0m\u001b[0;34m,\u001b[0m\u001b[0;34m-\u001b[0m\u001b[0;36m1\u001b[0m\u001b[0;34m,\u001b[0m\u001b[0;34m-\u001b[0m\u001b[0;36m1\u001b[0m\u001b[0;34m]\u001b[0m\u001b[0;34m)\u001b[0m\u001b[0;34m\u001b[0m\u001b[0m\n\u001b[1;32m      3\u001b[0m \u001b[0mexpT\u001b[0m \u001b[0;34m=\u001b[0m \u001b[0mexpand_ansatz\u001b[0m\u001b[0;34m(\u001b[0m\u001b[0;34m[\u001b[0m\u001b[0;34m[\u001b[0m\u001b[0mT_2\u001b[0m\u001b[0;34m]\u001b[0m\u001b[0;34m]\u001b[0m\u001b[0;34m,\u001b[0m \u001b[0;36m4\u001b[0m\u001b[0;34m)\u001b[0m \u001b[0;31m#Natural truncation\u001b[0m\u001b[0;34m\u001b[0m\u001b[0m\n\u001b[0;32m----> 4\u001b[0;31m \u001b[0mtx\u001b[0m \u001b[0;34m=\u001b[0m \u001b[0mcombine_to_excitation\u001b[0m\u001b[0;34m(\u001b[0m\u001b[0mH\u001b[0m\u001b[0;34m,\u001b[0m\u001b[0mexpT\u001b[0m\u001b[0;34m,\u001b[0m \u001b[0;36m0\u001b[0m\u001b[0;34m,\u001b[0m \u001b[0;34m[\u001b[0m\u001b[0;36m1\u001b[0m\u001b[0;34m,\u001b[0m\u001b[0;36m1\u001b[0m\u001b[0;34m,\u001b[0m\u001b[0;36m0\u001b[0m\u001b[0;34m,\u001b[0m\u001b[0;36m0\u001b[0m\u001b[0;34m]\u001b[0m\u001b[0;34m)\u001b[0m \u001b[0;31m#The list is explained below\u001b[0m\u001b[0;34m\u001b[0m\u001b[0m\n\u001b[0m\u001b[1;32m      5\u001b[0m \u001b[0mS\u001b[0m \u001b[0;34m=\u001b[0m \u001b[0;34m\"0 = \"\u001b[0m\u001b[0;34m\u001b[0m\u001b[0m\n\u001b[1;32m      6\u001b[0m \u001b[0;32mfor\u001b[0m \u001b[0mi\u001b[0m \u001b[0;32min\u001b[0m \u001b[0mtx\u001b[0m\u001b[0;34m:\u001b[0m\u001b[0;34m\u001b[0m\u001b[0m\n",
      "\u001b[0;32m/Users/audunhansen/Dropbox/Master Thesis Audun Skau Hansen/Notebooks/CCAlgebra_mk4.py\u001b[0m in \u001b[0;36mcombine_to_excitation\u001b[0;34m(H, T, E, config)\u001b[0m\n\u001b[1;32m   1713\u001b[0m             \u001b[0mtarget_e\u001b[0m \u001b[0;34m=\u001b[0m \u001b[0mH\u001b[0m\u001b[0;34m[\u001b[0m\u001b[0mh\u001b[0m\u001b[0;34m]\u001b[0m\u001b[0;34m.\u001b[0m\u001b[0mexcitation\u001b[0m\u001b[0;34m(\u001b[0m\u001b[0;34m)\u001b[0m\u001b[0;34m\u001b[0m\u001b[0m\n\u001b[1;32m   1714\u001b[0m             \u001b[0;32mfor\u001b[0m \u001b[0mt\u001b[0m \u001b[0;32min\u001b[0m \u001b[0mT\u001b[0m\u001b[0;34m[\u001b[0m\u001b[0mi\u001b[0m\u001b[0;34m]\u001b[0m\u001b[0;34m:\u001b[0m\u001b[0;34m\u001b[0m\u001b[0m\n\u001b[0;32m-> 1715\u001b[0;31m                 \u001b[0mtarget_e\u001b[0m \u001b[0;34m+=\u001b[0m \u001b[0mt\u001b[0m\u001b[0;34m.\u001b[0m\u001b[0mexcitation\u001b[0m\u001b[0;34m(\u001b[0m\u001b[0;34m)\u001b[0m\u001b[0;34m\u001b[0m\u001b[0m\n\u001b[0m\u001b[1;32m   1716\u001b[0m             \u001b[0;32mif\u001b[0m \u001b[0mtarget_e\u001b[0m \u001b[0;34m==\u001b[0m \u001b[0mE\u001b[0m\u001b[0;34m:\u001b[0m\u001b[0;34m\u001b[0m\u001b[0m\n\u001b[1;32m   1717\u001b[0m                 \u001b[0;31m#print h,i\u001b[0m\u001b[0;34m\u001b[0m\u001b[0;34m\u001b[0m\u001b[0m\n",
      "\u001b[0;31mAttributeError\u001b[0m: 'list' object has no attribute 'excitation'"
     ]
    }
   ],
   "source": [
    "H = normal_ordered_hamiltonian()\n",
    "T_2 = Operator([],[1,1,-1,-1]) \n",
    "expT = expand_ansatz([[T_2]], 4) #Natural truncation\n",
    "tx = combine_to_excitation(H,expT, 0, [1,1,0,0]) #The list is explained below\n",
    "S = \"0 = \"\n",
    "for i in tx:\n",
    "    S+= \"+\" + i\n",
    "Math(S)"
   ]
  },
  {
   "cell_type": "markdown",
   "metadata": {},
   "source": [
    "As expected, we find only one contribution to the energy expression. People familiar with diagrammatic notation quickly recognize the CCD energy above. Now for the $t_2$ amplitude equation (in the example we return the code):"
   ]
  },
  {
   "cell_type": "code",
   "execution_count": 47,
   "metadata": {
    "collapsed": false
   },
   "outputs": [
    {
     "name": "stdout",
     "output_type": "stream",
     "text": [
      "\n",
      "double CC0_0a = 0.0;\n",
      "for(int c = nElectrons; c < nStates; c ++){\n",
      "    CC0_0a += vmin1(a)(c)*tf2(c,b)(i,j)-(vmin1(b)(c)*tf2(c,a)(i,j));\n",
      "}\n",
      "CC0_0a *= -1.000000;\n",
      "\n",
      "\n",
      "double CC1_0a = 0.0;\n",
      "for(int k = 0; k < nElectrons; k ++){\n",
      "    CC1_0a += vmin1(k)(j)*tf2(a,b)(i,k)-(vmjn1(k)(i)*tf2(a,b)(j,k));\n",
      "}\n",
      "CC1_0a *= 1.000000;\n",
      "\n",
      "\n",
      "double CC4_0a = 0.0;\n",
      "for(int d = nElectrons; d < nStates; d ++){\n",
      "    for(int c = nElectrons; c < nStates; c ++){\n",
      "        CC4_0a += vmin2(a,b)(c,d)*tf2(c,d)(i,j);\n",
      "    }\n",
      "}\n",
      "CC4_0a *= 0.500000;\n",
      "\n",
      "\n",
      "double CC5_0a = 0.0;\n",
      "for(int l = 0; l < nElectrons; l ++){\n",
      "    for(int k = 0; k < nElectrons; k ++){\n",
      "        CC5_0a += vmin2(k,l)(i,j)*tf2(a,b)(k,l);\n",
      "    }\n",
      "}\n",
      "CC5_0a *= 0.500000;\n",
      "\n",
      "\n",
      "double CC6_0a = 0.0;\n",
      "for(int k = 0; k < nElectrons; k ++){\n",
      "    for(int c = nElectrons; c < nStates; c ++){\n",
      "        CC6_0a += vmin2(a,k)(c,j)*tf2(c,b)(i,k)-(vmin2(b,k)(c,j)*tf2(c,a)(i,k))-(vmjn2(a,k)(c,i)*tf2(c,b)(j,k)-(vmjn2(b,k)(c,i)*tf2(c,a)(j,k)));\n",
      "    }\n",
      "}\n",
      "CC6_0a *= -1.000000;\n",
      "\n",
      "\n",
      "double CC12_1a = 0.0;\n",
      "for(int l = 0; l < nElectrons; l ++){\n",
      "    for(int k = 0; k < nElectrons; k ++){\n",
      "        for(int d = nElectrons; d < nStates; d ++){\n",
      "            for(int c = nElectrons; c < nStates; c ++){\n",
      "                CC12_1a += vmin2(k,l)(c,d)*tf2(c,d)(i,k)*tf2(a,b)(j,l)-(vmjn2(k,l)(c,d)*tf2(c,d)(j,k)*tf2(a,b)(i,l));\n",
      "            }\n",
      "        }\n",
      "    }\n",
      "}\n",
      "CC12_1a *= -0.500000;\n",
      "\n",
      "\n",
      "double CC12_1b = 0.0;\n",
      "for(int l = 0; l < nElectrons; l ++){\n",
      "    for(int k = 0; k < nElectrons; k ++){\n",
      "        for(int d = nElectrons; d < nStates; d ++){\n",
      "            for(int c = nElectrons; c < nStates; c ++){\n",
      "                CC12_1b += vmin2(k,l)(c,d)*tf2(c,d)(i,j)*tf2(a,b)(k,l);\n",
      "            }\n",
      "        }\n",
      "    }\n",
      "}\n",
      "CC12_1b *= 0.250000;\n",
      "\n",
      "\n",
      "double CC12_1c = 0.0;\n",
      "for(int d = nElectrons; d < nStates; d ++){\n",
      "    for(int l = 0; l < nElectrons; l ++){\n",
      "        for(int k = 0; k < nElectrons; k ++){\n",
      "            for(int c = nElectrons; c < nStates; c ++){\n",
      "                CC12_1c += vmin2(k,l)(c,d)*tf2(c,a)(k,l)*tf2(d,b)(i,j)-(vmin2(k,l)(c,d)*tf2(c,b)(k,l)*tf2(d,a)(i,j));\n",
      "            }\n",
      "        }\n",
      "    }\n",
      "}\n",
      "CC12_1c *= -0.500000;\n",
      "\n",
      "\n",
      "double CC12_1d = 0.0;\n",
      "for(int l = 0; l < nElectrons; l ++){\n",
      "    for(int d = nElectrons; d < nStates; d ++){\n",
      "        for(int k = 0; k < nElectrons; k ++){\n",
      "            for(int c = nElectrons; c < nStates; c ++){\n",
      "                CC12_1d += vmin2(k,l)(c,d)*tf2(c,a)(i,k)*tf2(d,b)(j,l)-(vmin2(k,l)(c,d)*tf2(c,b)(i,k)*tf2(d,a)(j,l))-(vmjn2(k,l)(c,d)*tf2(c,a)(j,k)*tf2(d,b)(i,l)-(vmjn2(k,l)(c,d)*tf2(c,b)(j,k)*tf2(d,a)(i,l)));\n",
      "            }\n",
      "        }\n",
      "    }\n",
      "}\n",
      "CC12_1d *= 0.500000;\n",
      "\n"
     ]
    },
    {
     "data": {
      "text/latex": [
       "$$0 = +P(ba)\\frac{-1}{1} \\sum_{c} \\langle a || c \\rangle t_{ij}^{cb}+P(ij)\\frac{1}{1} \\sum_{k} \\langle k || j \\rangle t_{ik}^{ab}+\\frac{1}{2} \\sum_{cd} \\langle ab || cd \\rangle t_{ij}^{cd}+\\frac{1}{2} \\sum_{kl} \\langle kl || ij \\rangle t_{kl}^{ab}+P(ba)P(ij)\\frac{-1}{1} \\sum_{ck} \\langle ak || cj \\rangle t_{ik}^{cb}+P(ij)\\frac{-1}{2} \\sum_{cdkl} \\langle kl || cd \\rangle t_{ik}^{cd} t_{jl}^{ab}+\\frac{1}{4} \\sum_{cdkl} \\langle kl || cd \\rangle t_{ij}^{cd} t_{kl}^{ab}+P(ab)\\frac{-1}{2} \\sum_{ckld} \\langle kl || cd \\rangle t_{kl}^{ca} t_{ij}^{db}+P(ab)P(ij)\\frac{1}{2} \\sum_{ckdl} \\langle kl || cd \\rangle t_{ik}^{ca} t_{jl}^{db}$$"
      ],
      "text/plain": [
       "<IPython.core.display.Math at 0x4d46278>"
      ]
     },
     "execution_count": 47,
     "metadata": {},
     "output_type": "execute_result"
    }
   ],
   "source": [
    "#tx = combine_to_excitation(H,expT, 2, [0,0,0,1]) #The list is explained below\n",
    "tx = combine_to_excitation(H,expT, 2, [1,0,0,1]) #The list is explained below\n",
    "S = \"0 = \"\n",
    "for i in tx:\n",
    "    S+= \"+\" + i\n",
    "Math(S)"
   ]
  },
  {
   "cell_type": "markdown",
   "metadata": {},
   "source": [
    "In summary, we see that CCAlgebra has a potential to simplify both the understanding and implementation of CC-equations. The code above may be copy-pasted into a C++ class file.\n",
    "\n",
    "*Update (2.november 2014): The code above was successfully implemented into my quantum many-body solver [Fermion Mingle](http://www.github.com/audunsh/fys4411 \"Fermion Mingle at Github\") in C++ with some minor editing, and the code produced the exact same results I have obtained from previous benchmarking. This is a proof-of-concept, showing that CCAlg may be used to write code for solver functions.*"
   ]
  },
  {
   "cell_type": "markdown",
   "metadata": {},
   "source": [
    "### 7. Deriving the CCSD equations\n",
    "\n",
    "The CCD is considered to be the simplest of the CC equations. When we also include single excitations, we may derive the CCSD equations. As the correlation energy is given by completely closed diagrams, we should only find three possible such connections of operators. This is confirmed in the example below:"
   ]
  },
  {
   "cell_type": "code",
   "execution_count": 19,
   "metadata": {
    "collapsed": false
   },
   "outputs": [
    {
     "data": {
      "image/png": "[encoded data removed]",
      "text/plain": [
       "<matplotlib.figure.Figure at 0x82b7eb8>"
      ]
     },
     "metadata": {},
     "output_type": "display_data"
    },
    {
     "data": {
      "image/png": "[encoded data removed]",
      "text/plain": [
       "<matplotlib.figure.Figure at 0x555d780>"
      ]
     },
     "metadata": {},
     "output_type": "display_data"
    },
    {
     "data": {
      "image/png": "[encoded data removed]",
      "text/plain": [
       "<matplotlib.figure.Figure at 0x4d56320>"
      ]
     },
     "metadata": {},
     "output_type": "display_data"
    },
    {
     "data": {
      "text/latex": [
       "$$0 = +\\frac{1}{1} \\sum_{ck} \\langle k || c \\rangle t_{k}^{c}+\\frac{1}{4} \\sum_{cdkl} \\langle kl || cd \\rangle t_{kl}^{cd}+\\frac{1}{2} \\sum_{ckdl} \\langle kl || cd \\rangle t_{k}^{c} t_{l}^{d}$$"
      ],
      "text/plain": [
       "<IPython.core.display.Math at 0x82b7e48>"
      ]
     },
     "execution_count": 19,
     "metadata": {},
     "output_type": "execute_result"
    }
   ],
   "source": [
    "H = normal_ordered_hamiltonian() #Including one- and two-particle interactions\n",
    "expT = expand_ansatz([[T_1],[T_2]],3)  #Taylor expand a list of lists to the 3rd order\n",
    "tx = combine_to_excitation(H,expT,0, [1,1,0,0]) \n",
    "S = \"0 = \"\n",
    "for i in tx:\n",
    "    S += \"+\" + i\n",
    "Math(S)"
   ]
  },
  {
   "cell_type": "markdown",
   "metadata": {},
   "source": [
    "The expression above is identical to the energy expression presented in S-B, p.297, meaning that CCAlgebra at least solves the energy equation correctly. We proceed by deriving the $t_2$ amplitude equation:"
   ]
  },
  {
   "cell_type": "code",
   "execution_count": 20,
   "metadata": {
    "collapsed": false
   },
   "outputs": [
    {
     "data": {
      "text/latex": [
       "$$0 = +P(ba)\\frac{-1}{1} \\sum_{c} \\langle a || c \\rangle t_{ij}^{cb}+P(ij)\\frac{1}{1} \\sum_{k} \\langle k || j \\rangle t_{ik}^{ab}+P(ij)\\frac{-1}{1} \\sum_{ck} \\langle k || c \\rangle t_{i}^{c} t_{jk}^{ab}+P(ab)\\frac{-1}{1} \\sum_{kc} \\langle k || c \\rangle t_{k}^{a} t_{ij}^{cb}+P(ab)\\frac{-1}{1} \\sum_{ck} \\langle k || c \\rangle t_{ij}^{ca} t_{k}^{b}+P(ij)\\frac{-1}{1} \\sum_{kc} \\langle k || c \\rangle t_{ik}^{ab} t_{j}^{c}+\\frac{1}{2} \\sum_{cd} \\langle ab || cd \\rangle t_{ij}^{cd}+P(ij)\\frac{-1}{2} \\sum_{cd} \\langle ab || cd \\rangle t_{i}^{c} t_{j}^{d}+\\frac{1}{2} \\sum_{kl} \\langle kl || ij \\rangle t_{kl}^{ab}+P(ab)\\frac{-1}{2} \\sum_{kl} \\langle kl || ij \\rangle t_{k}^{a} t_{l}^{b}+P(ba)P(ij)\\frac{-1}{1} \\sum_{ck} \\langle ak || cj \\rangle t_{ik}^{cb}+P(ij)P(ba)\\frac{-1}{1} \\sum_{ck} \\langle ak || cj \\rangle t_{i}^{c} t_{k}^{b}+P(ij)\\frac{1}{1} \\sum_{c} \\langle a || c \\rangle t_{i}^{c}+P(ba)\\frac{-1}{1} \\sum_{ckd} \\langle ak || cd \\rangle t_{k}^{c} t_{ij}^{db}+P(ij)P(ba)\\frac{1}{1} \\sum_{cdk} \\langle ak || cd \\rangle t_{i}^{c} t_{jk}^{db}+P(ab)\\frac{-1}{2} \\sum_{kcd} \\langle kb || cd \\rangle t_{k}^{a} t_{ij}^{cd}+P(ba)\\frac{-1}{2} \\sum_{cdk} \\langle ak || cd \\rangle t_{ij}^{cd} t_{k}^{b}+P(ba)P(ij)\\frac{1}{1} \\sum_{ckd} \\langle ak || cd \\rangle t_{ik}^{cb} t_{j}^{d}+P(ba)\\frac{-1}{1} \\sum_{cdk} \\langle ak || cd \\rangle t_{ij}^{cb} t_{k}^{d}+P(ij)P(ba)\\frac{1}{2} \\sum_{cdk} \\langle ak || cd \\rangle t_{i}^{c} t_{j}^{d} t_{k}^{b}+P(ab)\\frac{-1}{1} \\sum_{k} \\langle k || i \\rangle t_{k}^{a}+P(ji)\\frac{1}{1} \\sum_{ckl} \\langle kl || ci \\rangle t_{k}^{c} t_{jl}^{ab}+P(ij)\\frac{1}{2} \\sum_{ckl} \\langle kl || cj \\rangle t_{i}^{c} t_{kl}^{ab}+P(ab)P(ji)\\frac{-1}{1} \\sum_{kcl} \\langle kl || ic \\rangle t_{k}^{a} t_{jl}^{cb}+P(ab)P(ij)\\frac{-1}{1} \\sum_{ckl} \\langle kl || cj \\rangle t_{ik}^{ca} t_{l}^{b}+P(ji)\\frac{1}{2} \\sum_{klc} \\langle kl || ic \\rangle t_{kl}^{ab} t_{j}^{c}+P(ij)\\frac{1}{1} \\sum_{kcl} \\langle kl || jc \\rangle t_{ik}^{ab} t_{l}^{c}+P(ij)P(ab)\\frac{-1}{2} \\sum_{ckl} \\langle kl || cj \\rangle t_{i}^{c} t_{k}^{a} t_{l}^{b}+P(ij)\\frac{-1}{2} \\sum_{cdkl} \\langle kl || cd \\rangle t_{ik}^{cd} t_{jl}^{ab}+\\frac{1}{4} \\sum_{cdkl} \\langle kl || cd \\rangle t_{ij}^{cd} t_{kl}^{ab}+P(ab)\\frac{-1}{2} \\sum_{ckld} \\langle kl || cd \\rangle t_{kl}^{ca} t_{ij}^{db}+P(ab)P(ij)\\frac{1}{2} \\sum_{ckdl} \\langle kl || cd \\rangle t_{ik}^{ca} t_{jl}^{db}+P(ij)\\frac{-1}{1} \\sum_{ckdl} \\langle kl || cd \\rangle t_{k}^{c} t_{i}^{d} t_{jl}^{ab}+P(ab)\\frac{-1}{1} \\sum_{ckld} \\langle kl || cd \\rangle t_{k}^{c} t_{l}^{a} t_{ij}^{db}+P(ij)\\frac{-1}{4} \\sum_{cdkl} \\langle kl || cd \\rangle t_{i}^{c} t_{j}^{d} t_{kl}^{ab}+P(ij)P(ab)\\frac{1}{1} \\sum_{ckdl} \\langle kl || cd \\rangle t_{i}^{c} t_{k}^{a} t_{jl}^{db}+P(ab)\\frac{-1}{4} \\sum_{klcd} \\langle kl || cd \\rangle t_{k}^{a} t_{l}^{b} t_{ij}^{cd}+P(ab)\\frac{-1}{1} \\sum_{ckdl} \\langle kl || cd \\rangle t_{k}^{c} t_{ij}^{da} t_{l}^{b}+P(ij)\\frac{-1}{1} \\sum_{ckld} \\langle kl || cd \\rangle t_{k}^{c} t_{il}^{ab} t_{j}^{d}+P(ij)P(ab)\\frac{1}{1} \\sum_{cdkl} \\langle kl || cd \\rangle t_{i}^{c} t_{jk}^{da} t_{l}^{b}+P(ij)\\frac{-1}{4} \\sum_{ckld} \\langle kl || cd \\rangle t_{i}^{c} t_{kl}^{ab} t_{j}^{d}+P(ab)\\frac{-1}{4} \\sum_{kcdl} \\langle kl || cd \\rangle t_{k}^{a} t_{ij}^{cd} t_{l}^{b}+P(ab)\\frac{-1}{4} \\sum_{cdkl} \\langle kl || cd \\rangle t_{ij}^{cd} t_{k}^{a} t_{l}^{b}+P(ab)P(ij)\\frac{1}{1} \\sum_{ckdl} \\langle kl || cd \\rangle t_{ik}^{ca} t_{j}^{d} t_{l}^{b}+P(ab)\\frac{-1}{1} \\sum_{cdkl} \\langle kl || cd \\rangle t_{ij}^{ca} t_{k}^{d} t_{l}^{b}+P(ij)\\frac{-1}{4} \\sum_{klcd} \\langle kl || cd \\rangle t_{kl}^{ab} t_{i}^{c} t_{j}^{d}+P(ij)\\frac{-1}{1} \\sum_{kcld} \\langle kl || cd \\rangle t_{ik}^{ab} t_{l}^{c} t_{j}^{d}$$"
      ],
      "text/plain": [
       "<IPython.core.display.Math at 0x82b7dd8>"
      ]
     },
     "execution_count": 20,
     "metadata": {},
     "output_type": "execute_result"
    }
   ],
   "source": [
    "tx = combine_to_excitation(H,expT,2, [1,0,0,0]) \n",
    "S = \"0 = \"\n",
    "for i in tx:\n",
    "    S += \"+\" + i\n",
    "Math(S)"
   ]
  },
  {
   "cell_type": "markdown",
   "metadata": {},
   "source": [
    "And the $t_1$ amplitude equation:"
   ]
  },
  {
   "cell_type": "code",
   "execution_count": 21,
   "metadata": {
    "collapsed": false
   },
   "outputs": [
    {
     "data": {
      "text/latex": [
       "$$0 = +\\frac{1}{1} \\sum_{c} \\langle a || c \\rangle t_{i}^{c}+\\frac{-1}{1} \\sum_{k} \\langle k || i \\rangle t_{k}^{a}+\\frac{1}{1} \\sum_{ck} \\langle k || c \\rangle t_{ik}^{ca}+\\frac{1}{1} \\sum_{ck} \\langle k || c \\rangle t_{i}^{c} t_{k}^{a}+\\frac{-1}{1} \\sum_{ck} \\langle ak || ci \\rangle t_{k}^{c}+\\frac{1}{2} \\sum_{cdk} \\langle ak || cd \\rangle t_{ik}^{cd}+\\frac{1}{1} \\sum_{ckd} \\langle ak || cd \\rangle t_{k}^{c} t_{i}^{d}+\\frac{-1}{2} \\sum_{ckl} \\langle kl || ci \\rangle t_{kl}^{ca}+\\frac{-1}{1} \\sum_{ckl} \\langle kl || ci \\rangle t_{k}^{c} t_{l}^{a}+\\frac{1}{1} \\sum_{ckdl} \\langle kl || cd \\rangle t_{k}^{c} t_{il}^{da}+\\frac{1}{2} \\sum_{cdkl} \\langle kl || cd \\rangle t_{i}^{c} t_{kl}^{da}+\\frac{1}{2} \\sum_{kcdl} \\langle kl || cd \\rangle t_{k}^{a} t_{il}^{cd}+\\frac{1}{2} \\sum_{cdkl} \\langle kl || cd \\rangle t_{ik}^{cd} t_{l}^{a}+\\frac{1}{2} \\sum_{ckld} \\langle kl || cd \\rangle t_{kl}^{ca} t_{i}^{d}+\\frac{1}{1} \\sum_{ckdl} \\langle kl || cd \\rangle t_{ik}^{ca} t_{l}^{d}+\\frac{1}{1} \\sum_{ckdl} \\langle kl || cd \\rangle t_{k}^{c} t_{i}^{d} t_{l}^{a}+\\frac{1}{1} \\sum_{ckdl} \\langle kl || cd \\rangle t_{i}^{c} t_{k}^{a} t_{l}^{d}+\\frac{1}{1} \\sum_{kcld} \\langle kl || cd \\rangle t_{k}^{a} t_{l}^{c} t_{i}^{d}$$"
      ],
      "text/plain": [
       "<IPython.core.display.Math at 0x82b7fd0>"
      ]
     },
     "execution_count": 21,
     "metadata": {},
     "output_type": "execute_result"
    }
   ],
   "source": [
    "tx = combine_to_excitation(H,expT,1, [1,0,0,0]) \n",
    "S = \"0 = \"\n",
    "for i in tx:\n",
    "    S += \"+\" + i\n",
    "Math(S)"
   ]
  },
  {
   "cell_type": "markdown",
   "metadata": {},
   "source": [
    "### 8. Deriving the CCSDT equations\n",
    "\n",
    "Finally we derive the CCSDT equations. This exercise shows some of the potential of using CCAlgebra, as the equations are notoriously prone to error when derived by hand due to the length and complexity of the equations.\n",
    "\n",
    "We begin by a confirmation that the energy equation remains the same as before (as no triple amplitudes will enter the energy expression):"
   ]
  },
  {
   "cell_type": "code",
   "execution_count": 22,
   "metadata": {
    "collapsed": false
   },
   "outputs": [
    {
     "data": {
      "text/latex": [
       "$$0 =+\\frac{1}{1} \\sum_{ck} \\langle k || c \\rangle t_{k}^{c}\n",
       "+\\frac{1}{4} \\sum_{cdkl} \\langle kl || cd \\rangle t_{kl}^{cd}\n",
       "+\\frac{1}{2} \\sum_{ckdl} \\langle kl || cd \\rangle t_{k}^{c} t_{l}^{d}\n",
       "$$"
      ],
      "text/plain": [
       "<IPython.core.display.Math at 0x82b79e8>"
      ]
     },
     "execution_count": 22,
     "metadata": {},
     "output_type": "execute_result"
    }
   ],
   "source": [
    "H = normal_ordered_hamiltonian() #Including one- and two-particle interactions\n",
    "T_1 = Operator([],[1,-1])  #The T_1 cluster operator\n",
    "T_2 = Operator([],[1,1,-1,-1]) #The T_2 operator; all lists must be normal ordered\n",
    "T_3 = Operator([],[1,1,1,-1,-1,-1])\n",
    "expT = expand_ansatz([[T_1],[T_2], [T_3]],4)  #Taylor expand a list of lists to the 3rd order\n",
    "\n",
    "tx = combine_to_excitation(H,expT,0, [1,0,0,0])\n",
    "s = \"0 =\"\n",
    "for t in tx:\n",
    "    s += \"+\" + t + \"\\n\"\n",
    "Math(s)"
   ]
  },
  {
   "cell_type": "markdown",
   "metadata": {},
   "source": [
    "We then derive each amplitude equation in turn. For the $t_1$ amplitude:"
   ]
  },
  {
   "cell_type": "code",
   "execution_count": 23,
   "metadata": {
    "collapsed": false
   },
   "outputs": [
    {
     "data": {
      "text/latex": [
       "$$0 =+\\frac{1}{1} \\sum_{c} \\langle a || c \\rangle t_{i}^{c}\n",
       "+\\frac{-1}{1} \\sum_{k} \\langle k || i \\rangle t_{k}^{a}\n",
       "+\\frac{1}{1} \\sum_{ck} \\langle k || c \\rangle t_{ik}^{ca}\n",
       "+\\frac{1}{1} \\sum_{ck} \\langle k || c \\rangle t_{i}^{c} t_{k}^{a}\n",
       "+\\frac{-1}{1} \\sum_{ck} \\langle ak || ci \\rangle t_{k}^{c}\n",
       "+\\frac{1}{2} \\sum_{cdk} \\langle ak || cd \\rangle t_{ik}^{cd}\n",
       "+\\frac{1}{1} \\sum_{ckd} \\langle ak || cd \\rangle t_{k}^{c} t_{i}^{d}\n",
       "+\\frac{-1}{2} \\sum_{ckl} \\langle kl || ci \\rangle t_{kl}^{ca}\n",
       "+\\frac{-1}{1} \\sum_{ckl} \\langle kl || ci \\rangle t_{k}^{c} t_{l}^{a}\n",
       "+\\frac{1}{4} \\sum_{cdkl} \\langle kl || cd \\rangle t_{ikl}^{cda}\n",
       "+\\frac{1}{1} \\sum_{ckdl} \\langle kl || cd \\rangle t_{k}^{c} t_{il}^{da}\n",
       "+\\frac{1}{2} \\sum_{cdkl} \\langle kl || cd \\rangle t_{i}^{c} t_{kl}^{da}\n",
       "+\\frac{1}{2} \\sum_{kcdl} \\langle kl || cd \\rangle t_{k}^{a} t_{il}^{cd}\n",
       "+\\frac{1}{2} \\sum_{cdkl} \\langle kl || cd \\rangle t_{ik}^{cd} t_{l}^{a}\n",
       "+\\frac{1}{2} \\sum_{ckld} \\langle kl || cd \\rangle t_{kl}^{ca} t_{i}^{d}\n",
       "+\\frac{1}{1} \\sum_{ckdl} \\langle kl || cd \\rangle t_{ik}^{ca} t_{l}^{d}\n",
       "+\\frac{1}{1} \\sum_{ckdl} \\langle kl || cd \\rangle t_{k}^{c} t_{i}^{d} t_{l}^{a}\n",
       "+\\frac{1}{1} \\sum_{ckdl} \\langle kl || cd \\rangle t_{i}^{c} t_{k}^{a} t_{l}^{d}\n",
       "+\\frac{1}{1} \\sum_{kcld} \\langle kl || cd \\rangle t_{k}^{a} t_{l}^{c} t_{i}^{d}\n",
       "$$"
      ],
      "text/plain": [
       "<IPython.core.display.Math at 0x82b7ac8>"
      ]
     },
     "execution_count": 23,
     "metadata": {},
     "output_type": "execute_result"
    }
   ],
   "source": [
    "tx = combine_to_excitation(H,expT,1, [1,0,0,0])\n",
    "s = \"0 =\"\n",
    "for t in tx:\n",
    "    s += \"+\" + t + \"\\n\"\n",
    "Math(s)"
   ]
  },
  {
   "cell_type": "markdown",
   "metadata": {},
   "source": [
    "For the $t_2$ amplitudes:"
   ]
  },
  {
   "cell_type": "code",
   "execution_count": 26,
   "metadata": {
    "collapsed": false
   },
   "outputs": [
    {
     "ename": "AttributeError",
     "evalue": "'list' object has no attribute 'excitation'",
     "output_type": "error",
     "traceback": [
      "\u001b[0;31m---------------------------------------------------------------------------\u001b[0m",
      "\u001b[0;31mAttributeError\u001b[0m                            Traceback (most recent call last)",
      "\u001b[0;32m<ipython-input-26-aeb4b538fad5>\u001b[0m in \u001b[0;36m<module>\u001b[0;34m()\u001b[0m\n\u001b[0;32m----> 1\u001b[0;31m \u001b[0mtx\u001b[0m \u001b[0;34m=\u001b[0m \u001b[0mcombine_to_excitation\u001b[0m\u001b[0;34m(\u001b[0m\u001b[0mH\u001b[0m\u001b[0;34m,\u001b[0m\u001b[0mexpT\u001b[0m\u001b[0;34m,\u001b[0m\u001b[0;36m2\u001b[0m\u001b[0;34m,\u001b[0m \u001b[0;34m[\u001b[0m\u001b[0;36m1\u001b[0m\u001b[0;34m,\u001b[0m\u001b[0;36m0\u001b[0m\u001b[0;34m,\u001b[0m\u001b[0;36m0\u001b[0m\u001b[0;34m,\u001b[0m\u001b[0;36m0\u001b[0m\u001b[0;34m]\u001b[0m\u001b[0;34m)\u001b[0m\u001b[0;34m\u001b[0m\u001b[0m\n\u001b[0m\u001b[1;32m      2\u001b[0m \u001b[0ms\u001b[0m \u001b[0;34m=\u001b[0m \u001b[0;34m\"0 =\"\u001b[0m\u001b[0;34m\u001b[0m\u001b[0m\n\u001b[1;32m      3\u001b[0m \u001b[0;32mfor\u001b[0m \u001b[0mt\u001b[0m \u001b[0;32min\u001b[0m \u001b[0mtx\u001b[0m\u001b[0;34m:\u001b[0m\u001b[0;34m\u001b[0m\u001b[0m\n\u001b[1;32m      4\u001b[0m     \u001b[0ms\u001b[0m \u001b[0;34m+=\u001b[0m \u001b[0;34m\"+\"\u001b[0m \u001b[0;34m+\u001b[0m \u001b[0mt\u001b[0m \u001b[0;34m+\u001b[0m \u001b[0;34m\"\\n\"\u001b[0m\u001b[0;34m\u001b[0m\u001b[0m\n\u001b[1;32m      5\u001b[0m \u001b[0mMath\u001b[0m\u001b[0;34m(\u001b[0m\u001b[0ms\u001b[0m\u001b[0;34m)\u001b[0m\u001b[0;34m\u001b[0m\u001b[0m\n",
      "\u001b[0;32m/Users/audunhansen/Dropbox/Master Thesis Audun Skau Hansen/Notebooks/CCAlgebra_mk4.py\u001b[0m in \u001b[0;36mcombine_to_excitation\u001b[0;34m(H, T, E, config)\u001b[0m\n\u001b[1;32m   1713\u001b[0m             \u001b[0mtarget_e\u001b[0m \u001b[0;34m=\u001b[0m \u001b[0mH\u001b[0m\u001b[0;34m[\u001b[0m\u001b[0mh\u001b[0m\u001b[0;34m]\u001b[0m\u001b[0;34m.\u001b[0m\u001b[0mexcitation\u001b[0m\u001b[0;34m(\u001b[0m\u001b[0;34m)\u001b[0m\u001b[0;34m\u001b[0m\u001b[0m\n\u001b[1;32m   1714\u001b[0m             \u001b[0;32mfor\u001b[0m \u001b[0mt\u001b[0m \u001b[0;32min\u001b[0m \u001b[0mT\u001b[0m\u001b[0;34m[\u001b[0m\u001b[0mi\u001b[0m\u001b[0;34m]\u001b[0m\u001b[0;34m:\u001b[0m\u001b[0;34m\u001b[0m\u001b[0m\n\u001b[0;32m-> 1715\u001b[0;31m                 \u001b[0mtarget_e\u001b[0m \u001b[0;34m+=\u001b[0m \u001b[0mt\u001b[0m\u001b[0;34m.\u001b[0m\u001b[0mexcitation\u001b[0m\u001b[0;34m(\u001b[0m\u001b[0;34m)\u001b[0m\u001b[0;34m\u001b[0m\u001b[0m\n\u001b[0m\u001b[1;32m   1716\u001b[0m             \u001b[0;32mif\u001b[0m \u001b[0mtarget_e\u001b[0m \u001b[0;34m==\u001b[0m \u001b[0mE\u001b[0m\u001b[0;34m:\u001b[0m\u001b[0;34m\u001b[0m\u001b[0m\n\u001b[1;32m   1717\u001b[0m                 \u001b[0;31m#print h,i\u001b[0m\u001b[0;34m\u001b[0m\u001b[0;34m\u001b[0m\u001b[0m\n",
      "\u001b[0;31mAttributeError\u001b[0m: 'list' object has no attribute 'excitation'"
     ]
    }
   ],
   "source": [
    "tx = combine_to_excitation(H,expT,2, [1,0,0,0])\n",
    "s = \"0 =\"\n",
    "for t in tx:\n",
    "    s += \"+\" + t + \"\\n\"\n",
    "Math(s)"
   ]
  },
  {
   "cell_type": "markdown",
   "metadata": {},
   "source": [
    "An finally, the $t_3$ amplitude:"
   ]
  },
  {
   "cell_type": "code",
   "execution_count": 25,
   "metadata": {
    "collapsed": false
   },
   "outputs": [
    {
     "data": {
      "text/latex": [
       "$$0 =+P(ba)P(za)\\frac{1}{1} \\sum_{c} \\langle a || c \\rangle t_{ijw}^{cbz}\n",
       "+P(iw)P(jw)\\frac{-1}{1} \\sum_{k} \\langle k || w \\rangle t_{ijk}^{abz}\n",
       "+P(ij)P(iw)\\frac{1}{1} \\sum_{ck} \\langle k || c \\rangle t_{i}^{c} t_{jwk}^{abz}\n",
       "+P(ab)P(az)\\frac{1}{1} \\sum_{kc} \\langle k || c \\rangle t_{k}^{a} t_{ijw}^{cbz}\n",
       "+P(ab)P(az)P(iw)P(jw)\\frac{1}{1} \\sum_{ck} \\langle k || c \\rangle t_{ij}^{ca} t_{wk}^{bz}\n",
       "+P(az)P(bz)\\frac{1}{1} \\sum_{ck} \\langle k || c \\rangle t_{ijw}^{cab} t_{k}^{z}\n",
       "+P(iw)P(jw)\\frac{1}{1} \\sum_{kc} \\langle k || c \\rangle t_{ijk}^{abz} t_{w}^{c}\n",
       "+P(za)P(zb)\\frac{1}{2} \\sum_{cd} \\langle ab || cd \\rangle t_{ijw}^{cdz}\n",
       "+P(ij)P(iw)P(za)P(zb)\\frac{1}{1} \\sum_{cd} \\langle ab || cd \\rangle t_{i}^{c} t_{jw}^{dz}\n",
       "+P(ba)P(bz)P(iw)P(jw)\\frac{1}{1} \\sum_{cd} \\langle az || cd \\rangle t_{ij}^{cb} t_{w}^{d}\n",
       "+P(iw)P(ij)\\frac{1}{2} \\sum_{kl} \\langle kl || jw \\rangle t_{ikl}^{abz}\n",
       "+P(ab)P(az)P(ji)P(jw)\\frac{1}{1} \\sum_{kl} \\langle kl || iw \\rangle t_{k}^{a} t_{jl}^{bz}\n",
       "+P(az)P(bz)P(ij)P(iw)\\frac{1}{1} \\sum_{kl} \\langle kl || jw \\rangle t_{ik}^{ab} t_{l}^{z}\n",
       "+P(ba)P(za)P(iw)P(jw)\\frac{-1}{1} \\sum_{ck} \\langle ak || cw \\rangle t_{ijk}^{cbz}\n",
       "+P(ij)P(iw)P(ba)P(za)P(jw)\\frac{1}{1} \\sum_{ck} \\langle ak || cw \\rangle t_{i}^{c} t_{jk}^{bz}\n",
       "+P(az)P(ab)P(zb)P(ji)P(wi)\\frac{1}{1} \\sum_{kc} \\langle kb || ic \\rangle t_{k}^{a} t_{jw}^{cz}\n",
       "+P(bz)P(ba)P(iw)P(jw)P(za)\\frac{1}{1} \\sum_{ck} \\langle ak || cw \\rangle t_{ij}^{cb} t_{k}^{z}\n",
       "+P(az)P(bz)P(iw)P(ij)P(wj)\\frac{1}{1} \\sum_{kc} \\langle kz || jc \\rangle t_{ik}^{ab} t_{w}^{c}\n",
       "+P(ba)P(bz)P(iw)P(jw)\\frac{-1}{1} \\sum_{c} \\langle a || c \\rangle t_{ij}^{cb}\n",
       "+P(ba)P(za)\\frac{1}{1} \\sum_{ckd} \\langle ak || cd \\rangle t_{k}^{c} t_{ijw}^{dbz}\n",
       "+P(ij)P(iw)P(ba)P(za)\\frac{1}{1} \\sum_{cdk} \\langle ak || cd \\rangle t_{i}^{c} t_{jwk}^{dbz}\n",
       "+P(az)P(ab)P(zb)\\frac{-1}{2} \\sum_{kcd} \\langle kb || cd \\rangle t_{k}^{a} t_{ijw}^{cdz}\n",
       "+P(iw)P(jw)P(ba)P(za)\\frac{1}{2} \\sum_{cdk} \\langle ak || cd \\rangle t_{ij}^{cd} t_{wk}^{bz}\n",
       "+P(bz)P(ba)P(ij)P(iw)P(za)\\frac{-1}{1} \\sum_{ckd} \\langle ak || cd \\rangle t_{ik}^{cb} t_{jw}^{dz}\n",
       "+P(bz)P(ba)P(za)\\frac{-1}{2} \\sum_{cdk} \\langle ak || cd \\rangle t_{ijw}^{cdb} t_{k}^{z}\n",
       "+P(ba)P(za)P(iw)P(jw)\\frac{1}{1} \\sum_{ckd} \\langle ak || cd \\rangle t_{ijk}^{cbz} t_{w}^{d}\n",
       "+P(ba)P(za)\\frac{1}{1} \\sum_{cdk} \\langle ak || cd \\rangle t_{ijw}^{cbz} t_{k}^{d}\n",
       "+P(ij)P(iw)P(jw)P(ba)P(za)\\frac{-1}{2} \\sum_{cdk} \\langle ak || cd \\rangle t_{i}^{c} t_{j}^{d} t_{wk}^{bz}\n",
       "+P(ij)P(iw)P(bz)P(ba)P(za)\\frac{-1}{1} \\sum_{ckd} \\langle ak || cd \\rangle t_{i}^{c} t_{k}^{b} t_{jw}^{dz}\n",
       "+P(ij)P(iw)P(bz)P(ba)P(za)\\frac{-1}{1} \\sum_{cdk} \\langle ak || cd \\rangle t_{i}^{c} t_{jw}^{db} t_{k}^{z}\n",
       "+P(ij)P(iw)P(ba)P(za)P(jw)\\frac{-1}{2} \\sum_{ckd} \\langle ak || cd \\rangle t_{i}^{c} t_{jk}^{bz} t_{w}^{d}\n",
       "+P(bz)P(ba)P(iw)P(jw)P(za)\\frac{-1}{1} \\sum_{cdk} \\langle ak || cd \\rangle t_{ij}^{cb} t_{w}^{d} t_{k}^{z}\n",
       "+P(az)P(bz)P(ij)P(iw)P(jw)\\frac{-1}{2} \\sum_{kcd} \\langle kz || cd \\rangle t_{ik}^{ab} t_{j}^{c} t_{w}^{d}\n",
       "+P(az)P(bz)P(ij)P(iw)\\frac{1}{1} \\sum_{k} \\langle k || j \\rangle t_{ik}^{ab}\n",
       "+P(ji)P(wi)\\frac{-1}{1} \\sum_{ckl} \\langle kl || ci \\rangle t_{k}^{c} t_{jwl}^{abz}\n",
       "+P(ij)P(iw)P(jw)\\frac{1}{2} \\sum_{ckl} \\langle kl || cw \\rangle t_{i}^{c} t_{jkl}^{abz}\n",
       "+P(ab)P(az)P(ji)P(wi)\\frac{-1}{1} \\sum_{kcl} \\langle kl || ic \\rangle t_{k}^{a} t_{jwl}^{cbz}\n",
       "+P(ab)P(az)P(iw)P(ij)P(wj)\\frac{1}{1} \\sum_{ckl} \\langle kl || cj \\rangle t_{ik}^{ca} t_{wl}^{bz}\n",
       "+P(ab)P(az)P(iw)P(jw)\\frac{-1}{2} \\sum_{ckl} \\langle kl || cw \\rangle t_{ij}^{ca} t_{kl}^{bz}\n",
       "+P(az)P(bz)P(iw)P(jw)\\frac{-1}{1} \\sum_{ckl} \\langle kl || cw \\rangle t_{ijk}^{cab} t_{l}^{z}\n",
       "+P(iw)P(ij)P(wj)\\frac{1}{2} \\sum_{klc} \\langle kl || jc \\rangle t_{ikl}^{abz} t_{w}^{c}\n",
       "+P(iw)P(jw)\\frac{-1}{1} \\sum_{kcl} \\langle kl || wc \\rangle t_{ijk}^{abz} t_{l}^{c}\n",
       "+P(iw)P(ij)P(ab)P(az)P(wj)\\frac{1}{1} \\sum_{ckl} \\langle kl || cj \\rangle t_{i}^{c} t_{k}^{a} t_{wl}^{bz}\n",
       "+P(ab)P(az)P(bz)P(ji)P(wi)\\frac{1}{2} \\sum_{klc} \\langle kl || ic \\rangle t_{k}^{a} t_{l}^{b} t_{jw}^{cz}\n",
       "+P(ij)P(iw)P(az)P(bz)P(jw)\\frac{1}{1} \\sum_{ckl} \\langle kl || cw \\rangle t_{i}^{c} t_{jk}^{ab} t_{l}^{z}\n",
       "+P(ab)P(az)P(bz)P(ji)P(wi)\\frac{1}{2} \\sum_{kcl} \\langle kl || ic \\rangle t_{k}^{a} t_{jw}^{cb} t_{l}^{z}\n",
       "+P(ab)P(az)P(iw)P(jw)P(bz)\\frac{1}{2} \\sum_{ckl} \\langle kl || cw \\rangle t_{ij}^{ca} t_{k}^{b} t_{l}^{z}\n",
       "+P(az)P(bz)P(iw)P(ij)P(wj)\\frac{1}{1} \\sum_{kcl} \\langle kl || jc \\rangle t_{ik}^{ab} t_{w}^{c} t_{l}^{z}\n",
       "+P(ij)P(iw)\\frac{1}{2} \\sum_{cdkl} \\langle kl || cd \\rangle t_{ik}^{cd} t_{jwl}^{abz}\n",
       "+P(iw)P(jw)\\frac{1}{4} \\sum_{cdkl} \\langle kl || cd \\rangle t_{ij}^{cd} t_{wkl}^{abz}\n",
       "+P(ab)P(az)\\frac{1}{2} \\sum_{ckld} \\langle kl || cd \\rangle t_{kl}^{ca} t_{ijw}^{dbz}\n",
       "+P(ab)P(az)P(ij)P(iw)\\frac{1}{1} \\sum_{ckdl} \\langle kl || cd \\rangle t_{ik}^{ca} t_{jwl}^{dbz}\n",
       "+P(ab)P(az)P(iw)P(jw)\\frac{1}{2} \\sum_{cdkl} \\langle kl || cd \\rangle t_{ij}^{ca} t_{wkl}^{dbz}\n",
       "+P(az)P(bz)\\frac{1}{4} \\sum_{klcd} \\langle kl || cd \\rangle t_{kl}^{ab} t_{ijw}^{cdz}\n",
       "+P(az)P(bz)P(ij)P(iw)\\frac{1}{2} \\sum_{kcdl} \\langle kl || cd \\rangle t_{ik}^{ab} t_{jwl}^{cdz}\n",
       "+P(ab)P(az)P(iw)P(jw)\\frac{1}{2} \\sum_{cdkl} \\langle kl || cd \\rangle t_{ijk}^{cda} t_{wl}^{bz}\n",
       "+P(ab)P(az)\\frac{1}{4} \\sum_{cdkl} \\langle kl || cd \\rangle t_{ijw}^{cda} t_{kl}^{bz}\n",
       "+P(az)P(bz)P(ij)P(iw)\\frac{1}{2} \\sum_{ckld} \\langle kl || cd \\rangle t_{ikl}^{cab} t_{jw}^{dz}\n",
       "+P(az)P(bz)P(iw)P(jw)\\frac{1}{1} \\sum_{ckdl} \\langle kl || cd \\rangle t_{ijk}^{cab} t_{wl}^{dz}\n",
       "+P(az)P(bz)\\frac{1}{2} \\sum_{cdkl} \\langle kl || cd \\rangle t_{ijw}^{cab} t_{kl}^{dz}\n",
       "+P(ij)P(iw)\\frac{1}{4} \\sum_{klcd} \\langle kl || cd \\rangle t_{ikl}^{abz} t_{jw}^{cd}\n",
       "+P(iw)P(jw)\\frac{1}{2} \\sum_{kcdl} \\langle kl || cd \\rangle t_{ijk}^{abz} t_{wl}^{cd}\n",
       "+P(ij)P(iw)\\frac{1}{1} \\sum_{ckdl} \\langle kl || cd \\rangle t_{k}^{c} t_{i}^{d} t_{jwl}^{abz}\n",
       "+P(ab)P(az)\\frac{1}{1} \\sum_{ckld} \\langle kl || cd \\rangle t_{k}^{c} t_{l}^{a} t_{ijw}^{dbz}\n",
       "+P(ij)P(iw)P(jw)\\frac{-1}{4} \\sum_{cdkl} \\langle kl || cd \\rangle t_{i}^{c} t_{j}^{d} t_{wkl}^{abz}\n",
       "+P(ij)P(iw)P(ab)P(az)\\frac{1}{1} \\sum_{ckdl} \\langle kl || cd \\rangle t_{i}^{c} t_{k}^{a} t_{jwl}^{dbz}\n",
       "+P(ab)P(az)P(bz)\\frac{-1}{4} \\sum_{klcd} \\langle kl || cd \\rangle t_{k}^{a} t_{l}^{b} t_{ijw}^{cdz}\n",
       "+P(ab)P(az)P(iw)P(jw)\\frac{1}{1} \\sum_{ckdl} \\langle kl || cd \\rangle t_{k}^{c} t_{ij}^{da} t_{wl}^{bz}\n",
       "+P(ij)P(iw)P(ab)P(az)P(jw)\\frac{-1}{1} \\sum_{cdkl} \\langle kl || cd \\rangle t_{i}^{c} t_{jk}^{da} t_{wl}^{bz}\n",
       "+P(ij)P(iw)P(ab)P(az)\\frac{1}{2} \\sum_{cdkl} \\langle kl || cd \\rangle t_{i}^{c} t_{jw}^{da} t_{kl}^{bz}\n",
       "+P(ab)P(az)P(iw)P(jw)\\frac{1}{2} \\sum_{kcdl} \\langle kl || cd \\rangle t_{k}^{a} t_{ij}^{cd} t_{wl}^{bz}\n",
       "+P(ab)P(az)P(bz)P(ij)P(iw)\\frac{-1}{1} \\sum_{kcld} \\langle kl || cd \\rangle t_{k}^{a} t_{il}^{cb} t_{jw}^{dz}\n",
       "+P(az)P(bz)\\frac{1}{1} \\sum_{ckdl} \\langle kl || cd \\rangle t_{k}^{c} t_{ijw}^{dab} t_{l}^{z}\n",
       "+P(iw)P(jw)\\frac{1}{1} \\sum_{ckld} \\langle kl || cd \\rangle t_{k}^{c} t_{ijl}^{abz} t_{w}^{d}\n",
       "+P(ij)P(iw)P(az)P(bz)\\frac{1}{1} \\sum_{cdkl} \\langle kl || cd \\rangle t_{i}^{c} t_{jwk}^{dab} t_{l}^{z}\n",
       "+P(ij)P(iw)P(jw)\\frac{-1}{4} \\sum_{ckld} \\langle kl || cd \\rangle t_{i}^{c} t_{jkl}^{abz} t_{w}^{d}\n",
       "+P(ab)P(az)P(bz)\\frac{-1}{4} \\sum_{kcdl} \\langle kl || cd \\rangle t_{k}^{a} t_{ijw}^{cdb} t_{l}^{z}\n",
       "+P(iw)P(jw)P(ab)P(az)\\frac{1}{2} \\sum_{cdkl} \\langle kl || cd \\rangle t_{ij}^{cd} t_{k}^{a} t_{wl}^{bz}\n",
       "+P(ab)P(az)P(ij)P(iw)P(jw)\\frac{-1}{1} \\sum_{ckdl} \\langle kl || cd \\rangle t_{ik}^{ca} t_{j}^{d} t_{wl}^{bz}\n",
       "+P(ab)P(az)P(ij)P(iw)P(bz)\\frac{-1}{1} \\sum_{ckld} \\langle kl || cd \\rangle t_{ik}^{ca} t_{l}^{b} t_{jw}^{dz}\n",
       "+P(ab)P(az)P(iw)P(jw)\\frac{1}{1} \\sum_{cdkl} \\langle kl || cd \\rangle t_{ij}^{ca} t_{k}^{d} t_{wl}^{bz}\n",
       "+P(ab)P(az)P(iw)P(jw)\\frac{1}{2} \\sum_{cdkl} \\langle kl || cd \\rangle t_{ij}^{ca} t_{w}^{d} t_{kl}^{bz}\n",
       "+P(iw)P(jw)P(az)P(bz)\\frac{1}{2} \\sum_{cdkl} \\langle kl || cd \\rangle t_{ij}^{cd} t_{wk}^{ab} t_{l}^{z}\n",
       "+P(ab)P(az)P(ij)P(iw)P(bz)\\frac{-1}{1} \\sum_{ckdl} \\langle kl || cd \\rangle t_{ik}^{ca} t_{jw}^{db} t_{l}^{z}\n",
       "+P(ab)P(az)P(ij)P(iw)P(jw)\\frac{-1}{1} \\sum_{ckld} \\langle kl || cd \\rangle t_{ik}^{ca} t_{jl}^{bz} t_{w}^{d}\n",
       "+P(ab)P(az)P(iw)P(jw)\\frac{1}{2} \\sum_{ckld} \\langle kl || cd \\rangle t_{ij}^{ca} t_{kl}^{bz} t_{w}^{d}\n",
       "+P(ab)P(az)P(iw)P(jw)\\frac{1}{1} \\sum_{ckdl} \\langle kl || cd \\rangle t_{ij}^{ca} t_{wk}^{bz} t_{l}^{d}\n",
       "+P(ab)P(az)P(bz)\\frac{-1}{4} \\sum_{cdkl} \\langle kl || cd \\rangle t_{ijw}^{cda} t_{k}^{b} t_{l}^{z}\n",
       "+P(az)P(bz)P(iw)P(jw)\\frac{1}{1} \\sum_{ckdl} \\langle kl || cd \\rangle t_{ijk}^{cab} t_{w}^{d} t_{l}^{z}\n",
       "+P(az)P(bz)\\frac{1}{1} \\sum_{cdkl} \\langle kl || cd \\rangle t_{ijw}^{cab} t_{k}^{d} t_{l}^{z}\n",
       "+P(ij)P(iw)P(jw)\\frac{-1}{4} \\sum_{klcd} \\langle kl || cd \\rangle t_{ikl}^{abz} t_{j}^{c} t_{w}^{d}\n",
       "+P(iw)P(jw)\\frac{1}{1} \\sum_{kcld} \\langle kl || cd \\rangle t_{ijk}^{abz} t_{l}^{c} t_{w}^{d}\n",
       "+P(ij)P(iw)P(jw)P(ab)P(az)\\frac{-1}{2} \\sum_{cdkl} \\langle kl || cd \\rangle t_{i}^{c} t_{j}^{d} t_{k}^{a} t_{wl}^{bz}\n",
       "+P(ij)P(iw)P(ab)P(az)P(bz)\\frac{-1}{2} \\sum_{ckld} \\langle kl || cd \\rangle t_{i}^{c} t_{k}^{a} t_{l}^{b} t_{jw}^{dz}\n",
       "+P(ij)P(iw)P(jw)P(az)P(bz)\\frac{-1}{2} \\sum_{cdkl} \\langle kl || cd \\rangle t_{i}^{c} t_{j}^{d} t_{wk}^{ab} t_{l}^{z}\n",
       "+P(ij)P(iw)P(ab)P(az)P(bz)\\frac{-1}{2} \\sum_{ckdl} \\langle kl || cd \\rangle t_{i}^{c} t_{k}^{a} t_{jw}^{db} t_{l}^{z}\n",
       "+P(ij)P(iw)P(ab)P(az)P(bz)\\frac{-1}{2} \\sum_{cdkl} \\langle kl || cd \\rangle t_{i}^{c} t_{jw}^{da} t_{k}^{b} t_{l}^{z}\n",
       "+P(ij)P(iw)P(az)P(bz)P(jw)\\frac{-1}{2} \\sum_{ckdl} \\langle kl || cd \\rangle t_{i}^{c} t_{jk}^{ab} t_{w}^{d} t_{l}^{z}\n",
       "+P(ab)P(az)P(iw)P(jw)P(bz)\\frac{-1}{2} \\sum_{cdkl} \\langle kl || cd \\rangle t_{ij}^{ca} t_{w}^{d} t_{k}^{b} t_{l}^{z}\n",
       "+P(az)P(bz)P(ij)P(iw)P(jw)\\frac{-1}{2} \\sum_{kcdl} \\langle kl || cd \\rangle t_{ik}^{ab} t_{j}^{c} t_{w}^{d} t_{l}^{z}\n",
       "$$"
      ],
      "text/plain": [
       "<IPython.core.display.Math at 0x82b7f60>"
      ]
     },
     "execution_count": 25,
     "metadata": {},
     "output_type": "execute_result"
    }
   ],
   "source": [
    "tx = combine_to_excitation(H,expT,3, [1,0,0,0])\n",
    "s = \"0 =\"\n",
    "for t in tx:\n",
    "    s += \"+\" + t + \"\\n\"\n",
    "Math(s)"
   ]
  },
  {
   "cell_type": "markdown",
   "metadata": {},
   "source": [
    "## Example section ends here. \n",
    "\n",
    "### Below are some scratch sessions, just ignore them"
   ]
  },
  {
   "cell_type": "code",
   "execution_count": 26,
   "metadata": {
    "collapsed": false
   },
   "outputs": [
    {
     "name": "stdout",
     "output_type": "stream",
     "text": [
      "\n",
      "double CCa = 0.0;\n",
      "for(int l = 0; l < nElectrons; l ++){\n",
      "    for(int k = 0; k < nElectrons; k ++){\n",
      "        for(int c = nElectrons; c < nStates; c ++){\n",
      "            CCa += v2(k,l)(c,i)*t1(c)(k)*t2(a,b)(j,l)-(v2(k,l)(c,j)*t1(c)(k)*t2(a,b)(i,l));\n",
      "        }\n",
      "    }\n",
      "}\n",
      "double CCa *= 1.000000;\n",
      "\n",
      "\n",
      "double CCb = 0.0;\n",
      "for(int l = 0; l < nElectrons; l ++){\n",
      "    for(int k = 0; k < nElectrons; k ++){\n",
      "        for(int c = nElectrons; c < nStates; c ++){\n",
      "            CCb += v2(k,l)(c,j)*t1(c)(i)*t2(a,b)(k,l)-(v2(k,l)(c,i)*t1(c)(j)*t2(a,b)(k,l));\n",
      "        }\n",
      "    }\n",
      "}\n",
      "double CCb *= 0.500000;\n",
      "\n",
      "\n",
      "double CCc = 0.0;\n",
      "for(int l = 0; l < nElectrons; l ++){\n",
      "    for(int c = nElectrons; c < nStates; c ++){\n",
      "        for(int k = 0; k < nElectrons; k ++){\n",
      "            CCc += v2(k,l)(i,c)*t1(a)(k)*t2(c,b)(j,l)-(v2(k,l)(i,c)*t1(b)(k)*t2(c,a)(j,l))-(v2(k,l)(j,c)*t1(a)(k)*t2(c,b)(i,l)-(v2(k,l)(j,c)*t1(b)(k)*t2(c,a)(i,l)));\n",
      "        }\n",
      "    }\n",
      "}\n",
      "double CCc *= -1.000000;\n",
      "\n"
     ]
    }
   ],
   "source": [
    "H = Operator([1,-1,-1],[-1])\n",
    "contraction = O(H, [T_1, T_2])\n",
    "for i in range(contraction.N):\n",
    "    print contraction.code(i)"
   ]
  },
  {
   "cell_type": "code",
   "execution_count": 26,
   "metadata": {
    "collapsed": false
   },
   "outputs": [],
   "source": []
  },
  {
   "cell_type": "code",
   "execution_count": 27,
   "metadata": {
    "collapsed": false
   },
   "outputs": [
    {
     "data": {
      "image/png": "[encoded data removed]",
      "text/plain": [
       "<matplotlib.figure.Figure at 0x4d58ba8>"
      ]
     },
     "metadata": {},
     "output_type": "display_data"
    },
    {
     "data": {
      "image/png": "[encoded data removed]",
      "text/plain": [
       "<matplotlib.figure.Figure at 0x4d46ba8>"
      ]
     },
     "metadata": {},
     "output_type": "display_data"
    },
    {
     "data": {
      "image/png": "[encoded data removed]",
      "text/plain": [
       "<matplotlib.figure.Figure at 0x5562c18>"
      ]
     },
     "metadata": {},
     "output_type": "display_data"
    }
   ],
   "source": [
    "contraction.diagram(0, [0,0], True)\n",
    "contraction.diagram(1, [0,0], True)\n",
    "contraction.diagram(2, [0,0], True)"
   ]
  },
  {
   "cell_type": "markdown",
   "metadata": {},
   "source": [
    "The full CCD equations is easily derived by higher order functions:"
   ]
  },
  {
   "cell_type": "code",
   "execution_count": 28,
   "metadata": {
    "collapsed": false
   },
   "outputs": [],
   "source": [
    "H = normal_ordered_hamiltonian() #Including one- and two-particle interactions\n",
    "expT = expand_ansatz([[T_2]],3)  #Taylor expand a list of lists to the 3rd order"
   ]
  },
  {
   "cell_type": "markdown",
   "metadata": {},
   "source": [
    "Find energy expressions:"
   ]
  },
  {
   "cell_type": "code",
   "execution_count": 29,
   "metadata": {
    "collapsed": false
   },
   "outputs": [
    {
     "data": {
      "image/png": "[encoded data removed]",
      "text/plain": [
       "<matplotlib.figure.Figure at 0x5078cc0>"
      ]
     },
     "metadata": {},
     "output_type": "display_data"
    }
   ],
   "source": [
    "tx = combine_to_excitation(H,expT,0, [1,1,0,0]) #find all combinations of elements in H and expT that produce final excitation = 0"
   ]
  },
  {
   "cell_type": "code",
   "execution_count": 30,
   "metadata": {
    "collapsed": false
   },
   "outputs": [
    {
     "data": {
      "text/latex": [
       "$$0 =+\\frac{1}{4} \\sum_{cdkl} \\langle kl || cd \\rangle t_{kl}^{cd}\n",
       "$$"
      ],
      "text/plain": [
       "<IPython.core.display.Math at 0x7853588>"
      ]
     },
     "execution_count": 30,
     "metadata": {},
     "output_type": "execute_result"
    }
   ],
   "source": [
    "s = \"0 =\"\n",
    "for t in tx:\n",
    "    s += \"+\" + t + \"\\n\"\n",
    "Math(s)"
   ]
  },
  {
   "cell_type": "code",
   "execution_count": 31,
   "metadata": {
    "collapsed": false
   },
   "outputs": [
    {
     "data": {
      "image/png": "[encoded data removed]",
      "text/plain": [
       "<matplotlib.figure.Figure at 0x78535c0>"
      ]
     },
     "metadata": {},
     "output_type": "display_data"
    },
    {
     "data": {
      "image/png": "[encoded data removed]",
      "text/plain": [
       "<matplotlib.figure.Figure at 0x555ddd8>"
      ]
     },
     "metadata": {},
     "output_type": "display_data"
    },
    {
     "data": {
      "image/png": "[encoded data removed]",
      "text/plain": [
       "<matplotlib.figure.Figure at 0x4d6ce10>"
      ]
     },
     "metadata": {},
     "output_type": "display_data"
    },
    {
     "data": {
      "text/plain": [
       "[]"
      ]
     },
     "execution_count": 31,
     "metadata": {},
     "output_type": "execute_result"
    }
   ],
   "source": [
    "combine_to_excitation(H,expT,1, [0,1,0,0]) #These will not contribute in CCD due to excitation level = 1"
   ]
  },
  {
   "cell_type": "code",
   "execution_count": 32,
   "metadata": {
    "collapsed": false
   },
   "outputs": [
    {
     "data": {
      "image/png": "[encoded data removed]",
      "text/plain": [
       "<matplotlib.figure.Figure at 0x5008048>"
      ]
     },
     "metadata": {},
     "output_type": "display_data"
    },
    {
     "data": {
      "image/png": "[encoded data removed]",
      "text/plain": [
       "<matplotlib.figure.Figure at 0x55562e8>"
      ]
     },
     "metadata": {},
     "output_type": "display_data"
    },
    {
     "data": {
      "image/png": "[encoded data removed]",
      "text/plain": [
       "<matplotlib.figure.Figure at 0x4d410f0>"
      ]
     },
     "metadata": {},
     "output_type": "display_data"
    },
    {
     "data": {
      "image/png": "[encoded data removed]",
      "text/plain": [
       "<matplotlib.figure.Figure at 0x5058080>"
      ]
     },
     "metadata": {},
     "output_type": "display_data"
    },
    {
     "data": {
      "image/png": "[encoded data removed]",
      "text/plain": [
       "<matplotlib.figure.Figure at 0x4d6ab00>"
      ]
     },
     "metadata": {},
     "output_type": "display_data"
    },
    {
     "data": {
      "image/png": "[encoded data removed]",
      "text/plain": [
       "<matplotlib.figure.Figure at 0x4d6ccf8>"
      ]
     },
     "metadata": {},
     "output_type": "display_data"
    },
    {
     "data": {
      "image/png": "[encoded data removed]",
      "text/plain": [
       "<matplotlib.figure.Figure at 0x84221d0>"
      ]
     },
     "metadata": {},
     "output_type": "display_data"
    },
    {
     "data": {
      "image/png": "[encoded data removed]",
      "text/plain": [
       "<matplotlib.figure.Figure at 0x8430080>"
      ]
     },
     "metadata": {},
     "output_type": "display_data"
    },
    {
     "data": {
      "image/png": "[encoded data removed]",
      "text/plain": [
       "<matplotlib.figure.Figure at 0x4ce0be0>"
      ]
     },
     "metadata": {},
     "output_type": "display_data"
    },
    {
     "data": {
      "text/plain": [
       "[]"
      ]
     },
     "execution_count": 32,
     "metadata": {},
     "output_type": "execute_result"
    }
   ],
   "source": [
    "combine_to_excitation(H,expT,2, [0,1,0,0]) #These will however contribute to the t2 amplitude equation due to excitation level = 2 "
   ]
  },
  {
   "cell_type": "code",
   "execution_count": 33,
   "metadata": {
    "collapsed": false
   },
   "outputs": [
    {
     "data": {
      "text/latex": [
       "$$0 =+P(ba)\\frac{-1}{1} \\sum_{c} \\langle a || c \\rangle t_{ij}^{cb}\n",
       "+P(ij)\\frac{1}{1} \\sum_{k} \\langle k || j \\rangle t_{ik}^{ab}\n",
       "+\\frac{1}{2} \\sum_{cd} \\langle ab || cd \\rangle t_{ij}^{cd}\n",
       "+\\frac{1}{2} \\sum_{kl} \\langle kl || ij \\rangle t_{kl}^{ab}\n",
       "+P(ba)P(ij)\\frac{-1}{1} \\sum_{ck} \\langle ak || cj \\rangle t_{ik}^{cb}\n",
       "+P(ij)\\frac{-1}{2} \\sum_{cdkl} \\langle kl || cd \\rangle t_{ik}^{cd} t_{jl}^{ab}\n",
       "+\\frac{1}{4} \\sum_{cdkl} \\langle kl || cd \\rangle t_{ij}^{cd} t_{kl}^{ab}\n",
       "+P(ab)\\frac{-1}{2} \\sum_{ckld} \\langle kl || cd \\rangle t_{kl}^{ca} t_{ij}^{db}\n",
       "+P(ab)P(ij)\\frac{1}{2} \\sum_{ckdl} \\langle kl || cd \\rangle t_{ik}^{ca} t_{jl}^{db}\n",
       "$$"
      ],
      "text/plain": [
       "<IPython.core.display.Math at 0x8430828>"
      ]
     },
     "execution_count": 33,
     "metadata": {},
     "output_type": "execute_result"
    }
   ],
   "source": [
    "#The t2 amplitude equation is\n",
    "tx = combine_to_excitation(H,expT,2, [1,0,0,0])\n",
    "s = \"0 =\"\n",
    "for t in tx:\n",
    "    s += \"+\" + t + \"\\n\"\n",
    "Math(s)"
   ]
  },
  {
   "cell_type": "code",
   "execution_count": 34,
   "metadata": {
    "collapsed": false
   },
   "outputs": [
    {
     "name": "stdout",
     "output_type": "stream",
     "text": [
      "\n",
      "double CC0_0a = 0.0;\n",
      "for(int c = nElectrons; c < nStates; c ++){\n",
      "    CC0_0a += v1(a)(c)*t2(c,b)(i,j)-(v1(b)(c)*t2(c,a)(i,j));\n",
      "}\n",
      "double CC0_0a *= -1.000000;\n",
      "\n",
      "\n",
      "double CC1_0a = 0.0;\n",
      "for(int k = 0; k < nElectrons; k ++){\n",
      "    CC1_0a += v1(k)(j)*t2(a,b)(i,k)-(v1(k)(i)*t2(a,b)(j,k));\n",
      "}\n",
      "double CC1_0a *= 1.000000;\n",
      "\n",
      "\n",
      "double CC4_0a = 0.0;\n",
      "for(int d = nElectrons; d < nStates; d ++){\n",
      "    for(int c = nElectrons; c < nStates; c ++){\n",
      "        CC4_0a += v2(a,b)(c,d)*t2(c,d)(i,j);\n",
      "    }\n",
      "}\n",
      "double CC4_0a *= 0.500000;\n",
      "\n",
      "\n",
      "double CC5_0a = 0.0;\n",
      "for(int l = 0; l < nElectrons; l ++){\n",
      "    for(int k = 0; k < nElectrons; k ++){\n",
      "        CC5_0a += v2(k,l)(i,j)*t2(a,b)(k,l);\n",
      "    }\n",
      "}\n",
      "double CC5_0a *= 0.500000;\n",
      "\n",
      "\n",
      "double CC6_0a = 0.0;\n",
      "for(int k = 0; k < nElectrons; k ++){\n",
      "    for(int c = nElectrons; c < nStates; c ++){\n",
      "        CC6_0a += v2(a,k)(c,j)*t2(c,b)(i,k)-(v2(b,k)(c,j)*t2(c,a)(i,k))-(v2(a,k)(c,i)*t2(c,b)(j,k)-(v2(b,k)(c,i)*t2(c,a)(j,k)));\n",
      "    }\n",
      "}\n",
      "double CC6_0a *= -1.000000;\n",
      "\n",
      "\n",
      "double CC12_1a = 0.0;\n",
      "for(int l = 0; l < nElectrons; l ++){\n",
      "    for(int k = 0; k < nElectrons; k ++){\n",
      "        for(int d = nElectrons; d < nStates; d ++){\n",
      "            for(int c = nElectrons; c < nStates; c ++){\n",
      "                CC12_1a += v2(k,l)(c,d)*t2(c,d)(i,k)*t2(a,b)(j,l)-(v2(k,l)(c,d)*t2(c,d)(j,k)*t2(a,b)(i,l));\n",
      "            }\n",
      "        }\n",
      "    }\n",
      "}\n",
      "double CC12_1a *= -0.500000;\n",
      "\n",
      "\n",
      "double CC12_1b = 0.0;\n",
      "for(int l = 0; l < nElectrons; l ++){\n",
      "    for(int k = 0; k < nElectrons; k ++){\n",
      "        for(int d = nElectrons; d < nStates; d ++){\n",
      "            for(int c = nElectrons; c < nStates; c ++){\n",
      "                CC12_1b += v2(k,l)(c,d)*t2(c,d)(i,j)*t2(a,b)(k,l);\n",
      "            }\n",
      "        }\n",
      "    }\n",
      "}\n",
      "double CC12_1b *= 0.250000;\n",
      "\n",
      "\n",
      "double CC12_1c = 0.0;\n",
      "for(int d = nElectrons; d < nStates; d ++){\n",
      "    for(int l = 0; l < nElectrons; l ++){\n",
      "        for(int k = 0; k < nElectrons; k ++){\n",
      "            for(int c = nElectrons; c < nStates; c ++){\n",
      "                CC12_1c += v2(k,l)(c,d)*t2(c,a)(k,l)*t2(d,b)(i,j)-(v2(k,l)(c,d)*t2(c,b)(k,l)*t2(d,a)(i,j));\n",
      "            }\n",
      "        }\n",
      "    }\n",
      "}\n",
      "double CC12_1c *= -0.500000;\n",
      "\n",
      "\n",
      "double CC12_1d = 0.0;\n",
      "for(int l = 0; l < nElectrons; l ++){\n",
      "    for(int d = nElectrons; d < nStates; d ++){\n",
      "        for(int k = 0; k < nElectrons; k ++){\n",
      "            for(int c = nElectrons; c < nStates; c ++){\n",
      "                CC12_1d += v2(k,l)(c,d)*t2(c,a)(i,k)*t2(d,b)(j,l)-(v2(k,l)(c,d)*t2(c,b)(i,k)*t2(d,a)(j,l))-(v2(k,l)(c,d)*t2(c,a)(j,k)*t2(d,b)(i,l)-(v2(k,l)(c,d)*t2(c,b)(j,k)*t2(d,a)(i,l)));\n",
      "            }\n",
      "        }\n",
      "    }\n",
      "}\n",
      "double CC12_1d *= 0.500000;\n",
      "\n"
     ]
    },
    {
     "data": {
      "text/plain": [
       "[]"
      ]
     },
     "execution_count": 34,
     "metadata": {},
     "output_type": "execute_result"
    }
   ],
   "source": [
    "#This means we have to write the following code for the t2 amplitude eq. of CCsolve in C++:\n",
    "combine_to_excitation(H,expT,2, [0,0,0,1])"
   ]
  },
  {
   "cell_type": "code",
   "execution_count": 35,
   "metadata": {
    "collapsed": false
   },
   "outputs": [
    {
     "name": "stdout",
     "output_type": "stream",
     "text": [
      "\n",
      "double CC12_0a = 0.0;\n",
      "for(int l = 0; l < nElectrons; l ++){\n",
      "    for(int k = 0; k < nElectrons; k ++){\n",
      "        for(int d = nElectrons; d < nStates; d ++){\n",
      "            for(int c = nElectrons; c < nStates; c ++){\n",
      "                CC12_0a += v2(k,l)(c,d)*t2(c,d)(k,l);\n",
      "            }\n",
      "        }\n",
      "    }\n",
      "}\n",
      "double CC12_0a *= 0.250000;\n",
      "\n"
     ]
    },
    {
     "data": {
      "text/plain": [
       "[]"
      ]
     },
     "execution_count": 35,
     "metadata": {},
     "output_type": "execute_result"
    }
   ],
   "source": [
    "#While the following code will give the correlation energy:\n",
    "combine_to_excitation(H,expT,0, [0,0,0,1])"
   ]
  },
  {
   "cell_type": "markdown",
   "metadata": {},
   "source": [
    "The CCSD equations may be derived in the same manner:"
   ]
  },
  {
   "cell_type": "code",
   "execution_count": 36,
   "metadata": {
    "collapsed": false
   },
   "outputs": [
    {
     "data": {
      "text/latex": [
       "$$0 =+P(ba)\\frac{-1}{1} \\sum_{c} \\langle a || c \\rangle t_{ij}^{cb}\n",
       "+P(ij)\\frac{1}{1} \\sum_{k} \\langle k || j \\rangle t_{ik}^{ab}\n",
       "+\\frac{1}{2} \\sum_{cd} \\langle ab || cd \\rangle t_{ij}^{cd}\n",
       "+\\frac{1}{2} \\sum_{kl} \\langle kl || ij \\rangle t_{kl}^{ab}\n",
       "+P(ba)P(ij)\\frac{-1}{1} \\sum_{ck} \\langle ak || cj \\rangle t_{ik}^{cb}\n",
       "+P(ij)\\frac{-1}{2} \\sum_{cdkl} \\langle kl || cd \\rangle t_{ik}^{cd} t_{jl}^{ab}\n",
       "+\\frac{1}{4} \\sum_{cdkl} \\langle kl || cd \\rangle t_{ij}^{cd} t_{kl}^{ab}\n",
       "+P(ab)\\frac{-1}{2} \\sum_{ckld} \\langle kl || cd \\rangle t_{kl}^{ca} t_{ij}^{db}\n",
       "+P(ab)P(ij)\\frac{1}{2} \\sum_{ckdl} \\langle kl || cd \\rangle t_{ik}^{ca} t_{jl}^{db}\n",
       "$$"
      ],
      "text/plain": [
       "<IPython.core.display.Math at 0x8430128>"
      ]
     },
     "execution_count": 36,
     "metadata": {},
     "output_type": "execute_result"
    }
   ],
   "source": [
    "H = normal_ordered_hamiltonian() #Including one- and two-particle interactions\n",
    "expT = expand_ansatz([[T_1],[T_2]],2)  #Taylor expand a list of lists to the 3rd order\n",
    "\n",
    "#Note: running the command below will likely cause a memory overload due to the length of some of the distinct diagrams representation as strings of C-code.\n",
    "#tx = combine_all(H,expT, [2,0,0,0])\n",
    "s = \"0 =\"\n",
    "for t in tx:\n",
    "    s += \"+\" + t + \"\\n\"\n",
    "Math(s)"
   ]
  },
  {
   "cell_type": "markdown",
   "metadata": {},
   "source": [
    "All diagrams may be plotted in a common display frame:"
   ]
  },
  {
   "cell_type": "code",
   "execution_count": 37,
   "metadata": {
    "collapsed": false
   },
   "outputs": [
    {
     "data": {
      "image/png": "[encoded data removed]",
      "text/plain": [
       "<matplotlib.figure.Figure at 0x8430940>"
      ]
     },
     "metadata": {},
     "output_type": "display_data"
    },
    {
     "data": {
      "image/png": "[encoded data removed]",
      "text/plain": [
       "<matplotlib.figure.Figure at 0x7850780>"
      ]
     },
     "metadata": {},
     "output_type": "display_data"
    },
    {
     "data": {
      "image/png": "[encoded data removed]",
      "text/plain": [
       "<matplotlib.figure.Figure at 0x5027e48>"
      ]
     },
     "metadata": {},
     "output_type": "display_data"
    },
    {
     "data": {
      "text/plain": [
       "[]"
      ]
     },
     "execution_count": 37,
     "metadata": {},
     "output_type": "execute_result"
    }
   ],
   "source": [
    "combine_to_excitation(H,expT,0, [0,1,0,0]) #These will however contribute to the t2 amplitude equation due to excitation level = 2 "
   ]
  },
  {
   "cell_type": "code",
   "execution_count": 38,
   "metadata": {
    "collapsed": false
   },
   "outputs": [
    {
     "data": {
      "image/png": "[encoded data removed]",
      "text/plain": [
       "<matplotlib.figure.Figure at 0x4d72ac8>"
      ]
     },
     "metadata": {},
     "output_type": "display_data"
    },
    {
     "data": {
      "text/plain": [
       "[]"
      ]
     },
     "execution_count": 38,
     "metadata": {},
     "output_type": "execute_result"
    }
   ],
   "source": [
    "combine_to_excitation(H,expT,1, [0,2,0,0])"
   ]
  },
  {
   "cell_type": "code",
   "execution_count": 39,
   "metadata": {
    "collapsed": false
   },
   "outputs": [
    {
     "data": {
      "image/png": "[encoded data removed]",
      "text/plain": [
       "<matplotlib.figure.Figure at 0x4d46278>"
      ]
     },
     "metadata": {},
     "output_type": "display_data"
    },
    {
     "data": {
      "text/plain": [
       "[]"
      ]
     },
     "execution_count": 39,
     "metadata": {},
     "output_type": "execute_result"
    }
   ],
   "source": [
    "combine_to_excitation(H,expT,2, [0,2,0,0]) "
   ]
  },
  {
   "cell_type": "code",
   "execution_count": 40,
   "metadata": {
    "collapsed": false
   },
   "outputs": [
    {
     "data": {
      "text/latex": [
       "$$0 =+P(ba)P(za)\\frac{1}{1} \\sum_{c} \\langle a || c \\rangle t_{ijw}^{cbz}\n",
       "+P(iw)P(jw)\\frac{-1}{1} \\sum_{k} \\langle k || w \\rangle t_{ijk}^{abz}\n",
       "+P(ij)P(iw)\\frac{1}{1} \\sum_{ck} \\langle k || c \\rangle t_{i}^{c} t_{jwk}^{abz}\n",
       "+P(ab)P(az)\\frac{1}{1} \\sum_{kc} \\langle k || c \\rangle t_{k}^{a} t_{ijw}^{cbz}\n",
       "+P(ab)P(az)P(iw)P(jw)\\frac{1}{1} \\sum_{ck} \\langle k || c \\rangle t_{ij}^{ca} t_{wk}^{bz}\n",
       "+P(az)P(bz)\\frac{1}{1} \\sum_{ck} \\langle k || c \\rangle t_{ijw}^{cab} t_{k}^{z}\n",
       "+P(iw)P(jw)\\frac{1}{1} \\sum_{kc} \\langle k || c \\rangle t_{ijk}^{abz} t_{w}^{c}\n",
       "+P(za)P(zb)\\frac{1}{2} \\sum_{cd} \\langle ab || cd \\rangle t_{ijw}^{cdz}\n",
       "+P(ij)P(iw)P(za)P(zb)\\frac{1}{1} \\sum_{cd} \\langle ab || cd \\rangle t_{i}^{c} t_{jw}^{dz}\n",
       "+P(ba)P(bz)P(iw)P(jw)\\frac{1}{1} \\sum_{cd} \\langle az || cd \\rangle t_{ij}^{cb} t_{w}^{d}\n",
       "+P(iw)P(ij)\\frac{1}{2} \\sum_{kl} \\langle kl || jw \\rangle t_{ikl}^{abz}\n",
       "+P(ab)P(az)P(ji)P(jw)\\frac{1}{1} \\sum_{kl} \\langle kl || iw \\rangle t_{k}^{a} t_{jl}^{bz}\n",
       "+P(az)P(bz)P(ij)P(iw)\\frac{1}{1} \\sum_{kl} \\langle kl || jw \\rangle t_{ik}^{ab} t_{l}^{z}\n",
       "+P(ba)P(za)P(iw)P(jw)\\frac{-1}{1} \\sum_{ck} \\langle ak || cw \\rangle t_{ijk}^{cbz}\n",
       "+P(ij)P(iw)P(ba)P(za)P(jw)\\frac{1}{1} \\sum_{ck} \\langle ak || cw \\rangle t_{i}^{c} t_{jk}^{bz}\n",
       "+P(az)P(ab)P(zb)P(ji)P(wi)\\frac{1}{1} \\sum_{kc} \\langle kb || ic \\rangle t_{k}^{a} t_{jw}^{cz}\n",
       "+P(bz)P(ba)P(iw)P(jw)P(za)\\frac{1}{1} \\sum_{ck} \\langle ak || cw \\rangle t_{ij}^{cb} t_{k}^{z}\n",
       "+P(az)P(bz)P(iw)P(ij)P(wj)\\frac{1}{1} \\sum_{kc} \\langle kz || jc \\rangle t_{ik}^{ab} t_{w}^{c}\n",
       "+P(ba)P(bz)P(iw)P(jw)\\frac{-1}{1} \\sum_{c} \\langle a || c \\rangle t_{ij}^{cb}\n",
       "+P(ba)P(za)\\frac{1}{1} \\sum_{ckd} \\langle ak || cd \\rangle t_{k}^{c} t_{ijw}^{dbz}\n",
       "+P(ij)P(iw)P(ba)P(za)\\frac{1}{1} \\sum_{cdk} \\langle ak || cd \\rangle t_{i}^{c} t_{jwk}^{dbz}\n",
       "+P(az)P(ab)P(zb)\\frac{-1}{2} \\sum_{kcd} \\langle kb || cd \\rangle t_{k}^{a} t_{ijw}^{cdz}\n",
       "+P(iw)P(jw)P(ba)P(za)\\frac{1}{2} \\sum_{cdk} \\langle ak || cd \\rangle t_{ij}^{cd} t_{wk}^{bz}\n",
       "+P(bz)P(ba)P(ij)P(iw)P(za)\\frac{-1}{1} \\sum_{ckd} \\langle ak || cd \\rangle t_{ik}^{cb} t_{jw}^{dz}\n",
       "+P(bz)P(ba)P(za)\\frac{-1}{2} \\sum_{cdk} \\langle ak || cd \\rangle t_{ijw}^{cdb} t_{k}^{z}\n",
       "+P(ba)P(za)P(iw)P(jw)\\frac{1}{1} \\sum_{ckd} \\langle ak || cd \\rangle t_{ijk}^{cbz} t_{w}^{d}\n",
       "+P(ba)P(za)\\frac{1}{1} \\sum_{cdk} \\langle ak || cd \\rangle t_{ijw}^{cbz} t_{k}^{d}\n",
       "+P(ij)P(iw)P(jw)P(ba)P(za)\\frac{-1}{2} \\sum_{cdk} \\langle ak || cd \\rangle t_{i}^{c} t_{j}^{d} t_{wk}^{bz}\n",
       "+P(ij)P(iw)P(bz)P(ba)P(za)\\frac{-1}{1} \\sum_{ckd} \\langle ak || cd \\rangle t_{i}^{c} t_{k}^{b} t_{jw}^{dz}\n",
       "+P(ij)P(iw)P(bz)P(ba)P(za)\\frac{-1}{1} \\sum_{cdk} \\langle ak || cd \\rangle t_{i}^{c} t_{jw}^{db} t_{k}^{z}\n",
       "+P(ij)P(iw)P(ba)P(za)P(jw)\\frac{-1}{2} \\sum_{ckd} \\langle ak || cd \\rangle t_{i}^{c} t_{jk}^{bz} t_{w}^{d}\n",
       "+P(bz)P(ba)P(iw)P(jw)P(za)\\frac{-1}{1} \\sum_{cdk} \\langle ak || cd \\rangle t_{ij}^{cb} t_{w}^{d} t_{k}^{z}\n",
       "+P(az)P(bz)P(ij)P(iw)P(jw)\\frac{-1}{2} \\sum_{kcd} \\langle kz || cd \\rangle t_{ik}^{ab} t_{j}^{c} t_{w}^{d}\n",
       "+P(az)P(bz)P(ij)P(iw)\\frac{1}{1} \\sum_{k} \\langle k || j \\rangle t_{ik}^{ab}\n",
       "+P(ji)P(wi)\\frac{-1}{1} \\sum_{ckl} \\langle kl || ci \\rangle t_{k}^{c} t_{jwl}^{abz}\n",
       "+P(ij)P(iw)P(jw)\\frac{1}{2} \\sum_{ckl} \\langle kl || cw \\rangle t_{i}^{c} t_{jkl}^{abz}\n",
       "+P(ab)P(az)P(ji)P(wi)\\frac{-1}{1} \\sum_{kcl} \\langle kl || ic \\rangle t_{k}^{a} t_{jwl}^{cbz}\n",
       "+P(ab)P(az)P(iw)P(ij)P(wj)\\frac{1}{1} \\sum_{ckl} \\langle kl || cj \\rangle t_{ik}^{ca} t_{wl}^{bz}\n",
       "+P(ab)P(az)P(iw)P(jw)\\frac{-1}{2} \\sum_{ckl} \\langle kl || cw \\rangle t_{ij}^{ca} t_{kl}^{bz}\n",
       "+P(az)P(bz)P(iw)P(jw)\\frac{-1}{1} \\sum_{ckl} \\langle kl || cw \\rangle t_{ijk}^{cab} t_{l}^{z}\n",
       "+P(iw)P(ij)P(wj)\\frac{1}{2} \\sum_{klc} \\langle kl || jc \\rangle t_{ikl}^{abz} t_{w}^{c}\n",
       "+P(iw)P(jw)\\frac{-1}{1} \\sum_{kcl} \\langle kl || wc \\rangle t_{ijk}^{abz} t_{l}^{c}\n",
       "+P(iw)P(ij)P(ab)P(az)P(wj)\\frac{1}{1} \\sum_{ckl} \\langle kl || cj \\rangle t_{i}^{c} t_{k}^{a} t_{wl}^{bz}\n",
       "+P(ab)P(az)P(bz)P(ji)P(wi)\\frac{1}{2} \\sum_{klc} \\langle kl || ic \\rangle t_{k}^{a} t_{l}^{b} t_{jw}^{cz}\n",
       "+P(ij)P(iw)P(az)P(bz)P(jw)\\frac{1}{1} \\sum_{ckl} \\langle kl || cw \\rangle t_{i}^{c} t_{jk}^{ab} t_{l}^{z}\n",
       "+P(ab)P(az)P(bz)P(ji)P(wi)\\frac{1}{2} \\sum_{kcl} \\langle kl || ic \\rangle t_{k}^{a} t_{jw}^{cb} t_{l}^{z}\n",
       "+P(ab)P(az)P(iw)P(jw)P(bz)\\frac{1}{2} \\sum_{ckl} \\langle kl || cw \\rangle t_{ij}^{ca} t_{k}^{b} t_{l}^{z}\n",
       "+P(az)P(bz)P(iw)P(ij)P(wj)\\frac{1}{1} \\sum_{kcl} \\langle kl || jc \\rangle t_{ik}^{ab} t_{w}^{c} t_{l}^{z}\n",
       "+P(ij)P(iw)\\frac{1}{2} \\sum_{cdkl} \\langle kl || cd \\rangle t_{ik}^{cd} t_{jwl}^{abz}\n",
       "+P(iw)P(jw)\\frac{1}{4} \\sum_{cdkl} \\langle kl || cd \\rangle t_{ij}^{cd} t_{wkl}^{abz}\n",
       "+P(ab)P(az)\\frac{1}{2} \\sum_{ckld} \\langle kl || cd \\rangle t_{kl}^{ca} t_{ijw}^{dbz}\n",
       "+P(ab)P(az)P(ij)P(iw)\\frac{1}{1} \\sum_{ckdl} \\langle kl || cd \\rangle t_{ik}^{ca} t_{jwl}^{dbz}\n",
       "+P(ab)P(az)P(iw)P(jw)\\frac{1}{2} \\sum_{cdkl} \\langle kl || cd \\rangle t_{ij}^{ca} t_{wkl}^{dbz}\n",
       "+P(az)P(bz)\\frac{1}{4} \\sum_{klcd} \\langle kl || cd \\rangle t_{kl}^{ab} t_{ijw}^{cdz}\n",
       "+P(az)P(bz)P(ij)P(iw)\\frac{1}{2} \\sum_{kcdl} \\langle kl || cd \\rangle t_{ik}^{ab} t_{jwl}^{cdz}\n",
       "+P(ab)P(az)P(iw)P(jw)\\frac{1}{2} \\sum_{cdkl} \\langle kl || cd \\rangle t_{ijk}^{cda} t_{wl}^{bz}\n",
       "+P(ab)P(az)\\frac{1}{4} \\sum_{cdkl} \\langle kl || cd \\rangle t_{ijw}^{cda} t_{kl}^{bz}\n",
       "+P(az)P(bz)P(ij)P(iw)\\frac{1}{2} \\sum_{ckld} \\langle kl || cd \\rangle t_{ikl}^{cab} t_{jw}^{dz}\n",
       "+P(az)P(bz)P(iw)P(jw)\\frac{1}{1} \\sum_{ckdl} \\langle kl || cd \\rangle t_{ijk}^{cab} t_{wl}^{dz}\n",
       "+P(az)P(bz)\\frac{1}{2} \\sum_{cdkl} \\langle kl || cd \\rangle t_{ijw}^{cab} t_{kl}^{dz}\n",
       "+P(ij)P(iw)\\frac{1}{4} \\sum_{klcd} \\langle kl || cd \\rangle t_{ikl}^{abz} t_{jw}^{cd}\n",
       "+P(iw)P(jw)\\frac{1}{2} \\sum_{kcdl} \\langle kl || cd \\rangle t_{ijk}^{abz} t_{wl}^{cd}\n",
       "+P(ij)P(iw)\\frac{1}{1} \\sum_{ckdl} \\langle kl || cd \\rangle t_{k}^{c} t_{i}^{d} t_{jwl}^{abz}\n",
       "+P(ab)P(az)\\frac{1}{1} \\sum_{ckld} \\langle kl || cd \\rangle t_{k}^{c} t_{l}^{a} t_{ijw}^{dbz}\n",
       "+P(ij)P(iw)P(jw)\\frac{-1}{4} \\sum_{cdkl} \\langle kl || cd \\rangle t_{i}^{c} t_{j}^{d} t_{wkl}^{abz}\n",
       "+P(ij)P(iw)P(ab)P(az)\\frac{1}{1} \\sum_{ckdl} \\langle kl || cd \\rangle t_{i}^{c} t_{k}^{a} t_{jwl}^{dbz}\n",
       "+P(ab)P(az)P(bz)\\frac{-1}{4} \\sum_{klcd} \\langle kl || cd \\rangle t_{k}^{a} t_{l}^{b} t_{ijw}^{cdz}\n",
       "+P(ab)P(az)P(iw)P(jw)\\frac{1}{1} \\sum_{ckdl} \\langle kl || cd \\rangle t_{k}^{c} t_{ij}^{da} t_{wl}^{bz}\n",
       "+P(ij)P(iw)P(ab)P(az)P(jw)\\frac{-1}{1} \\sum_{cdkl} \\langle kl || cd \\rangle t_{i}^{c} t_{jk}^{da} t_{wl}^{bz}\n",
       "+P(ij)P(iw)P(ab)P(az)\\frac{1}{2} \\sum_{cdkl} \\langle kl || cd \\rangle t_{i}^{c} t_{jw}^{da} t_{kl}^{bz}\n",
       "+P(ab)P(az)P(iw)P(jw)\\frac{1}{2} \\sum_{kcdl} \\langle kl || cd \\rangle t_{k}^{a} t_{ij}^{cd} t_{wl}^{bz}\n",
       "+P(ab)P(az)P(bz)P(ij)P(iw)\\frac{-1}{1} \\sum_{kcld} \\langle kl || cd \\rangle t_{k}^{a} t_{il}^{cb} t_{jw}^{dz}\n",
       "+P(az)P(bz)\\frac{1}{1} \\sum_{ckdl} \\langle kl || cd \\rangle t_{k}^{c} t_{ijw}^{dab} t_{l}^{z}\n",
       "+P(iw)P(jw)\\frac{1}{1} \\sum_{ckld} \\langle kl || cd \\rangle t_{k}^{c} t_{ijl}^{abz} t_{w}^{d}\n",
       "+P(ij)P(iw)P(az)P(bz)\\frac{1}{1} \\sum_{cdkl} \\langle kl || cd \\rangle t_{i}^{c} t_{jwk}^{dab} t_{l}^{z}\n",
       "+P(ij)P(iw)P(jw)\\frac{-1}{4} \\sum_{ckld} \\langle kl || cd \\rangle t_{i}^{c} t_{jkl}^{abz} t_{w}^{d}\n",
       "+P(ab)P(az)P(bz)\\frac{-1}{4} \\sum_{kcdl} \\langle kl || cd \\rangle t_{k}^{a} t_{ijw}^{cdb} t_{l}^{z}\n",
       "+P(iw)P(jw)P(ab)P(az)\\frac{1}{2} \\sum_{cdkl} \\langle kl || cd \\rangle t_{ij}^{cd} t_{k}^{a} t_{wl}^{bz}\n",
       "+P(ab)P(az)P(ij)P(iw)P(jw)\\frac{-1}{1} \\sum_{ckdl} \\langle kl || cd \\rangle t_{ik}^{ca} t_{j}^{d} t_{wl}^{bz}\n",
       "+P(ab)P(az)P(ij)P(iw)P(bz)\\frac{-1}{1} \\sum_{ckld} \\langle kl || cd \\rangle t_{ik}^{ca} t_{l}^{b} t_{jw}^{dz}\n",
       "+P(ab)P(az)P(iw)P(jw)\\frac{1}{1} \\sum_{cdkl} \\langle kl || cd \\rangle t_{ij}^{ca} t_{k}^{d} t_{wl}^{bz}\n",
       "+P(ab)P(az)P(iw)P(jw)\\frac{1}{2} \\sum_{cdkl} \\langle kl || cd \\rangle t_{ij}^{ca} t_{w}^{d} t_{kl}^{bz}\n",
       "+P(iw)P(jw)P(az)P(bz)\\frac{1}{2} \\sum_{cdkl} \\langle kl || cd \\rangle t_{ij}^{cd} t_{wk}^{ab} t_{l}^{z}\n",
       "+P(ab)P(az)P(ij)P(iw)P(bz)\\frac{-1}{1} \\sum_{ckdl} \\langle kl || cd \\rangle t_{ik}^{ca} t_{jw}^{db} t_{l}^{z}\n",
       "+P(ab)P(az)P(ij)P(iw)P(jw)\\frac{-1}{1} \\sum_{ckld} \\langle kl || cd \\rangle t_{ik}^{ca} t_{jl}^{bz} t_{w}^{d}\n",
       "+P(ab)P(az)P(iw)P(jw)\\frac{1}{2} \\sum_{ckld} \\langle kl || cd \\rangle t_{ij}^{ca} t_{kl}^{bz} t_{w}^{d}\n",
       "+P(ab)P(az)P(iw)P(jw)\\frac{1}{1} \\sum_{ckdl} \\langle kl || cd \\rangle t_{ij}^{ca} t_{wk}^{bz} t_{l}^{d}\n",
       "+P(ab)P(az)P(bz)\\frac{-1}{4} \\sum_{cdkl} \\langle kl || cd \\rangle t_{ijw}^{cda} t_{k}^{b} t_{l}^{z}\n",
       "+P(az)P(bz)P(iw)P(jw)\\frac{1}{1} \\sum_{ckdl} \\langle kl || cd \\rangle t_{ijk}^{cab} t_{w}^{d} t_{l}^{z}\n",
       "+P(az)P(bz)\\frac{1}{1} \\sum_{cdkl} \\langle kl || cd \\rangle t_{ijw}^{cab} t_{k}^{d} t_{l}^{z}\n",
       "+P(ij)P(iw)P(jw)\\frac{-1}{4} \\sum_{klcd} \\langle kl || cd \\rangle t_{ikl}^{abz} t_{j}^{c} t_{w}^{d}\n",
       "+P(iw)P(jw)\\frac{1}{1} \\sum_{kcld} \\langle kl || cd \\rangle t_{ijk}^{abz} t_{l}^{c} t_{w}^{d}\n",
       "+P(ij)P(iw)P(jw)P(ab)P(az)\\frac{-1}{2} \\sum_{cdkl} \\langle kl || cd \\rangle t_{i}^{c} t_{j}^{d} t_{k}^{a} t_{wl}^{bz}\n",
       "+P(ij)P(iw)P(ab)P(az)P(bz)\\frac{-1}{2} \\sum_{ckld} \\langle kl || cd \\rangle t_{i}^{c} t_{k}^{a} t_{l}^{b} t_{jw}^{dz}\n",
       "+P(ij)P(iw)P(jw)P(az)P(bz)\\frac{-1}{2} \\sum_{cdkl} \\langle kl || cd \\rangle t_{i}^{c} t_{j}^{d} t_{wk}^{ab} t_{l}^{z}\n",
       "+P(ij)P(iw)P(ab)P(az)P(bz)\\frac{-1}{2} \\sum_{ckdl} \\langle kl || cd \\rangle t_{i}^{c} t_{k}^{a} t_{jw}^{db} t_{l}^{z}\n",
       "+P(ij)P(iw)P(ab)P(az)P(bz)\\frac{-1}{2} \\sum_{cdkl} \\langle kl || cd \\rangle t_{i}^{c} t_{jw}^{da} t_{k}^{b} t_{l}^{z}\n",
       "+P(ij)P(iw)P(az)P(bz)P(jw)\\frac{-1}{2} \\sum_{ckdl} \\langle kl || cd \\rangle t_{i}^{c} t_{jk}^{ab} t_{w}^{d} t_{l}^{z}\n",
       "+P(ab)P(az)P(iw)P(jw)P(bz)\\frac{-1}{2} \\sum_{cdkl} \\langle kl || cd \\rangle t_{ij}^{ca} t_{w}^{d} t_{k}^{b} t_{l}^{z}\n",
       "+P(az)P(bz)P(ij)P(iw)P(jw)\\frac{-1}{2} \\sum_{kcdl} \\langle kl || cd \\rangle t_{ik}^{ab} t_{j}^{c} t_{w}^{d} t_{l}^{z}\n",
       "$$"
      ],
      "text/plain": [
       "<IPython.core.display.Math at 0x5554908>"
      ]
     },
     "execution_count": 40,
     "metadata": {},
     "output_type": "execute_result"
    }
   ],
   "source": [
    "H = normal_ordered_hamiltonian() #Including one- and two-particle interactions\n",
    "T_1 = Operator([],[1,-1])  #The T_1 cluster operator\n",
    "T_2 = Operator([],[1,1,-1,-1]) #The T_2 operator; all lists must be normal ordered\n",
    "T_3 = Operator([],[1,1,1,-1,-1,-1])\n",
    "expT = expand_ansatz([[T_1],[T_2], [T_3]],4)  #Taylor expand a list of lists to the 3rd order\n",
    "#print expT\n",
    "\n",
    "tx = combine_to_excitation(H,expT,3, [1,0,0,0])\n",
    "s = \"0 =\"\n",
    "for t in tx:\n",
    "    s += \"+\" + t + \"\\n\"\n",
    "Math(s)"
   ]
  },
  {
   "cell_type": "code",
   "execution_count": 41,
   "metadata": {
    "collapsed": false
   },
   "outputs": [
    {
     "name": "stdout",
     "output_type": "stream",
     "text": [
      "120\n"
     ]
    }
   ],
   "source": [
    "print len(expand_ansatz([[\"a\"],[\"b\"],[\"c\"]], 4))"
   ]
  },
  {
   "cell_type": "code",
   "execution_count": 41,
   "metadata": {
    "collapsed": false
   },
   "outputs": [],
   "source": []
  }
 ],
 "metadata": {
  "kernelspec": {
   "display_name": "Python 2",
   "language": "python",
   "name": "python2"
  },
  "language_info": {
   "codemirror_mode": {
    "name": "ipython",
    "version": 2
   },
   "file_extension": ".py",
   "mimetype": "text/x-python",
   "name": "python",
   "nbconvert_exporter": "python",
   "pygments_lexer": "ipython2",
   "version": "2.7.10"
  }
 },
 "nbformat": 4,
 "nbformat_minor": 0
}
