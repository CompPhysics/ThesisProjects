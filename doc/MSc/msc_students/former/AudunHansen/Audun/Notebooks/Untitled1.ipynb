{
 "metadata": {
  "name": "",
  "signature": "sha256:5ef5cdc5e8db2973519cdd9b2db3108524e384c6e3ca3599e4b5ab092bd0e4ff"
 },
 "nbformat": 3,
 "nbformat_minor": 0,
 "worksheets": [
  {
   "cells": [
    {
     "cell_type": "markdown",
     "metadata": {},
     "source": [
      "##Unrestricted Hartree Fock\n",
      "\n",
      "To implement the UHF procedure, the solver itself will need to be somewhat rewritten. "
     ]
    },
    {
     "cell_type": "markdown",
     "metadata": {},
     "source": [
      "$ F^\\alpha_(\\mu\\nu) = \\sum \\langle \\mu \\bar \\nu || \\mu \\bar \\nu \\rangle$"
     ]
    },
    {
     "cell_type": "code",
     "collapsed": false,
     "input": [],
     "language": "python",
     "metadata": {},
     "outputs": []
    }
   ],
   "metadata": {}
  }
 ]
}