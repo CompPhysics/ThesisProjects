{
 "metadata": {
  "name": "",
  "signature": "sha256:b1ab9c442ed039d1d75d7ce18581ae4f9b31889fa0a876c7be45f3e5e97b7474"
 },
 "nbformat": 3,
 "nbformat_minor": 0,
 "worksheets": [
  {
   "cells": [
    {
     "cell_type": "code",
     "collapsed": false,
     "input": [],
     "language": "python",
     "metadata": {},
     "outputs": []
    }
   ],
   "metadata": {}
  }
 ]
}