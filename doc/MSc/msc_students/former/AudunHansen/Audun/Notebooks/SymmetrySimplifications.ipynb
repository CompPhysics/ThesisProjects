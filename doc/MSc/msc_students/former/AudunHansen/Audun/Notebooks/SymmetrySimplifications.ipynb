{
 "metadata": {
  "name": "SymmetrySimplifications.ipynb"
 },
 "nbformat": 3,
 "nbformat_minor": 0,
 "worksheets": [
  {
   "cells": [
    {
     "cell_type": "markdown",
     "metadata": {},
     "source": [
      "#Symmetry simplifications of the CCD equations for the electron gas\n",
      "##Based on Crawford and Schaefer - ..."
     ]
    },
    {
     "cell_type": "markdown",
     "metadata": {},
     "source": [
      "Certain spatial symmetries will greatly improve the CCD implementation, both with regards to memory consumtption and efficiency. In this notebook i will try to explain to myself how to implement this in the code.\n",
      "\n",
      "To exploit these symmetries, we begin by stating the full CCD amplitude equation."
     ]
    },
    {
     "cell_type": "markdown",
     "metadata": {},
     "source": [
      "$$ \\langle ab \\vert \\vert ij \\rangle \\epsilon^{ab}_{ij} = \\frac{1}{2} \\sum_{cd} \\langle ab \\vert \\vert cd \\rangle t^{cd}_{ij} + \\frac{1}{2} \\sum_{kl} \\langle kl \\vert \\vert ij \\rangle t^{ab}_{kl} + \\hat{P}(ij \\vert ab) \\sum_{kc} \\langle kb \\vert \\vert cj \\rangle t^{ac}_{ik} + \\frac{1}{4} \\sum_{klcd} \\langle kl \\vert \\vert cd \\rangle t^{cd}_{ij} t^{ab}_{kl} + \\hat{P}(ij) \\sum_{klcd} \\langle kl \\vert \\vert cd \\rangle t^{ac}_{ik} t^{bd}_{jl} - \\frac{1}{2} \\hat{P}(ij) \\sum_{klcd} \\langle kl \\vert \\vert cd \\rangle t^{dc}_{ik} t^{ab}_{lj} - \\frac{1}{2} \\hat{P}(ab)\\sum_{klcd}\\langle kl \\vert \\vert cd \\rangle t^{ac}_{lk} t^{db}_{ij} $$"
     ]
    },
    {
     "cell_type": "markdown",
     "metadata": {},
     "source": [
      "It is natural to distinguish the terms quadratic in the amplitudes from the linear terms. We may write this as"
     ]
    },
    {
     "cell_type": "markdown",
     "metadata": {},
     "source": [
      "$$ \\langle ab \\vert \\vert ij \\rangle \\epsilon^{ab}_{ij} = L^{ab}_{ij} + Q^{ab}_{ij} $$\n",
      "\n",
      "where\n",
      "\n",
      "$$  L = \\frac{1}{2} \\sum_{cd} \\langle ab \\vert \\vert cd \\rangle t^{cd}_{ij} + \\frac{1}{2} \\sum_{kl} \\langle kl \\vert \\vert ij \\rangle t^{ab}_{kl} + \\hat{P}(ij \\vert ab) \\sum_{kc} \\langle kb \\vert \\vert cj \\rangle t^{ac}_{ik} $$\n",
      "\n",
      "and\n",
      "\n",
      "$$ Q = \\frac{1}{4} \\sum_{klcd} \\langle kl \\vert \\vert cd \\rangle t^{cd}_{ij} t^{ab}_{kl} + \\hat{P}(ij) \\sum_{klcd} \\langle kl \\vert \\vert cd \\rangle t^{ac}_{ik} t^{bd}_{jl} - \\frac{1}{2} \\hat{P}(ij) \\sum_{klcd} \\langle kl \\vert \\vert cd \\rangle t^{dc}_{ik} t^{ab}_{lj} - \\frac{1}{2} \\hat{P}(ab)\\sum_{klcd}\\langle kl \\vert \\vert cd \\rangle t^{ac}_{lk} t^{db}_{ij} $$"
     ]
    },
    {
     "cell_type": "markdown",
     "metadata": {},
     "source": [
      "The antisymmetric interaction which occurs in every sum is"
     ]
    },
    {
     "cell_type": "markdown",
     "metadata": {},
     "source": [
      "$$ \\langle p q || r s \\rangle = \\frac{4 \\pi c^2}{\\Omega} \\delta_{k_p + k_q, k_r + k_s} [\\delta_{ms_p,ms_r}\\delta_{ms_q, ms_s} (1-\\delta_{k_p,k_r})\\frac{1}{|\\hat{k}_r - \\hat{k}_p|^2} - \\delta_{ms_p,ms_s}\\delta_{ms_q, ms_r} (1-\\delta_{k_p,k_s})\\frac{1}{|\\hat{k}_s - \\hat{k}_p|^2}]  $$"
     ]
    },
    {
     "cell_type": "markdown",
     "metadata": {},
     "source": [
      "Meaning that only interactions where"
     ]
    },
    {
     "cell_type": "markdown",
     "metadata": {},
     "source": [
      "$$ k_p + k_q = k_r + k_s $$"
     ]
    },
    {
     "cell_type": "markdown",
     "metadata": {},
     "source": [
      "will be non-zero. The interaction is also constrained by the following symmetries:"
     ]
    },
    {
     "cell_type": "markdown",
     "metadata": {},
     "source": [
      "$$ \\langle pq \\vert \\vert rs \\rangle = - \\langle pq \\vert \\vert sr \\rangle = - \\langle qp \\vert \\vert rs \\rangle = \\langle qp \\vert \\vert sr \\rangle = \\langle rs \\vert \\vert pq \\rangle$$"
     ]
    },
    {
     "cell_type": "markdown",
     "metadata": {},
     "source": [
      "With this in mind, we consider the two first terms in the linear contribution. In the first term we sum over ket states, keeping the indices in the bra fixed. We may define a matrix for the interaction and the t2-amplitudes:"
     ]
    },
    {
     "cell_type": "markdown",
     "metadata": {},
     "source": [
      "$$ \\langle pq \\vert \\vert rs \\rangle \\equiv V_{\\alpha(p,q), \\beta(r,s)} $$\n",
      "\n",
      "$$ t^{ab}_{ij} \\equiv T_{\\alpha(a,b), \\beta(i,j)} $$"
     ]
    },
    {
     "cell_type": "markdown",
     "metadata": {},
     "source": [
      "The product of these matrices is a new matrix, with elements:\n",
      "\n",
      "$$ (T \\bullet V)_{\\alpha, \\beta} = \\sum_{\\gamma} T_{\\alpha, \\gamma} \\bullet V_{\\gamma, \\beta}   $$\n",
      "\n",
      "So that in the case of the first linear term we may solve this as a matrix multiplication. (if only particle states occur in $\\gamma$). The second term may be calculated in the same way, but instead we consider only hole-states. This means that when we set up the matrices above, we need to do it separately for the type of contribution we consider."
     ]
    },
    {
     "cell_type": "markdown",
     "metadata": {},
     "source": [
      "# Implementation"
     ]
    },
    {
     "cell_type": "markdown",
     "metadata": {},
     "source": [
      "The matrices defined above can be divided into submatrices with only pp (particle-particle), ph, hp or hh elements. \n",
      "\n",
      "$$ V_{\\alpha(pq),\\beta(rs)} = \\begin{bmatrix}\n",
      " V_{\\alpha(hh),\\beta(hh)} & V_{\\alpha(hh),\\beta(pp)} \\\\ \n",
      " V_{\\alpha(pp),\\beta(hh)} & V_{\\alpha(pp),\\beta(pp)} \n",
      "\\end{bmatrix}$$\n",
      "\n",
      "$$ T_{\\alpha(pq),\\beta(rs)} = \\begin{bmatrix}\n",
      " T_{\\alpha(hh),\\beta(hh)} & T_{\\alpha(hh),\\beta(pp)} \\\\ \n",
      " T_{\\alpha(pp),\\beta(hh)} & T_{\\alpha(pp),\\beta(pp)} \n",
      "\\end{bmatrix}$$\n",
      "\n"
     ]
    },
    {
     "cell_type": "markdown",
     "metadata": {},
     "source": [
      "The first linear term in the CCD equations is then found by performing the matrix multiplication\n",
      "\n",
      "$$ \\frac{1}{2} \\sum_{cd} \\langle ab \\vert \\vert cd \\rangle t^{cd}_{ij} = \\frac{1}{2} \\sum_{cd} V_{\\alpha(ab)\\beta(cd)} T_{\\alpha(cd) \\beta(ij)} =\\frac{1}{2} \\sum_{\\gamma} V_{\\alpha(ab),\\gamma} T_{\\gamma, \\beta(ij)}=\\frac{1}{2} (V_{\\alpha(pp)\\beta(pp)} \\bullet T_{\\alpha(pp) \\beta(hh)})_{\\alpha(ab),\\beta(ij)} $$\n",
      "\n",
      "The second may be found by performing the multiplication\n",
      "\n",
      "$$\\frac{1}{2} \\sum_{kl} \\langle kl \\vert \\vert ij \\rangle t^{ab}_{kl} =\\frac{1}{2} (T_{\\alpha(pp)\\beta(hh)} \\bullet V_{\\alpha(hh) \\beta(hh)})_{\\alpha(ab),\\beta(ij)}$$\n",
      "\n"
     ]
    },
    {
     "cell_type": "markdown",
     "metadata": {},
     "source": [
      "\n",
      "The third sum in the linear contribution is more tricky, since it contains particle-hole terms and since the fixes indices occure in both the bra and ket. We may define another matrix for the interaction\n",
      "\n",
      "$$ V_{\\gamma(pq),\\delta(rs)} = \\begin{bmatrix}\n",
      " V_{\\gamma(ph),\\delta(ph)} & V_{\\gamma(ph),\\delta(hp)} \\\\ \n",
      " V_{\\gamma(hp),\\delta(ph)} & V_{\\gamma(hp),\\delta(hp)} \n",
      "\\end{bmatrix}$$\n",
      "\n",
      "If we find a matrix that permutes the elements in $V_{\\alpha, \\beta} $, so that\n",
      "\n",
      "$$ \\hat{P} V_{\\alpha,\\beta} = V_{\\gamma, \\delta} $$\n",
      "\n",
      "The same matrix can be used to transform the $T$-matrix, keeping tabs of the indices.\n",
      "\n",
      "We also seek a transformation that make the columns or rows in $T$ represent the series of terms occuring in the CCD equations. As it turns out (?), the diagonal entries in the T-matrix follows this pattern. By \"rotating\" all indices $\\pi /4$ radians or shifting them diagonally we obtain the properly transformed matrix. \n",
      "\n"
     ]
    },
    {
     "cell_type": "markdown",
     "metadata": {},
     "source": [
      "## Overview\n",
      "\n"
     ]
    },
    {
     "cell_type": "markdown",
     "metadata": {},
     "source": [
      "Notation:\n",
      "\n",
      "$$ V_{\\alpha(hh),\\beta(hh)} \\rightarrow V_{hhhh} $$\n",
      "\n",
      "We then find\n",
      "\n",
      "$$  L_1 = \\frac{1}{2} \\sum_{cd} \\langle ab \\vert \\vert cd \\rangle t^{cd}_{ij} = \\frac{1}{2}(V_{pppp}T_{pphh})_{abij}$$\n",
      "$$  L_2 = \\frac{1}{2} \\sum_{kl} \\langle kl \\vert \\vert ij \\rangle t^{ab}_{kl} =\\frac{1}{2} (V_{hhhh}T_{hhpp})_{abij}$$\n",
      "$$  L_3 = \\hat{P}(ij \\vert ab) \\sum_{kc} \\langle kb \\vert \\vert cj \\rangle t^{ac}_{ik} = \\hat{P}(ij \\vert ab) (V_{phhp} T_{pphh})_{abij}$$\n",
      "\n",
      "\n",
      "$$Q_1 = \\frac{1}{4} \\sum_{klcd} \\langle kl \\vert \\vert cd \\rangle t^{cd}_{ij} t^{ab}_{kl} = \\frac{1}{4} (V_{hhpp}T_{pphh}T_{pphh})_{abij}$$\n",
      "\n",
      "$$Q_2 = \\hat{P}(ij) \\sum_{klcd} \\langle kl \\vert \\vert cd \\rangle t^{ac}_{ik} t^{bd}_{jl} $$\n",
      "\n",
      "$$Q_3 = - \\frac{1}{2} \\hat{P}(ij) \\sum_{klcd} \\langle kl \\vert \\vert cd \\rangle t^{dc}_{ik} t^{ab}_{lj} $$\n",
      "\n",
      "$$Q_4 = - \\frac{1}{2} \\hat{P}(ab)\\sum_{klcd}\\langle kl \\vert \\vert cd \\rangle t^{ac}_{lk} t^{db}_{lj} $$"
     ]
    },
    {
     "cell_type": "markdown",
     "metadata": {},
     "source": [
      "##Notes\n",
      "\n",
      "Used instead the following notation/logic when reordering the matrix elements\n",
      "\n",
      "$$Q4 = ... \\sum_{klcd} v^{kl}_{cd} t^{ac}_{ik} t^{db}_{lj} = T^{ac}_{lk} V^{kl}_{cd}  T^{db}_{lj} = \\tilde{T}^{a}_{clk} \\tilde{V}^{clk}_d \\tilde{T}^{d}_{blj} $$\n",
      "\n",
      "Which meant I had to transform \n",
      "\n",
      "$$\\tilde{T}^{a}_{clk} = T^{ac}_{lk}$$\n",
      "\n",
      "...and so on."
     ]
    },
    {
     "cell_type": "code",
     "collapsed": false,
     "input": [],
     "language": "python",
     "metadata": {},
     "outputs": []
    }
   ],
   "metadata": {}
  }
 ]
}