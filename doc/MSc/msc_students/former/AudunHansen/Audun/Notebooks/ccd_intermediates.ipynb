{
 "metadata": {
  "name": "ccd_intermediates.ipynb"
 },
 "nbformat": 3,
 "nbformat_minor": 0,
 "worksheets": [
  {
   "cells": [
    {
     "cell_type": "markdown",
     "metadata": {},
     "source": [
      "#CCD Intermediates"
     ]
    },
    {
     "cell_type": "markdown",
     "metadata": {},
     "source": [
      "$$ t^{ab}_{ij} \\epsilon^{ab}_{ij} = \\langle ab \\vert \\vert ij\\rangle + \\frac{1}{2} \\sum_{cd} \\langle ab \\vert \\vert cd \\rangle t^{cd}_{ij} + \\frac{1}{2} \\sum_{kl} \\langle kl \\vert \\vert ij \\rangle t^{ab}_{kl} + \\hat{P}(ij \\vert ab) \\sum_{kc} \\langle kb \\vert \\vert cj \\rangle t^{ac}_{ik} + \\frac{1}{4} \\sum_{klcd} \\langle kl \\vert \\vert cd \\rangle t^{cd}_{ij} t^{ab}_{kl} + \\hat{P}(ij) \\sum_{klcd} \\langle kl \\vert \\vert cd \\rangle t^{ac}_{ik} t^{bd}_{jl} - \\frac{1}{2} \\hat{P}(ij) \\sum_{klcd} \\langle kl \\vert \\vert cd \\rangle t^{dc}_{ik} t^{ab}_{lj} - \\frac{1}{2} \\hat{P}(ab)\\sum_{klcd}\\langle kl \\vert \\vert cd \\rangle t^{ac}_{lk} t^{db}_{ij} $$"
     ]
    },
    {
     "cell_type": "markdown",
     "metadata": {},
     "source": [
      "Define\n",
      "\n",
      "$$I_1 = \\langle kl || ij \\rangle + \\frac{1}{2} \\sum_{cd} \\langle kl || cd \\rangle t^{cd}_{ij}$$\n",
      "\n",
      "$$I_2 = \\langle kb || cj \\rangle + \\frac{1}{2} \\sum_{cd} \\langle kl || cd \\rangle t^{db}_{lj}$$\n",
      "\n",
      "$$I_3 = \\sum_{lcd} \\langle kl || cd \\rangle t^{cd}_{jl}$$\n",
      "\n",
      "$$I_4 = \\sum_{kld} \\langle kl || cd \\rangle t^{bd}_{kl}$$\n",
      "\n",
      "And substitute to find:"
     ]
    },
    {
     "cell_type": "markdown",
     "metadata": {},
     "source": [
      "$$ t^{ab}_{ij} \\epsilon^{ab}_{ij} = \\langle ab \\vert \\vert ij\\rangle + \\frac{1}{2} \\sum_{cd} \\langle ab \\vert \\vert cd \\rangle t^{cd}_{ij} + \\frac{1}{2} \\sum_{kl} t^{ab}_{kl} {I_1}^{kl}_{ij} + \\hat{P}(ij) \\hat{P}(ab) \\sum_{kc} t^{ac}_{ik} {I_2}^{kb}_{cj} - \\frac{1}{2} \\hat{P}(ij) \\sum_{k} t^{ab}_{ik} {I_3}^k_j - \\frac{1}{2} \\hat{P}(ab) \\sum_c t^{ac}_{ij} {I_4}^b_c $$"
     ]
    },
    {
     "cell_type": "code",
     "collapsed": false,
     "input": [],
     "language": "python",
     "metadata": {},
     "outputs": []
    }
   ],
   "metadata": {}
  }
 ]
}