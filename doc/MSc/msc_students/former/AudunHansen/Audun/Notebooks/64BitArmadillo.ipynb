{
 "metadata": {
  "name": "",
  "signature": "sha256:6b16d5633dfb7def2427b47bf061f3707bcf0fd500c1171853361bbc5516d0f3"
 },
 "nbformat": 3,
 "nbformat_minor": 0,
 "worksheets": [
  {
   "cells": [
    {
     "cell_type": "markdown",
     "metadata": {},
     "source": [
      "#Armadillo 64bit log\n",
      "\n",
      "As per 9/2/2015 i have managed to get armadillo running in 64 bit on my home computer. It was some minor changes that had to be made in the C++/fermicc, most notably:\n",
      "\n",
      "- Need to define before including armadillo:\n",
      "\"#define ARMA_64BIT_WORD\"\n",
      "\n",
      "- Need to change armadillo_bits/config.hpp:\n",
      "Enable (de-comment) the 64 bit alternative."
     ]
    },
    {
     "cell_type": "markdown",
     "metadata": {},
     "source": [
      "#Office computer setup\n",
      "\n",
      "I am currently trying to run the same code on my office computer, but get som referencing errors:\n",
      "\n",
      "\"*** Error in `/home/audunsh/Documents/build-FermiCC-Desktop-Debug/FermiCC': free(): invalid pointer: 0x00007f71db87cbc8 ***\n",
      "The program has unexpectedly finished.\"\n",
      "\n",
      "*Solution:* I found that the #define statement needs to be made in all headers and .cpp files. The bug above was caused by the electron gas class not defining 64 bit wordlength."
     ]
    },
    {
     "cell_type": "code",
     "collapsed": false,
     "input": [],
     "language": "python",
     "metadata": {},
     "outputs": []
    }
   ],
   "metadata": {}
  }
 ]
}