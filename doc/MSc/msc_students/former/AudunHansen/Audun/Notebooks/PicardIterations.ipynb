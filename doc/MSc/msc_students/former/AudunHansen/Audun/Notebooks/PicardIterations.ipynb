{
 "metadata": {
  "name": "PicardIterations.ipynb",
  "signature": "sha256:48cf407877090f967ce667be0ee88c21e277d10a3968dcbfb73b11e06e9cfbfc"
 },
 "nbformat": 3,
 "nbformat_minor": 0,
 "worksheets": [
  {
   "cells": [
    {
     "cell_type": "markdown",
     "metadata": {},
     "source": [
      "#PicardIterations"
     ]
    },
    {
     "cell_type": "code",
     "collapsed": false,
     "input": [
      "from IPython.display import display, Math, Latex \n",
      "from IPython.html.widgets import interact\n",
      "%matplotlib inline  "
     ],
     "language": "python",
     "metadata": {},
     "outputs": [
      {
       "ename": "ImportError",
       "evalue": "No module named widgets",
       "output_type": "pyerr",
       "traceback": [
        "\u001b[0;31m---------------------------------------------------------------------------\u001b[0m\n\u001b[0;31mImportError\u001b[0m                               Traceback (most recent call last)",
        "\u001b[0;32m<ipython-input-2-c7e8d0b9fc07>\u001b[0m in \u001b[0;36m<module>\u001b[0;34m()\u001b[0m\n\u001b[1;32m      1\u001b[0m \u001b[0;32mfrom\u001b[0m \u001b[0mIPython\u001b[0m\u001b[0;34m.\u001b[0m\u001b[0mdisplay\u001b[0m \u001b[0;32mimport\u001b[0m \u001b[0mdisplay\u001b[0m\u001b[0;34m,\u001b[0m \u001b[0mMath\u001b[0m\u001b[0;34m,\u001b[0m \u001b[0mLatex\u001b[0m\u001b[0;34m\u001b[0m\u001b[0m\n\u001b[0;32m----> 2\u001b[0;31m \u001b[0;32mfrom\u001b[0m \u001b[0mIPython\u001b[0m\u001b[0;34m.\u001b[0m\u001b[0mhtml\u001b[0m\u001b[0;34m.\u001b[0m\u001b[0mwidgets\u001b[0m \u001b[0;32mimport\u001b[0m \u001b[0minteract\u001b[0m\u001b[0;34m\u001b[0m\u001b[0m\n\u001b[0m\u001b[1;32m      3\u001b[0m \u001b[0mget_ipython\u001b[0m\u001b[0;34m(\u001b[0m\u001b[0;34m)\u001b[0m\u001b[0;34m.\u001b[0m\u001b[0mmagic\u001b[0m\u001b[0;34m(\u001b[0m\u001b[0;34mu'matplotlib inline'\u001b[0m\u001b[0;34m)\u001b[0m\u001b[0;34m\u001b[0m\u001b[0m\n",
        "\u001b[0;31mImportError\u001b[0m: No module named widgets"
       ]
      }
     ],
     "prompt_number": 2
    },
    {
     "cell_type": "code",
     "collapsed": false,
     "input": [
      "import sympy as sp\n",
      "import numpy as np\n",
      "\n",
      "\n",
      "def piterate(RHS, x0, y0, N):\n",
      "    #PicardIterations for initial value problems\n",
      "    #Solve y' = f(x,y(x)), y(x0) = y0 using sympy\n",
      "    yp = y0\n",
      "    for i in range(N):\n",
      "        yp = y0+sp.integrate(RHS.subs(y,yp), (x,x0,x))\n",
      "    Math(sp.latex(yp))\n",
      "    return yp\n",
      "\n",
      "def testinteract(x):\n",
      "    print x\n",
      "\n",
      "\n",
      "x = sp.symbols(\"x\")\n",
      "y = sp.symbols(\"y\")\n",
      "\n",
      "#Define RHS: f(x, y(x)) = ...\n",
      "rhs = x-y*y #RHS of 1.order ODE\n",
      "#c = piterate(RHS, 0,0, 3) #Solve nonlinear problem y'(x) = x-y*y to 3 order.\n",
      "#interact(piterate, RHS = rhs, x0 = (0,1,1), y0 = (0,1,1), N = (0,10,1))\n",
      "#Math(sp.latex(c))\n",
      "interact(testinteract,x = (1.0,10.0,1.0))"
     ],
     "language": "python",
     "metadata": {},
     "outputs": [
      {
       "ename": "NameError",
       "evalue": "name 'interact' is not defined",
       "output_type": "pyerr",
       "traceback": [
        "\u001b[0;31m---------------------------------------------------------------------------\u001b[0m\n\u001b[0;31mNameError\u001b[0m                                 Traceback (most recent call last)",
        "\u001b[0;32m<ipython-input-3-9feeea8972d9>\u001b[0m in \u001b[0;36m<module>\u001b[0;34m()\u001b[0m\n\u001b[1;32m     24\u001b[0m \u001b[0;31m#interact(piterate, RHS = rhs, x0 = (0,1,1), y0 = (0,1,1), N = (0,10,1))\u001b[0m\u001b[0;34m\u001b[0m\u001b[0;34m\u001b[0m\u001b[0m\n\u001b[1;32m     25\u001b[0m \u001b[0;31m#Math(sp.latex(c))\u001b[0m\u001b[0;34m\u001b[0m\u001b[0;34m\u001b[0m\u001b[0m\n\u001b[0;32m---> 26\u001b[0;31m \u001b[0minteract\u001b[0m\u001b[0;34m(\u001b[0m\u001b[0mtestinteract\u001b[0m\u001b[0;34m,\u001b[0m\u001b[0mx\u001b[0m \u001b[0;34m=\u001b[0m \u001b[0;34m(\u001b[0m\u001b[0;36m1.0\u001b[0m\u001b[0;34m,\u001b[0m\u001b[0;36m10.0\u001b[0m\u001b[0;34m,\u001b[0m\u001b[0;36m1.0\u001b[0m\u001b[0;34m)\u001b[0m\u001b[0;34m)\u001b[0m\u001b[0;34m\u001b[0m\u001b[0m\n\u001b[0m",
        "\u001b[0;31mNameError\u001b[0m: name 'interact' is not defined"
       ]
      }
     ],
     "prompt_number": 3
    },
    {
     "cell_type": "markdown",
     "metadata": {},
     "source": [
      "#Testcase: Picard iterations\n",
      "\n",
      "\n",
      "\n"
     ]
    },
    {
     "cell_type": "code",
     "collapsed": false,
     "input": [
      "x,x_m,h,X = sp.symbols(\"x x_m h X\")\n",
      "sp.integrate(h/8*(1-X)**2, (X, -1, 1))\n",
      "sp.integrate(h/8*(1+X)*(1-X), (X, -1, 1))\n",
      "x = x_m + h/2*X\n",
      "b_0 = sp.integrate(h/4*x*(1-x)*(1-X), (X, 0, sp.symbols(\"t\")))\n",
      "Math(sp.latex(b_0))\n",
      "#Math(b_0)"
     ],
     "language": "python",
     "metadata": {},
     "outputs": [
      {
       "latex": [
        "$$\\frac{h^{3} t^{4}}{64} + t^{3} \\left(- \\frac{h^{3}}{48} + \\frac{h^{2} x_{m}}{12} - \\frac{h^{2}}{24}\\right) + t^{2} \\left(- \\frac{h^{2} x_{m}}{8} + \\frac{h^{2}}{16} + \\frac{h x_{m}^{2}}{8} - \\frac{h x_{m}}{8}\\right) + t \\left(- \\frac{h x_{m}^{2}}{4} + \\frac{h x_{m}}{4}\\right)$$"
       ],
       "metadata": {},
       "output_type": "pyout",
       "prompt_number": 4,
       "text": [
        "<IPython.core.display.Math at 0x10e7be910>"
       ]
      }
     ],
     "prompt_number": 4
    },
    {
     "cell_type": "code",
     "collapsed": false,
     "input": [],
     "language": "python",
     "metadata": {},
     "outputs": []
    }
   ],
   "metadata": {}
  }
 ]
}