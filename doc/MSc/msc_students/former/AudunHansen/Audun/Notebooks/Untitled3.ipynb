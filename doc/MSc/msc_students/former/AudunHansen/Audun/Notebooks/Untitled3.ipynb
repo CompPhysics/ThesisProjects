{
 "metadata": {
  "name": "",
  "signature": "sha256:8862b27f0d5cb7c3060543c6ec23bf3063c4451242794ac4439b7c0c4efab755"
 },
 "nbformat": 3,
 "nbformat_minor": 0,
 "worksheets": [
  {
   "cells": [
    {
     "cell_type": "markdown",
     "metadata": {},
     "source": [
      "##The Galerkin method for a nonlinear diffusion equation\n",
      "\n",
      "We consider the following equation with boundary and initial conditions:\n",
      "\n",
      "$\\varrho(u)u_t = \\frac{\\partial}{\\partial x}\\left(\\alpha(u)\\frac{\\partial u}{\\partial x}\\right),\\quad x\\in (0,1)$\n",
      "\n",
      "$u(0,t) = 0$\n",
      "\n",
      "$u(1,t) = 0$\n",
      "\n",
      "$u(x,0) = I(x)$\n",
      "\n",
      "There is two nonlinearities in this equation that needs to be treated when we solve the equation.\n",
      "\n",
      "The starting point of most of the following derivations will be the residual:\n",
      "\n",
      "$$ R(u) = \\varrho(u)u_t - \\frac{\\partial}{\\partial x} (\\alpha(u)\\frac{\\partial u}{\\partial x}) $$\n",
      "\n",
      "If we discretize in time with a backward euler scheme and then use a Galerkin discretization for the spatial part, we find\n",
      "\n",
      "$$ \\varrho(\\Delta t n)u_t(\\Delta t n) \\approx [\\varrho(u) D_t^- u]^n = \\frac{\\varrho(u^n)}{\\Delta t}(u^{(n)}-u^{(n-1)}) $$\n",
      "\n",
      "$$ u^n \\approx \\sum_i c_i^n \\phi_i(x)  $$\n",
      "\n",
      "Where the basis is spanned by a set of $\\phi_i(x)$\u00b4s.\n",
      "\n",
      "We demand the solution to be valid in the space spanned by the basis functions: $v = span ({\\phi_i})$\n",
      "\n",
      "$$(R,v) = (R(c_0,c_1, ...), v) = 0$$\n",
      "\n",
      "This leads to a linear system of equations with $u^{(n)}(x,c_0,c_1,...)$ unknown:\n",
      "\n",
      "$$ (R,v) =  (\\frac{\\varrho(u^n)}{\\Delta t}(u^{(n)}-u^{(n-1)}), v ) -  (\\frac{\\partial}{\\partial x} (\\alpha(u^{(n)})\\frac{\\partial}{\\partial x} u^{(n)}), v) = 0 $$\n",
      "\n"
     ]
    },
    {
     "cell_type": "markdown",
     "metadata": {},
     "source": []
    }
   ],
   "metadata": {}
  }
 ]
}