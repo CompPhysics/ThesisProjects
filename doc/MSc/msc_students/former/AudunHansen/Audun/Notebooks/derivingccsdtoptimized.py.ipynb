{
 "metadata": {
  "name": "derivingccsdtoptimized.py.ipynb"
 },
 "nbformat": 3,
 "nbformat_minor": 0,
 "worksheets": [
  {
   "cells": [
    {
     "cell_type": "markdown",
     "metadata": {},
     "source": [
      "#Deriving the CCSDT equations\n",
      "\n",
      "In this notebook I seek to optimize the code by the use of intermediates, and experiment with ways of letting CCAlgebra decide which factorizations that will be the most beneficial."
     ]
    },
    {
     "cell_type": "code",
     "collapsed": false,
     "input": [
      "from IPython.display import display, Math, Latex \n",
      "%matplotlib inline  \n",
      "%cd 'E:\\Dropbox\\Dropbox\\Master Thesis Audun Skau Hansen\\Pythonscripts'\n",
      "%run CCAlgebra_mk4.py"
     ],
     "language": "python",
     "metadata": {},
     "outputs": [
      {
       "output_type": "stream",
       "stream": "stdout",
       "text": [
        "E:\\Dropbox\\Dropbox\\Master Thesis Audun Skau Hansen\\Pythonscripts\n"
       ]
      }
     ],
     "prompt_number": 15
    },
    {
     "cell_type": "code",
     "collapsed": false,
     "input": [
      "H = normal_ordered_hamiltonian() #Including one- and two-particle interactions\n",
      "T_1 = Operator([],[1,-1])  #The T_1 cluster operator\n",
      "T_2 = Operator([],[1,1,-1,-1]) #The T_2 operator; all lists must be normal ordered\n",
      "T_3 = Operator([],[1,1,1,-1,-1,-1])\n",
      "expT = expand_ansatz([[T_1],[T_2], [T_3]],4)  #Taylor expand a list of lists to the 3rd order"
     ],
     "language": "python",
     "metadata": {},
     "outputs": [],
     "prompt_number": 16
    },
    {
     "cell_type": "code",
     "collapsed": false,
     "input": [
      "tx = combine_to_excitation(H,expT,0, [1,0,0,0])\n",
      "s = \"0 =\"\n",
      "for t in tx:\n",
      "    s += \"+\" + t + \"\\n\"\n",
      "Math(s)"
     ],
     "language": "python",
     "metadata": {},
     "outputs": [
      {
       "latex": [
        "$$0 =+\\frac{1}{1} \\sum_{ck} \\langle k || c \\rangle t_{k}^{c}\n",
        "+\\frac{1}{4} \\sum_{cdkl} \\langle kl || cd \\rangle t_{kl}^{cd}\n",
        "+\\frac{1}{2} \\sum_{ckdl} \\langle kl || cd \\rangle t_{k}^{c} t_{l}^{d}\n",
        "$$"
       ],
       "metadata": {},
       "output_type": "pyout",
       "prompt_number": 17,
       "text": [
        "<IPython.core.display.Math at 0x8113518>"
       ]
      }
     ],
     "prompt_number": 17
    },
    {
     "cell_type": "code",
     "collapsed": false,
     "input": [
      "tx = combine_to_excitation(H,expT,1, [1,0,0,0])\n",
      "s = \"0 =\"\n",
      "for t in tx:\n",
      "    s += \"+\" + t + \"\\n\"\n",
      "Math(s)"
     ],
     "language": "python",
     "metadata": {},
     "outputs": [
      {
       "latex": [
        "$$0 =+\\frac{1}{1} \\sum_{c} \\langle a || c \\rangle t_{i}^{c}\n",
        "+\\frac{-1}{1} \\sum_{k} \\langle k || i \\rangle t_{k}^{a}\n",
        "+\\frac{1}{1} \\sum_{ck} \\langle k || c \\rangle t_{ik}^{ca}\n",
        "+\\frac{1}{1} \\sum_{ck} \\langle k || c \\rangle t_{i}^{c} t_{k}^{a}\n",
        "+\\frac{-1}{1} \\sum_{ck} \\langle ak || ci \\rangle t_{k}^{c}\n",
        "+\\frac{1}{2} \\sum_{cdk} \\langle ak || cd \\rangle t_{ik}^{cd}\n",
        "+\\frac{1}{1} \\sum_{ckd} \\langle ak || cd \\rangle t_{k}^{c} t_{i}^{d}\n",
        "+\\frac{-1}{2} \\sum_{ckl} \\langle kl || ci \\rangle t_{kl}^{ca}\n",
        "+\\frac{-1}{1} \\sum_{ckl} \\langle kl || ci \\rangle t_{k}^{c} t_{l}^{a}\n",
        "+\\frac{1}{4} \\sum_{cdkl} \\langle kl || cd \\rangle t_{ikl}^{cda}\n",
        "+\\frac{1}{1} \\sum_{ckdl} \\langle kl || cd \\rangle t_{k}^{c} t_{il}^{da}\n",
        "+\\frac{1}{2} \\sum_{cdkl} \\langle kl || cd \\rangle t_{i}^{c} t_{kl}^{da}\n",
        "+\\frac{1}{2} \\sum_{kcdl} \\langle kl || cd \\rangle t_{k}^{a} t_{il}^{cd}\n",
        "+\\frac{1}{2} \\sum_{cdkl} \\langle kl || cd \\rangle t_{ik}^{cd} t_{l}^{a}\n",
        "+\\frac{1}{2} \\sum_{ckld} \\langle kl || cd \\rangle t_{kl}^{ca} t_{i}^{d}\n",
        "+\\frac{1}{1} \\sum_{ckdl} \\langle kl || cd \\rangle t_{ik}^{ca} t_{l}^{d}\n",
        "+\\frac{1}{1} \\sum_{ckdl} \\langle kl || cd \\rangle t_{k}^{c} t_{i}^{d} t_{l}^{a}\n",
        "+\\frac{1}{1} \\sum_{ckdl} \\langle kl || cd \\rangle t_{i}^{c} t_{k}^{a} t_{l}^{d}\n",
        "+\\frac{1}{1} \\sum_{kcld} \\langle kl || cd \\rangle t_{k}^{a} t_{l}^{c} t_{i}^{d}\n",
        "$$"
       ],
       "metadata": {},
       "output_type": "pyout",
       "prompt_number": 7,
       "text": [
        "<IPython.core.display.Math at 0x8113208>"
       ]
      }
     ],
     "prompt_number": 7
    },
    {
     "cell_type": "code",
     "collapsed": false,
     "input": [
      "tx = combine_to_excitation(H,expT,2, [1,0,0,0])\n",
      "s = \"0 =\"\n",
      "for t in tx:\n",
      "    s += \"+\" + t + \"\\n\"\n",
      "Math(s)"
     ],
     "language": "python",
     "metadata": {},
     "outputs": [
      {
       "latex": [
        "$$0 =+P(ba)\\frac{-1}{1} \\sum_{c} \\langle a || c \\rangle t_{ij}^{cb}\n",
        "+P(ij)\\frac{1}{1} \\sum_{k} \\langle k || j \\rangle t_{ik}^{ab}\n",
        "+\\frac{1}{1} \\sum_{ck} \\langle k || c \\rangle t_{ijk}^{cab}\n",
        "+P(ij)\\frac{-1}{1} \\sum_{ck} \\langle k || c \\rangle t_{i}^{c} t_{jk}^{ab}\n",
        "+P(ab)\\frac{-1}{1} \\sum_{kc} \\langle k || c \\rangle t_{k}^{a} t_{ij}^{cb}\n",
        "+P(ab)\\frac{-1}{1} \\sum_{ck} \\langle k || c \\rangle t_{ij}^{ca} t_{k}^{b}\n",
        "+P(ij)\\frac{-1}{1} \\sum_{kc} \\langle k || c \\rangle t_{ik}^{ab} t_{j}^{c}\n",
        "+\\frac{1}{2} \\sum_{cd} \\langle ab || cd \\rangle t_{ij}^{cd}\n",
        "+P(ij)\\frac{-1}{2} \\sum_{cd} \\langle ab || cd \\rangle t_{i}^{c} t_{j}^{d}\n",
        "+\\frac{1}{2} \\sum_{kl} \\langle kl || ij \\rangle t_{kl}^{ab}\n",
        "+P(ab)\\frac{-1}{2} \\sum_{kl} \\langle kl || ij \\rangle t_{k}^{a} t_{l}^{b}\n",
        "+P(ba)P(ij)\\frac{-1}{1} \\sum_{ck} \\langle ak || cj \\rangle t_{ik}^{cb}\n",
        "+P(ij)P(ba)\\frac{-1}{1} \\sum_{ck} \\langle ak || cj \\rangle t_{i}^{c} t_{k}^{b}\n",
        "+P(ij)\\frac{1}{1} \\sum_{c} \\langle a || c \\rangle t_{i}^{c}\n",
        "+P(ba)\\frac{-1}{2} \\sum_{cdk} \\langle ak || cd \\rangle t_{ijk}^{cdb}\n",
        "+P(ba)\\frac{-1}{1} \\sum_{ckd} \\langle ak || cd \\rangle t_{k}^{c} t_{ij}^{db}\n",
        "+P(ij)P(ba)\\frac{1}{1} \\sum_{cdk} \\langle ak || cd \\rangle t_{i}^{c} t_{jk}^{db}\n",
        "+P(ab)\\frac{-1}{2} \\sum_{kcd} \\langle kb || cd \\rangle t_{k}^{a} t_{ij}^{cd}\n",
        "+P(ba)\\frac{-1}{2} \\sum_{cdk} \\langle ak || cd \\rangle t_{ij}^{cd} t_{k}^{b}\n",
        "+P(ba)P(ij)\\frac{1}{1} \\sum_{ckd} \\langle ak || cd \\rangle t_{ik}^{cb} t_{j}^{d}\n",
        "+P(ba)\\frac{-1}{1} \\sum_{cdk} \\langle ak || cd \\rangle t_{ij}^{cb} t_{k}^{d}\n",
        "+P(ij)P(ba)\\frac{1}{2} \\sum_{cdk} \\langle ak || cd \\rangle t_{i}^{c} t_{j}^{d} t_{k}^{b}\n",
        "+P(ab)\\frac{-1}{1} \\sum_{k} \\langle k || i \\rangle t_{k}^{a}\n",
        "+P(ij)\\frac{1}{2} \\sum_{ckl} \\langle kl || cj \\rangle t_{ikl}^{cab}\n",
        "+P(ji)\\frac{1}{1} \\sum_{ckl} \\langle kl || ci \\rangle t_{k}^{c} t_{jl}^{ab}\n",
        "+P(ij)\\frac{1}{2} \\sum_{ckl} \\langle kl || cj \\rangle t_{i}^{c} t_{kl}^{ab}\n",
        "+P(ab)P(ji)\\frac{-1}{1} \\sum_{kcl} \\langle kl || ic \\rangle t_{k}^{a} t_{jl}^{cb}\n",
        "+P(ab)P(ij)\\frac{-1}{1} \\sum_{ckl} \\langle kl || cj \\rangle t_{ik}^{ca} t_{l}^{b}\n",
        "+P(ji)\\frac{1}{2} \\sum_{klc} \\langle kl || ic \\rangle t_{kl}^{ab} t_{j}^{c}\n",
        "+P(ij)\\frac{1}{1} \\sum_{kcl} \\langle kl || jc \\rangle t_{ik}^{ab} t_{l}^{c}\n",
        "+P(ij)P(ab)\\frac{-1}{2} \\sum_{ckl} \\langle kl || cj \\rangle t_{i}^{c} t_{k}^{a} t_{l}^{b}\n",
        "+\\frac{1}{1} \\sum_{ckdl} \\langle kl || cd \\rangle t_{k}^{c} t_{ijl}^{dab}\n",
        "+P(ij)\\frac{-1}{2} \\sum_{cdkl} \\langle kl || cd \\rangle t_{i}^{c} t_{jkl}^{dab}\n",
        "+P(ab)\\frac{-1}{2} \\sum_{kcdl} \\langle kl || cd \\rangle t_{k}^{a} t_{ijl}^{cdb}\n",
        "+P(ij)\\frac{-1}{2} \\sum_{cdkl} \\langle kl || cd \\rangle t_{ik}^{cd} t_{jl}^{ab}\n",
        "+\\frac{1}{4} \\sum_{cdkl} \\langle kl || cd \\rangle t_{ij}^{cd} t_{kl}^{ab}\n",
        "+P(ab)\\frac{-1}{2} \\sum_{ckld} \\langle kl || cd \\rangle t_{kl}^{ca} t_{ij}^{db}\n",
        "+P(ab)P(ij)\\frac{1}{2} \\sum_{ckdl} \\langle kl || cd \\rangle t_{ik}^{ca} t_{jl}^{db}\n",
        "+P(ab)\\frac{-1}{2} \\sum_{cdkl} \\langle kl || cd \\rangle t_{ijk}^{cda} t_{l}^{b}\n",
        "+P(ij)\\frac{-1}{2} \\sum_{ckld} \\langle kl || cd \\rangle t_{ikl}^{cab} t_{j}^{d}\n",
        "+\\frac{1}{1} \\sum_{ckdl} \\langle kl || cd \\rangle t_{ijk}^{cab} t_{l}^{d}\n",
        "+P(ij)\\frac{-1}{1} \\sum_{ckdl} \\langle kl || cd \\rangle t_{k}^{c} t_{i}^{d} t_{jl}^{ab}\n",
        "+P(ab)\\frac{-1}{1} \\sum_{ckld} \\langle kl || cd \\rangle t_{k}^{c} t_{l}^{a} t_{ij}^{db}\n",
        "+P(ij)\\frac{-1}{4} \\sum_{cdkl} \\langle kl || cd \\rangle t_{i}^{c} t_{j}^{d} t_{kl}^{ab}\n",
        "+P(ij)P(ab)\\frac{1}{1} \\sum_{ckdl} \\langle kl || cd \\rangle t_{i}^{c} t_{k}^{a} t_{jl}^{db}\n",
        "+P(ab)\\frac{-1}{4} \\sum_{klcd} \\langle kl || cd \\rangle t_{k}^{a} t_{l}^{b} t_{ij}^{cd}\n",
        "+P(ab)\\frac{-1}{1} \\sum_{ckdl} \\langle kl || cd \\rangle t_{k}^{c} t_{ij}^{da} t_{l}^{b}\n",
        "+P(ij)\\frac{-1}{1} \\sum_{ckld} \\langle kl || cd \\rangle t_{k}^{c} t_{il}^{ab} t_{j}^{d}\n",
        "+P(ij)P(ab)\\frac{1}{1} \\sum_{cdkl} \\langle kl || cd \\rangle t_{i}^{c} t_{jk}^{da} t_{l}^{b}\n",
        "+P(ij)\\frac{-1}{4} \\sum_{ckld} \\langle kl || cd \\rangle t_{i}^{c} t_{kl}^{ab} t_{j}^{d}\n",
        "+P(ab)\\frac{-1}{4} \\sum_{kcdl} \\langle kl || cd \\rangle t_{k}^{a} t_{ij}^{cd} t_{l}^{b}\n",
        "+P(ab)\\frac{-1}{4} \\sum_{cdkl} \\langle kl || cd \\rangle t_{ij}^{cd} t_{k}^{a} t_{l}^{b}\n",
        "+P(ab)P(ij)\\frac{1}{1} \\sum_{ckdl} \\langle kl || cd \\rangle t_{ik}^{ca} t_{j}^{d} t_{l}^{b}\n",
        "+P(ab)\\frac{-1}{1} \\sum_{cdkl} \\langle kl || cd \\rangle t_{ij}^{ca} t_{k}^{d} t_{l}^{b}\n",
        "+P(ij)\\frac{-1}{4} \\sum_{klcd} \\langle kl || cd \\rangle t_{kl}^{ab} t_{i}^{c} t_{j}^{d}\n",
        "+P(ij)\\frac{-1}{1} \\sum_{kcld} \\langle kl || cd \\rangle t_{ik}^{ab} t_{l}^{c} t_{j}^{d}\n",
        "+P(ij)P(ab)\\frac{1}{4} \\sum_{cdkl} \\langle kl || cd \\rangle t_{i}^{c} t_{j}^{d} t_{k}^{a} t_{l}^{b}\n",
        "+P(ab)P(ij)\\frac{1}{4} \\sum_{klcd} \\langle kl || cd \\rangle t_{k}^{a} t_{l}^{b} t_{i}^{c} t_{j}^{d}\n",
        "$$"
       ],
       "metadata": {},
       "output_type": "pyout",
       "prompt_number": 8,
       "text": [
        "<IPython.core.display.Math at 0x7d161d0>"
       ]
      }
     ],
     "prompt_number": 8
    },
    {
     "cell_type": "code",
     "collapsed": false,
     "input": [
      "tx = combine_to_excitation(H,expT,3, [1,0,0,0])\n",
      "s = \"0 =\"\n",
      "for t in tx:\n",
      "    s += \"+\" + t + \"\\n\"\n",
      "Math(s)"
     ],
     "language": "python",
     "metadata": {},
     "outputs": [
      {
       "latex": [
        "$$0 =+P(ba)P(za)\\frac{1}{1} \\sum_{c} \\langle a || c \\rangle t_{ijw}^{cbz}\n",
        "+P(iw)P(jw)\\frac{-1}{1} \\sum_{k} \\langle k || w \\rangle t_{ijk}^{abz}\n",
        "+P(ij)P(iw)\\frac{1}{1} \\sum_{ck} \\langle k || c \\rangle t_{i}^{c} t_{jwk}^{abz}\n",
        "+P(ab)P(az)\\frac{1}{1} \\sum_{kc} \\langle k || c \\rangle t_{k}^{a} t_{ijw}^{cbz}\n",
        "+P(ab)P(az)P(iw)P(jw)\\frac{1}{1} \\sum_{ck} \\langle k || c \\rangle t_{ij}^{ca} t_{wk}^{bz}\n",
        "+P(az)P(bz)\\frac{1}{1} \\sum_{ck} \\langle k || c \\rangle t_{ijw}^{cab} t_{k}^{z}\n",
        "+P(iw)P(jw)\\frac{1}{1} \\sum_{kc} \\langle k || c \\rangle t_{ijk}^{abz} t_{w}^{c}\n",
        "+P(za)P(zb)\\frac{1}{2} \\sum_{cd} \\langle ab || cd \\rangle t_{ijw}^{cdz}\n",
        "+P(ij)P(iw)P(za)P(zb)\\frac{1}{1} \\sum_{cd} \\langle ab || cd \\rangle t_{i}^{c} t_{jw}^{dz}\n",
        "+P(ba)P(bz)P(iw)P(jw)\\frac{1}{1} \\sum_{cd} \\langle az || cd \\rangle t_{ij}^{cb} t_{w}^{d}\n",
        "+P(iw)P(ij)\\frac{1}{2} \\sum_{kl} \\langle kl || jw \\rangle t_{ikl}^{abz}\n",
        "+P(ab)P(az)P(ji)P(jw)\\frac{1}{1} \\sum_{kl} \\langle kl || iw \\rangle t_{k}^{a} t_{jl}^{bz}\n",
        "+P(az)P(bz)P(ij)P(iw)\\frac{1}{1} \\sum_{kl} \\langle kl || jw \\rangle t_{ik}^{ab} t_{l}^{z}\n",
        "+P(ba)P(za)P(iw)P(jw)\\frac{-1}{1} \\sum_{ck} \\langle ak || cw \\rangle t_{ijk}^{cbz}\n",
        "+P(ij)P(iw)P(ba)P(za)P(jw)\\frac{1}{1} \\sum_{ck} \\langle ak || cw \\rangle t_{i}^{c} t_{jk}^{bz}\n",
        "+P(az)P(ab)P(zb)P(ji)P(wi)\\frac{1}{1} \\sum_{kc} \\langle kb || ic \\rangle t_{k}^{a} t_{jw}^{cz}\n",
        "+P(bz)P(ba)P(iw)P(jw)P(za)\\frac{1}{1} \\sum_{ck} \\langle ak || cw \\rangle t_{ij}^{cb} t_{k}^{z}\n",
        "+P(az)P(bz)P(iw)P(ij)P(wj)\\frac{1}{1} \\sum_{kc} \\langle kz || jc \\rangle t_{ik}^{ab} t_{w}^{c}\n",
        "+P(ba)P(bz)P(iw)P(jw)\\frac{-1}{1} \\sum_{c} \\langle a || c \\rangle t_{ij}^{cb}\n",
        "+P(ba)P(za)\\frac{1}{1} \\sum_{ckd} \\langle ak || cd \\rangle t_{k}^{c} t_{ijw}^{dbz}\n",
        "+P(ij)P(iw)P(ba)P(za)\\frac{1}{1} \\sum_{cdk} \\langle ak || cd \\rangle t_{i}^{c} t_{jwk}^{dbz}\n",
        "+P(az)P(ab)P(zb)\\frac{-1}{2} \\sum_{kcd} \\langle kb || cd \\rangle t_{k}^{a} t_{ijw}^{cdz}\n",
        "+P(iw)P(jw)P(ba)P(za)\\frac{1}{2} \\sum_{cdk} \\langle ak || cd \\rangle t_{ij}^{cd} t_{wk}^{bz}\n",
        "+P(bz)P(ba)P(ij)P(iw)P(za)\\frac{-1}{1} \\sum_{ckd} \\langle ak || cd \\rangle t_{ik}^{cb} t_{jw}^{dz}\n",
        "+P(bz)P(ba)P(za)\\frac{-1}{2} \\sum_{cdk} \\langle ak || cd \\rangle t_{ijw}^{cdb} t_{k}^{z}\n",
        "+P(ba)P(za)P(iw)P(jw)\\frac{1}{1} \\sum_{ckd} \\langle ak || cd \\rangle t_{ijk}^{cbz} t_{w}^{d}\n",
        "+P(ba)P(za)\\frac{1}{1} \\sum_{cdk} \\langle ak || cd \\rangle t_{ijw}^{cbz} t_{k}^{d}\n",
        "+P(ij)P(iw)P(jw)P(ba)P(za)\\frac{-1}{2} \\sum_{cdk} \\langle ak || cd \\rangle t_{i}^{c} t_{j}^{d} t_{wk}^{bz}\n",
        "+P(ij)P(iw)P(bz)P(ba)P(za)\\frac{-1}{1} \\sum_{ckd} \\langle ak || cd \\rangle t_{i}^{c} t_{k}^{b} t_{jw}^{dz}\n",
        "+P(ij)P(iw)P(bz)P(ba)P(za)\\frac{-1}{1} \\sum_{cdk} \\langle ak || cd \\rangle t_{i}^{c} t_{jw}^{db} t_{k}^{z}\n",
        "+P(ij)P(iw)P(ba)P(za)P(jw)\\frac{-1}{2} \\sum_{ckd} \\langle ak || cd \\rangle t_{i}^{c} t_{jk}^{bz} t_{w}^{d}\n",
        "+P(bz)P(ba)P(iw)P(jw)P(za)\\frac{-1}{1} \\sum_{cdk} \\langle ak || cd \\rangle t_{ij}^{cb} t_{w}^{d} t_{k}^{z}\n",
        "+P(az)P(bz)P(ij)P(iw)P(jw)\\frac{-1}{2} \\sum_{kcd} \\langle kz || cd \\rangle t_{ik}^{ab} t_{j}^{c} t_{w}^{d}\n",
        "+P(az)P(bz)P(ij)P(iw)\\frac{1}{1} \\sum_{k} \\langle k || j \\rangle t_{ik}^{ab}\n",
        "+P(ji)P(wi)\\frac{-1}{1} \\sum_{ckl} \\langle kl || ci \\rangle t_{k}^{c} t_{jwl}^{abz}\n",
        "+P(ij)P(iw)P(jw)\\frac{1}{2} \\sum_{ckl} \\langle kl || cw \\rangle t_{i}^{c} t_{jkl}^{abz}\n",
        "+P(ab)P(az)P(ji)P(wi)\\frac{-1}{1} \\sum_{kcl} \\langle kl || ic \\rangle t_{k}^{a} t_{jwl}^{cbz}\n",
        "+P(ab)P(az)P(iw)P(ij)P(wj)\\frac{1}{1} \\sum_{ckl} \\langle kl || cj \\rangle t_{ik}^{ca} t_{wl}^{bz}\n",
        "+P(ab)P(az)P(iw)P(jw)\\frac{-1}{2} \\sum_{ckl} \\langle kl || cw \\rangle t_{ij}^{ca} t_{kl}^{bz}\n",
        "+P(az)P(bz)P(iw)P(jw)\\frac{-1}{1} \\sum_{ckl} \\langle kl || cw \\rangle t_{ijk}^{cab} t_{l}^{z}\n",
        "+P(iw)P(ij)P(wj)\\frac{1}{2} \\sum_{klc} \\langle kl || jc \\rangle t_{ikl}^{abz} t_{w}^{c}\n",
        "+P(iw)P(jw)\\frac{-1}{1} \\sum_{kcl} \\langle kl || wc \\rangle t_{ijk}^{abz} t_{l}^{c}\n",
        "+P(iw)P(ij)P(ab)P(az)P(wj)\\frac{1}{1} \\sum_{ckl} \\langle kl || cj \\rangle t_{i}^{c} t_{k}^{a} t_{wl}^{bz}\n",
        "+P(ab)P(az)P(bz)P(ji)P(wi)\\frac{1}{2} \\sum_{klc} \\langle kl || ic \\rangle t_{k}^{a} t_{l}^{b} t_{jw}^{cz}\n",
        "+P(ij)P(iw)P(az)P(bz)P(jw)\\frac{1}{1} \\sum_{ckl} \\langle kl || cw \\rangle t_{i}^{c} t_{jk}^{ab} t_{l}^{z}\n",
        "+P(ab)P(az)P(bz)P(ji)P(wi)\\frac{1}{2} \\sum_{kcl} \\langle kl || ic \\rangle t_{k}^{a} t_{jw}^{cb} t_{l}^{z}\n",
        "+P(ab)P(az)P(iw)P(jw)P(bz)\\frac{1}{2} \\sum_{ckl} \\langle kl || cw \\rangle t_{ij}^{ca} t_{k}^{b} t_{l}^{z}\n",
        "+P(az)P(bz)P(iw)P(ij)P(wj)\\frac{1}{1} \\sum_{kcl} \\langle kl || jc \\rangle t_{ik}^{ab} t_{w}^{c} t_{l}^{z}\n",
        "+P(ij)P(iw)\\frac{1}{2} \\sum_{cdkl} \\langle kl || cd \\rangle t_{ik}^{cd} t_{jwl}^{abz}\n",
        "+P(iw)P(jw)\\frac{1}{4} \\sum_{cdkl} \\langle kl || cd \\rangle t_{ij}^{cd} t_{wkl}^{abz}\n",
        "+P(ab)P(az)\\frac{1}{2} \\sum_{ckld} \\langle kl || cd \\rangle t_{kl}^{ca} t_{ijw}^{dbz}\n",
        "+P(ab)P(az)P(ij)P(iw)\\frac{1}{1} \\sum_{ckdl} \\langle kl || cd \\rangle t_{ik}^{ca} t_{jwl}^{dbz}\n",
        "+P(ab)P(az)P(iw)P(jw)\\frac{1}{2} \\sum_{cdkl} \\langle kl || cd \\rangle t_{ij}^{ca} t_{wkl}^{dbz}\n",
        "+P(az)P(bz)\\frac{1}{4} \\sum_{klcd} \\langle kl || cd \\rangle t_{kl}^{ab} t_{ijw}^{cdz}\n",
        "+P(az)P(bz)P(ij)P(iw)\\frac{1}{2} \\sum_{kcdl} \\langle kl || cd \\rangle t_{ik}^{ab} t_{jwl}^{cdz}\n",
        "+P(ab)P(az)P(iw)P(jw)\\frac{1}{2} \\sum_{cdkl} \\langle kl || cd \\rangle t_{ijk}^{cda} t_{wl}^{bz}\n",
        "+P(ab)P(az)\\frac{1}{4} \\sum_{cdkl} \\langle kl || cd \\rangle t_{ijw}^{cda} t_{kl}^{bz}\n",
        "+P(az)P(bz)P(ij)P(iw)\\frac{1}{2} \\sum_{ckld} \\langle kl || cd \\rangle t_{ikl}^{cab} t_{jw}^{dz}\n",
        "+P(az)P(bz)P(iw)P(jw)\\frac{1}{1} \\sum_{ckdl} \\langle kl || cd \\rangle t_{ijk}^{cab} t_{wl}^{dz}\n",
        "+P(az)P(bz)\\frac{1}{2} \\sum_{cdkl} \\langle kl || cd \\rangle t_{ijw}^{cab} t_{kl}^{dz}\n",
        "+P(ij)P(iw)\\frac{1}{4} \\sum_{klcd} \\langle kl || cd \\rangle t_{ikl}^{abz} t_{jw}^{cd}\n",
        "+P(iw)P(jw)\\frac{1}{2} \\sum_{kcdl} \\langle kl || cd \\rangle t_{ijk}^{abz} t_{wl}^{cd}\n",
        "+P(ij)P(iw)\\frac{1}{1} \\sum_{ckdl} \\langle kl || cd \\rangle t_{k}^{c} t_{i}^{d} t_{jwl}^{abz}\n",
        "+P(ab)P(az)\\frac{1}{1} \\sum_{ckld} \\langle kl || cd \\rangle t_{k}^{c} t_{l}^{a} t_{ijw}^{dbz}\n",
        "+P(ij)P(iw)P(jw)\\frac{-1}{4} \\sum_{cdkl} \\langle kl || cd \\rangle t_{i}^{c} t_{j}^{d} t_{wkl}^{abz}\n",
        "+P(ij)P(iw)P(ab)P(az)\\frac{1}{1} \\sum_{ckdl} \\langle kl || cd \\rangle t_{i}^{c} t_{k}^{a} t_{jwl}^{dbz}\n",
        "+P(ab)P(az)P(bz)\\frac{-1}{4} \\sum_{klcd} \\langle kl || cd \\rangle t_{k}^{a} t_{l}^{b} t_{ijw}^{cdz}\n",
        "+P(ab)P(az)P(iw)P(jw)\\frac{1}{1} \\sum_{ckdl} \\langle kl || cd \\rangle t_{k}^{c} t_{ij}^{da} t_{wl}^{bz}\n",
        "+P(ij)P(iw)P(ab)P(az)P(jw)\\frac{-1}{1} \\sum_{cdkl} \\langle kl || cd \\rangle t_{i}^{c} t_{jk}^{da} t_{wl}^{bz}\n",
        "+P(ij)P(iw)P(ab)P(az)\\frac{1}{2} \\sum_{cdkl} \\langle kl || cd \\rangle t_{i}^{c} t_{jw}^{da} t_{kl}^{bz}\n",
        "+P(ab)P(az)P(iw)P(jw)\\frac{1}{2} \\sum_{kcdl} \\langle kl || cd \\rangle t_{k}^{a} t_{ij}^{cd} t_{wl}^{bz}\n",
        "+P(ab)P(az)P(bz)P(ij)P(iw)\\frac{-1}{1} \\sum_{kcld} \\langle kl || cd \\rangle t_{k}^{a} t_{il}^{cb} t_{jw}^{dz}\n",
        "+P(az)P(bz)\\frac{1}{1} \\sum_{ckdl} \\langle kl || cd \\rangle t_{k}^{c} t_{ijw}^{dab} t_{l}^{z}\n",
        "+P(iw)P(jw)\\frac{1}{1} \\sum_{ckld} \\langle kl || cd \\rangle t_{k}^{c} t_{ijl}^{abz} t_{w}^{d}\n",
        "+P(ij)P(iw)P(az)P(bz)\\frac{1}{1} \\sum_{cdkl} \\langle kl || cd \\rangle t_{i}^{c} t_{jwk}^{dab} t_{l}^{z}\n",
        "+P(ij)P(iw)P(jw)\\frac{-1}{4} \\sum_{ckld} \\langle kl || cd \\rangle t_{i}^{c} t_{jkl}^{abz} t_{w}^{d}\n",
        "+P(ab)P(az)P(bz)\\frac{-1}{4} \\sum_{kcdl} \\langle kl || cd \\rangle t_{k}^{a} t_{ijw}^{cdb} t_{l}^{z}\n",
        "+P(iw)P(jw)P(ab)P(az)\\frac{1}{2} \\sum_{cdkl} \\langle kl || cd \\rangle t_{ij}^{cd} t_{k}^{a} t_{wl}^{bz}\n",
        "+P(ab)P(az)P(ij)P(iw)P(jw)\\frac{-1}{1} \\sum_{ckdl} \\langle kl || cd \\rangle t_{ik}^{ca} t_{j}^{d} t_{wl}^{bz}\n",
        "+P(ab)P(az)P(ij)P(iw)P(bz)\\frac{-1}{1} \\sum_{ckld} \\langle kl || cd \\rangle t_{ik}^{ca} t_{l}^{b} t_{jw}^{dz}\n",
        "+P(ab)P(az)P(iw)P(jw)\\frac{1}{1} \\sum_{cdkl} \\langle kl || cd \\rangle t_{ij}^{ca} t_{k}^{d} t_{wl}^{bz}\n",
        "+P(ab)P(az)P(iw)P(jw)\\frac{1}{2} \\sum_{cdkl} \\langle kl || cd \\rangle t_{ij}^{ca} t_{w}^{d} t_{kl}^{bz}\n",
        "+P(iw)P(jw)P(az)P(bz)\\frac{1}{2} \\sum_{cdkl} \\langle kl || cd \\rangle t_{ij}^{cd} t_{wk}^{ab} t_{l}^{z}\n",
        "+P(ab)P(az)P(ij)P(iw)P(bz)\\frac{-1}{1} \\sum_{ckdl} \\langle kl || cd \\rangle t_{ik}^{ca} t_{jw}^{db} t_{l}^{z}\n",
        "+P(ab)P(az)P(ij)P(iw)P(jw)\\frac{-1}{1} \\sum_{ckld} \\langle kl || cd \\rangle t_{ik}^{ca} t_{jl}^{bz} t_{w}^{d}\n",
        "+P(ab)P(az)P(iw)P(jw)\\frac{1}{2} \\sum_{ckld} \\langle kl || cd \\rangle t_{ij}^{ca} t_{kl}^{bz} t_{w}^{d}\n",
        "+P(ab)P(az)P(iw)P(jw)\\frac{1}{1} \\sum_{ckdl} \\langle kl || cd \\rangle t_{ij}^{ca} t_{wk}^{bz} t_{l}^{d}\n",
        "+P(ab)P(az)P(bz)\\frac{-1}{4} \\sum_{cdkl} \\langle kl || cd \\rangle t_{ijw}^{cda} t_{k}^{b} t_{l}^{z}\n",
        "+P(az)P(bz)P(iw)P(jw)\\frac{1}{1} \\sum_{ckdl} \\langle kl || cd \\rangle t_{ijk}^{cab} t_{w}^{d} t_{l}^{z}\n",
        "+P(az)P(bz)\\frac{1}{1} \\sum_{cdkl} \\langle kl || cd \\rangle t_{ijw}^{cab} t_{k}^{d} t_{l}^{z}\n",
        "+P(ij)P(iw)P(jw)\\frac{-1}{4} \\sum_{klcd} \\langle kl || cd \\rangle t_{ikl}^{abz} t_{j}^{c} t_{w}^{d}\n",
        "+P(iw)P(jw)\\frac{1}{1} \\sum_{kcld} \\langle kl || cd \\rangle t_{ijk}^{abz} t_{l}^{c} t_{w}^{d}\n",
        "+P(ij)P(iw)P(jw)P(ab)P(az)\\frac{-1}{2} \\sum_{cdkl} \\langle kl || cd \\rangle t_{i}^{c} t_{j}^{d} t_{k}^{a} t_{wl}^{bz}\n",
        "+P(ij)P(iw)P(ab)P(az)P(bz)\\frac{-1}{2} \\sum_{ckld} \\langle kl || cd \\rangle t_{i}^{c} t_{k}^{a} t_{l}^{b} t_{jw}^{dz}\n",
        "+P(ij)P(iw)P(jw)P(az)P(bz)\\frac{-1}{2} \\sum_{cdkl} \\langle kl || cd \\rangle t_{i}^{c} t_{j}^{d} t_{wk}^{ab} t_{l}^{z}\n",
        "+P(ij)P(iw)P(ab)P(az)P(bz)\\frac{-1}{2} \\sum_{ckdl} \\langle kl || cd \\rangle t_{i}^{c} t_{k}^{a} t_{jw}^{db} t_{l}^{z}\n",
        "+P(ij)P(iw)P(ab)P(az)P(bz)\\frac{-1}{2} \\sum_{cdkl} \\langle kl || cd \\rangle t_{i}^{c} t_{jw}^{da} t_{k}^{b} t_{l}^{z}\n",
        "+P(ij)P(iw)P(az)P(bz)P(jw)\\frac{-1}{2} \\sum_{ckdl} \\langle kl || cd \\rangle t_{i}^{c} t_{jk}^{ab} t_{w}^{d} t_{l}^{z}\n",
        "+P(ab)P(az)P(iw)P(jw)P(bz)\\frac{-1}{2} \\sum_{cdkl} \\langle kl || cd \\rangle t_{ij}^{ca} t_{w}^{d} t_{k}^{b} t_{l}^{z}\n",
        "+P(az)P(bz)P(ij)P(iw)P(jw)\\frac{-1}{2} \\sum_{kcdl} \\langle kl || cd \\rangle t_{ik}^{ab} t_{j}^{c} t_{w}^{d} t_{l}^{z}\n",
        "$$"
       ],
       "metadata": {},
       "output_type": "pyout",
       "prompt_number": 6,
       "text": [
        "<IPython.core.display.Math at 0x7d0f198>"
       ]
      }
     ],
     "prompt_number": 6
    },
    {
     "cell_type": "code",
     "collapsed": false,
     "input": [],
     "language": "python",
     "metadata": {},
     "outputs": []
    }
   ],
   "metadata": {}
  }
 ]
}