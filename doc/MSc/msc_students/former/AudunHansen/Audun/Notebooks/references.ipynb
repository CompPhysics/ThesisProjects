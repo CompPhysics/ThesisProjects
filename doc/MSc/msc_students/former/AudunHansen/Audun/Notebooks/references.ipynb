{
 "metadata": {
  "name": "references.ipynb"
 },
 "nbformat": 3,
 "nbformat_minor": 0,
 "worksheets": [
  {
   "cells": [
    {
     "cell_type": "markdown",
     "metadata": {},
     "source": [
      "#The electron gas\n",
      "## References (obtained from G.Baardsens Doctoral Thesis)\n",
      "\n",
      "The Ewald summation technique for periodic boundary conditions\n",
      "\n",
      "- P. P. Ewald. Ann. Phys. (Leipzig), 369:253, 1921.\n",
      "\n",
      "- L. M. Fraser, W. M. C. Foulkes, G. Rajagopal, R. J. Needs, S. D. Kenny, and A. J. Williamson. Phys. Rev. B, 53:1814, 1996.\n",
      "\n",
      "Summations in fourier space, and electron-electron interaction\n",
      "\n",
      "- N. D. Drummond, R. J. Needs, A. Sorouri, and W. M. C. Foulkes. Phys. Rev. B, 78:125106, 2008.\n",
      "\n",
      "\n"
     ]
    },
    {
     "cell_type": "markdown",
     "metadata": {},
     "source": [
      "##Physical variables\n",
      "\n",
      "###The Wigner-Seitz radius $r_s$\n",
      "\n",
      "This quantity is defined as the radius of the sphere that contains the volume per particle of the system\n",
      "\n",
      "$$ \\frac{\\Omega}{N} = \\frac{4\\pi}{3} r_s^3 $$\n",
      "\n",
      "Reference: Gross, Runge, Heinonen; *\"Many Particle Theory\"* (p. 83)"
     ]
    },
    {
     "cell_type": "code",
     "collapsed": false,
     "input": [],
     "language": "python",
     "metadata": {},
     "outputs": []
    }
   ],
   "metadata": {}
  }
 ]
}