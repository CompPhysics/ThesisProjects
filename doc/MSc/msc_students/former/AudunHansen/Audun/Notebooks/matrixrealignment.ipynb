{
 "metadata": {
  "name": "",
  "signature": "sha256:09415933e6ee27897fc5f21f1ac39958faa12994826a30e2d230f4254f49f823"
 },
 "nbformat": 3,
 "nbformat_minor": 0,
 "worksheets": [
  {
   "cells": [
    {
     "cell_type": "markdown",
     "metadata": {},
     "source": [
      "#Flexible matrix realignment"
     ]
    },
    {
     "cell_type": "markdown",
     "metadata": {},
     "source": [
      "In this document, we will discuss a convenient (and hopefully efficient) way of realigning the matrix elements of the different tensors entering the CCD amplitude equation, so that all diagrams may be calculated by matrix multiplication.\n",
      "\n",
      "In its current implementations (in python/numpy and c++/armadillo), I utilize sparse matrices to store all elements. This has some advantage when it comes to memory consumption, since only nonzero elements are stored. The current drawback seems to be the efficiency of matrix multiplications, since this process consumes notably more time for sparse matrices than the block diagonalization approach. This is due to the way the elements are stored.\n",
      "\n"
     ]
    },
    {
     "cell_type": "markdown",
     "metadata": {},
     "source": [
      "#The CCD amplitude equation\n",
      "\n",
      "The T2 amplitude for the CCD truncation is"
     ]
    },
    {
     "cell_type": "markdown",
     "metadata": {},
     "source": [
      "$$ t^{ab}_{ij} \\epsilon^{ab}_{ij} = \\langle ab \\vert \\vert ij\\rangle + \\frac{1}{2} \\sum_{cd} \\langle ab \\vert \\vert cd \\rangle t^{cd}_{ij} + \\frac{1}{2} \\sum_{kl} \\langle kl \\vert \\vert ij \\rangle t^{ab}_{kl} + \\hat{P}(ij \\vert ab) \\sum_{kc} \\langle kb \\vert \\vert cj \\rangle t^{ac}_{ik} + \\frac{1}{4} \\sum_{klcd} \\langle kl \\vert \\vert cd \\rangle t^{cd}_{ij} t^{ab}_{kl} + \\hat{P}(ij) \\sum_{klcd} \\langle kl \\vert \\vert cd \\rangle t^{ac}_{ik} t^{bd}_{jl} - \\frac{1}{2} \\hat{P}(ij) \\sum_{klcd} \\langle kl \\vert \\vert cd \\rangle t^{dc}_{ik} t^{ab}_{lj} - \\frac{1}{2} \\hat{P}(ab)\\sum_{klcd}\\langle kl \\vert \\vert cd \\rangle t^{ac}_{lk} t^{db}_{ij} $$"
     ]
    },
    {
     "cell_type": "markdown",
     "metadata": {},
     "source": [
      "This equation is commonly solved iteratively by guessing some initial amplitude, typically the ones corresponding to the MBPT(2) energy, then solving for the RHS to yield the new approximation. The iterative process is halted when some convergence criteria is fulfilled, possibly when the change in amplitudes between the iterations subpasses some threshold or when the resulting energy converges towards some value.\n",
      "\n"
     ]
    },
    {
     "cell_type": "markdown",
     "metadata": {},
     "source": [
      "The structure of this equation motivates a subdivision into *linear* and *quadratic* terms in order of the unknown amplitudes $t^{ab}_{ij}$.\n",
      "\n",
      "By denoting linear terms by $L_n$ and quadratic terms by $Q_n$, we may then express the equation as"
     ]
    },
    {
     "cell_type": "markdown",
     "metadata": {},
     "source": [
      "$$ t^{ab}_{ij} \\epsilon^{ab}_{ij} = L_1(t^{ab}_{ij}) + L_2(t^{ab}_{ij}) + L_3(t^{ab}_{ij}) + Q_1(t^{ab}_{ij}) + Q_2(t^{ab}_{ij}) + Q_3(t^{ab}_{ij}) + Q_4(t^{ab}_{ij}) $$"
     ]
    },
    {
     "cell_type": "markdown",
     "metadata": {},
     "source": [
      "Each term on the RHS above corresponds to a one of the diagram formed by contracting the similarity transformed hamiltonian with the exponential ansatz. \n",
      "\n",
      "In the following sections, we will discuss how these terms may be calculated as matrix multiplications."
     ]
    },
    {
     "cell_type": "markdown",
     "metadata": {},
     "source": [
      "#Setting up the matrices\n",
      "\n",
      "Every factor in the terms above is a tensor of rank 4. To utilize the advantages of matrix multiplications, we need to represent these tensors as matrices (tensors of rank 2). In effect, we need a unambiguous mapping from rank 4 to rank 2.\n",
      "\n",
      "One very straightforward such mapping is derived by considering the indexes and their associated length;\n",
      "\n",
      "$$ p = [0,1,2,3, ..., N_p] $$\n",
      "\n",
      "A matrix will have only two indices, so we then map the amplitudes and interactions onto matrices by for example\n",
      "\n",
      "$$ \\langle pq || rs \\rangle = \\langle p + q N_p || r + s  N_r \\rangle $$\n",
      "\n",
      "Now we have the rows of the matrix contained in the bra part of the RHS above, and the columns is contained in the ket. \n",
      "\n",
      "---\n",
      "\n",
      "##Example usage\n",
      "\n",
      "Since a high accuracy calculation will involve a large number of particle states, the L1 term is computationally expensive (it is a sum over particle states). A naive implementation will typically consist of four nested for-loops (for a,b,c,d), and will require a lot of flops. \n",
      "\n",
      "If we instead map it onto matrices, so that\n",
      "\n",
      "$$\\sum_{cd} \\langle ab \\vert \\vert cd \\rangle t^{cd}_{ij} = \\sum_{cd} \\langle a+ bN_a \\vert \\vert c+dN_c \\rangle t^{c+dN_c}_{i+jN_i} = \\sum_{\\gamma} \\langle \\alpha \\vert \\vert \\gamma \\rangle t^{\\gamma}_{\\beta}$$\n",
      "\n",
      "We easily see that the whole diagram may be calculated as a matrix multiplication\n",
      "\n",
      "$$L_1 = V^{\\alpha}_\\gamma * T^\\gamma_\\beta$$ \n",
      "\n"
     ]
    },
    {
     "cell_type": "markdown",
     "metadata": {},
     "source": [
      "#Flexible indexing\n",
      "\n",
      "Because of the occurances of indices in the contributions $L_1, L_2$ and $Q_1$, these diagrams are especially straighforward to set up as matrix multiplications. In the remaining diagrams, we will need to realign the matrix elemenent before the multiplication is performed.\n",
      "\n",
      "In the following we will utilize the following matrix notation:\n",
      "\n",
      "$$t^{cd}_{ij} \\equiv | cd \\rangle T \\langle ij |$$\n",
      "\n",
      "The $L_1$ term is then calculated as \n",
      "\n",
      "$$L_1 = (| a + bN_a\\rangle V \\langle c + dN_c | )( | c + dN_c \\rangle T \\langle i + jN_i|) $$\n",
      "\n",
      "The alignment problem is related to diagrams where indices does not occur in corresponding bra and kets as for $L_1$ above. For example, we have for the $L_3$ term (prefactors and permutations left out)\n",
      "\n",
      "$$L_3 = \\sum_{kc} \\langle kb \\vert \\vert cj \\rangle t^{ac}_{ik} $$\n",
      "\n",
      "To set up a matrix for V and T, we need the indices $k$ and $c$ to coincide in the bra and ket of V and T respectively. In effect, we want\n",
      "\n",
      "$$\\tilde{L}_3 =   (| b + jN_b\\rangle V \\langle k + cN_k | )( | k + cN_k \\rangle T \\langle a + iN_a|) $$\n",
      "\n",
      "Where the indices of $\\tilde{L}_3$ does not align with the indices of $L_3$, but since the elements are the same we only need to perform a simple realignment back to the original column- and row indexing. \n",
      "\n",
      "$$\\tilde{L}_3 \\rightarrow L_3$$\n",
      "\n",
      "The process is maybe most easily understood as a *generalized transpose* for tensors with $rank>2$. "
     ]
    },
    {
     "cell_type": "markdown",
     "metadata": {},
     "source": [
      "#Subdivision of the interaction matrix\n",
      "\n",
      "As may be seen from the CCD equation, only certain elements from the interaction matrix actually enters the calculation.\n",
      "\n",
      "This makes it convenient to subdivide the interaction matrix into blocks in\n",
      "\n",
      "$$V^{pp}_{pp}$$\n",
      "$$V^{hh}_{hh}$$\n",
      "$$V^{hh}_{pp}$$\n",
      "$$V^{pp}_{hh}$$\n",
      "$$V^{hp}_{ph}$$\n",
      "\n",
      "In these matrices $h$ and $p$ denotes hole and particle states. Their location in the full interaction matrix is visualized below.\n",
      "\n",
      "\n",
      "||hh|hp|ph|pp\n",
      "|---|---|---|---|---|\n",
      "|hh|$V^{hh}_{hh}$|||$V^{hh}_{pp}$|\n",
      "|hp|||$V^{hp}_{ph}$||\n",
      "|ph|||||\n",
      "|pp|$V^{pp}_{hh}$|||$V^{pp}_{pp}$|\n",
      "\n",
      "A lot of symmetries is also involved in these elements, so we do not need to actually calculate all quantities involved prior to the CCD calculation."
     ]
    },
    {
     "cell_type": "markdown",
     "metadata": {},
     "source": [
      "#The actual alignments\n",
      "\n",
      "We will now derive the various realignments that we need to perform to solve the full CCD amplitude equation by matrix multiplications. These expressions are meant to correspond with the actual implementation in fermicc, so instead of having direct corresponding indices, we use $p,q,r,s$ for the first, second, third and fourth index respectively (as they occur in the tensors \"native\" representation.)\n",
      "\n",
      "The realignments/permutations are listed in the table below. Note that any prefactors or permutations is omitted from the expressions."
     ]
    },
    {
     "cell_type": "markdown",
     "metadata": {},
     "source": [
      "###Table: Realignment of matrix elements in interaction and amplitudes\n",
      "\n",
      "|Diagram   |Expression   |Aligned multiplication  |Interaction   |Amplitude(1)   |Amplitude(2)| Final realignment\n",
      "|---|---|---|---|---|\n",
      "|$L_1$   |$ \\sum_{cd} \\langle ab \\vert \\vert cd \\rangle t^{cd}_{ij}$   | $(|ab \\rangle V \\langle cd|)(|cd \\rangle T \\langle ij|)$   |  |   |||\n",
      "|$L_2$   |$ \\sum_{kl} \\langle kl \\vert \\vert ij \\rangle t^{ab}_{kl}$   | $(|ab \\rangle T \\langle kl|)(|kl \\rangle V \\langle ij|)$  |   |   |||\n",
      "|$L_3$   |$ \\sum_{kc} \\langle kb \\vert \\vert cj \\rangle t^{ac}_{ik}$   | $(| jb \\rangle \\tilde{V} \\langle ck | )( | ck \\rangle \\tilde{T} \\langle ai|)$  | $V^{pq}_{rs} = \\tilde{V}^{sq}_{rp}$  |  $T^{pq}_{rs} = \\tilde{T}^{qs}_{pr}$  || $(L_3)^{pq}_{rs} = \\tilde{(L_3)}^{sq}_{pr}$|\n",
      "|$Q_1$   |$ \\sum_{klcd} \\langle kl \\vert \\vert cd \\rangle t^{cd}_{ij} t^{ab}_{kl}$   | $(|ab \\rangle T \\langle kl|)(|kl \\rangle V \\langle cd|)(|cd \\rangle T \\langle ij|)$  |   |   |||\n",
      "|$Q_2$   |$ \\sum_{klcd} \\langle kl \\vert \\vert cd \\rangle t^{ac}_{ik} t^{bd}_{jl}$   | $(|ai \\rangle T \\langle kc|)(|kc \\rangle V \\langle ld|)(|ld \\rangle T \\langle bj|)$ | $V^{pq}_{rs} = \\tilde{V}^{pr}_{qs}$  | $T^{pq}_{rs} = \\tilde{T}^{pr}_{sq}$  |$T^{pq}_{rs} = \\tilde{T}^{rq}_{ps}$| $(Q_2)^{pq}_{rs} = \\tilde{(Q_2)}^{pr}_{qs}$|\n",
      "|$Q_3$   |$ \\sum_{klcd} \\langle kl \\vert \\vert cd \\rangle t^{dc}_{ik} t^{ab}_{lj}$   | $(|abj \\rangle T \\langle l|)(|l \\rangle V \\langle kcd|)(|kcd \\rangle T \\langle i|)$  | $V^{pq}_{rs} = \\tilde{V}^{q}_{prs}$  | $T^{pq}_{rs} = \\tilde{T}^{pqs}_{r}$  |$T^{pq}_{rs} = \\tilde{T}^{sqp}_{r}$|$(Q_3)^{pq}_{rs} = \\tilde{(Q_3)}^{pqs}_{r}$|\n",
      "|$Q_4$   |$ \\sum_{klcd}\\langle kl \\vert \\vert cd \\rangle t^{ac}_{lk} t^{db}_{ij}$   | $(|a \\rangle T \\langle klc|)(|klc \\rangle V \\langle d|)(|d \\rangle T \\langle bij|)$  | $V^{pq}_{rs} = \\tilde{V}^{pqr}_{s}$ | $T^{pq}_{rs} = \\tilde{T}^{p}_{srq}$  | $T^{pq}_{rs} = \\tilde{T}^{p}_{qrs}$ |$(Q_4)^{pq}_{rs} = \\tilde{(Q_4)}^{p}_{qrs}$||\n",
      "\n"
     ]
    },
    {
     "cell_type": "markdown",
     "metadata": {},
     "source": [
      "#Implementation\n",
      "\n",
      "A standard format for representing sparse matrices is the COOrdinate format. In this format the matrix elements are stored in three arrays, one for the actual values, and two for each coordinate in the matrix. All elements not stored in these arrays are by default zero.\n",
      "\n",
      "For example, the matrix below\n",
      "\n",
      "||0|1|2|3\n",
      "|---|---|---|---|---|\n",
      "|0||1||3|\n",
      "|1|||||\n",
      "|2|||||\n",
      "|3|2|||||\n",
      "\n",
      "May be represented in the following way\n",
      "\n",
      "|element|0|1|2|\n",
      "|---|---|---|---|\n",
      "|values|1|3|2|\n",
      "|row|0|0|3|\n",
      "|column|1|3|0|\n",
      "\n",
      "This is however not the most optimal (least space consuming) representation, so formats such as CSC (compressed sparse column) or CSR (compressed sparse row) is commonly utilized. Armadillos sp_mat object is of the first type, meaning that the array containing the column indices is compressed by replacing it with a pointer to the first element occuring in each column. This way, the index in the column pointer array denotes the actual column in which the following elements occur (up until the pointer to the next element). To access the actual column index of any element in the matrix, we therefore have to unpack this array first.\n",
      "\n",
      "http://netlib.org/linalg/html_templates/node92.html\n",
      "\n",
      "One such unpacking procedure written for the python/numpy implementation of the CCD calculation is given below"
     ]
    },
    {
     "cell_type": "code",
     "collapsed": false,
     "input": [
      "def unpack_indptr(indptr):\n",
      "    #Unpack compressed indices\n",
      "    #indptr is the array to be uncompressed\n",
      "    I =zeros(indptr[-1], dtype = int)\n",
      "    for i in range(len(indptr)-1):\n",
      "        I[indptr[i]:indptr[i+1]] = i\n",
      "    return I"
     ],
     "language": "python",
     "metadata": {},
     "outputs": [],
     "prompt_number": 3
    },
    {
     "cell_type": "markdown",
     "metadata": {},
     "source": [
      "When the matrices are represented in this way, the realignment procedure becomes trivial. Given elements, row- and columnindices, we may easily obtain the rank 4 indices, as is done in the following python example:"
     ]
    },
    {
     "cell_type": "code",
     "collapsed": false,
     "input": [
      "from numpy import *\n",
      "Np = 14\n",
      "Nq = 14\n",
      "Nr = 14\n",
      "Ns = 14\n",
      "\n",
      "row = arange(Np*Nq)\n",
      "col = arange(Nr*Ns)\n",
      "\n",
      "p = row//Np\n",
      "q = row%Np\n",
      "r = col//Nr\n",
      "s = col%Nr"
     ],
     "language": "python",
     "metadata": {},
     "outputs": [],
     "prompt_number": 4
    },
    {
     "cell_type": "markdown",
     "metadata": {},
     "source": [
      "Next up, an example of how to recast the elements to a \"realigned\" matrix"
     ]
    },
    {
     "cell_type": "code",
     "collapsed": false,
     "input": [
      "row = q + r*Nq\n",
      "col = s + p*Ns\n",
      "\n",
      "#New matrix dimensions: (Nq*Nr), (Ns*Np)\n",
      "#Matrix elements \"val\" remain the same"
     ],
     "language": "python",
     "metadata": {},
     "outputs": [],
     "prompt_number": 5
    },
    {
     "cell_type": "markdown",
     "metadata": {},
     "source": [
      "#Density of the interactions\n",
      "\n",
      "Due to the many kroenecker deltas occuring in the HEG interaction, we find that the interaction matrix has a denisty of approx < 1%, meaning that this is a case where utilizing sparse storage is reasonable. \n"
     ]
    },
    {
     "cell_type": "markdown",
     "metadata": {},
     "source": [
      "#Pros and cons of the sparse scheme\n",
      "\n",
      "The main drawback of the sparse approach will however be the efficiency of the matrix multiplications when compared to the block diagonalization scheme. When block diagonalized, the calculations may be performed in mere seconds.\n",
      "\n",
      "The main advantage of this approach is, to my expection, that the implementation of the CCSDT truncation will be very straightforward codewise, low on memory consumption, and possible to perform also as serial computations. (unless computational cost exceeds the expected progression). \n",
      "\n",
      "There is a number of routes that may possibly speed up the sparse matrix multiplications. I could continue optimizing the COO-scheme, find a replacement for armadillo, or possibly try a CUDA im\n",
      "\n",
      "One is to implement a similar subdivision of the matrix elements that is done for the block diagonal scheme. By simply skipping casting the elements to a sparse matrix in the first place, I attempted to just perform the multiplication directly on the elements stored in a COOrdinate format with a subdivision similar to the block diagonal scheme. This successfully decreased the time spent on multiplication with a factor of about 0.007 when compared to the naive implementation, but the native scipy.sparse multiplication operation still outperformed this algorithm by a factor of about 0.001 when compared to the optimized implementation. (meaning a factor of about 0.00007 compared to the naive scheme). \n",
      "\n",
      "On the other hand, Armadillo's native sparse multiplication did not compare well to the scipy algorithm, as it was only about a factor of 0.1 faster than the optimized algorithm.\n",
      "\n",
      "\n",
      "\n"
     ]
    },
    {
     "cell_type": "markdown",
     "metadata": {},
     "source": [
      "##Benchmarking sparse multiplication\n",
      "\n",
      "|Library/Algorithm| Time (s)|Fractional time|\n",
      "|---|---|---|\n",
      "|Na\u00efve|2.07011318512|1|\n",
      "|Optimized|0.042023196118|0.02029995094957284|\n",
      "|Scipy|0.000879618572071|0.00042491327449808525|\n",
      "|Armadillo|0.025932|0.012526851278664156|\n",
      "\n",
      "*The table lists the time spent on performing a multiplication of the $V_{pp}^{pp}$ matrix with itself, with a dimension of 576x567 and a density of about 0.75 % . (ratio of nonzero elements)*\n",
      "\n",
      "It should be noted that the results from armadillo does not directly compare as they were calculated in a virtual ubuntu environment. (Oracle VM VirtualBox, no cap on CPU and plenty of RAM). \n"
     ]
    },
    {
     "cell_type": "markdown",
     "metadata": {},
     "source": [
      "#Considering alternative libraries\n",
      "\n",
      "Mainly three libraries for the C++ implementation are up for consideration:\n",
      "\n",
      "1. Eigen (http://eigen.tuxfamily.org/index.php?title=Main_Page)\n",
      "2. CSparse (http://www.cise.ufl.edu/research/sparse/CSparse/)\n",
      "3. CUSparse https://developer.nvidia.com/cuSPARSE\n",
      "\n",
      "The first two seems to have optimized support for sparse matrix multiplication (and a lot of other functionality). The third certainly meets this criteria, but it is also dependent on the GPU/CUDA. Scaling should also be taken into account, as libraries such as CUDA may or may not (https://www.cs.fsu.edu/research/projects/aseshpande.pdf  https://www.cs.fsu.edu/research/projects/rose_report.pdf ) perform slower for small systems compared to libraries utilizing the CPU. Another consideration in this matter is that the upcoming CCSDT implementation should be expected to require parallellization (in MPI), so it will be of great advantage if the implementation is easily extended to parallel computation."
     ]
    },
    {
     "cell_type": "markdown",
     "metadata": {},
     "source": [
      "## Notes, april 10th\n",
      "\n",
      "Morten advised that I optimized the L1 calculation as this naturally should be the bottleneck in the algorithm.\n",
      "\n",
      "Just to confirm that this was the case, I timed each step in the \"advance\" (amplitude) algorithm, and found to my surprise that the Q3 calculation spent a factor of more than 100 more time than the other diagrams. \n",
      "\n",
      "This actually makes sense, since the implementation is done by sparse matrices with compressed rows. As Q4 has equivalent complexity, but reversed order of reordering of matrix elements (making the columns dominate), we see as expected that this calculation is equivalently faster than the others. \n",
      "\n",
      "L1 is quite slow, but not unreasonable. Comparing L1 with Q3, we find a factor of 10 in difference.\n",
      "\n",
      "These findings will become central in the optimization process, and they also should be considered an argument to change from Armadillo to Eigen3, as Eigen supports both CSR and CSC formats, where the latter would be superior in calculating this diagram.\n",
      "\n",
      "We could however possibly just transpose the matrices differently before calulation to save some time. This should be tried out soon. (Tried it out right away with great success. Gave an algorithmic speedup factor of 500.)\n",
      "\n",
      "What is the most efficient kind of multiplication of CSR matrices available in Armadillo? The above shows that orientation/transpose plays an important role, so we should identify the most efficient orientation to utilize this fact on all matrix products.\n"
     ]
    },
    {
     "cell_type": "markdown",
     "metadata": {},
     "source": [
      "We need some kind of notation for a \"general\" transpose, that is symmetry transformations of tensors with rank more than 2. We also want this notation to be clear on how the final tensor is mapped to a matrix. \n",
      "\n",
      "A transpose is normally denoted\n",
      "\n",
      "$$ (\\vert \\alpha \\rangle M \\langle \\beta \\vert)^T = \\vert \\beta \\rangle M \\langle \\alpha \\vert  $$\n",
      "\n",
      "This is unambiguous in the rank 2 case, since we only have two indices to permute.\n",
      "\n",
      "In the case of a cube/tensor of rank 3 we may however consider a similar operation for each \"slice\", but we would then also need to know the axis, or which indices to permute. (*Note: Is this just a permutation, as performed in some of the diagrams?*) \n",
      "\n",
      "By comparing different ways of performing the multiplication\n",
      "\n",
      "$$ V_{pp}^{hh}  $$"
     ]
    },
    {
     "cell_type": "markdown",
     "metadata": {},
     "source": [
      "##A comparison of convergence"
     ]
    },
    {
     "cell_type": "markdown",
     "metadata": {},
     "source": [
      "The following table shows a comparison of two different implementations of the CCD (CCSD) for the HEG, using only 2 hole states and 12 particle states. \n",
      "\n",
      "| Iteration  | Sparse  | Gauss-Stanton Naive  |   |   |\n",
      "|---|---|---|---|---|\n",
      "|0   | -0.015399  | -0.015399  |   |   |\n",
      "|1   |   |   |   |   |\n",
      "|2   |   |   |   |   |\n",
      "|3   |   |   |   |   |\n",
      "|4   |   |   |   |   |\n",
      "|5   |   |   |   |   |"
     ]
    }
   ],
   "metadata": {}
  }
 ]
}