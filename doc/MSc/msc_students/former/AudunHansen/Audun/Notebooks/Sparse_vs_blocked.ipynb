{
 "metadata": {
  "name": "Sparse_vs_blocked.ipynb"
 },
 "nbformat": 3,
 "nbformat_minor": 0,
 "worksheets": [
  {
   "cells": [
    {
     "cell_type": "markdown",
     "metadata": {},
     "source": [
      "#1. Sparse matrices vs. the blocking scheme\n",
      "\n",
      "In this document, I want to explore a variety of aspects of the following two schemes for solving the CC amplitude equations\n",
      "\n",
      "- Sparse Matrix-Matrix Multiplication (SMMM): Sparse matrix storage for amplitudes and interactions.\n",
      "- Blocked Matrix-Matrix Multiplication(BMMM): Subdivision of matrices into blocks.\n",
      "\n",
      "I will try to adress two very central aspects; the memory consumption and the efficiency of matrix-matrix multiplication in the respective schemes. As a third issue, the potential of generalizing the scheme to T3 amplitude calculations in the CCSDT truncation is considered."
     ]
    },
    {
     "cell_type": "markdown",
     "metadata": {},
     "source": [
      "#2. General description of the schemes\n",
      "\n",
      "##2.1 The full dense scheme\n",
      "\n",
      "The maximum size of the matrices needed in the CCD implementation scales with the order of $N_{p-states}^4$ (particle states), and the largest such matrix multiplication involved is of the size\n",
      "\n",
      "$$M_{1, N_{p-states}^2 \\times N_{p-states}^2} \\times M_{2, N_{p-states}^2 \\times N_{h-states}^2}$$\n",
      "\n"
     ]
    },
    {
     "cell_type": "markdown",
     "metadata": {},
     "source": [
      "##2.2 The Blocked Matrix-Matrix Multiplication\n",
      "\n",
      "###2.2.1 Storage\n",
      "\n",
      "###2.2.1 Multiplication"
     ]
    },
    {
     "cell_type": "markdown",
     "metadata": {},
     "source": [
      "\n",
      "\n",
      "##2.3 The Sparse Matrix-Matrix Multiplication\n",
      "\n",
      "###2.3.1 Storage\n",
      "\n",
      "There are multiple ways of storing spars matrices. The most basic storage is obtained by storing matrix elements and their associated coordinates in three vectors. This is called the COOrdinate format, and depending on the type (integer, float, double) its memory consumption scales as $\\mathcal{O}(n)$ with the number of non-zero elements $n$. \n",
      "\n",
      "To reduce the memory requirements even more, we me utilize the equivalent compressed sparse row (CSR) or compressed sparse column (CSC) formats, where the row or column \n",
      "\n"
     ]
    },
    {
     "cell_type": "code",
     "collapsed": false,
     "input": [
      "#Example of COOrdinate storage\n",
      "\n",
      "class COOmat():\n",
      "    #A COOrdinate formatted sparse matrix\n",
      "    def __init__(self, n_rows, n_cols, n_elems, data, rows, cols, regions = None):\n",
      "        self.n_rows = n_rows\n",
      "        self.n_cols = n_cols\n",
      "        self.n_elem = n_elems\n",
      "        self.vals = data\n",
      "        self.rows = rows\n",
      "        self.cols = cols\n",
      "    def sortrow(self):\n",
      "        #sort elements in increasing rows\n",
      "        I = argsort(self.rows)\n",
      "        self.rows = self.rows[I]\n",
      "        self.cols = self.cols[I]\n",
      "        self.vals = self.vals[I]\n",
      "    def sortcol(self):\n",
      "        #sort elements in increasing rows\n",
      "        I = argsort(self.cols)\n",
      "        self.rows = self.rows[I]\n",
      "        self.cols = self.cols[I]\n",
      "        self.vals = self.vals[I]\n",
      "    def map_blocks(self):\n",
      "        pass\n",
      "    def dense(self):\n",
      "        #return dense version\n",
      "        M = zeros((n_rows, n_cols))\n",
      "        for i in range(self.n_elem):\n",
      "            M[self.rows[i], self.cols[i]] = self.vals[i]\n",
      "        return M\n",
      "            "
     ],
     "language": "python",
     "metadata": {},
     "outputs": [],
     "prompt_number": 29
    },
    {
     "cell_type": "markdown",
     "metadata": {},
     "source": [
      "###2.3.2 Multiplication\n",
      "\n",
      "A na\u00efve algorithm for multiplying matrices stored in the COO format has $\\mathcal{O}(mn)$ Flops, where $m$ and $n$ is the number of non-zero elements in the two matrices. For simplicity we might as well set $m=n$, assume the matrices invoved to be square and identical so that the scheme may be said to have $\\mathcal{O}(n^2)$ Flops.\n",
      "\n",
      "This multiplication should however be considered an upper bound on the number of Flops needed. An improvement could be made in analogy to the blocked scheme, by defining subregions in the element storage vectors consisting of the blocks defined in **2.2.1** and the corresponding rows of these elements (as any matrix-matrix multiplication $AB = C$ by definition only will have contributions from elements in $A$'s rows that have corresponding non-zero elements in $B$'s columns.\n",
      "\n",
      "For example considering $AB=C$, a subdivision of $A$ into $i = (0,1,2,3,...,N)$ blocks/regions, each with $n_i$ nonzero elements covering a range of $m_i$ rows, will by in the na\u00efve scheme require $\\sum_i^N n_i \\times e(m_i) $ Flops, where $e(m_i)$ is the number of elements in the corresponding range of columns in $B$. There will presumably be no overlapping rows in the blocked regions of $A$, so we might as well approximate the number of non-zeros elements in each column by a mean, $\\overline{m}$, that gives us $\\overline{m} \\sum_i^N n_i  $ Flops.\n",
      "\n",
      "By implementing this scheme, I reduced the time of mutiplication by roughly ..."
     ]
    },
    {
     "cell_type": "code",
     "collapsed": false,
     "input": [
      "def matprod(A, B):\n",
      "    #sparse coo multiplication\n",
      "    AB = zeros((A.n_rows, B.n_cols))\n",
      "    for i in range(A.n_elem):\n",
      "        for j in range(B.n_elem):\n",
      "            if A.cols[i]==B.rows[j]:\n",
      "                AB[A.rows[i], B.cols[j]] += A.vals[i]*B.vals[j]\n",
      "    return AB\n",
      "\n",
      "def s_matprod(A,B):\n",
      "    #Sparse Matrix-Matrix multiplication using subdivision in blocks\n",
      "    AB = zeros((A.n_rows, B.n_cols))\n",
      "    for block in range(len(A.blocks)):\n",
      "        #retrieve corresponding elements in B\n",
      "        b_rows = B.columns(A.cols_in_block[block])\n",
      "        #print b_rows\n",
      "        for i in A.blocks[block]:\n",
      "            for j in b_rows:\n",
      "                if A.cols[i]==B.rows[j]:\n",
      "                    AB[A.rows[i], B.cols[j]] += A.vals[i]*B.vals[j]\n",
      "    return AB"
     ],
     "language": "python",
     "metadata": {},
     "outputs": [],
     "prompt_number": 16
    },
    {
     "cell_type": "markdown",
     "metadata": {},
     "source": [
      "Other ways of improving the algorithm is possibly by utilizing prior knowledge of the order of the elements. By for example sorting the elements such that the rows in $A$ and columns in $B$ follows an increasing order, we could devise the following multiplication algorithm:"
     ]
    },
    {
     "cell_type": "code",
     "collapsed": false,
     "input": [
      "def travprod(A, B):\n",
      "    #sparse coo multiplication by simultaneously traversing the arrays\n",
      "    #This algorithm requires A to be sorted in the rows, while B should be sorted in the columns\n",
      "    i = 0\n",
      "    j = 0\n",
      "    AB = zeros((A.n_rows, B.n_cols))\n",
      "    while i<A.n_elem and j<B.n_elem:\n",
      "        if A.cols[i]==B.rows[j]:\n",
      "            AB[A.rows[i], B.cols[j]] += A.vals[i]*B.vals[j]\n",
      "            i += 1\n",
      "            j += 1 #some error here\n",
      "        else:\n",
      "            if A.cols[i]>B.rows[j]:\n",
      "                j+= 1\n",
      "                #continue\n",
      "            #if A.cols[i]<B.rows[j]:\n",
      "            else:\n",
      "                i+= 1\n",
      "                #continue\n",
      "    return AB"
     ],
     "language": "python",
     "metadata": {},
     "outputs": [],
     "prompt_number": 1
    },
    {
     "cell_type": "code",
     "collapsed": false,
     "input": [
      "#Some testing\n",
      "\n",
      "from numpy import *\n",
      "\n",
      "n_elems = 10\n",
      "n_rows = 10\n",
      "n_cols = 10\n",
      "\n",
      "rows = random.randint(0,n_rows, n_elems)\n",
      "cols = random.randint(0,n_cols, n_elems)\n",
      "data = random.uniform(0,1,n_elems)\n",
      "\n",
      "A = COOmat(n_rows, n_cols, n_elems, data, rows, cols)\n",
      "B = COOmat(n_rows, n_cols, n_elems, data, rows, cols)\n",
      "\n",
      "A.sortcol()\n",
      "B.sortrow()\n",
      "\n",
      "\n",
      "#C = matprod(A,B)\n",
      "\n",
      "C = travprod(A,B)\n",
      "\n",
      "figure(1)\n",
      "imshow(C)\n",
      "\n",
      "a = A.dense()\n",
      "b = B.dense()\n",
      "\n",
      "figure(2)\n",
      "imshow(a.dot(b))\n",
      "\n",
      "\n",
      "show()\n",
      "\n",
      "\n"
     ],
     "language": "python",
     "metadata": {},
     "outputs": [],
     "prompt_number": "*"
    },
    {
     "cell_type": "code",
     "collapsed": false,
     "input": [
      "\n",
      "\n"
     ],
     "language": "python",
     "metadata": {},
     "outputs": [],
     "prompt_number": 52
    },
    {
     "cell_type": "code",
     "collapsed": false,
     "input": [],
     "language": "python",
     "metadata": {},
     "outputs": []
    }
   ],
   "metadata": {}
  }
 ]
}