{
 "metadata": {
  "name": ""
 },
 "nbformat": 3,
 "nbformat_minor": 0,
 "worksheets": [
  {
   "cells": [
    {
     "cell_type": "markdown",
     "metadata": {},
     "source": [
      "# CCD for the electron gas\n",
      "## Log, Autumn 2014, Audun Skau Hansen"
     ]
    },
    {
     "cell_type": "markdown",
     "metadata": {},
     "source": [
      "In this project we performed some simple Coupled-Cluster Doubles (CCD) calculations for the electron gas. We used the basis and interactions described in Gustav Baardsens PhD-thesis, while the main part of the code was written by Ole Nordli as a part of his master thesis. \n",
      "\n",
      "The first objective of the project was to reproduce some results from the literature, while the overall goal was to gradually extend the scope to the heterogenous neutron gas with interactions. "
     ]
    },
    {
     "cell_type": "markdown",
     "metadata": {},
     "source": [
      "##Thursday, september 18th.\n",
      "\n",
      "We wrote a class in C++ which sets up the basis and Fock-matrix for the electron gas. This class was successfully integrated into the prewritten code from Ole, and produced some nice results both for the Hartree-Fock energy and the CCD-calculations very quickly. (The results was in the same order of magnitude as those found in the literature) As we still lacked some of the insight into the theoretical foundation, we was not able to initialize the basis with the exact same parameters as found in the literature. \n",
      "\n",
      "Pending work: \n",
      "*\n",
      "To alter the parameter $L$ ($L^3$ is the total volume of the box) so that it corresponds to the given $r_s$ from the literature. \n",
      "\n",
      "To look into how to implement periodic boundary conditions.*"
     ]
    },
    {
     "cell_type": "markdown",
     "metadata": {},
     "source": [
      "##Monday, October 6th."
     ]
    },
    {
     "cell_type": "markdown",
     "metadata": {},
     "source": [
      "I have written a coupled cluster extension (class) for the restricted Hartree-Fock-Roothaan solver that I and G\u00f8ran created for the project in FYS4411. Despite extensive debugging, benchmarking and comparisons, I am unable to reproduce results from the literature.\n",
      "\n",
      "I have beeen trying to reproduce the results from a RHF-CCSD calculation by NWChem, as described in the following document: \n",
      "\n",
      "<url>http://institute.loni.org/NWChem2012/documents/tce-session.pdf</url>. \n",
      "\n",
      "I am supposed to find "
     ]
    },
    {
     "cell_type": "markdown",
     "metadata": {},
     "source": [
      "CCSD iterations\n",
      "\n",
      " Iter | Residuum | Correlation | Cpu | Wall\n",
      "----|----|----|----|----\n",
      " 1|0.0891232379551 |-0.0358672469179 |0.4 |0.4\n",
      " 2| 0.0317596201320| -0.0454068882657 |0.4 |0.4\n",
      " 3| 0.0126828916023| -0.0483870059027 |0.4 |0.4\n",
      " 4| 0.0053832778844| -0.0494370597647 |0.4 |0.4\n",
      " 5| 0.0023954452285| -0.0498391184890 |0.4 |0.4\n",
      " 6| 0.0011108272683| -0.0500021724029 |0.4 |0.4\n",
      " 7| 0.0005330437725| -0.0500711904756 |0.4 |0.4\n",
      " 8| 0.0002625570400| -0.0501014381364 |0.4 |0.4\n",
      " 9| 0.0001317707641| -0.0501150974135 |0.4 |0.4\n",
      " 10| 0.0000669953658| -0.0501214303300 |0.4 |0.4\n",
      " 11| 0.0000343654836| -0.0501244348663 |0.4 |0.4\n",
      " 12| 0.0000177357555| -0.0501258887096 |0.4 |0.4\n",
      " 13| 0.0000091923943| -0.0501266039080 |0.4 |0.4\n",
      " 14| 0.0000047789221| -0.0501269605251 |0.4 |0.4\n",
      " 15| 0.0000024899940| -0.0501271402835 |0.4 |0.4\n",
      " 16| 0.0000012995442| -0.0501272316751 |0.4 |0.4\n",
      " 17| 0.0000006791083| -0.0501272784536 |0.4 |0.4\n",
      " 18| 0.0000003552400| -0.0501273025229 |0.4 |0.4\n",
      " 19| 0.0000001859739| -0.0501273149581 |0.4 |0.4\n",
      " 20| 0.0000000974237| -0.0501273214031 |0.4 |0.4\n"
     ]
    },
    {
     "cell_type": "markdown",
     "metadata": {},
     "source": [
      "My own RHS-CCD calculation (the result is comparable for CCSD) finds instead a value of -0.0875531 a.u., overestimating the energy by a factor of approximately 1.7. The table below shows the iterations and lists the separate contributions to the energy."
     ]
    },
    {
     "cell_type": "markdown",
     "metadata": {},
     "source": [
      "Iteration   |CCDEnergy   |0th Cont.   |Lin.Cont.   |Quad.cont.\n",
      "------------|------------|------------|------------|----------------\n",
      "1           |-0.0358976  |0           |0           |0           \n",
      "2           |-0.0562349  |-0.0358976  |-0.0203373  |0           \n",
      "3           |-0.0682     |-0.0358976  |-0.0325562  |0.000253831 \n",
      "4           |-0.0753594  |-0.0358976  |-0.040085   |0.000623145 \n",
      "5           |-0.0797398  |-0.0358976  |-0.044754   |0.000911875 \n",
      "6           |-0.082475   |-0.0358976  |-0.0476843  |0.00110689  \n",
      "7           |-0.0842106  |-0.0358976  |-0.0495466  |0.00123363  \n",
      "8           |-0.0853254  |-0.0358976  |-0.0507435  |0.00131574  \n",
      "9           |-0.0860489  |-0.0358976  |-0.0515206  |0.00136931  \n",
      "10          |-0.0865231  |-0.0358976  |-0.0520301  |0.00140458  \n",
      "11          |-0.0868371  |-0.0358976  |-0.0523675  |0.00142802  \n",
      "12          |-0.0870474  |-0.0358976  |-0.0525935  |0.00144376  \n",
      "13          |-0.0871899  |-0.0358976  |-0.0527467  |0.00145447  \n",
      "14          |-0.0872878  |-0.0358976  |-0.052852   |0.00146186  \n",
      "15          |-0.087356   |-0.0358976  |-0.0529254  |0.00146703  \n",
      "16          |-0.0874043  |-0.0358976  |-0.0529774  |0.00147072  \n",
      "17          |-0.0874391  |-0.0358976  |-0.0530149  |0.00147339  \n",
      "18          |-0.0874645  |-0.0358976  |-0.0530423  |0.00147536  \n",
      "19          |-0.0874834  |-0.0358976  |-0.0530627  |0.00147684  \n",
      "20          |-0.0874977  |-0.0358976  |-0.053078   |0.00147797  \n",
      "21          |-0.0875086  |-0.0358976  |-0.0530898  |0.00147885  \n",
      "22          |-0.0875171  |-0.0358976  |-0.053099   |0.00147954  \n",
      "23          |-0.0875237  |-0.0358976  |-0.0531062  |0.00148009  \n",
      "24          |-0.087529   |-0.0358976  |-0.0531119  |0.00148053  \n",
      "25          |-0.0875333  |-0.0358976  |-0.0531165  |0.00148089  \n",
      "26          |-0.0875367  |-0.0358976  |-0.0531202  |0.00148118  \n",
      "27          |-0.0875395  |-0.0358976  |-0.0531233  |0.00148142  \n",
      "28          |-0.0875418  |-0.0358976  |-0.0531258  |0.00148162  \n",
      "29          |-0.0875436  |-0.0358976  |-0.0531278  |0.00148178  \n",
      "30          |-0.0875452  |-0.0358976  |-0.0531295  |0.00148192  \n",
      "31          |-0.0875465  |-0.0358976  |-0.0531309  |0.00148204  \n",
      "32          |-0.0875475  |-0.0358976  |-0.0531321  |0.00148213  \n",
      "33          |-0.0875484  |-0.0358976  |-0.053133   |0.00148221  \n",
      "34          |-0.0875492  |-0.0358976  |-0.0531338  |0.00148228  \n",
      "35          |-0.0875498  |-0.0358976  |-0.0531345  |0.00148234  \n",
      "36          |-0.0875503  |-0.0358976  |-0.0531351  |0.00148239  \n",
      "37          |-0.0875508  |-0.0358976  |-0.0531356  |0.00148243  \n",
      "38          |-0.0875511  |-0.0358976  |-0.053136   |0.00148246  \n",
      "39          |-0.0875515  |-0.0358976  |-0.0531363  |0.00148249  \n",
      "40          |-0.0875517  |-0.0358976  |-0.0531366  |0.00148251  \n",
      "41          |-0.0875519  |-0.0358976  |-0.0531368  |0.00148253  \n",
      "42          |-0.0875521  |-0.0358976  |-0.0531371  |0.00148255  \n",
      "43          |-0.0875523  |-0.0358976  |-0.0531372  |0.00148256  \n",
      "44          |-0.0875524  |-0.0358976  |-0.0531374  |0.00148258  \n",
      "45          |-0.0875525  |-0.0358976  |-0.0531375  |0.00148259  \n",
      "46          |-0.0875526  |-0.0358976  |-0.0531376  |0.0014826   \n",
      "47          |-0.0875527  |-0.0358976  |-0.0531377  |0.0014826   \n",
      "48          |-0.0875528  |-0.0358976  |-0.0531378  |0.00148261  \n",
      "49          |-0.0875528  |-0.0358976  |-0.0531378  |0.00148262  \n",
      "50          |-0.0875529  |-0.0358976  |-0.0531379  |0.00148262  \n",
      "51          |-0.0875529  |-0.0358976  |-0.0531379  |0.00148262  \n",
      "52          |-0.087553   |-0.0358976  |-0.053138   |0.00148263  \n",
      "53          |-0.087553   |-0.0358976  |-0.053138   |0.00148263  \n",
      "54          |-0.087553   |-0.0358976  |-0.053138   |0.00148263  \n",
      "55          |-0.087553   |-0.0358976  |-0.053138   |0.00148263  \n",
      "56          |-0.0875531  |-0.0358976  |-0.0531381  |0.00148264  \n",
      "57          |-0.0875531  |-0.0358976  |-0.0531381  |0.00148264  \n",
      "58          |-0.0875531  |-0.0358976  |-0.0531381  |0.00148264  \n",
      "59          |-0.0875531  |-0.0358976  |-0.0531381  |0.00148264  \n"
     ]
    },
    {
     "cell_type": "markdown",
     "metadata": {},
     "source": [
      "As already noted, I am unable to find any errors in the implementation. There is, however, a number of aspects in the method that remains unclear to me. Some of these are:\n",
      "\n",
      "(1) Shavitt-Bartlett derives the CCD equations, ending in the T2 amplitude equation (9.126) on page 288. In this equation they restrict the summations to \n",
      "$$ i>j, a>b $$\n",
      "It is unclear to me if this is due to the symmetries in the matrix elementes $\\langle ab || ij \\rangle$ so that one may manually set the others for each iteration, or if it means that the T2 amplitude tensor will contain a lot of zeros. In my code I have interpreted this in the former manner.\n",
      "\n",
      "(2) I have manually ensured that my coefficient matrix obtained from the RHF-procedure contains the same elements at the same locations as Ole Tobias Norlis elements. This means that the CC-iterations have a very similar initial condition as the ones described in the literature, as may be seen from the initial energy in the table above. However, upon initialization, Ole sets up his elements like\n",
      "\n",
      "$\\langle pr||qs\\rangle = \\langle pq|rs\\rangle - \\langle ps|rq\\rangle$\n",
      "\n",
      "(permuting the r and q index). I adopted this in my code to reproduce his basis, but I did not compensate for this in the CC iterations since I found no reason to do so.\n",
      "\n",
      "###Conclusion\n",
      "\n",
      "The error in the code needs to be identified and fixed. As the initial energy is very comparable to the ones found in the literature, the error is most likely related to the iterative process itself."
     ]
    },
    {
     "cell_type": "markdown",
     "metadata": {},
     "source": [
      "## Wednesday, October 8th\n",
      "\n",
      "I have made the output from the code more specific as to how much each term in the CCD T2 amplitudes contributes. Following Shavitt-Bartlett, this means breaking the full correlation energy down to the following parts:\n",
      "\n",
      "- MBPT(2)\n",
      "- Linear contributions (functions of t) \n",
      "    - L2a\n",
      "    - L2b\n",
      "    - L2c\n",
      "- Quadratic contributions (functions of tt)\n",
      "    - Qa\n",
      "    - Qb\n",
      "    - Qc\n",
      "    - Qd\n",
      "\n",
      "My aim for today is to compare each constituent contribution to similar results from Ole Tobias Norlis. I have prepared calculations for both H2O and H2 using a STO-3g basis through a RHF procedure prior to the CCD calculation.\n",
      "\n",
      "### Breakthrough, 03.28 pm. \n",
      "\n",
      "With help from Ole I finally identified the error in the code. It was actually a *bug* occuring in the for-loops for the linear L2b contribution. \n",
      "\n",
      "I now have a working CCD and possibly a CCSD (needs more testing) implementation for my RHF solver."
     ]
    },
    {
     "cell_type": "markdown",
     "metadata": {},
     "source": [
      "## Thursday, October 9th\n",
      "\n",
      "With the new progress it is possible to perform benchmark calculations on certain molecules and atoms. I therefore plan to perform the following experiments today (if time permits it):\n",
      "\n",
      "- H2O CCSD \n",
      "- H2 CCSD\n",
      "- Electron gas CCSD (CCD)\n",
      "\n",
      "I observed some minor discrepancies in the H2O CCSD calculation performed yesterday, so I will probably spend some time reading through the singles contribution code today. I suspect there is a very minor indexing error in one contribution.\n",
      "\n",
      "###Conclusion, 04.21 pm.\n",
      "\n",
      "I performed some of the tests mentioned above. The results can be found in the notebook \"Benchmarking.ipynb\". The results was satisfactory compared to other similar software.\n",
      "\n",
      "I also inspected all the contributions to the CCSD code and found no errors. I now feel a bit more confident that I have a working CCD and CCSD code. After a meeting with Morten, we agreed on some steps ahead:\n",
      "\n",
      "- Implement an UHF extension in HFSolve\n",
      "- Begin optimization of the code\n",
      "- Do more benchmarking with Oles code\n",
      "\n",
      "\n"
     ]
    },
    {
     "cell_type": "markdown",
     "metadata": {},
     "source": [
      "##Friday, October 10th\n",
      "\n",
      "The plan for today is to begin implementation of unrestricted Hartree-Fock (UHF) for open shell calculations. This will make it possible to perform a wide range of calculations on a variety of systems. I also plan to look into the basis initialization (basis.cpp), as to improve this functionality and possible write a parser function to directly read in the basisfunctions from basis set exchange.\n",
      "\n",
      "I also plan to look into possible parallelization options, beginning with MPI on the computing cluster Smaug. I have practically no experience in this, so it may take some time to get into.\n",
      "\n"
     ]
    },
    {
     "cell_type": "markdown",
     "metadata": {},
     "source": [
      "##Monday, October 13th\n",
      "\n",
      "I have read through \"Modern Quantum Chemistry\" on the subject of UHF, and started analyzing some similar codes from prior master students. I plan to fully implement this procedure before the end of the week."
     ]
    },
    {
     "cell_type": "code",
     "collapsed": false,
     "input": [],
     "language": "python",
     "metadata": {},
     "outputs": []
    }
   ],
   "metadata": {}
  }
 ]
}